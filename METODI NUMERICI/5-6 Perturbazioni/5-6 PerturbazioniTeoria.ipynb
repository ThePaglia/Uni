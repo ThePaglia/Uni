{
 "cells": [
  {
   "cell_type": "markdown",
   "id": "f3de9735-c6fa-4098-9e45-738a66da2009",
   "metadata": {},
   "source": [
    "## Esercitazione 5 del 20 Marzo 2023\n"
   ]
  },
  {
   "cell_type": "markdown",
   "id": "b940360c-0e7b-4181-9ec4-c5d1484c7c5e",
   "metadata": {},
   "source": [
    "Utilizzero il pacchetto sympy di Python che permette di fare calcolo simbolico."
   ]
  },
  {
   "cell_type": "code",
   "execution_count": 2,
   "id": "2870bf50-56b0-4ff0-ba9a-d0991cc08c5e",
   "metadata": {
    "tags": []
   },
   "outputs": [],
   "source": [
    "import sympy as sym\n",
    "import numpy as np\n",
    "import matplotlib.pyplot as plt"
   ]
  },
  {
   "cell_type": "markdown",
   "id": "9456a440-a247-4829-8fe9-3908702c063d",
   "metadata": {},
   "source": [
    "Una variaile simbolica si definisce nel seguente modo:"
   ]
  },
  {
   "cell_type": "code",
   "execution_count": 3,
   "id": "67ef262a-4474-4382-b99b-502dfb775635",
   "metadata": {
    "tags": []
   },
   "outputs": [],
   "source": [
    "x=sym.symbols('x')"
   ]
  },
  {
   "cell_type": "markdown",
   "id": "2014f1cb-a14c-42d3-9d36-58eeeb747d2e",
   "metadata": {},
   "source": [
    "Una espressione definita mediante varibili simboliche e funzioni matematiche che lavorano su simboli è simbolica\n"
   ]
  },
  {
   "cell_type": "code",
   "execution_count": 4,
   "id": "11018670-fa94-4c7e-9f5a-0a2a2b24f05a",
   "metadata": {
    "tags": []
   },
   "outputs": [],
   "source": [
    "f=x**2+sym.sqrt(x+2)"
   ]
  },
  {
   "cell_type": "markdown",
   "id": "503db428-e7a9-4460-aec5-348680ddc63b",
   "metadata": {},
   "source": [
    "E' possibile calcolare la derivata simbolica di una espressione simbolica"
   ]
  },
  {
   "cell_type": "code",
   "execution_count": 5,
   "id": "2870c582-cb9c-4152-ae1a-e1fcc44b8bb5",
   "metadata": {
    "tags": []
   },
   "outputs": [],
   "source": [
    "df=sym.diff(f,x,1)"
   ]
  },
  {
   "cell_type": "code",
   "execution_count": 6,
   "id": "f156afb6-65ea-4f9a-a17e-a3ed48ab3581",
   "metadata": {
    "tags": []
   },
   "outputs": [
    {
     "name": "stdout",
     "output_type": "stream",
     "text": [
      "2*x + 1/(2*sqrt(x + 2))\n"
     ]
    }
   ],
   "source": [
    "print(df)"
   ]
  },
  {
   "cell_type": "markdown",
   "id": "ca81f038-8e34-435d-9193-5ea6a7a6c557",
   "metadata": {},
   "source": [
    "Per poi utilizzare un'espressione simbolica nei calcoli numerici è necessario trasformarla in una lambda function, importando la funzione lambdify dal pacchetto sympy.utilities.lambdify"
   ]
  },
  {
   "cell_type": "code",
   "execution_count": 7,
   "id": "6176bc51-445a-4862-9219-d331fc5f211e",
   "metadata": {
    "tags": []
   },
   "outputs": [],
   "source": [
    "from sympy.utilities.lambdify import lambdify"
   ]
  },
  {
   "cell_type": "code",
   "execution_count": 8,
   "id": "a6ee1f55-6a00-4d94-a353-20ff0ebfc6cb",
   "metadata": {
    "tags": []
   },
   "outputs": [],
   "source": [
    "df_numerica=lambdify(x,df,np)\n",
    "f_numerica=lambdify(x,f,np)"
   ]
  },
  {
   "cell_type": "code",
   "execution_count": 9,
   "id": "15321a99-a5cd-41dd-88a5-3c5713a4429b",
   "metadata": {
    "tags": []
   },
   "outputs": [
    {
     "data": {
      "image/png": "[encoded data removed]",
      "text/plain": [
       "<Figure size 640x480 with 1 Axes>"
      ]
     },
     "metadata": {},
     "output_type": "display_data"
    }
   ],
   "source": [
    "t=np.linspace(0,2,200)\n",
    "plt.plot(t,df_numerica(t),'r-',t,f_numerica(t),'g:')\n",
    "plt.show()"
   ]
  },
  {
   "attachments": {},
   "cell_type": "markdown",
   "id": "3db4e498-1059-4f9f-81d2-2346b3f9d8a6",
   "metadata": {},
   "source": [
    "Nel pacchetto linalg di numpy sono messi a disposizione alcune funzioni importanti per il calcolo numerico, a noi oggi interessa in particolare il calcolo della norma di un vettore o di una matrice"
   ]
  },
  {
   "cell_type": "code",
   "execution_count": 10,
   "id": "29c6d858-ba50-4a1e-aa1f-bf8f1fc35c8f",
   "metadata": {
    "tags": []
   },
   "outputs": [],
   "source": [
    "import numpy.linalg as npl"
   ]
  },
  {
   "attachments": {},
   "cell_type": "markdown",
   "id": "94db9696-1c29-4612-b201-2228fc2f4e62",
   "metadata": {},
   "source": [
    "La funzione per calcolare la norma di un vettore o di una matrice  è\n",
    "npl.norm(x,np.inf)\n",
    "npl.norm(x,1)\n",
    "npl.norm(x,2)"
   ]
  },
  {
   "cell_type": "markdown",
   "id": "893110b5-34bd-4c6f-96e9-3703ae3bb29f",
   "metadata": {},
   "source": [
    "Per risolvere un sistema lineare useremo il pacchetto scipy.linalg e la funzione solve ad esso appartenente:"
   ]
  },
  {
   "cell_type": "code",
   "execution_count": 11,
   "id": "7929646f-bda3-4a2f-ab98-47841b23aa01",
   "metadata": {
    "tags": []
   },
   "outputs": [],
   "source": [
    "import scipy.linalg as spl"
   ]
  },
  {
   "cell_type": "markdown",
   "id": "94d65b86-2620-4809-9e50-b7bec97fbefe",
   "metadata": {},
   "source": [
    "Dato il sistema lineare Ax=b, per calcolare la sua soluzione usiamo la seguente istruzione:\n",
    "\n",
    "x=spl.solve(A,b)"
   ]
  }
 ],
 "metadata": {
  "kernelspec": {
   "display_name": "py310",
   "language": "python",
   "name": "python3"
  },
  "language_info": {
   "codemirror_mode": {
    "name": "ipython",
    "version": 3
   },
   "file_extension": ".py",
   "mimetype": "text/x-python",
   "name": "python",
   "nbconvert_exporter": "python",
   "pygments_lexer": "ipython3",
   "version": "3.11.2"
  },
  "vscode": {
   "interpreter": {
    "hash": "30eef1dcfb837675ec28ded3b62cbdc631b763468d0e57f04da975e3db11727d"
   }
  }
 },
 "nbformat": 4,
 "nbformat_minor": 5
}

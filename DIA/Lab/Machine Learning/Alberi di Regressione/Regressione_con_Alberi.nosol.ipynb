{
 "cells": [
  {
   "cell_type": "markdown",
   "metadata": {
    "id": "GFGX77jIMSA1"
   },
   "source": [
    "# Laboratorio: Preparazione Dati e Alberi di Regressione\n",
    "\n",
    "**Programmazione di Applicazioni Data Intensive**  \n",
    "Laurea in Ingegneria e Scienze Informatiche  \n",
    "DISI - Università di Bologna, Cesena\n",
    "\n",
    "Proff. Gianluca Moro, Roberto Pasolini  \n",
    "`nome.cognome@unibo.it`"
   ]
  },
  {
   "cell_type": "markdown",
   "metadata": {
    "id": "aMjOrcfMMSA5"
   },
   "source": [
    "## Setup"
   ]
  },
  {
   "cell_type": "markdown",
   "metadata": {
    "id": "EqnvjpjAMSA8"
   },
   "source": [
    "Importiamo le librerie di uso comune"
   ]
  },
  {
   "cell_type": "code",
   "execution_count": 3,
   "metadata": {
    "id": "Qjzm5g4FMSA9"
   },
   "outputs": [],
   "source": [
    "import numpy as np\n",
    "import pandas as pd\n",
    "import matplotlib.pyplot as plt\n",
    "%matplotlib inline\n",
    "import sklearn"
   ]
  },
  {
   "cell_type": "markdown",
   "metadata": {
    "id": "pkVcH-6YMSA9"
   },
   "source": [
    "Definiamo la seguente funzione di supporto per scaricare i file di dati necessari"
   ]
  },
  {
   "cell_type": "code",
   "execution_count": 4,
   "metadata": {
    "id": "vDOn2VmSMSA9"
   },
   "outputs": [],
   "source": [
    "import os\n",
    "from urllib.request import urlretrieve\n",
    "def download(file, url):\n",
    "    if not os.path.isfile(file):\n",
    "        urlretrieve(url, file)"
   ]
  },
  {
   "cell_type": "markdown",
   "metadata": {},
   "source": [
    "Installeremo e testeremo altre librerie nella parte finale dell'esercitazione"
   ]
  },
  {
   "cell_type": "markdown",
   "metadata": {
    "id": "4dAQTDbxEgT2"
   },
   "source": [
    "## Caso di studio: Predizione vendite\n",
    "\n",
    "I negozi sono interessati a prevedere quanto più accuratamente possibile le vendite giornaliere per ottimizzare le scorte di magazzino, il personale da impiegare, ecc.\n",
    "\n",
    "Le vendite sono influenzate da diversi fattori, quali giorno della settimana, festività, promozioni, ...\n",
    "\n",
    "In questo caso di studio riprendiamo il dataset dellle vendite registrate da più di 1.000 negozi della catena europea Rossmann, oggetto di una [competizione su Kaggle](https://www.kaggle.com/c/rossmann-store-sales)"
   ]
  },
  {
   "cell_type": "markdown",
   "metadata": {
    "id": "E3adNbfQEgT3"
   },
   "source": [
    "### Dataset\n",
    "\n",
    "Della competition utilizziamo i file con i dati delle vendite dal 2013 a metà 2015 _(nome originale: `train.csv`)_ e il file con le informazioni dettagliate sui negozi _(nome originale: `store.csv`)_"
   ]
  },
  {
   "cell_type": "code",
   "execution_count": 5,
   "metadata": {
    "id": "1McGCq6FEgT4"
   },
   "outputs": [],
   "source": [
    "download(\"rossmann-train.csv.gz\", \"https://github.com/datascienceunibo/dialab2024/raw/main/Regressione_con_Alberi/rossmann-train.csv.gz\")\n",
    "download(\"rossmann-stores.csv\", \"https://github.com/datascienceunibo/dialab2024/raw/main/Preprocessing_con_pandas/rossmann-stores.csv\")"
   ]
  },
  {
   "cell_type": "markdown",
   "metadata": {
    "id": "oXftE3iuEgT4"
   },
   "source": [
    "Carichiamo il file `rossmann-train.csv.gz` specificando alcune opzioni\n",
    "\n",
    "  - con `parse_dates=[\"Date\"]` ci accertiamo che la colonna della data sia trattata come tale\n",
    "  - `StateHoliday` è una variabile categorica che per valori possibili ha sia numeri (0) che stringhe (`a`, `b`, `c`), definiamo preventivamente il suo `dtype` per farla interpretare correttamente\n",
    "  - il file è compresso col formato GZIP, lo esplicitiamo con `compression=\"gzip\"` _(in questo caso non necessario in quanto dedotto dall'estensione)_"
   ]
  },
  {
   "cell_type": "code",
   "execution_count": 6,
   "metadata": {},
   "outputs": [],
   "source": [
    "data_sales = pd.read_csv(\n",
    "    \"rossmann-train.csv.gz\",\n",
    "    parse_dates=[\"Date\"],\n",
    "    dtype={\"StateHoliday\": \"category\"},\n",
    "    compression=\"gzip\",\n",
    ")"
   ]
  },
  {
   "cell_type": "code",
   "execution_count": 7,
   "metadata": {},
   "outputs": [
    {
     "data": {
      "text/html": [
       "<div>\n",
       "<style scoped>\n",
       "    .dataframe tbody tr th:only-of-type {\n",
       "        vertical-align: middle;\n",
       "    }\n",
       "\n",
       "    .dataframe tbody tr th {\n",
       "        vertical-align: top;\n",
       "    }\n",
       "\n",
       "    .dataframe thead th {\n",
       "        text-align: right;\n",
       "    }\n",
       "</style>\n",
       "<table border=\"1\" class=\"dataframe\">\n",
       "  <thead>\n",
       "    <tr style=\"text-align: right;\">\n",
       "      <th></th>\n",
       "      <th>Store</th>\n",
       "      <th>DayOfWeek</th>\n",
       "      <th>Date</th>\n",
       "      <th>Sales</th>\n",
       "      <th>Customers</th>\n",
       "      <th>Open</th>\n",
       "      <th>Promo</th>\n",
       "      <th>StateHoliday</th>\n",
       "      <th>SchoolHoliday</th>\n",
       "    </tr>\n",
       "  </thead>\n",
       "  <tbody>\n",
       "    <tr>\n",
       "      <th>0</th>\n",
       "      <td>1</td>\n",
       "      <td>5</td>\n",
       "      <td>2015-07-31</td>\n",
       "      <td>5263</td>\n",
       "      <td>555</td>\n",
       "      <td>1</td>\n",
       "      <td>1</td>\n",
       "      <td>0</td>\n",
       "      <td>1</td>\n",
       "    </tr>\n",
       "    <tr>\n",
       "      <th>1</th>\n",
       "      <td>2</td>\n",
       "      <td>5</td>\n",
       "      <td>2015-07-31</td>\n",
       "      <td>6064</td>\n",
       "      <td>625</td>\n",
       "      <td>1</td>\n",
       "      <td>1</td>\n",
       "      <td>0</td>\n",
       "      <td>1</td>\n",
       "    </tr>\n",
       "    <tr>\n",
       "      <th>2</th>\n",
       "      <td>3</td>\n",
       "      <td>5</td>\n",
       "      <td>2015-07-31</td>\n",
       "      <td>8314</td>\n",
       "      <td>821</td>\n",
       "      <td>1</td>\n",
       "      <td>1</td>\n",
       "      <td>0</td>\n",
       "      <td>1</td>\n",
       "    </tr>\n",
       "    <tr>\n",
       "      <th>3</th>\n",
       "      <td>4</td>\n",
       "      <td>5</td>\n",
       "      <td>2015-07-31</td>\n",
       "      <td>13995</td>\n",
       "      <td>1498</td>\n",
       "      <td>1</td>\n",
       "      <td>1</td>\n",
       "      <td>0</td>\n",
       "      <td>1</td>\n",
       "    </tr>\n",
       "    <tr>\n",
       "      <th>4</th>\n",
       "      <td>5</td>\n",
       "      <td>5</td>\n",
       "      <td>2015-07-31</td>\n",
       "      <td>4822</td>\n",
       "      <td>559</td>\n",
       "      <td>1</td>\n",
       "      <td>1</td>\n",
       "      <td>0</td>\n",
       "      <td>1</td>\n",
       "    </tr>\n",
       "    <tr>\n",
       "      <th>...</th>\n",
       "      <td>...</td>\n",
       "      <td>...</td>\n",
       "      <td>...</td>\n",
       "      <td>...</td>\n",
       "      <td>...</td>\n",
       "      <td>...</td>\n",
       "      <td>...</td>\n",
       "      <td>...</td>\n",
       "      <td>...</td>\n",
       "    </tr>\n",
       "    <tr>\n",
       "      <th>1017204</th>\n",
       "      <td>1111</td>\n",
       "      <td>2</td>\n",
       "      <td>2013-01-01</td>\n",
       "      <td>0</td>\n",
       "      <td>0</td>\n",
       "      <td>0</td>\n",
       "      <td>0</td>\n",
       "      <td>a</td>\n",
       "      <td>1</td>\n",
       "    </tr>\n",
       "    <tr>\n",
       "      <th>1017205</th>\n",
       "      <td>1112</td>\n",
       "      <td>2</td>\n",
       "      <td>2013-01-01</td>\n",
       "      <td>0</td>\n",
       "      <td>0</td>\n",
       "      <td>0</td>\n",
       "      <td>0</td>\n",
       "      <td>a</td>\n",
       "      <td>1</td>\n",
       "    </tr>\n",
       "    <tr>\n",
       "      <th>1017206</th>\n",
       "      <td>1113</td>\n",
       "      <td>2</td>\n",
       "      <td>2013-01-01</td>\n",
       "      <td>0</td>\n",
       "      <td>0</td>\n",
       "      <td>0</td>\n",
       "      <td>0</td>\n",
       "      <td>a</td>\n",
       "      <td>1</td>\n",
       "    </tr>\n",
       "    <tr>\n",
       "      <th>1017207</th>\n",
       "      <td>1114</td>\n",
       "      <td>2</td>\n",
       "      <td>2013-01-01</td>\n",
       "      <td>0</td>\n",
       "      <td>0</td>\n",
       "      <td>0</td>\n",
       "      <td>0</td>\n",
       "      <td>a</td>\n",
       "      <td>1</td>\n",
       "    </tr>\n",
       "    <tr>\n",
       "      <th>1017208</th>\n",
       "      <td>1115</td>\n",
       "      <td>2</td>\n",
       "      <td>2013-01-01</td>\n",
       "      <td>0</td>\n",
       "      <td>0</td>\n",
       "      <td>0</td>\n",
       "      <td>0</td>\n",
       "      <td>a</td>\n",
       "      <td>1</td>\n",
       "    </tr>\n",
       "  </tbody>\n",
       "</table>\n",
       "<p>1017209 rows × 9 columns</p>\n",
       "</div>"
      ],
      "text/plain": [
       "         Store  DayOfWeek       Date  Sales  Customers  Open  Promo  \\\n",
       "0            1          5 2015-07-31   5263        555     1      1   \n",
       "1            2          5 2015-07-31   6064        625     1      1   \n",
       "2            3          5 2015-07-31   8314        821     1      1   \n",
       "3            4          5 2015-07-31  13995       1498     1      1   \n",
       "4            5          5 2015-07-31   4822        559     1      1   \n",
       "...        ...        ...        ...    ...        ...   ...    ...   \n",
       "1017204   1111          2 2013-01-01      0          0     0      0   \n",
       "1017205   1112          2 2013-01-01      0          0     0      0   \n",
       "1017206   1113          2 2013-01-01      0          0     0      0   \n",
       "1017207   1114          2 2013-01-01      0          0     0      0   \n",
       "1017208   1115          2 2013-01-01      0          0     0      0   \n",
       "\n",
       "        StateHoliday  SchoolHoliday  \n",
       "0                  0              1  \n",
       "1                  0              1  \n",
       "2                  0              1  \n",
       "3                  0              1  \n",
       "4                  0              1  \n",
       "...              ...            ...  \n",
       "1017204            a              1  \n",
       "1017205            a              1  \n",
       "1017206            a              1  \n",
       "1017207            a              1  \n",
       "1017208            a              1  \n",
       "\n",
       "[1017209 rows x 9 columns]"
      ]
     },
     "execution_count": 7,
     "metadata": {},
     "output_type": "execute_result"
    }
   ],
   "source": [
    "data_sales"
   ]
  },
  {
   "cell_type": "markdown",
   "metadata": {},
   "source": [
    "Ciascuna riga del frame contiene i dati relativi ad un singolo negozio in una singola data.\n",
    "\n",
    "Riportiamo sotto il significato delle colonne dalla pagina della competizione.\n",
    "\n",
    "- `Store`: identificatore del negozio, un intero da 1 a 1.115\n",
    "- `DayOfWeek`: giorno della settimana (1 = lunedì, 2 = martedì, ..., 7 = domenica)\n",
    "- `Date`: data a cui si riferiscono i dati, nel formato standard ISO `YYYY-MM-DD`\n",
    "- `Sales`: ricavo totale del negozio nella giornata _(valuta non indicata, assumeremo in Euro)_\n",
    "- `Customers`: numero di clienti del negozio nella giornata\n",
    "- `Open`: indica se il negozio era aperto (1 = aperto, 0 = chiuso)\n",
    "- `Promo`: indica se una promozione era in corso nel negozio (1 = in corso, 0 = non in corso)\n",
    "- `StateHoliday`: indica se nella data c'era una festività e di quale tipo (`a` = festa nazionale, `b` = Pasqua, `c` = Natale, 0 = nessuna festività)\n",
    "- `SchoolHoliday`: indica se nella data le scuole erano chiuse (1 = chiuse, 0 = aperte)\n",
    "\n",
    "Il nostro obiettivo consiste nell'addestrare un modello a **prevedere la variabile `Sales`** sulla base delle altre informazioni disponibili.\n",
    "\n",
    "Possiamo ipotizzare e verificare che il ricavo totale `Sales` è strettamente proporzionale al numero di clienti `Customers`.\n",
    "\n",
    "_(usiamo il metodo `sample` per selezionare un numero dato di campioni casuali per creare il grafico con più efficienza)_"
   ]
  },
  {
   "cell_type": "code",
   "execution_count": 8,
   "metadata": {
    "colab": {
     "base_uri": "https://localhost:8080/",
     "height": 0
    },
    "id": "rYWhNwa0EgT9",
    "outputId": "65c90d68-b805-4546-e888-0c11f4745800"
   },
   "outputs": [
    {
     "data": {
      "image/png": "[encoded data removed]",
      "text/plain": [
       "<Figure size 640x480 with 1 Axes>"
      ]
     },
     "metadata": {},
     "output_type": "display_data"
    }
   ],
   "source": [
    "data_sales.sample(10000, random_state=42).plot.scatter(\"Customers\", \"Sales\");"
   ]
  },
  {
   "cell_type": "markdown",
   "metadata": {
    "id": "RgVlrThtEgT9"
   },
   "source": [
    "Non possiamo però usare la variabile `Customers` nella predizione, in quanto così come `Sales` **non è un'informazione nota a priori**.\n",
    "\n",
    "Quando si utilizza un dataset per addestrare un modello di predizione, verificare sempre attentamente quali informazioni è lecito utilizzare!"
   ]
  },
  {
   "cell_type": "markdown",
   "metadata": {},
   "source": [
    "### Esercizio 1: Caricamento e preprocessamento dati\n",
    "\n",
    "- **(1a)** Creare un frame `data_open` selezionando le sole righe di `data_sales` dove `Open` è 1 (il negozio era aperto) e scartando quindi la colonna `Open`\n",
    "- **(1b)** Caricare in un DataFrame il file `rossmann-stores.csv` usando le opzioni di default\n",
    "- **(1c)** Creare un frame `data` che combina il frame caricato con `data_sales` sulla colonna `Store`, facendo in modo che ad ogni riga di `data_sales` vengano aggiunte le informazioni complete sul negozio"
   ]
  },
  {
   "cell_type": "code",
   "execution_count": 9,
   "metadata": {},
   "outputs": [],
   "source": [
    "#1a\n",
    "data_open = data_sales.loc[data_sales[\"Open\"] == 1].drop(columns=[\"Open\"])"
   ]
  },
  {
   "cell_type": "code",
   "execution_count": 10,
   "metadata": {},
   "outputs": [],
   "source": [
    "#1b\n",
    "data_stores = pd.read_csv(\"rossmann-stores.csv\")"
   ]
  },
  {
   "cell_type": "code",
   "execution_count": 11,
   "metadata": {},
   "outputs": [],
   "source": [
    "#1c\n",
    "data = pd.merge(data_open, data_stores, left_on=[\"Store\"], right_on=[\"Store\"])\n",
    "# abbreviabile in:\n",
    "# data_merged = pd.merge(data_open, data_stores, on=[\"Store\"])"
   ]
  },
  {
   "cell_type": "markdown",
   "metadata": {},
   "source": [
    "## Generazione di variabili predittive\n",
    "\n",
    "Abbiamo integrato nei dati delle vendite delle informazioni sui singoli negozi, ma che sono indipendenti dalle date specifiche.\n",
    "\n",
    "Per avere dati più precisi da utilizzare per la predizione, usiamo i dati presenti per creare nuove variabili che riflettono invece informazioni specifiche sulla data corrente.\n",
    "\n",
    "Consideriamo ad esempio le seguenti variabili che danno informazioni sulla \"Promo2\", una promozione continuativa offerta da alcuni negozi:\n",
    "\n",
    "- `Promo2` indica se il negozio prende parte alla promozione (0 = no, 1 = sì)\n",
    "- `Promo2SinceWeek` e `Promo2SinceYear`: numero di settimana e anno a partire dai quali il negozio ha iniziato a prendere parte alla Promo2\n",
    "- `PromoInterval`: mesi dell'anno in cui nel negozio è attiva la Promo2\n",
    "\n",
    "Vogliamo creare una variabile `Promo2Active` che indica per ogni riga se la Promo2 era attiva nella data specifica indicata dalla riga, tenendo conto di quando è iniziata e in quali mesi è attiva.\n",
    "\n",
    "Iniziamo determinando in quali casi il negozio aveva iniziato a prendere parte alla Promo2, secondo quanto indicato dalle colonne `Promo2SinceWeek` e `Promo2SinceYear`.\n",
    "\n",
    "Presa una singola riga, possiamo verificare se la Promo2 era già iniziata verificando se la data è in un anno successivo a `Promo2SinceYear` oppure se è lo stesso anno e il numero di settimana è uguale o successivo a `Promo2SinceWeek`. Nei casi in cui la Promo2 non è applicata le due colonne hanno valore `NaN` e il confronto restituisce `False`.\n",
    "\n",
    "Creiamo una serie `promo2_started` che indica in quali righe si verifica questa condizione. _(`isocalendar().week` serve ad estrarre la settimana dell'anno, in versioni vecchie di pandas va usato `weekofyear`)_"
   ]
  },
  {
   "cell_type": "code",
   "execution_count": 12,
   "metadata": {},
   "outputs": [],
   "source": [
    "promo2_started = (\n",
    "    (data[\"Date\"].dt.year > data[\"Promo2SinceYear\"])\n",
    "    | (\n",
    "        (data[\"Date\"].dt.year == data[\"Promo2SinceYear\"])\n",
    "        & (data[\"Date\"].dt.isocalendar().week >= data[\"Promo2SinceWeek\"])\n",
    "    )\n",
    ")"
   ]
  },
  {
   "cell_type": "markdown",
   "metadata": {},
   "source": [
    "Dobbiamo ora determinare per ciascuna riga se la data corrispondente è in un mese in cui la promozione è attiva nel negozio.\n",
    "\n",
    "`PromoInterval` ha un insieme limitato di valori possibili, che sono i seguenti:"
   ]
  },
  {
   "cell_type": "code",
   "execution_count": 13,
   "metadata": {},
   "outputs": [
    {
     "data": {
      "text/plain": [
       "array([nan, 'Jan,Apr,Jul,Oct', 'Feb,May,Aug,Nov', 'Mar,Jun,Sept,Dec'],\n",
       "      dtype=object)"
      ]
     },
     "execution_count": 13,
     "metadata": {},
     "output_type": "execute_result"
    }
   ],
   "source": [
    "data[\"PromoInterval\"].unique()"
   ]
  },
  {
   "cell_type": "markdown",
   "metadata": {},
   "source": [
    "Per facilitare l'elaborazione, sostituiamo tali stringhe con liste di numeri dei mesi. Per farlo possiamo usare il metodo `map` visto in precedenza che sostituisce i valori di una serie con altri in base ad un dizionario dato.\n",
    "\n",
    "Definiamo un dizionario che associa ad ogni valore possibile la lista di numeri risultante."
   ]
  },
  {
   "cell_type": "code",
   "execution_count": 14,
   "metadata": {},
   "outputs": [],
   "source": [
    "months_map = {\n",
    "    np.nan: [],\n",
    "    \"Jan,Apr,Jul,Oct\":  [1, 4, 7, 10],\n",
    "    \"Feb,May,Aug,Nov\":  [2, 5, 8, 11],\n",
    "    \"Mar,Jun,Sept,Dec\": [3, 6, 9, 12],\n",
    "}"
   ]
  },
  {
   "cell_type": "markdown",
   "metadata": {},
   "source": [
    "Creiamo quindi una colonna `Promo2Months` contenente queste liste."
   ]
  },
  {
   "cell_type": "code",
   "execution_count": 15,
   "metadata": {},
   "outputs": [],
   "source": [
    "data[\"Promo2Months\"] = data[\"PromoInterval\"].map(months_map)"
   ]
  },
  {
   "cell_type": "markdown",
   "metadata": {},
   "source": [
    "In una singola riga, per verificare se il mese della data è incluso nella lista di mesi, possiamo usare l'operatore `in`.\n",
    "\n",
    "Creiamo una funzione che, data una riga del dataset, verifica questa condizione _(`row[\"Date\"]` è una singola data e non una serie, per questo si usa `month` invece di `dt.month`)_"
   ]
  },
  {
   "cell_type": "code",
   "execution_count": 16,
   "metadata": {},
   "outputs": [],
   "source": [
    "def check_promo2_month(row):\n",
    "    return row[\"Date\"].month in row[\"Promo2Months\"]"
   ]
  },
  {
   "cell_type": "markdown",
   "metadata": {},
   "source": [
    "Ad esempio per verificare la condizione sulla prima riga del dataset:"
   ]
  },
  {
   "cell_type": "code",
   "execution_count": 17,
   "metadata": {},
   "outputs": [
    {
     "data": {
      "text/plain": [
       "False"
      ]
     },
     "execution_count": 17,
     "metadata": {},
     "output_type": "execute_result"
    }
   ],
   "source": [
    "check_promo2_month(data.iloc[0])"
   ]
  },
  {
   "cell_type": "markdown",
   "metadata": {},
   "source": [
    "Per applicare questa funzione a tutte le righe del dataset possiamo usare il metodo `apply` del DataFrame\n",
    "\n",
    "- come primo parametro viene indicata una funzione che accetta una serie (una riga del dataset) e restituisce un valore\n",
    "- specificando `axis=1` indichiamo di applicare la funzione a ciascuna riga (di default è applicata a ciascuna colonna)\n",
    "- il risultato è una serie le cui etichette sono quelle delle righe e il cui valore è il risultato dato dalla funzione per ciascuna riga\n",
    "\n",
    "L'uso di `apply` è generalmente più efficiente dell'uso ad es. di un ciclo for, ma meno efficiente delle operazioni vettoriali usate sopra. Si usa in genere quando si vogliono compiere elaborazioni non banali che non si riescono ad eseguire con i soli operatori e metodi vettoriali."
   ]
  },
  {
   "cell_type": "code",
   "execution_count": 18,
   "metadata": {},
   "outputs": [],
   "source": [
    "is_promo2_month = data.apply(check_promo2_month, axis=1)"
   ]
  },
  {
   "cell_type": "markdown",
   "metadata": {},
   "source": [
    "Aggiungiamo infine al dataset una variabile `Promo2Active` che indica per ogni riga se la Promo2 era già iniziata E se era attiva in quel mese."
   ]
  },
  {
   "cell_type": "code",
   "execution_count": 19,
   "metadata": {},
   "outputs": [],
   "source": [
    "data[\"Promo2Active\"] = promo2_started & is_promo2_month"
   ]
  },
  {
   "cell_type": "markdown",
   "metadata": {},
   "source": [
    "### Esercizio 2: Estrazione variabili su concorrenza\n",
    "\n",
    "Le informazioni sulla concorrenza sono date delle seguenti colonne:\n",
    "\n",
    "- `CompetitionDistance`: distanza in metri dal punto vendita concorrente più vicino\n",
    "- `CompetitionOpenSinceMonth` e `CompetitionOpenSinceYear`: mese e anno in cui il punto vendita concorrente più vicino è stato aperto"
   ]
  },
  {
   "cell_type": "markdown",
   "metadata": {},
   "source": [
    "- **(2a)** Aggiungere al dataset una colonna `CompetitionOpen` che indica se l'eventuale punto vendita concorrente era aperto nella data specifica; nei casi in cui una qualsiasi delle colonne `CompetitionOpenSince*` è `NaN` restituire `True` (si ipotizza che il punto vendita concorrente abbia aperto prima di Rossmann)\n",
    "- **(2b)** Estrarre il valore massimo di `CompetitionDistance` e inserirlo al posto dei valori `NaN` nella stessa colonna"
   ]
  },
  {
   "cell_type": "code",
   "execution_count": 41,
   "metadata": {},
   "outputs": [],
   "source": [
    "#2a\n",
    "data[\"CompetitionOpen\"] = (data[\"CompetitionOpenSinceYear\"].isna()\n",
    "    | (data[\"Date\"].dt.year > data[\"CompetitionOpenSinceYear\"])\n",
    "    | ((data[\"Date\"].dt.year == data[\"CompetitionOpenSinceYear\"])\n",
    "        & (data[\"Date\"].dt.month >= data[\"CompetitionOpenSinceMonth\"])\n",
    "    )\n",
    ")"
   ]
  },
  {
   "cell_type": "code",
   "execution_count": 42,
   "metadata": {},
   "outputs": [],
   "source": [
    "#2b\n",
    "data.loc[data[\"CompetitionDistance\"].isna(), \"CompetitionDistance\"] = data[\"CompetitionDistance\"].max()\n",
    "# oppure: data[\"CompetitionDistance\"] = data[\"CompetitionDistance\"].fillna(data[\"CompetitionDistance\"].max())"
   ]
  },
  {
   "cell_type": "markdown",
   "metadata": {},
   "source": [
    "## Preparazione dei dati per i modelli di predizione\n",
    "\n",
    "Per separare i dati in training e validation set, definiamo una data limite per cui tutti i dati fino ad essa costituiscono il training set e tutti quelli successivi costituiscono il validation set."
   ]
  },
  {
   "cell_type": "code",
   "execution_count": 43,
   "metadata": {},
   "outputs": [],
   "source": [
    "train_test_split_date = \"2015-06-19\"\n",
    "data_train = data[data[\"Date\"] <= train_test_split_date]\n",
    "data_val = data[data[\"Date\"] > train_test_split_date]"
   ]
  },
  {
   "cell_type": "markdown",
   "metadata": {
    "id": "-B5j2DDHEgT7"
   },
   "source": [
    "Definiamo le serie `y_*` con i valori da predire di `Sales` per training e validation set."
   ]
  },
  {
   "cell_type": "code",
   "execution_count": 44,
   "metadata": {
    "id": "CHDQz9PoEgT8"
   },
   "outputs": [],
   "source": [
    "y_train = data_train[\"Sales\"]\n",
    "y_val = data_val[\"Sales\"]"
   ]
  },
  {
   "cell_type": "markdown",
   "metadata": {
    "id": "6gnkuJE7EgT9"
   },
   "source": [
    "Per la predizione utilizzeremo quasi tutte le altre colonne\n",
    "\n",
    "Molte variabili hanno valori numerici, ma di diversa natura:\n",
    "\n",
    "  1. alcune variabili (es. `CompetitionDistance`) esprimono effettivamente una quantità o una grandezza (sono di tipo \"intervallo\" o \"ratio\")\n",
    "  2. altre variabili (es. `SchoolHoliday`) sono binarie, valgono 1 dove una condizione è verificata e 0 dove non si verifica; in questo insieme possiamo includere le variabili di tipo booleano, convertite in automatico in binarie ove necessario\n",
    "  3. altre variabili (es. `StoreType`) esprimono dei \"codici\", i numeri servono solamente da identificatori univoci (sono di tipo \"nominale\")\n",
    "\n",
    "Creiamo tre liste con i nomi delle variabili che vogliamo usare per la predizione, suddivise nei rispettivi gruppi."
   ]
  },
  {
   "cell_type": "code",
   "execution_count": 45,
   "metadata": {
    "id": "_xCe0U8iEgT-"
   },
   "outputs": [],
   "source": [
    "numeric_vars = [\"CompetitionDistance\"]\n",
    "binary_vars = [\"Promo\", \"SchoolHoliday\", \"Promo2Active\", \"CompetitionOpen\"]\n",
    "categorical_vars = [\"StateHoliday\", \"StoreType\", \"Assortment\"]"
   ]
  },
  {
   "cell_type": "markdown",
   "metadata": {
    "id": "19PqfpcUEgT-"
   },
   "source": [
    "I metodi di regressione visti finora funzionano con variabili predittive numeriche: di queste viene ad es. calcolata una combinazione lineare secondo i coefficienti appresi dal modello\n",
    "\n",
    "Questi modelli **non funzionano** in presenza di variabili categoriche: le variabili categoriche sono spesso codificate in modo non numerico (es. strighe): se si provasse ad addestrare un modello di regressione su di esse avremmo un errore\n",
    "\n",
    "Anche se codificate numericamente, gli algoritmi dedurrebbero erroneamente similarità tra categorie con numeri vicini: ad es. si dedurrebbe che lo `Store` 1 è più simile al 2 che al 900, mentre in realtà ognuno può avere un peso diverso e indipendente dagli altri nella predizione."
   ]
  },
  {
   "cell_type": "markdown",
   "metadata": {
    "id": "P5V5CcLTEgT-"
   },
   "source": [
    "### Esercizio 3: Regressione sulle sole variabili numeriche\n",
    "\n",
    "- **(3a)** Definire `X_train_num` e `X_val_num` come proiezioni dei frame `X_train` e `X_val` contenenti le soli variabili numeriche e binarie del dataset\n",
    "  - usare `+` per concatenare le due liste di variabili\n",
    "- **(3b)** Addestrare un modello di regressione Ridge con $\\alpha=1$ (default) su `X_train_num` e verificarne l'accuratezza su `X_val_num`\n",
    "- **(3c)** Addestrare e verificare lo stesso modello sugli stessi dati, ma utilizzando una pipeline per standardizzare i dati"
   ]
  },
  {
   "cell_type": "code",
   "execution_count": 40,
   "metadata": {
    "id": "WYQXUQuLEgT-"
   },
   "outputs": [],
   "source": [
    "# import necessari\n",
    "from sklearn.linear_model import Ridge\n",
    "from sklearn.preprocessing import StandardScaler\n",
    "from sklearn.pipeline import Pipeline"
   ]
  },
  {
   "cell_type": "code",
   "execution_count": 46,
   "metadata": {},
   "outputs": [],
   "source": [
    "#3a\n",
    "X_train_num = data_train[numeric_vars + binary_vars]\n",
    "X_val_num = data_val[numeric_vars + binary_vars]"
   ]
  },
  {
   "cell_type": "code",
   "execution_count": 47,
   "metadata": {},
   "outputs": [
    {
     "data": {
      "text/plain": [
       "0.17431386825210549"
      ]
     },
     "execution_count": 47,
     "metadata": {},
     "output_type": "execute_result"
    }
   ],
   "source": [
    "#3b\n",
    "model = Ridge()\n",
    "model.fit(X_train_num, y_train)\n",
    "model.score(X_val_num, y_val)"
   ]
  },
  {
   "cell_type": "code",
   "execution_count": 48,
   "metadata": {},
   "outputs": [
    {
     "data": {
      "text/plain": [
       "0.17431393899442282"
      ]
     },
     "execution_count": 48,
     "metadata": {},
     "output_type": "execute_result"
    }
   ],
   "source": [
    "#3c\n",
    "model = Pipeline([\n",
    "    (\"scaler\", StandardScaler()),\n",
    "    (\"logreg\", Ridge())\n",
    "])\n",
    "model.fit(X_train_num, y_train)\n",
    "model.score(X_val_num, y_val)"
   ]
  },
  {
   "cell_type": "markdown",
   "metadata": {
    "id": "ECg7Ryb7EgT_"
   },
   "source": [
    "## Trattamento delle variabili categoriche: one-hot encoding\n",
    "\n",
    "Come si possono utilizzare le variabili categoriche in modelli di regressione?\n",
    "\n",
    "La soluzione tipica consiste nel convertire le variabili categoriche in numeriche.\n",
    "\n",
    "Data una variabile categorica X con N valori possibili $a, b, c, \\ldots$, il _one-hot encoding_ consiste nel convertirla in N variabili numeriche binarie $X_a, X_b, X_c, \\ldots$. Ciascuna variabile $X_v$ vale 1 nei casi in cui $X = v$ e 0 negli altri casi.\n",
    "\n",
    "Ogni valore di X è in pratica convertito ad un vettore in $\\mathbf{R}^N$ con un elemento a 1 e gli altri a 0\n",
    "\n",
    "- $a \\rightarrow [1,0,0,\\ldots]$\n",
    "- $b \\rightarrow [0,1,0,\\ldots]$\n",
    "- $c \\rightarrow [0,0,1,\\ldots]$\n",
    "- ..."
   ]
  },
  {
   "cell_type": "markdown",
   "metadata": {
    "id": "Da2P7QexEgUA"
   },
   "source": [
    "scikit-learn fornisce un filtro `OneHotEncoder` per effettuare questa operazione su tutte le variabili di un dataset\n",
    "\n",
    "Analizziamone il funzionamento su una variabile binaria e una categorica del dataset"
   ]
  },
  {
   "cell_type": "code",
   "execution_count": 26,
   "metadata": {
    "colab": {
     "base_uri": "https://localhost:8080/",
     "height": 0
    },
    "id": "SRlJQDBDEgUA",
    "outputId": "dba4e763-cba3-444f-a9f9-6647e633188b"
   },
   "outputs": [
    {
     "data": {
      "text/html": [
       "<div>\n",
       "<style scoped>\n",
       "    .dataframe tbody tr th:only-of-type {\n",
       "        vertical-align: middle;\n",
       "    }\n",
       "\n",
       "    .dataframe tbody tr th {\n",
       "        vertical-align: top;\n",
       "    }\n",
       "\n",
       "    .dataframe thead th {\n",
       "        text-align: right;\n",
       "    }\n",
       "</style>\n",
       "<table border=\"1\" class=\"dataframe\">\n",
       "  <thead>\n",
       "    <tr style=\"text-align: right;\">\n",
       "      <th></th>\n",
       "      <th>SchoolHoliday</th>\n",
       "      <th>StateHoliday</th>\n",
       "    </tr>\n",
       "  </thead>\n",
       "  <tbody>\n",
       "    <tr>\n",
       "      <th>40282</th>\n",
       "      <td>0</td>\n",
       "      <td>0</td>\n",
       "    </tr>\n",
       "    <tr>\n",
       "      <th>40283</th>\n",
       "      <td>0</td>\n",
       "      <td>0</td>\n",
       "    </tr>\n",
       "    <tr>\n",
       "      <th>40284</th>\n",
       "      <td>0</td>\n",
       "      <td>0</td>\n",
       "    </tr>\n",
       "    <tr>\n",
       "      <th>40285</th>\n",
       "      <td>0</td>\n",
       "      <td>0</td>\n",
       "    </tr>\n",
       "    <tr>\n",
       "      <th>40286</th>\n",
       "      <td>0</td>\n",
       "      <td>0</td>\n",
       "    </tr>\n",
       "  </tbody>\n",
       "</table>\n",
       "</div>"
      ],
      "text/plain": [
       "       SchoolHoliday StateHoliday\n",
       "40282              0            0\n",
       "40283              0            0\n",
       "40284              0            0\n",
       "40285              0            0\n",
       "40286              0            0"
      ]
     },
     "execution_count": 26,
     "metadata": {},
     "output_type": "execute_result"
    }
   ],
   "source": [
    "X_sample = data_train[[\"SchoolHoliday\", \"StateHoliday\"]]\n",
    "X_sample.head(5)"
   ]
  },
  {
   "cell_type": "markdown",
   "metadata": {
    "id": "WCn1QkccEgUA"
   },
   "source": [
    "I valori possibili di queste variabili sono:"
   ]
  },
  {
   "cell_type": "code",
   "execution_count": 27,
   "metadata": {
    "colab": {
     "base_uri": "https://localhost:8080/"
    },
    "id": "KNHu8_3REgUA",
    "outputId": "32d351a8-aaa3-47ae-bdab-2a35fdda98cf"
   },
   "outputs": [
    {
     "data": {
      "text/plain": [
       "array([0, 1], dtype=int64)"
      ]
     },
     "execution_count": 27,
     "metadata": {},
     "output_type": "execute_result"
    }
   ],
   "source": [
    "X_sample[\"SchoolHoliday\"].unique()"
   ]
  },
  {
   "cell_type": "code",
   "execution_count": 28,
   "metadata": {
    "colab": {
     "base_uri": "https://localhost:8080/"
    },
    "id": "jsVsLfpxEgUB",
    "outputId": "1f8bdad8-742c-4a72-bf65-126f954a773f"
   },
   "outputs": [
    {
     "data": {
      "text/plain": [
       "['0', 'a', 'b', 'c']\n",
       "Categories (4, object): ['0', 'a', 'b', 'c']"
      ]
     },
     "execution_count": 28,
     "metadata": {},
     "output_type": "execute_result"
    }
   ],
   "source": [
    "X_sample[\"StateHoliday\"].unique()"
   ]
  },
  {
   "cell_type": "markdown",
   "metadata": {
    "id": "lFA-lSWqEgUB"
   },
   "source": [
    "Creiamo un'istanza del filtro specificandone i parametri\n",
    "\n",
    "Normalmente il filtro fornisce in uscita matrici sparse; `sparse_output=False` _(`sparse=False` in vecchie versioni)_ indica di generare invece dei normali array NumPy, che possiamo ispezionare più facilmente"
   ]
  },
  {
   "cell_type": "code",
   "execution_count": 29,
   "metadata": {
    "id": "2Y8ERVvWEgUB"
   },
   "outputs": [],
   "source": [
    "from sklearn.preprocessing import OneHotEncoder\n",
    "encoder = OneHotEncoder(sparse_output=False)"
   ]
  },
  {
   "cell_type": "markdown",
   "metadata": {
    "id": "ogV9e1OrEgUC"
   },
   "source": [
    "Come per gli altri filtri, passiamo il primo set di dati a `fit_transform` in modo che il formato dei dati venga appreso"
   ]
  },
  {
   "cell_type": "code",
   "execution_count": 30,
   "metadata": {
    "colab": {
     "base_uri": "https://localhost:8080/"
    },
    "id": "NGjxKjObEgUC",
    "outputId": "e30e9e54-8e35-4416-a9d6-d0364e5aa254"
   },
   "outputs": [
    {
     "data": {
      "text/plain": [
       "array([[1., 0., 1., 0., 0., 0.],\n",
       "       [1., 0., 1., 0., 0., 0.],\n",
       "       [1., 0., 1., 0., 0., 0.],\n",
       "       ...,\n",
       "       [0., 1., 0., 1., 0., 0.],\n",
       "       [0., 1., 0., 1., 0., 0.],\n",
       "       [0., 1., 0., 1., 0., 0.]])"
      ]
     },
     "execution_count": 30,
     "metadata": {},
     "output_type": "execute_result"
    }
   ],
   "source": [
    "encoder.fit_transform(X_sample)"
   ]
  },
  {
   "cell_type": "markdown",
   "metadata": {
    "id": "2bln10_qEgUC"
   },
   "source": [
    "Il filtro ha generato 6 variabili: una per ogni valore possibile per ogni variabile\n",
    "\n",
    "In ogni riga è presente un 1 nelle prime 2 colonne (`SchoolHoliday`) e un altro 1 nelle ultime 4 (`StateHoliday`)\n",
    "\n",
    "Col metodo `get_feature_names_out` è possibile vedere a quale valore corrisponde ciascuna colonna.\n",
    "\n",
    "_(in vecchie versioni va usato `get_feature_names` e va passata manualmente la lista di nomi delle colonne di input)_"
   ]
  },
  {
   "cell_type": "code",
   "execution_count": 31,
   "metadata": {
    "colab": {
     "base_uri": "https://localhost:8080/"
    },
    "id": "9WaHNSGQEgUC",
    "outputId": "85c4c9d0-abd6-4acf-87f5-1a2a50b47e0e"
   },
   "outputs": [
    {
     "data": {
      "text/plain": [
       "array(['SchoolHoliday_0', 'SchoolHoliday_1', 'StateHoliday_0',\n",
       "       'StateHoliday_a', 'StateHoliday_b', 'StateHoliday_c'], dtype=object)"
      ]
     },
     "execution_count": 31,
     "metadata": {},
     "output_type": "execute_result"
    }
   ],
   "source": [
    "encoder.get_feature_names_out()"
   ]
  },
  {
   "cell_type": "markdown",
   "metadata": {
    "id": "p-ZYHGwGEgUD"
   },
   "source": [
    "Usiamo i nomi per visualizzare la matrice ottenuta sopra in un frame"
   ]
  },
  {
   "cell_type": "code",
   "execution_count": 32,
   "metadata": {
    "colab": {
     "base_uri": "https://localhost:8080/",
     "height": 0
    },
    "id": "V_pLG7mbEgUD",
    "outputId": "edff4ec6-dd54-46bc-e361-0efa4b50401a"
   },
   "outputs": [
    {
     "data": {
      "text/html": [
       "<div>\n",
       "<style scoped>\n",
       "    .dataframe tbody tr th:only-of-type {\n",
       "        vertical-align: middle;\n",
       "    }\n",
       "\n",
       "    .dataframe tbody tr th {\n",
       "        vertical-align: top;\n",
       "    }\n",
       "\n",
       "    .dataframe thead th {\n",
       "        text-align: right;\n",
       "    }\n",
       "</style>\n",
       "<table border=\"1\" class=\"dataframe\">\n",
       "  <thead>\n",
       "    <tr style=\"text-align: right;\">\n",
       "      <th></th>\n",
       "      <th>SchoolHoliday_0</th>\n",
       "      <th>SchoolHoliday_1</th>\n",
       "      <th>StateHoliday_0</th>\n",
       "      <th>StateHoliday_a</th>\n",
       "      <th>StateHoliday_b</th>\n",
       "      <th>StateHoliday_c</th>\n",
       "    </tr>\n",
       "  </thead>\n",
       "  <tbody>\n",
       "    <tr>\n",
       "      <th>0</th>\n",
       "      <td>1.0</td>\n",
       "      <td>0.0</td>\n",
       "      <td>1.0</td>\n",
       "      <td>0.0</td>\n",
       "      <td>0.0</td>\n",
       "      <td>0.0</td>\n",
       "    </tr>\n",
       "    <tr>\n",
       "      <th>1</th>\n",
       "      <td>1.0</td>\n",
       "      <td>0.0</td>\n",
       "      <td>1.0</td>\n",
       "      <td>0.0</td>\n",
       "      <td>0.0</td>\n",
       "      <td>0.0</td>\n",
       "    </tr>\n",
       "    <tr>\n",
       "      <th>2</th>\n",
       "      <td>1.0</td>\n",
       "      <td>0.0</td>\n",
       "      <td>1.0</td>\n",
       "      <td>0.0</td>\n",
       "      <td>0.0</td>\n",
       "      <td>0.0</td>\n",
       "    </tr>\n",
       "    <tr>\n",
       "      <th>3</th>\n",
       "      <td>1.0</td>\n",
       "      <td>0.0</td>\n",
       "      <td>1.0</td>\n",
       "      <td>0.0</td>\n",
       "      <td>0.0</td>\n",
       "      <td>0.0</td>\n",
       "    </tr>\n",
       "    <tr>\n",
       "      <th>4</th>\n",
       "      <td>1.0</td>\n",
       "      <td>0.0</td>\n",
       "      <td>1.0</td>\n",
       "      <td>0.0</td>\n",
       "      <td>0.0</td>\n",
       "      <td>0.0</td>\n",
       "    </tr>\n",
       "  </tbody>\n",
       "</table>\n",
       "</div>"
      ],
      "text/plain": [
       "   SchoolHoliday_0  SchoolHoliday_1  StateHoliday_0  StateHoliday_a  \\\n",
       "0              1.0              0.0             1.0             0.0   \n",
       "1              1.0              0.0             1.0             0.0   \n",
       "2              1.0              0.0             1.0             0.0   \n",
       "3              1.0              0.0             1.0             0.0   \n",
       "4              1.0              0.0             1.0             0.0   \n",
       "\n",
       "   StateHoliday_b  StateHoliday_c  \n",
       "0             0.0             0.0  \n",
       "1             0.0             0.0  \n",
       "2             0.0             0.0  \n",
       "3             0.0             0.0  \n",
       "4             0.0             0.0  "
      ]
     },
     "execution_count": 32,
     "metadata": {},
     "output_type": "execute_result"
    }
   ],
   "source": [
    "pd.DataFrame(\n",
    "    encoder.transform(X_sample),\n",
    "    columns=encoder.get_feature_names_out()\n",
    ").head(5)"
   ]
  },
  {
   "cell_type": "markdown",
   "metadata": {
    "id": "xyRoikUSEgUD"
   },
   "source": [
    "Specificando `drop=\"first\"` nei parametri, `OneHotEncoder` genera una variabile binaria in meno per ogni variabile categorica, rappresentando il primo dei valori possibili di ciascuna come un vettore di soli zero"
   ]
  },
  {
   "cell_type": "code",
   "execution_count": 33,
   "metadata": {
    "colab": {
     "base_uri": "https://localhost:8080/",
     "height": 0
    },
    "id": "HOwRCBcREgUE",
    "outputId": "19af7223-9728-4213-f706-1c196ff441ef"
   },
   "outputs": [
    {
     "data": {
      "text/html": [
       "<div>\n",
       "<style scoped>\n",
       "    .dataframe tbody tr th:only-of-type {\n",
       "        vertical-align: middle;\n",
       "    }\n",
       "\n",
       "    .dataframe tbody tr th {\n",
       "        vertical-align: top;\n",
       "    }\n",
       "\n",
       "    .dataframe thead th {\n",
       "        text-align: right;\n",
       "    }\n",
       "</style>\n",
       "<table border=\"1\" class=\"dataframe\">\n",
       "  <thead>\n",
       "    <tr style=\"text-align: right;\">\n",
       "      <th></th>\n",
       "      <th>SchoolHoliday_1</th>\n",
       "      <th>StateHoliday_a</th>\n",
       "      <th>StateHoliday_b</th>\n",
       "      <th>StateHoliday_c</th>\n",
       "    </tr>\n",
       "  </thead>\n",
       "  <tbody>\n",
       "    <tr>\n",
       "      <th>0</th>\n",
       "      <td>0.0</td>\n",
       "      <td>0.0</td>\n",
       "      <td>0.0</td>\n",
       "      <td>0.0</td>\n",
       "    </tr>\n",
       "    <tr>\n",
       "      <th>1</th>\n",
       "      <td>0.0</td>\n",
       "      <td>0.0</td>\n",
       "      <td>0.0</td>\n",
       "      <td>0.0</td>\n",
       "    </tr>\n",
       "    <tr>\n",
       "      <th>2</th>\n",
       "      <td>0.0</td>\n",
       "      <td>0.0</td>\n",
       "      <td>0.0</td>\n",
       "      <td>0.0</td>\n",
       "    </tr>\n",
       "    <tr>\n",
       "      <th>3</th>\n",
       "      <td>0.0</td>\n",
       "      <td>0.0</td>\n",
       "      <td>0.0</td>\n",
       "      <td>0.0</td>\n",
       "    </tr>\n",
       "    <tr>\n",
       "      <th>4</th>\n",
       "      <td>0.0</td>\n",
       "      <td>0.0</td>\n",
       "      <td>0.0</td>\n",
       "      <td>0.0</td>\n",
       "    </tr>\n",
       "  </tbody>\n",
       "</table>\n",
       "</div>"
      ],
      "text/plain": [
       "   SchoolHoliday_1  StateHoliday_a  StateHoliday_b  StateHoliday_c\n",
       "0              0.0             0.0             0.0             0.0\n",
       "1              0.0             0.0             0.0             0.0\n",
       "2              0.0             0.0             0.0             0.0\n",
       "3              0.0             0.0             0.0             0.0\n",
       "4              0.0             0.0             0.0             0.0"
      ]
     },
     "execution_count": 33,
     "metadata": {},
     "output_type": "execute_result"
    }
   ],
   "source": [
    "encoder = OneHotEncoder(drop=\"first\", sparse_output=False)\n",
    "pd.DataFrame(\n",
    "    encoder.fit_transform(X_sample),\n",
    "    columns=encoder.get_feature_names_out()\n",
    ").head(5)"
   ]
  },
  {
   "cell_type": "markdown",
   "metadata": {
    "id": "lNW3DlHfEgUE"
   },
   "source": [
    "In questo esempio sono state scartate le variabili `SchoolHoliday_0` e `StateHoliday_0`\n",
    "\n",
    "- i casi `SchoolHoliday_0` si riconoscono implicitamente da `SchoolHoliday_1 = 0`\n",
    "- i casi `StateHoliday_0` si riconoscono da tutte le colonne `StateHoliday` a 0\n",
    "\n",
    "Il vantaggio di questo accorgimento è che si evita di introdurre variabili collineari che possono causare problemi in alcuni modelli (es. modelli lineari senza regolarizzazione)\n",
    "\n",
    "Lo svantaggio è che si introduce un'asimmetria nella rappresentazione dei dati che può causare bias in altri modelli (es. modelli lineari con regolarizzazione)"
   ]
  },
  {
   "cell_type": "markdown",
   "metadata": {
    "id": "levmJTnREgUE"
   },
   "source": [
    "Usiamo ora il filtro `OneHotEncoder` per addestrare e validare un modello basato su tutte le variabili categoriche non binarie\n",
    "\n",
    "Creiamo delle proiezioni delle matrici `data_train` e `data_val` contenenti le sole variabili categoriche"
   ]
  },
  {
   "cell_type": "code",
   "execution_count": 34,
   "metadata": {
    "id": "xQdByycwEgUE"
   },
   "outputs": [],
   "source": [
    "X_train_cat = data_train[categorical_vars]\n",
    "X_val_cat = data_val[categorical_vars]"
   ]
  },
  {
   "cell_type": "markdown",
   "metadata": {
    "id": "iRhzdhFbEgUE"
   },
   "source": [
    "Creiamo un nuovo encoder, questa volta con le impostazioni di default, per cui vengono restituite matrici sparse _(convertibili a normali array col metodo `toarray()`)_"
   ]
  },
  {
   "cell_type": "code",
   "execution_count": 35,
   "metadata": {
    "id": "ZPImU8FBEgUF"
   },
   "outputs": [],
   "source": [
    "encoder = OneHotEncoder()"
   ]
  },
  {
   "cell_type": "markdown",
   "metadata": {
    "id": "APoXSgEVEgUF"
   },
   "source": [
    "Addestriamo un semplice modello di regressione ridge sul training set, addestrando ed applicando (`fit_transform`) l'encoder su di esso"
   ]
  },
  {
   "cell_type": "code",
   "execution_count": 36,
   "metadata": {
    "colab": {
     "base_uri": "https://localhost:8080/"
    },
    "id": "AKez5AzUEgUF",
    "outputId": "f2f01110-7620-40d8-ac1b-6ce00dc441bc"
   },
   "outputs": [
    {
     "data": {
      "text/html": [
       "<style>#sk-container-id-1 {\n",
       "  /* Definition of color scheme common for light and dark mode */\n",
       "  --sklearn-color-text: black;\n",
       "  --sklearn-color-line: gray;\n",
       "  /* Definition of color scheme for unfitted estimators */\n",
       "  --sklearn-color-unfitted-level-0: #fff5e6;\n",
       "  --sklearn-color-unfitted-level-1: #f6e4d2;\n",
       "  --sklearn-color-unfitted-level-2: #ffe0b3;\n",
       "  --sklearn-color-unfitted-level-3: chocolate;\n",
       "  /* Definition of color scheme for fitted estimators */\n",
       "  --sklearn-color-fitted-level-0: #f0f8ff;\n",
       "  --sklearn-color-fitted-level-1: #d4ebff;\n",
       "  --sklearn-color-fitted-level-2: #b3dbfd;\n",
       "  --sklearn-color-fitted-level-3: cornflowerblue;\n",
       "\n",
       "  /* Specific color for light theme */\n",
       "  --sklearn-color-text-on-default-background: var(--sg-text-color, var(--theme-code-foreground, var(--jp-content-font-color1, black)));\n",
       "  --sklearn-color-background: var(--sg-background-color, var(--theme-background, var(--jp-layout-color0, white)));\n",
       "  --sklearn-color-border-box: var(--sg-text-color, var(--theme-code-foreground, var(--jp-content-font-color1, black)));\n",
       "  --sklearn-color-icon: #696969;\n",
       "\n",
       "  @media (prefers-color-scheme: dark) {\n",
       "    /* Redefinition of color scheme for dark theme */\n",
       "    --sklearn-color-text-on-default-background: var(--sg-text-color, var(--theme-code-foreground, var(--jp-content-font-color1, white)));\n",
       "    --sklearn-color-background: var(--sg-background-color, var(--theme-background, var(--jp-layout-color0, #111)));\n",
       "    --sklearn-color-border-box: var(--sg-text-color, var(--theme-code-foreground, var(--jp-content-font-color1, white)));\n",
       "    --sklearn-color-icon: #878787;\n",
       "  }\n",
       "}\n",
       "\n",
       "#sk-container-id-1 {\n",
       "  color: var(--sklearn-color-text);\n",
       "}\n",
       "\n",
       "#sk-container-id-1 pre {\n",
       "  padding: 0;\n",
       "}\n",
       "\n",
       "#sk-container-id-1 input.sk-hidden--visually {\n",
       "  border: 0;\n",
       "  clip: rect(1px 1px 1px 1px);\n",
       "  clip: rect(1px, 1px, 1px, 1px);\n",
       "  height: 1px;\n",
       "  margin: -1px;\n",
       "  overflow: hidden;\n",
       "  padding: 0;\n",
       "  position: absolute;\n",
       "  width: 1px;\n",
       "}\n",
       "\n",
       "#sk-container-id-1 div.sk-dashed-wrapped {\n",
       "  border: 1px dashed var(--sklearn-color-line);\n",
       "  margin: 0 0.4em 0.5em 0.4em;\n",
       "  box-sizing: border-box;\n",
       "  padding-bottom: 0.4em;\n",
       "  background-color: var(--sklearn-color-background);\n",
       "}\n",
       "\n",
       "#sk-container-id-1 div.sk-container {\n",
       "  /* jupyter's `normalize.less` sets `[hidden] { display: none; }`\n",
       "     but bootstrap.min.css set `[hidden] { display: none !important; }`\n",
       "     so we also need the `!important` here to be able to override the\n",
       "     default hidden behavior on the sphinx rendered scikit-learn.org.\n",
       "     See: https://github.com/scikit-learn/scikit-learn/issues/21755 */\n",
       "  display: inline-block !important;\n",
       "  position: relative;\n",
       "}\n",
       "\n",
       "#sk-container-id-1 div.sk-text-repr-fallback {\n",
       "  display: none;\n",
       "}\n",
       "\n",
       "div.sk-parallel-item,\n",
       "div.sk-serial,\n",
       "div.sk-item {\n",
       "  /* draw centered vertical line to link estimators */\n",
       "  background-image: linear-gradient(var(--sklearn-color-text-on-default-background), var(--sklearn-color-text-on-default-background));\n",
       "  background-size: 2px 100%;\n",
       "  background-repeat: no-repeat;\n",
       "  background-position: center center;\n",
       "}\n",
       "\n",
       "/* Parallel-specific style estimator block */\n",
       "\n",
       "#sk-container-id-1 div.sk-parallel-item::after {\n",
       "  content: \"\";\n",
       "  width: 100%;\n",
       "  border-bottom: 2px solid var(--sklearn-color-text-on-default-background);\n",
       "  flex-grow: 1;\n",
       "}\n",
       "\n",
       "#sk-container-id-1 div.sk-parallel {\n",
       "  display: flex;\n",
       "  align-items: stretch;\n",
       "  justify-content: center;\n",
       "  background-color: var(--sklearn-color-background);\n",
       "  position: relative;\n",
       "}\n",
       "\n",
       "#sk-container-id-1 div.sk-parallel-item {\n",
       "  display: flex;\n",
       "  flex-direction: column;\n",
       "}\n",
       "\n",
       "#sk-container-id-1 div.sk-parallel-item:first-child::after {\n",
       "  align-self: flex-end;\n",
       "  width: 50%;\n",
       "}\n",
       "\n",
       "#sk-container-id-1 div.sk-parallel-item:last-child::after {\n",
       "  align-self: flex-start;\n",
       "  width: 50%;\n",
       "}\n",
       "\n",
       "#sk-container-id-1 div.sk-parallel-item:only-child::after {\n",
       "  width: 0;\n",
       "}\n",
       "\n",
       "/* Serial-specific style estimator block */\n",
       "\n",
       "#sk-container-id-1 div.sk-serial {\n",
       "  display: flex;\n",
       "  flex-direction: column;\n",
       "  align-items: center;\n",
       "  background-color: var(--sklearn-color-background);\n",
       "  padding-right: 1em;\n",
       "  padding-left: 1em;\n",
       "}\n",
       "\n",
       "\n",
       "/* Toggleable style: style used for estimator/Pipeline/ColumnTransformer box that is\n",
       "clickable and can be expanded/collapsed.\n",
       "- Pipeline and ColumnTransformer use this feature and define the default style\n",
       "- Estimators will overwrite some part of the style using the `sk-estimator` class\n",
       "*/\n",
       "\n",
       "/* Pipeline and ColumnTransformer style (default) */\n",
       "\n",
       "#sk-container-id-1 div.sk-toggleable {\n",
       "  /* Default theme specific background. It is overwritten whether we have a\n",
       "  specific estimator or a Pipeline/ColumnTransformer */\n",
       "  background-color: var(--sklearn-color-background);\n",
       "}\n",
       "\n",
       "/* Toggleable label */\n",
       "#sk-container-id-1 label.sk-toggleable__label {\n",
       "  cursor: pointer;\n",
       "  display: block;\n",
       "  width: 100%;\n",
       "  margin-bottom: 0;\n",
       "  padding: 0.5em;\n",
       "  box-sizing: border-box;\n",
       "  text-align: center;\n",
       "}\n",
       "\n",
       "#sk-container-id-1 label.sk-toggleable__label-arrow:before {\n",
       "  /* Arrow on the left of the label */\n",
       "  content: \"▸\";\n",
       "  float: left;\n",
       "  margin-right: 0.25em;\n",
       "  color: var(--sklearn-color-icon);\n",
       "}\n",
       "\n",
       "#sk-container-id-1 label.sk-toggleable__label-arrow:hover:before {\n",
       "  color: var(--sklearn-color-text);\n",
       "}\n",
       "\n",
       "/* Toggleable content - dropdown */\n",
       "\n",
       "#sk-container-id-1 div.sk-toggleable__content {\n",
       "  max-height: 0;\n",
       "  max-width: 0;\n",
       "  overflow: hidden;\n",
       "  text-align: left;\n",
       "  /* unfitted */\n",
       "  background-color: var(--sklearn-color-unfitted-level-0);\n",
       "}\n",
       "\n",
       "#sk-container-id-1 div.sk-toggleable__content.fitted {\n",
       "  /* fitted */\n",
       "  background-color: var(--sklearn-color-fitted-level-0);\n",
       "}\n",
       "\n",
       "#sk-container-id-1 div.sk-toggleable__content pre {\n",
       "  margin: 0.2em;\n",
       "  border-radius: 0.25em;\n",
       "  color: var(--sklearn-color-text);\n",
       "  /* unfitted */\n",
       "  background-color: var(--sklearn-color-unfitted-level-0);\n",
       "}\n",
       "\n",
       "#sk-container-id-1 div.sk-toggleable__content.fitted pre {\n",
       "  /* unfitted */\n",
       "  background-color: var(--sklearn-color-fitted-level-0);\n",
       "}\n",
       "\n",
       "#sk-container-id-1 input.sk-toggleable__control:checked~div.sk-toggleable__content {\n",
       "  /* Expand drop-down */\n",
       "  max-height: 200px;\n",
       "  max-width: 100%;\n",
       "  overflow: auto;\n",
       "}\n",
       "\n",
       "#sk-container-id-1 input.sk-toggleable__control:checked~label.sk-toggleable__label-arrow:before {\n",
       "  content: \"▾\";\n",
       "}\n",
       "\n",
       "/* Pipeline/ColumnTransformer-specific style */\n",
       "\n",
       "#sk-container-id-1 div.sk-label input.sk-toggleable__control:checked~label.sk-toggleable__label {\n",
       "  color: var(--sklearn-color-text);\n",
       "  background-color: var(--sklearn-color-unfitted-level-2);\n",
       "}\n",
       "\n",
       "#sk-container-id-1 div.sk-label.fitted input.sk-toggleable__control:checked~label.sk-toggleable__label {\n",
       "  background-color: var(--sklearn-color-fitted-level-2);\n",
       "}\n",
       "\n",
       "/* Estimator-specific style */\n",
       "\n",
       "/* Colorize estimator box */\n",
       "#sk-container-id-1 div.sk-estimator input.sk-toggleable__control:checked~label.sk-toggleable__label {\n",
       "  /* unfitted */\n",
       "  background-color: var(--sklearn-color-unfitted-level-2);\n",
       "}\n",
       "\n",
       "#sk-container-id-1 div.sk-estimator.fitted input.sk-toggleable__control:checked~label.sk-toggleable__label {\n",
       "  /* fitted */\n",
       "  background-color: var(--sklearn-color-fitted-level-2);\n",
       "}\n",
       "\n",
       "#sk-container-id-1 div.sk-label label.sk-toggleable__label,\n",
       "#sk-container-id-1 div.sk-label label {\n",
       "  /* The background is the default theme color */\n",
       "  color: var(--sklearn-color-text-on-default-background);\n",
       "}\n",
       "\n",
       "/* On hover, darken the color of the background */\n",
       "#sk-container-id-1 div.sk-label:hover label.sk-toggleable__label {\n",
       "  color: var(--sklearn-color-text);\n",
       "  background-color: var(--sklearn-color-unfitted-level-2);\n",
       "}\n",
       "\n",
       "/* Label box, darken color on hover, fitted */\n",
       "#sk-container-id-1 div.sk-label.fitted:hover label.sk-toggleable__label.fitted {\n",
       "  color: var(--sklearn-color-text);\n",
       "  background-color: var(--sklearn-color-fitted-level-2);\n",
       "}\n",
       "\n",
       "/* Estimator label */\n",
       "\n",
       "#sk-container-id-1 div.sk-label label {\n",
       "  font-family: monospace;\n",
       "  font-weight: bold;\n",
       "  display: inline-block;\n",
       "  line-height: 1.2em;\n",
       "}\n",
       "\n",
       "#sk-container-id-1 div.sk-label-container {\n",
       "  text-align: center;\n",
       "}\n",
       "\n",
       "/* Estimator-specific */\n",
       "#sk-container-id-1 div.sk-estimator {\n",
       "  font-family: monospace;\n",
       "  border: 1px dotted var(--sklearn-color-border-box);\n",
       "  border-radius: 0.25em;\n",
       "  box-sizing: border-box;\n",
       "  margin-bottom: 0.5em;\n",
       "  /* unfitted */\n",
       "  background-color: var(--sklearn-color-unfitted-level-0);\n",
       "}\n",
       "\n",
       "#sk-container-id-1 div.sk-estimator.fitted {\n",
       "  /* fitted */\n",
       "  background-color: var(--sklearn-color-fitted-level-0);\n",
       "}\n",
       "\n",
       "/* on hover */\n",
       "#sk-container-id-1 div.sk-estimator:hover {\n",
       "  /* unfitted */\n",
       "  background-color: var(--sklearn-color-unfitted-level-2);\n",
       "}\n",
       "\n",
       "#sk-container-id-1 div.sk-estimator.fitted:hover {\n",
       "  /* fitted */\n",
       "  background-color: var(--sklearn-color-fitted-level-2);\n",
       "}\n",
       "\n",
       "/* Specification for estimator info (e.g. \"i\" and \"?\") */\n",
       "\n",
       "/* Common style for \"i\" and \"?\" */\n",
       "\n",
       ".sk-estimator-doc-link,\n",
       "a:link.sk-estimator-doc-link,\n",
       "a:visited.sk-estimator-doc-link {\n",
       "  float: right;\n",
       "  font-size: smaller;\n",
       "  line-height: 1em;\n",
       "  font-family: monospace;\n",
       "  background-color: var(--sklearn-color-background);\n",
       "  border-radius: 1em;\n",
       "  height: 1em;\n",
       "  width: 1em;\n",
       "  text-decoration: none !important;\n",
       "  margin-left: 1ex;\n",
       "  /* unfitted */\n",
       "  border: var(--sklearn-color-unfitted-level-1) 1pt solid;\n",
       "  color: var(--sklearn-color-unfitted-level-1);\n",
       "}\n",
       "\n",
       ".sk-estimator-doc-link.fitted,\n",
       "a:link.sk-estimator-doc-link.fitted,\n",
       "a:visited.sk-estimator-doc-link.fitted {\n",
       "  /* fitted */\n",
       "  border: var(--sklearn-color-fitted-level-1) 1pt solid;\n",
       "  color: var(--sklearn-color-fitted-level-1);\n",
       "}\n",
       "\n",
       "/* On hover */\n",
       "div.sk-estimator:hover .sk-estimator-doc-link:hover,\n",
       ".sk-estimator-doc-link:hover,\n",
       "div.sk-label-container:hover .sk-estimator-doc-link:hover,\n",
       ".sk-estimator-doc-link:hover {\n",
       "  /* unfitted */\n",
       "  background-color: var(--sklearn-color-unfitted-level-3);\n",
       "  color: var(--sklearn-color-background);\n",
       "  text-decoration: none;\n",
       "}\n",
       "\n",
       "div.sk-estimator.fitted:hover .sk-estimator-doc-link.fitted:hover,\n",
       ".sk-estimator-doc-link.fitted:hover,\n",
       "div.sk-label-container:hover .sk-estimator-doc-link.fitted:hover,\n",
       ".sk-estimator-doc-link.fitted:hover {\n",
       "  /* fitted */\n",
       "  background-color: var(--sklearn-color-fitted-level-3);\n",
       "  color: var(--sklearn-color-background);\n",
       "  text-decoration: none;\n",
       "}\n",
       "\n",
       "/* Span, style for the box shown on hovering the info icon */\n",
       ".sk-estimator-doc-link span {\n",
       "  display: none;\n",
       "  z-index: 9999;\n",
       "  position: relative;\n",
       "  font-weight: normal;\n",
       "  right: .2ex;\n",
       "  padding: .5ex;\n",
       "  margin: .5ex;\n",
       "  width: min-content;\n",
       "  min-width: 20ex;\n",
       "  max-width: 50ex;\n",
       "  color: var(--sklearn-color-text);\n",
       "  box-shadow: 2pt 2pt 4pt #999;\n",
       "  /* unfitted */\n",
       "  background: var(--sklearn-color-unfitted-level-0);\n",
       "  border: .5pt solid var(--sklearn-color-unfitted-level-3);\n",
       "}\n",
       "\n",
       ".sk-estimator-doc-link.fitted span {\n",
       "  /* fitted */\n",
       "  background: var(--sklearn-color-fitted-level-0);\n",
       "  border: var(--sklearn-color-fitted-level-3);\n",
       "}\n",
       "\n",
       ".sk-estimator-doc-link:hover span {\n",
       "  display: block;\n",
       "}\n",
       "\n",
       "/* \"?\"-specific style due to the `<a>` HTML tag */\n",
       "\n",
       "#sk-container-id-1 a.estimator_doc_link {\n",
       "  float: right;\n",
       "  font-size: 1rem;\n",
       "  line-height: 1em;\n",
       "  font-family: monospace;\n",
       "  background-color: var(--sklearn-color-background);\n",
       "  border-radius: 1rem;\n",
       "  height: 1rem;\n",
       "  width: 1rem;\n",
       "  text-decoration: none;\n",
       "  /* unfitted */\n",
       "  color: var(--sklearn-color-unfitted-level-1);\n",
       "  border: var(--sklearn-color-unfitted-level-1) 1pt solid;\n",
       "}\n",
       "\n",
       "#sk-container-id-1 a.estimator_doc_link.fitted {\n",
       "  /* fitted */\n",
       "  border: var(--sklearn-color-fitted-level-1) 1pt solid;\n",
       "  color: var(--sklearn-color-fitted-level-1);\n",
       "}\n",
       "\n",
       "/* On hover */\n",
       "#sk-container-id-1 a.estimator_doc_link:hover {\n",
       "  /* unfitted */\n",
       "  background-color: var(--sklearn-color-unfitted-level-3);\n",
       "  color: var(--sklearn-color-background);\n",
       "  text-decoration: none;\n",
       "}\n",
       "\n",
       "#sk-container-id-1 a.estimator_doc_link.fitted:hover {\n",
       "  /* fitted */\n",
       "  background-color: var(--sklearn-color-fitted-level-3);\n",
       "}\n",
       "</style><div id=\"sk-container-id-1\" class=\"sk-top-container\"><div class=\"sk-text-repr-fallback\"><pre>Ridge()</pre><b>In a Jupyter environment, please rerun this cell to show the HTML representation or trust the notebook. <br />On GitHub, the HTML representation is unable to render, please try loading this page with nbviewer.org.</b></div><div class=\"sk-container\" hidden><div class=\"sk-item\"><div class=\"sk-estimator fitted sk-toggleable\"><input class=\"sk-toggleable__control sk-hidden--visually\" id=\"sk-estimator-id-1\" type=\"checkbox\" checked><label for=\"sk-estimator-id-1\" class=\"sk-toggleable__label fitted sk-toggleable__label-arrow fitted\">&nbsp;&nbsp;Ridge<a class=\"sk-estimator-doc-link fitted\" rel=\"noreferrer\" target=\"_blank\" href=\"https://scikit-learn.org/1.4/modules/generated/sklearn.linear_model.Ridge.html\">?<span>Documentation for Ridge</span></a><span class=\"sk-estimator-doc-link fitted\">i<span>Fitted</span></span></label><div class=\"sk-toggleable__content fitted\"><pre>Ridge()</pre></div> </div></div></div></div>"
      ],
      "text/plain": [
       "Ridge()"
      ]
     },
     "execution_count": 36,
     "metadata": {},
     "output_type": "execute_result"
    }
   ],
   "source": [
    "model = Ridge()\n",
    "model.fit(encoder.fit_transform(X_train_cat), y_train)"
   ]
  },
  {
   "cell_type": "markdown",
   "metadata": {
    "id": "hga06F22EgUF"
   },
   "source": [
    "Calcoliamo quindi l'accuratezza del modello sul validation set, che viene preprocessato usando lo stesso encoder"
   ]
  },
  {
   "cell_type": "code",
   "execution_count": 37,
   "metadata": {
    "colab": {
     "base_uri": "https://localhost:8080/"
    },
    "id": "Qzb7KUBPEgUF",
    "outputId": "212b81b8-a21b-4a6a-8a6f-811d6a43adf2"
   },
   "outputs": [
    {
     "data": {
      "text/plain": [
       "0.05516958679266326"
      ]
     },
     "execution_count": 37,
     "metadata": {},
     "output_type": "execute_result"
    }
   ],
   "source": [
    "model.score(encoder.transform(X_val_cat), y_val)"
   ]
  },
  {
   "cell_type": "markdown",
   "metadata": {
    "id": "8bwUSUQoEgUG",
    "tags": []
   },
   "source": [
    "### Esercizio 4: One-hot encoding in una pipeline\n",
    "\n",
    "Dato che utilizza l'interfaccia standard dei filtri di scikit-learn, il one-hot encoder può essere utilizzato in una pipeline\n",
    "\n",
    "Definire un modello di regressione ridge come quello addestrato sopra in una pipeline che applichi l'encoding delle variabili categoriche, addestrarlo su `X_train_cat` e validarlo su `X_val_cat`"
   ]
  },
  {
   "cell_type": "markdown",
   "metadata": {
    "id": "ffvR0MDrEgUG"
   },
   "source": [
    "## Preprocessing differenziato delle colonne\n",
    "\n",
    "Abbiamo visto come addestrare modelli basati su variabili numeriche oppure su variabili categoriche\n",
    "\n",
    "È possibile utilizzare tutte le variabili (numeriche e categoriche) in un unico modello?\n",
    "\n",
    "Il one-hot encoder converte le variabili categoriche in numeriche, queste possono essere combinate a quelle che sono già numeriche\n",
    "\n",
    "Vediamo come eseguire questa procedura manualmente, applicando anche la standardizzazione alle variabili numeriche\n",
    "\n",
    "Per prima cosa, creiamo uno `StandardScaler` per le variabili già numeriche e un `OneHotEncoder` per quelle categoriche (usiamo `sparse_output=False` per generare oggetti compatibili tra loro)"
   ]
  },
  {
   "cell_type": "code",
   "execution_count": 38,
   "metadata": {
    "id": "37MyxFR9EgUG"
   },
   "outputs": [],
   "source": [
    "scaler = StandardScaler()\n",
    "encoder = OneHotEncoder(sparse_output=False)"
   ]
  },
  {
   "cell_type": "markdown",
   "metadata": {
    "id": "kJB-2VX_EgUH"
   },
   "source": [
    "Quindi applichiamo i filtri alle rispettive colonne del training set e concateno per colonne le matrici ottenute\n",
    "\n",
    "`np.c_[A, B, C, ...]` costruisce un array concatenendo per colonne (orizzontalmente) gli array A, B, C, ..."
   ]
  },
  {
   "cell_type": "code",
   "execution_count": 39,
   "metadata": {
    "id": "jVfpmhy_EgUH"
   },
   "outputs": [
    {
     "ename": "NameError",
     "evalue": "name 'X_train_num' is not defined",
     "output_type": "error",
     "traceback": [
      "\u001b[1;31m---------------------------------------------------------------------------\u001b[0m",
      "\u001b[1;31mNameError\u001b[0m                                 Traceback (most recent call last)",
      "Cell \u001b[1;32mIn[39], line 2\u001b[0m\n\u001b[0;32m      1\u001b[0m X_train_combo \u001b[38;5;241m=\u001b[39m np\u001b[38;5;241m.\u001b[39mc_[\n\u001b[1;32m----> 2\u001b[0m     scaler\u001b[38;5;241m.\u001b[39mfit_transform(\u001b[43mX_train_num\u001b[49m),\n\u001b[0;32m      3\u001b[0m     encoder\u001b[38;5;241m.\u001b[39mfit_transform(X_train_cat)\n\u001b[0;32m      4\u001b[0m ]\n",
      "\u001b[1;31mNameError\u001b[0m: name 'X_train_num' is not defined"
     ]
    }
   ],
   "source": [
    "X_train_combo = np.c_[\n",
    "    scaler.fit_transform(X_train_num),\n",
    "    encoder.fit_transform(X_train_cat)\n",
    "]"
   ]
  },
  {
   "cell_type": "markdown",
   "metadata": {
    "id": "rT-lpG8bEgUH"
   },
   "source": [
    "Eseguiamo la stessa operazione sul validation set usando i filtri già addestrati"
   ]
  },
  {
   "cell_type": "code",
   "execution_count": null,
   "metadata": {
    "id": "HMS-MLS4EgUH"
   },
   "outputs": [],
   "source": [
    "X_val_combo = np.c_[\n",
    "    scaler.transform(X_val_num),\n",
    "    encoder.transform(X_val_cat)\n",
    "]"
   ]
  },
  {
   "cell_type": "markdown",
   "metadata": {
    "id": "cT1fZhlmEgUH"
   },
   "source": [
    "Infine addestriamo e validiamo un modello utilizzando le matrici combinate"
   ]
  },
  {
   "cell_type": "code",
   "execution_count": null,
   "metadata": {
    "colab": {
     "base_uri": "https://localhost:8080/"
    },
    "id": "mKaKjuNbEgUI",
    "outputId": "f667a8a9-65dd-4156-a747-05ac3b5e5206"
   },
   "outputs": [],
   "source": [
    "model = Ridge()\n",
    "model.fit(X_train_combo, y_train)\n",
    "model.score(X_val_combo, y_val)"
   ]
  },
  {
   "cell_type": "markdown",
   "metadata": {
    "id": "R87Q47hfEgUI"
   },
   "source": [
    "In questo modo abbiamo costruito un modello combinando insieme matrici numeriche e categoriche\n",
    "\n",
    "Abbiamo però svolto operazioni diverse dalle solite che definiamo in una pipeline\n",
    "\n",
    "- suddivisione del dataset in gruppi di colonne\n",
    "- applicazione di filtri diversi a ciascun gruppo\n",
    "- concatenazione delle colonne risultanti da ciascun gruppo"
   ]
  },
  {
   "cell_type": "markdown",
   "metadata": {
    "id": "RrHdcLDUEgUI"
   },
   "source": [
    "Per questi casi, scikit-learn fornisce un filtro composito `ColumnTransformer`\n",
    "\n",
    "Un oggetto `ColumnTransformer` è definito da una lista di gruppi, ciascuno dei quali è definito da una tupla con 3 elementi:\n",
    "\n",
    "- un nome da usare per riferirsi al gruppo, simile ai nomi in una `Pipeline`\n",
    "- un filtro da applicare al gruppo, che può essere una `Pipeline` con una sequenza di filtri\n",
    "- una lista di nomi di colonne che fanno parte del gruppo _(se le colonne non hanno nome, ad es. usando array NumPy, usare gli indici)_\n",
    "\n",
    "Definiamo ad esempio un `ColumnTransformer` che applichi `StandardScaler` e `OneHotEncoder` sui due gruppi di colonne come sopra"
   ]
  },
  {
   "cell_type": "code",
   "execution_count": null,
   "metadata": {
    "id": "4kCQg0UwEgUI"
   },
   "outputs": [],
   "source": [
    "from sklearn.compose import ColumnTransformer\n",
    "preprocessor = ColumnTransformer([\n",
    "    # nome           filtro            colonne\n",
    "    ( \"numeric\"    , StandardScaler(), numeric_vars + binary_vars ),\n",
    "    ( \"categorical\", OneHotEncoder() , categorical_vars           )\n",
    "])"
   ]
  },
  {
   "cell_type": "markdown",
   "metadata": {
    "id": "BS0Ny7WoEgUI"
   },
   "source": [
    "`ColumnTransformer` ha la stessa interfaccia di un filtro, possiamo quindi usarlo come sempre per trasformare il training set e il validation set\n",
    "\n",
    "Passiamo i due set per intero: il trasformatore li suddividerà in gruppi da trattare separatamente secondo la definizione sopra"
   ]
  },
  {
   "cell_type": "code",
   "execution_count": null,
   "metadata": {
    "id": "yuhla5uHEgUI"
   },
   "outputs": [],
   "source": [
    "X_train_proc = preprocessor.fit_transform(data_train)\n",
    "X_val_proc = preprocessor.transform(data_val)"
   ]
  },
  {
   "cell_type": "markdown",
   "metadata": {
    "id": "y_OWZGImEgUJ"
   },
   "source": [
    "Il risultato è esattamente uguale a quello ottenuto sopra concatenando gli array risultanti dalle applicazioni dei filtri sui dati separati manualmente"
   ]
  },
  {
   "cell_type": "code",
   "execution_count": null,
   "metadata": {
    "colab": {
     "base_uri": "https://localhost:8080/"
    },
    "id": "zlctNIWpEgUJ",
    "outputId": "b258448f-b30b-4f25-e4e9-44ee509e7053"
   },
   "outputs": [],
   "source": [
    "np.array_equal(X_train_combo, X_train_proc)"
   ]
  },
  {
   "cell_type": "code",
   "execution_count": null,
   "metadata": {
    "colab": {
     "base_uri": "https://localhost:8080/"
    },
    "id": "NUHObUR6EgUJ",
    "outputId": "b6d4a2bb-860a-4970-d235-ff9862272261"
   },
   "outputs": [],
   "source": [
    "np.array_equal(X_val_combo, X_val_proc)"
   ]
  },
  {
   "cell_type": "code",
   "execution_count": null,
   "metadata": {
    "colab": {
     "base_uri": "https://localhost:8080/"
    },
    "id": "TFvMwdvlEgUJ",
    "outputId": "f83da299-cff6-4773-ce7a-85223ab947f0"
   },
   "outputs": [],
   "source": [
    "model = Ridge()\n",
    "model.fit(X_train_proc, y_train)\n",
    "model.score(X_val_proc, y_val)"
   ]
  },
  {
   "cell_type": "markdown",
   "metadata": {
    "id": "N3M9wJd9EgUJ"
   },
   "source": [
    "Anche il `ColumnTransformer`, essendo un filtro, può essere usato all'interno di una pipeline\n",
    "\n",
    "Possiamo così ottenere anche in questo caso un **unico oggetto** composito che contiene il modello di regressione insieme a tutti i filtri da applicare ai dati"
   ]
  },
  {
   "cell_type": "code",
   "execution_count": null,
   "metadata": {
    "colab": {
     "base_uri": "https://localhost:8080/"
    },
    "id": "mfQcABa0EgUK",
    "outputId": "768cba03-d49d-41cb-99b6-f2f770b02e2e"
   },
   "outputs": [],
   "source": [
    "# definizione con transformer definito a parte\n",
    "transformer = ColumnTransformer([\n",
    "    (\"numeric\"    , StandardScaler(), numeric_vars + binary_vars),\n",
    "    (\"categorical\", OneHotEncoder() , categorical_vars)\n",
    "])\n",
    "model = Pipeline([\n",
    "    (\"preproc\", transformer),\n",
    "    (\"regr\"   , Ridge())\n",
    "])\n",
    "\n",
    "# definizione equivalente con transformer innestato\n",
    "model = Pipeline([\n",
    "    (\"preproc\", ColumnTransformer([\n",
    "        (\"numeric\", StandardScaler(), numeric_vars + binary_vars),\n",
    "        (\"categorical\", OneHotEncoder(), categorical_vars)\n",
    "    ])),\n",
    "    (\"regr\", Ridge())\n",
    "])\n",
    "\n",
    "model.fit(data_train, y_train)\n",
    "model.score(data_val, y_val)"
   ]
  },
  {
   "cell_type": "markdown",
   "metadata": {
    "id": "NXPiZ1iDEgUK"
   },
   "source": [
    "Analogamente a `Pipeline.named_steps`, `ColumnTranformers` permette di accedere ai singoli filtri tramite il dizionario `named_transformers_`\n",
    "\n",
    "Ad esempio, per ispezionare le medie rilevate sul training set dallo `StandardScaler` sulle variabili numeriche:"
   ]
  },
  {
   "cell_type": "code",
   "execution_count": null,
   "metadata": {
    "colab": {
     "base_uri": "https://localhost:8080/"
    },
    "id": "wZJa0Eu0EgUK",
    "outputId": "c70f4cfb-e67c-4854-89b7-0969dd624af4"
   },
   "outputs": [],
   "source": [
    "pd.Series(\n",
    "    model.named_steps[\"preproc\"].named_transformers_[\"numeric\"].mean_,\n",
    "    index=numeric_vars + binary_vars\n",
    ")"
   ]
  },
  {
   "cell_type": "markdown",
   "metadata": {
    "id": "lgwDqYdlEgUK"
   },
   "source": [
    "Nella definizione del `ColumnTransformer` si può usare la stringa `\"passthrough\"` al posto di un filtro per utilizzare i dati senza applicare filtri\n",
    "\n",
    "Come ulteriore opzione, si può utilizzare la stringa `\"drop\"` per scartare completamente i dati\n",
    "\n",
    "Ad esempio, modifichiamo la pipeline sopra per suddividere le variabili numeriche da quelle binarie e non applicare la standardizzazione (non necessaria) a queste ultime"
   ]
  },
  {
   "cell_type": "code",
   "execution_count": null,
   "metadata": {
    "colab": {
     "base_uri": "https://localhost:8080/"
    },
    "id": "qFkTvDT3EgUK",
    "outputId": "a8d0c5b4-7218-4a5f-9a5b-ca92401b2fcd"
   },
   "outputs": [],
   "source": [
    "model = Pipeline([\n",
    "    (\"preproc\", ColumnTransformer([\n",
    "        (\"numeric\",     StandardScaler(), numeric_vars),\n",
    "        (\"binary\",      \"passthrough\",    binary_vars),       # <---\n",
    "        (\"categorical\", OneHotEncoder(),  categorical_vars)\n",
    "    ])),\n",
    "    (\"regr\", Ridge())\n",
    "])\n",
    "model.fit(data_train, y_train)\n",
    "model.score(data_val, y_val)"
   ]
  },
  {
   "cell_type": "markdown",
   "metadata": {
    "id": "srs_kcHPEgUL"
   },
   "source": [
    "Si può anche usare l'opzione `remainder` per indicare un filtro o un comportamento di default da applicare alle colonne che non fanno parte di alcun gruppo; l'impostazione di default è `remainder=\"drop\"`, ovvero tali colonne non vengono usate"
   ]
  },
  {
   "cell_type": "markdown",
   "metadata": {
    "id": "ec8fkvruEgUL"
   },
   "source": [
    "In una grid search, possiamo riferirci ai singoli filtri del transformer e ai loro parametri con modalità analoghe a quelle viste nelle pipeline più semplici\n",
    "\n",
    "Si ipotizzi di avere un transformer come componente di una pipeline con nome `preproc`, come negli esempi sopra\n",
    "\n",
    "- per riferirsi al filtro di un gruppo `group`, si indica `preproc__group`\n",
    "- per riferirsi al parametro `par` di tale filtro, si indica `preproc__group__par`\n",
    "\n",
    "Definiamo ad esempio una grid search con modello simile a quello sopra in cui\n",
    "\n",
    "- alle variabili numeriche può essere applicato o meno `StandardScaler`\n",
    "- il one-hot encoding delle variabili categoriche può essere applicato con `drop=\"first\"` o `drop=None` (default)"
   ]
  },
  {
   "cell_type": "code",
   "execution_count": null,
   "metadata": {
    "id": "R7jQrka0EgUL"
   },
   "outputs": [],
   "source": [
    "model = Pipeline([\n",
    "    (\"preproc\", ColumnTransformer([\n",
    "        (\"numeric\", ..., numeric_vars),  # possiamo usare un valore arbitrario al posto di \"...\"\n",
    "        (\"binary\", \"passthrough\", binary_vars),\n",
    "        (\"categorical\", OneHotEncoder(), categorical_vars)\n",
    "    ])),\n",
    "    (\"regr\", Ridge())\n",
    "])\n",
    "grid = {\n",
    "    # variazione dell'intero filtro da usare\n",
    "    \"preproc__numeric\": [\"passthrough\", StandardScaler()],\n",
    "    # variazione di un singolo parametro di un filtro\n",
    "    \"preproc__categorical__drop\": [None, \"first\"]\n",
    "}"
   ]
  },
  {
   "cell_type": "markdown",
   "metadata": {
    "id": "1EZsxYwjEgUL"
   },
   "source": [
    "Eseguiamo la grid search, usando ad esempio la cross validation a 3 fold"
   ]
  },
  {
   "cell_type": "code",
   "execution_count": null,
   "metadata": {
    "id": "cD7SADd0EgUM"
   },
   "outputs": [],
   "source": [
    "from sklearn.model_selection import GridSearchCV, KFold\n",
    "kf = KFold(3, shuffle=True, random_state=42)\n",
    "gs = GridSearchCV(model, grid, cv=kf)\n",
    "gs.fit(data_train, y_train);"
   ]
  },
  {
   "cell_type": "markdown",
   "metadata": {
    "id": "uf9OqHkeEgUM"
   },
   "source": [
    "Vediamo la configurazione migliore individuata e il confronto tra tutte quelle testate"
   ]
  },
  {
   "cell_type": "code",
   "execution_count": null,
   "metadata": {
    "colab": {
     "base_uri": "https://localhost:8080/"
    },
    "id": "ZqeI8qGmEgUM",
    "outputId": "cc3010a1-bc0e-4daf-d474-5888c7e7f5cf"
   },
   "outputs": [],
   "source": [
    "gs.best_params_"
   ]
  },
  {
   "cell_type": "code",
   "execution_count": null,
   "metadata": {
    "colab": {
     "base_uri": "https://localhost:8080/",
     "height": 308
    },
    "id": "AEHGmymTEgUM",
    "outputId": "4172ebab-cd66-412c-d610-b09eaa5b9714"
   },
   "outputs": [],
   "source": [
    "pd.DataFrame(gs.cv_results_).sort_values(\"rank_test_score\")"
   ]
  },
  {
   "cell_type": "markdown",
   "metadata": {
    "id": "ohbamPZkEgUM"
   },
   "source": [
    "### Esercizio 5: Grid search su pipeline complessa\n",
    "\n",
    "Effettuare la grid search con cross validation come sopra (`kf`) ed estrarre la configurazione migliore e l'accuratezza sul validation set su\n",
    "- **(5a)** un modello di regressione ridge su tutte le variabili con\n",
    "  - one-hot encoding delle variabili categoriche con tutte le impostazioni di default\n",
    "  - generazione di feature polinomiali dalle variabili numeriche e binarie con grado da 1 a 3\n",
    "  - parametro `alpha` della regressione ridge pari a 0.01 o 1\n",
    "- **(5b)** un modello simile, ma con standardizzazione delle variabili numeriche e binarie prima di generare le feature polinomiali\n",
    "  - utilizzare una pipeline per concatenare i due filtri\n",
    "\n",
    "Per ridurre i tempi di calcolo, utilizzare il dataset `data_train_sample` + `y_train_sample` creato sotto, composto da 60000 istanze prese casualmente del training set"
   ]
  },
  {
   "cell_type": "code",
   "execution_count": null,
   "metadata": {
    "id": "cHapTUPGEgUN"
   },
   "outputs": [],
   "source": [
    "# il metodo sample seleziona casualmente un sottoinsieme di righe del DataFrame\n",
    "data_train_sample = data_train.sample(60000, random_state=42)\n",
    "# il metodo reindex_like seleziona dalla serie le istanze corrispondenti\n",
    "y_train_sample = y_train.reindex_like(data_train_sample)"
   ]
  },
  {
   "cell_type": "code",
   "execution_count": null,
   "metadata": {
    "id": "6597bZ8-EgUN"
   },
   "outputs": [],
   "source": [
    "from sklearn.preprocessing import PolynomialFeatures"
   ]
  },
  {
   "cell_type": "markdown",
   "metadata": {
    "tags": []
   },
   "source": [
    "## Trasformazioni arbitrarie di variabili\n",
    "\n",
    "I filtri predefiniti di scikit-learn permettono di applicare trasformazioni di uso comune (standardizzazione, one-hot encoding, ...)\n",
    "\n",
    "In alcuni casi può essere utile applicare traasformazioni ad hoc sui dati a disposizione\n",
    "\n",
    "Consideriamo ad esempio una colonna che indica la data a cui si riferiscono i dati, presente nel dataset Rossmann e in molti altri\n",
    "\n",
    "Non possiamo utilizzarla direttamente come variabile: al modello sarà richiesto di effettuare predizioni in date future rispetto a quelle su cui è addestrato il modello\n",
    "\n",
    "Possiamo però usare come variabili dei campi dalla data, quali il mese o il giorno della settimana, in modo che il modello possa apprendere ad es. ricorrenze settimanali o annuali\n",
    "\n",
    "Creiamo una funzione `extract_date_fields` che, dato in ingresso un DataFrame con delle date, ne restituisce uno con i componenti di nostro interesse"
   ]
  },
  {
   "cell_type": "code",
   "execution_count": null,
   "metadata": {
    "id": "wu83U3xQMSBg"
   },
   "outputs": [],
   "source": [
    "def extract_date_fields(X):\n",
    "    result = {}\n",
    "    for col in X.columns:\n",
    "        result[f\"{col}_day\"]       = X[col].dt.day        # giorno del mese (1-31)\n",
    "        result[f\"{col}_month\"]     = X[col].dt.month      # mese (1-12)\n",
    "        result[f\"{col}_dayofweek\"] = X[col].dt.dayofweek  # giorno della settimana (0-6)\n",
    "    return pd.DataFrame(result)"
   ]
  },
  {
   "cell_type": "markdown",
   "metadata": {
    "id": "BQzFR8GFMSBg"
   },
   "source": [
    "Vediamo un esempio di applicazione"
   ]
  },
  {
   "cell_type": "code",
   "execution_count": null,
   "metadata": {
    "colab": {
     "base_uri": "https://localhost:8080/",
     "height": 143
    },
    "id": "L3vn_G1QMSBh",
    "outputId": "2505e4a4-0c95-44fd-cdf4-0d47f445c1fd"
   },
   "outputs": [],
   "source": [
    "data_train[[\"Date\"]]   .sample(5, random_state=42)"
   ]
  },
  {
   "cell_type": "code",
   "execution_count": null,
   "metadata": {
    "colab": {
     "base_uri": "https://localhost:8080/",
     "height": 143
    },
    "id": "zF-dYNi7MSBh",
    "outputId": "fbb99402-ef9f-4db3-96e5-d03ea57a1f78"
   },
   "outputs": [],
   "source": [
    "extract_date_fields(data_train[[\"Date\"]])   .sample(5, random_state=42)"
   ]
  },
  {
   "cell_type": "markdown",
   "metadata": {
    "id": "pos8Vo76MSBh"
   },
   "source": [
    "Per comporre questa trasformazione con le altre necessarie, la incapsuliamo in un filtro compatibile con gli altri di scikit-learn\n",
    "\n",
    "Utilizziamo la classe `FunctionTransformer`, che permette di creare filtri basati su funzioni stateless (non viene salvata nessuna informazione in fase di `fit`)\n",
    "\n",
    "Creiamo ad esempio un filtro passando la funzione da applicare"
   ]
  },
  {
   "cell_type": "code",
   "execution_count": null,
   "metadata": {
    "id": "dKc3dVXoMSBh"
   },
   "outputs": [],
   "source": [
    "from sklearn.preprocessing import FunctionTransformer\n",
    "date_transformer = FunctionTransformer(extract_date_fields)"
   ]
  },
  {
   "cell_type": "markdown",
   "metadata": {
    "id": "1zQYOvvpMSBh"
   },
   "source": [
    "Possiamo quindi utilizzarlo allo stesso modo degli altri filtri"
   ]
  },
  {
   "cell_type": "code",
   "execution_count": null,
   "metadata": {
    "colab": {
     "base_uri": "https://localhost:8080/",
     "height": 143
    },
    "id": "XPpBoD4uMSBh",
    "outputId": "2e8b2fe0-c0b4-4f65-8020-847f629e3b0b"
   },
   "outputs": [],
   "source": [
    "date_transformer.fit_transform(data_train[[\"Date\"]])   .sample(5, random_state=42)"
   ]
  },
  {
   "cell_type": "markdown",
   "metadata": {
    "id": "3mVtRwvDMSBh"
   },
   "source": [
    "Utilizziamo quindi un `ColumnTransformer` per combinare insieme tutte le colonne pre-elaborate opportunamente\n",
    "\n",
    "- le colonne numeriche e binarie sono prese così come sono (_passthrough_)\n",
    "- alle colonne categoriche è applicato il one-hot encoding\n",
    "- dalla colonna `Date` sono estratti i componenti della data\n",
    "\n",
    "Mettiamo questo filtro in pipeline con uno `StandardScaler` per standardizzare tutte le variabili"
   ]
  },
  {
   "cell_type": "code",
   "execution_count": null,
   "metadata": {
    "id": "IwYD_AHHMSBi"
   },
   "outputs": [],
   "source": [
    "date_transformer = FunctionTransformer(extract_date_fields)\n",
    "transformer = Pipeline([\n",
    "    (\"cols\", ColumnTransformer([\n",
    "        (\"num\" , \"passthrough\",    numeric_vars + binary_vars),\n",
    "        (\"cat\" , OneHotEncoder(),  categorical_vars),\n",
    "        (\"date\", date_transformer, [\"Date\"]),\n",
    "    ])),\n",
    "    (\"scaler\", StandardScaler()),\n",
    "])"
   ]
  },
  {
   "cell_type": "markdown",
   "metadata": {},
   "source": [
    "Nel resto dell'esercitazione useremo sempre i dati preprocessati in questo modo e li testeremo su algoritmi di learning diversi\n",
    "\n",
    "Per concentrarsi su di essi, estraiamo già versioni preprocessate di training e validation set da utilizzare in seguito senza pipeline"
   ]
  },
  {
   "cell_type": "code",
   "execution_count": null,
   "metadata": {},
   "outputs": [],
   "source": [
    "X_train = transformer.fit_transform(data_train)\n",
    "X_val = transformer.transform(data_val)"
   ]
  },
  {
   "cell_type": "markdown",
   "metadata": {},
   "source": [
    "Estraiamo una lista con i nomi delle feature processate"
   ]
  },
  {
   "cell_type": "code",
   "execution_count": null,
   "metadata": {
    "colab": {
     "base_uri": "https://localhost:8080/"
    },
    "id": "kraC_oWeEgUT",
    "outputId": "c4278aeb-bb7b-4519-eff5-e11c1976c8ec"
   },
   "outputs": [],
   "source": [
    "X_names = np.r_[\n",
    "    numeric_vars,\n",
    "    binary_vars,\n",
    "    transformer.named_steps[\"cols\"].named_transformers_[\"cat\"].get_feature_names_out(categorical_vars),\n",
    "    [\"Date_day\", \"Date_month\", \"Date_dayofweek\"],\n",
    "].tolist()"
   ]
  },
  {
   "cell_type": "code",
   "execution_count": null,
   "metadata": {},
   "outputs": [],
   "source": [
    "# stampo i nomi di tutte le feature\n",
    "print(\", \".join(X_names))"
   ]
  },
  {
   "cell_type": "markdown",
   "metadata": {
    "id": "w2dDwlb8EgUO"
   },
   "source": [
    "## Regressione con alberi decisionali\n",
    "\n",
    "I modelli di regressione visti finora si basano su equazioni (lineari o non) su tutte le variabili\n",
    "\n",
    "Gli alberi decisionali costituiscono un approccio differente: la regressione avviene in base ad una serie di decisioni \"semplici\", basate ciascuna su una sola variabile\n",
    "\n",
    "- ciascuna decisione porta ad un ramo diverso dell'albero\n",
    "- geometricamente è come se suddividessimo tramite degli iperpiani (ciascuno basato su una singola variabile) lo spazio delle variabili indipendenti tramite degli iperpiani ciascuno basato su una singola variabile e assegnassimo un valore predetto di y a ciascuna regione che si crea\n",
    "\n",
    "I modelli ad alberi decisionali hanno alcuni vantaggi:\n",
    "\n",
    "- un albero decisionale (se di piccole dimensioni) è spesso più facilmente interpretabile da una persona rispetto ad un insieme di coefficienti numerici\n",
    "- è concettualmente possibile trattare variabili categoriche (ma in scikit-learn ne è necessario comunque il one-hot encoding)"
   ]
  },
  {
   "cell_type": "markdown",
   "metadata": {
    "id": "4REIdIpFEgUO"
   },
   "source": [
    "Per visualizzare geometricamente come funziona un albero, riprendiamo l'esempio di regressione univariata per la predizione dei consumi di elettricità sulla temperatura\n",
    "\n",
    "Carichiamo il dataset, suddividiamolo in training e validation e definiamo la funzione per tracciare il grafico del modello addestrato sui dati come nelle occasioni precedenti"
   ]
  },
  {
   "cell_type": "code",
   "execution_count": null,
   "metadata": {
    "id": "HBjzya9OMSBF"
   },
   "outputs": [],
   "source": [
    "download(\"power.csv\", \"https://git.io/vpaM1\")\n",
    "power = pd.read_csv(\"power.csv\", index_col=\"date\", parse_dates=[\"date\"])\n",
    "is_train = power.index.year < 2016\n",
    "power_X_train = power.loc[is_train, [\"temp\"]]\n",
    "power_y_train = power.loc[is_train, \"demand\"]\n",
    "power_X_val = power.loc[~is_train, [\"temp\"]]\n",
    "power_y_val = power.loc[~is_train, \"demand\"]\n",
    "\n",
    "def plot_model_on_data(X, y, model=None):\n",
    "    plt.figure(figsize=(10, 7))\n",
    "    plt.scatter(X, y)\n",
    "    if model is not None:\n",
    "        xlim, ylim = plt.xlim(), plt.ylim()\n",
    "        line_x = np.linspace(xlim[0], xlim[1], 100)\n",
    "        line_x_df = pd.DataFrame(line_x[:, None], columns=X.columns)\n",
    "        line_y = model.predict(line_x_df)\n",
    "        plt.plot(line_x, line_y, c=\"red\", lw=3)\n",
    "        plt.xlim(xlim); plt.ylim(ylim)\n",
    "    plt.grid()\n",
    "    plt.xlabel(\"Temperatura (°C)\"); plt.ylabel(\"Consumi (GW)\")"
   ]
  },
  {
   "cell_type": "markdown",
   "metadata": {
    "id": "fb84aHOYEgUP"
   },
   "source": [
    "Addestriamo un modello di regressione polinomiale di terzo grado, che abbiamo già visto dare buoni risultati\n",
    "\n",
    "Il modello consiste essenzialmente in una funzione "
   ]
  },
  {
   "cell_type": "code",
   "execution_count": null,
   "metadata": {
    "colab": {
     "base_uri": "https://localhost:8080/",
     "height": 515
    },
    "id": "gF6oWCuGEgUP",
    "outputId": "36450a33-5058-49f6-9bf0-53dc907474e1"
   },
   "outputs": [],
   "source": [
    "from sklearn.linear_model import LinearRegression\n",
    "model = Pipeline([\n",
    "    (\"poly\", PolynomialFeatures(degree=3, include_bias=False)),\n",
    "    (\"regr\", LinearRegression())\n",
    "])\n",
    "model.fit(power_X_train, power_y_train)\n",
    "plot_model_on_data(power_X_val, power_y_val, model)\n",
    "model.score(power_X_val, power_y_val)"
   ]
  },
  {
   "cell_type": "markdown",
   "metadata": {
    "id": "LWaJQToYEgUP"
   },
   "source": [
    "Vediamo ora per confronto cosa accade con un modello di regressione ad albero decisionale: tale tipo di modello è rappresentato da un oggetto `DecisionTreeRegressor`\n",
    "\n",
    "Gli iperparametri del modello consentono di regolare la complessità dell'albero risultante\n",
    "\n",
    "Ad esempio tramite il parametro `max_depth` possiamo controllare la profondità massima dell'albero: per ora la limitiamo a 2 per facilitare la lettura dell'albero stesso"
   ]
  },
  {
   "cell_type": "code",
   "execution_count": null,
   "metadata": {
    "id": "odEC30SdEgUP"
   },
   "outputs": [],
   "source": [
    "from sklearn.tree import DecisionTreeRegressor\n",
    "model = DecisionTreeRegressor(max_depth=2, random_state=42)"
   ]
  },
  {
   "cell_type": "markdown",
   "metadata": {
    "id": "7MNi1UPjEgUP"
   },
   "source": [
    "Addestriamo il modello sullo stesso dataset sopra"
   ]
  },
  {
   "cell_type": "code",
   "execution_count": null,
   "metadata": {
    "colab": {
     "base_uri": "https://localhost:8080/"
    },
    "id": "Jylj_0MmEgUQ",
    "outputId": "2ef3fc3c-3ca1-4c24-cf6b-201ef8c36697"
   },
   "outputs": [],
   "source": [
    "model.fit(power_X_train, power_y_train)"
   ]
  },
  {
   "cell_type": "markdown",
   "metadata": {
    "id": "NaTtgL9WEgUQ"
   },
   "source": [
    "È stato così costruito un albero decisionale in base ai dati del training set\n",
    "\n",
    "L'albero può essere ispezionato per verificare quali variabili sono ritenute significative\n",
    "\n",
    "Per ottenere una rappresentazione testuale dell'albero, viene fornita la funzione `export_text`"
   ]
  },
  {
   "cell_type": "code",
   "execution_count": null,
   "metadata": {
    "colab": {
     "base_uri": "https://localhost:8080/"
    },
    "id": "trUr8e1vEgUQ",
    "outputId": "8dba83b1-af82-42e5-b3f5-e4482f2b2a8f"
   },
   "outputs": [],
   "source": [
    "from sklearn.tree import export_text\n",
    "print(export_text(model))"
   ]
  },
  {
   "cell_type": "markdown",
   "metadata": {
    "id": "qOx9t76NEgUQ"
   },
   "source": [
    "La rappresentazione mostra intuitivamente come il modello valuti ciascun valore di temperatura (`feature_0`, l'unica presente)\n",
    "\n",
    "- Se la temperatura è inferiore o uguale a 25,3 °C...\n",
    "  - ...e inferiore o uguale a 4,15 °C, predici un consumo di 1,98 GW\n",
    "  - ...e superiore a 4,15 °C, predici un consumo di 1,66 GW\n",
    "- Se la temperatura è superiore a 25,3 °C...\n",
    "  - ...e inferiore o uguale a 29,15 °C, predici un consumo di 2,13 GW\n",
    "  - ...e superiore a 29,15 °C, predici un consumo di 2,48 GW"
   ]
  },
  {
   "cell_type": "markdown",
   "metadata": {
    "id": "VjDUMJsIEgUQ"
   },
   "source": [
    "In pratica sono stati delineati 4 intervalli di valori della temperatura e a ciascuno è stato assegnato un valore costante di consumi previsti\n",
    "\n",
    "Questo è evidente anche dal grafico del modello..."
   ]
  },
  {
   "cell_type": "code",
   "execution_count": null,
   "metadata": {
    "colab": {
     "base_uri": "https://localhost:8080/",
     "height": 497
    },
    "id": "nO16YClTEgUR",
    "outputId": "9eacd9c4-dc77-4f47-cdec-4093766580c9"
   },
   "outputs": [],
   "source": [
    "plot_model_on_data(power_X_val, power_y_val, model)"
   ]
  },
  {
   "cell_type": "markdown",
   "metadata": {
    "id": "06VmnT8xEgUR"
   },
   "source": [
    "Per visualizzare invece graficamente l'albero di un modello, viene fornita la funzione `plot_tree`"
   ]
  },
  {
   "cell_type": "code",
   "execution_count": null,
   "metadata": {
    "colab": {
     "base_uri": "https://localhost:8080/",
     "height": 357
    },
    "id": "6QaxoI25EgUR",
    "outputId": "37a344d2-37d5-4a26-c9ba-8c0bfa21676a"
   },
   "outputs": [],
   "source": [
    "from sklearn.tree import plot_tree\n",
    "plt.figure(figsize=(12, 6))\n",
    "plot_tree(model);"
   ]
  },
  {
   "cell_type": "markdown",
   "metadata": {
    "id": "VyWUOd5CEgUR"
   },
   "source": [
    "Ogni blocco rappresenta un nodo dell'albero\n",
    "\n",
    "- in cima alla figura viene mostrata la _radice_, il primo nodo valutato per effettuare una predizione\n",
    "- nella riga sotto si possono vedere i due nodi intermedi dell'albero\n",
    "- in fondo si possono vedere le quattro _foglie_, in cui viene deciso il valore predetto di y\n",
    "\n",
    "Il numero totale di foglie di un albero può essere ottenuto dal metodo `get_n_leaves`"
   ]
  },
  {
   "cell_type": "code",
   "execution_count": null,
   "metadata": {
    "colab": {
     "base_uri": "https://localhost:8080/"
    },
    "id": "VX2PDjYYEgUR",
    "outputId": "2c96f1f8-6777-4e21-f710-cd14242d8a82"
   },
   "outputs": [],
   "source": [
    "model.get_n_leaves()"
   ]
  },
  {
   "cell_type": "markdown",
   "metadata": {
    "id": "JRPP9-U1EgUS"
   },
   "source": [
    "Ad ogni nodo dell'albero sono mostrati in ordine\n",
    "\n",
    "- la condizione in base alla quale i dati sono suddivisi (assente nelle foglie): se soddisfatta viene seguito il ramo a sinistra del nodo, altrimenti viene seguito il ramo a destra\n",
    "- l'errore quadratico, usato per definire la \"qualità\" della suddivisione\n",
    "- il numero totale di istanze del training set considerate (`samples`)\n",
    "- il valore medio di _y_ per tali istanze, utilizzato come valore predetto nelle foglie (`value`)"
   ]
  },
  {
   "cell_type": "markdown",
   "metadata": {
    "id": "MPprh8QmEgUS"
   },
   "source": [
    "Per valutare l'accuratezza dell'albero decisionale in termini di coefficiente R² usiamo come al solito il metodo `score`\n",
    "\n",
    "Come si può dedurre anche dai grafici, questo albero poco profondo è meno accurato del modello polinomiale"
   ]
  },
  {
   "cell_type": "code",
   "execution_count": null,
   "metadata": {
    "colab": {
     "base_uri": "https://localhost:8080/"
    },
    "id": "nS_-5bU0EgUS",
    "outputId": "c89ec9b4-b081-434d-9843-1cfcd96967c4"
   },
   "outputs": [],
   "source": [
    "model.score(power_X_val, power_y_val)"
   ]
  },
  {
   "cell_type": "markdown",
   "metadata": {
    "id": "scf465TdEgUS"
   },
   "source": [
    "La situazione migliora aumentando la profondità massima dell'albero\n",
    "\n",
    "Ad es., passando da 2 a 3 il numero di foglie raddoppia e il modello è notevolmente più accurato"
   ]
  },
  {
   "cell_type": "code",
   "execution_count": null,
   "metadata": {
    "colab": {
     "base_uri": "https://localhost:8080/",
     "height": 515
    },
    "id": "WyLOmNghEgUS",
    "outputId": "f394d728-f157-439d-d438-5db7d6b9141d"
   },
   "outputs": [],
   "source": [
    "model = DecisionTreeRegressor(max_depth=3, random_state=42)\n",
    "model.fit(power_X_train, power_y_train);\n",
    "plot_model_on_data(power_X_val, power_y_val, model)\n",
    "model.score(power_X_val, power_y_val)"
   ]
  },
  {
   "cell_type": "markdown",
   "metadata": {
    "id": "H8h75yX4EgUT"
   },
   "source": [
    "Torniamo ora sul problema di predizione delle vendite sui dati Rossmann\n",
    "\n",
    "Addestriamo un albero con profondità massima 2"
   ]
  },
  {
   "cell_type": "code",
   "execution_count": null,
   "metadata": {
    "colab": {
     "base_uri": "https://localhost:8080/"
    },
    "id": "szZZfxpMEgUT",
    "outputId": "6034ab28-c72d-4103-980b-167609cc1c29"
   },
   "outputs": [],
   "source": [
    "model = DecisionTreeRegressor(max_depth=2, random_state=42)\n",
    "model.fit(X_train, y_train)"
   ]
  },
  {
   "cell_type": "markdown",
   "metadata": {
    "id": "yz0LNmETEgUU"
   },
   "source": [
    "Usiamo la funzione `export_text` per visualizzare l'albero in forma testuale; specificare i nomi delle variabili come `feature_names` per usarle come etichette nell'albero"
   ]
  },
  {
   "cell_type": "code",
   "execution_count": null,
   "metadata": {
    "colab": {
     "base_uri": "https://localhost:8080/"
    },
    "id": "TM01s7ESEgUU",
    "outputId": "10406bcd-3bba-4042-a7bb-bb7bfe23dcdf"
   },
   "outputs": [],
   "source": [
    "print(export_text(model, feature_names=X_names))"
   ]
  },
  {
   "cell_type": "markdown",
   "metadata": {
    "id": "zk_MgTOmEgUU"
   },
   "source": [
    "La rappresentazione mostra intuitivamente che:\n",
    "- Per prima cosa si verifica se è in corso la promozione \"primaria\" (`Promo`)\n",
    "  - se no, si verifica se il tipo di negozio (`StoreType`) è b\n",
    "    - se no, le vendite previste sono 5854,62 \\$\n",
    "    - se sì, le vendite previste sono 9539,31 \\$\n",
    "  - se sì, si verifica se è lunedì (la variabile `Date_dayofweek` standardizzata è inferiore a -1,17 solo se il suo valore originale è 0, corrispondente al lunedì)\n",
    "    - se sì, le vendite previste sono 9761,76 \\$\n",
    "    - se no, le vendite previste sono 7816,93 \\$"
   ]
  },
  {
   "cell_type": "markdown",
   "metadata": {
    "id": "sPOc06TfEgUU"
   },
   "source": [
    "Vediamo le stesse informazioni anche nella rappresentazione grafica (anche quì si può usare `feature_names`)"
   ]
  },
  {
   "cell_type": "code",
   "execution_count": null,
   "metadata": {
    "colab": {
     "base_uri": "https://localhost:8080/",
     "height": 357
    },
    "id": "4sw805gGEgUU",
    "outputId": "de142079-fd9e-470a-ed95-3587433a4652"
   },
   "outputs": [],
   "source": [
    "plt.figure(figsize=(12, 6))\n",
    "plot_tree(model, feature_names=X_names);"
   ]
  },
  {
   "cell_type": "markdown",
   "metadata": {
    "id": "3L_YRq4yEgUV"
   },
   "source": [
    "Con questo albero poco profondo, l'accuratezza della predizione è scarsa"
   ]
  },
  {
   "cell_type": "code",
   "execution_count": null,
   "metadata": {
    "colab": {
     "base_uri": "https://localhost:8080/"
    },
    "id": "SJxD3zHxEgUV",
    "outputId": "ea7450f3-7f0a-4ed8-c4c6-f6d201abbda1"
   },
   "outputs": [],
   "source": [
    "model.score(X_train, y_train)"
   ]
  },
  {
   "cell_type": "code",
   "execution_count": null,
   "metadata": {
    "colab": {
     "base_uri": "https://localhost:8080/"
    },
    "id": "AwO0CSJoEgUV",
    "outputId": "a02560ac-d27b-4671-86f0-2483a8731152"
   },
   "outputs": [],
   "source": [
    "model.score(X_val, y_val)"
   ]
  },
  {
   "cell_type": "markdown",
   "metadata": {
    "id": "PMZ1m3TmEgUV"
   },
   "source": [
    "Proviamo ora ad addestrare un nuovo modello aumentando la profondità massima dell'albero da 2 a 5"
   ]
  },
  {
   "cell_type": "code",
   "execution_count": null,
   "metadata": {
    "id": "TnPjUtXEEgUV"
   },
   "outputs": [],
   "source": [
    "model = DecisionTreeRegressor(max_depth=5, random_state=42)\n",
    "model.fit(X_train, y_train);"
   ]
  },
  {
   "cell_type": "markdown",
   "metadata": {
    "id": "Dkn4irtsEgUW"
   },
   "source": [
    "Stampando la rappresentazione testuale dell'albero, vediamo che è molto più complesso di quello sopra"
   ]
  },
  {
   "cell_type": "code",
   "execution_count": null,
   "metadata": {
    "colab": {
     "base_uri": "https://localhost:8080/"
    },
    "id": "6qi3PKJnEgUW",
    "outputId": "ce8015e2-6241-4f45-956f-696097156b61"
   },
   "outputs": [],
   "source": [
    "print(export_text(model, feature_names=X_names))"
   ]
  },
  {
   "cell_type": "markdown",
   "metadata": {
    "id": "wjEIg-69EgUW"
   },
   "source": [
    "Il numero totale di foglie ora è:"
   ]
  },
  {
   "cell_type": "code",
   "execution_count": null,
   "metadata": {
    "colab": {
     "base_uri": "https://localhost:8080/"
    },
    "id": "RLznthrHEgUW",
    "outputId": "d6f32527-d681-4f67-d3ae-2ccf49120e36"
   },
   "outputs": [],
   "source": [
    "model.get_n_leaves()"
   ]
  },
  {
   "cell_type": "markdown",
   "metadata": {
    "id": "NwitNy3zEgUW"
   },
   "source": [
    "Per rendere la stampa più compatta, possiamo indicare una `max_depth` in `export_text` per stampare i nodi solamente fino ad una profondità data\n",
    "\n",
    "Sono indicati i punti in cui la rappresentazione è stata tagliata, con la loro profondità"
   ]
  },
  {
   "cell_type": "code",
   "execution_count": null,
   "metadata": {
    "colab": {
     "base_uri": "https://localhost:8080/"
    },
    "id": "pd0e3WvfEgUW",
    "outputId": "3fb8755b-8272-418b-a99b-afe8c2bf391e"
   },
   "outputs": [],
   "source": [
    "print(export_text(model, feature_names=X_names, max_depth=2))"
   ]
  },
  {
   "cell_type": "markdown",
   "metadata": {
    "id": "cerJ5-0oEgUX"
   },
   "source": [
    "Il parametro `max_depth` può essere utilizzato anche in `plot_tree`: si consiglia di utilizzarlo sempre per evitare di generare figure \"pesanti\"\n",
    "\n",
    "_(usare `fontsize` per regolare le dimensioni dei caratteri)_"
   ]
  },
  {
   "cell_type": "code",
   "execution_count": null,
   "metadata": {
    "colab": {
     "base_uri": "https://localhost:8080/",
     "height": 357
    },
    "id": "ayruQgrqEgUX",
    "outputId": "3603d10e-64e8-40ce-e5b1-b6b6070f8904"
   },
   "outputs": [],
   "source": [
    "plt.figure(figsize=(22, 6))\n",
    "plot_tree(model, feature_names=X_names, max_depth=3, fontsize=8);"
   ]
  },
  {
   "cell_type": "markdown",
   "metadata": {
    "id": "NPRYU6oDEgUX"
   },
   "source": [
    "I riquadri grigi nella figura indicano le porzioni tagliate dell'albero\n",
    "\n",
    "Specificando `filled=True` in `plot_tree`, è possibile colorare i nodi in base alla \"purezza\", ovvero all'errore compiuto in essi: il colore è tanto più intenso quanto più è la purezza, ovvero quanto più la varianza della y è contenuta"
   ]
  },
  {
   "cell_type": "code",
   "execution_count": null,
   "metadata": {
    "colab": {
     "base_uri": "https://localhost:8080/",
     "height": 357
    },
    "id": "UDNeC5B5EgUX",
    "outputId": "683372ab-2338-4708-cc21-e827e29b2a3b"
   },
   "outputs": [],
   "source": [
    "plt.figure(figsize=(22, 6))\n",
    "plot_tree(model, feature_names=X_names, max_depth=3, filled=True, fontsize=8);"
   ]
  },
  {
   "cell_type": "markdown",
   "metadata": {
    "id": "TrqSjgMyEgUY"
   },
   "source": [
    "L'accuratezza del modello è aumentata"
   ]
  },
  {
   "cell_type": "code",
   "execution_count": null,
   "metadata": {
    "colab": {
     "base_uri": "https://localhost:8080/"
    },
    "id": "RXV6LVjfEgUY",
    "outputId": "e800b37d-d5e1-4d29-d84a-fcdfc515d649"
   },
   "outputs": [],
   "source": [
    "model.score(X_train, y_train)"
   ]
  },
  {
   "cell_type": "code",
   "execution_count": null,
   "metadata": {
    "colab": {
     "base_uri": "https://localhost:8080/"
    },
    "id": "bEXHz6Y9EgUY",
    "outputId": "4bd33a29-997e-49d1-c189-8f4c36ceef1e"
   },
   "outputs": [],
   "source": [
    "model.score(X_val, y_val)"
   ]
  },
  {
   "cell_type": "markdown",
   "metadata": {
    "id": "4J8wUUCuEgUY"
   },
   "source": [
    "Oltre alla profondità massima, è possibile impostare altri criteri per limitare la complessità di un albero\n",
    "\n",
    "Ad esempio con `min_samples_split` viene impostato il numero minimo di casi di training (`samples`) contenuti in un nodo intermedio: nodi con un numero inferiore di casi non possono essere ulteriormente suddivisi: è possibile impostare sia un numero intero assoluto che una frazione rispetto ai casi di training\n",
    "\n",
    "Costruiamo ad esempio un albero decisionale impostando che i nodi devono contenere almeno 70.000 casi di training per essere suddivisi"
   ]
  },
  {
   "cell_type": "code",
   "execution_count": null,
   "metadata": {
    "id": "OsZ9xIaSEgUY"
   },
   "outputs": [],
   "source": [
    "model = DecisionTreeRegressor(min_samples_split=70000, random_state=42)\n",
    "model.fit(X_train, y_train);"
   ]
  },
  {
   "cell_type": "markdown",
   "metadata": {
    "id": "3e7hi-e2EgUZ"
   },
   "source": [
    "Otteniamo un albero con un numero di foglie simile a quello con `max_depth=5`, ma più profondo"
   ]
  },
  {
   "cell_type": "code",
   "execution_count": null,
   "metadata": {
    "colab": {
     "base_uri": "https://localhost:8080/"
    },
    "id": "P2NlI4GGEgUZ",
    "outputId": "a140bbb3-7fae-445d-943f-3971e7fa8b82"
   },
   "outputs": [],
   "source": [
    "model.get_depth()"
   ]
  },
  {
   "cell_type": "code",
   "execution_count": null,
   "metadata": {
    "colab": {
     "base_uri": "https://localhost:8080/"
    },
    "id": "pA-argL2EgUZ",
    "outputId": "8e5daa7b-6ec1-43f8-d3c7-0d14ea840f80"
   },
   "outputs": [],
   "source": [
    "model.get_n_leaves()"
   ]
  },
  {
   "cell_type": "markdown",
   "metadata": {
    "id": "QmKUUlI4EgUZ"
   },
   "source": [
    "Questo perché col criterio `min_samples_split` otteniamo suddivisioni più profonde nei rami in cui ricadono molte istanze di training\n",
    "\n",
    "Questo si può osservare anche dalle rappresentazioni testuale e grafica dell'albero"
   ]
  },
  {
   "cell_type": "code",
   "execution_count": null,
   "metadata": {
    "colab": {
     "base_uri": "https://localhost:8080/"
    },
    "id": "gd-t5-KKEgUZ",
    "outputId": "1f0218a4-57aa-4014-d6c3-706c661610cc"
   },
   "outputs": [],
   "source": [
    "print(export_text(model, feature_names=X_names, max_depth=2))"
   ]
  },
  {
   "cell_type": "code",
   "execution_count": null,
   "metadata": {
    "colab": {
     "base_uri": "https://localhost:8080/",
     "height": 357
    },
    "id": "JztKsKPUEgUa",
    "outputId": "519b00ee-ffb6-4c38-c3ee-7e8ead3a13cc"
   },
   "outputs": [],
   "source": [
    "plt.figure(figsize=(18, 6))\n",
    "plot_tree(model, feature_names=X_names, max_depth=3, filled=True);"
   ]
  },
  {
   "cell_type": "markdown",
   "metadata": {
    "id": "4kwnFLC5EgUa"
   },
   "source": [
    "Si noti che anche se la profondità massima dell'albero è 12, si trovano delle foglie già ai livelli superiori"
   ]
  },
  {
   "cell_type": "code",
   "execution_count": null,
   "metadata": {
    "colab": {
     "base_uri": "https://localhost:8080/"
    },
    "id": "LE2K9EySEgUa",
    "outputId": "7bdc682b-2d0f-4adb-e6cd-edeca9827279"
   },
   "outputs": [],
   "source": [
    "model.score(X_train, y_train)"
   ]
  },
  {
   "cell_type": "code",
   "execution_count": null,
   "metadata": {
    "colab": {
     "base_uri": "https://localhost:8080/"
    },
    "id": "Gp_nRclCEgUa",
    "outputId": "f7d1199d-007d-43eb-d925-03725bb9efc2"
   },
   "outputs": [],
   "source": [
    "model.score(X_val, y_val)"
   ]
  },
  {
   "cell_type": "markdown",
   "metadata": {
    "id": "tR50Y2b4MSBj"
   },
   "source": [
    "Come ulteriore misura di performance oltre a R² introduciamo il _Root Mean Squared Percentage Error_ (RMSPE), usato nella competizione Kaggle viene usata come misura di riferimento\n",
    "\n",
    "$$ \\textrm{RMSPE} = \\sqrt{\\frac{1}{n} \\sum_{i=1}^{n} \\left(\\frac{y_i - \\hat{y}_i}{y_i}\\right)^2} $$\n",
    "\n",
    "Definiamo una funzione `rmspe` per calcolare tale metrica dati i valori attesi e le predizioni"
   ]
  },
  {
   "cell_type": "code",
   "execution_count": null,
   "metadata": {
    "id": "8m7ix2pqMSBk"
   },
   "outputs": [],
   "source": [
    "def rmspe(y_real, y_pred):\n",
    "    return np.sqrt(np.mean((y_pred /y_real - 1) ** 2))"
   ]
  },
  {
   "cell_type": "markdown",
   "metadata": {},
   "source": [
    "Creiamo una funzione `print_eval` per stampare MSE, R² e RMSPE di un modello"
   ]
  },
  {
   "cell_type": "code",
   "execution_count": null,
   "metadata": {},
   "outputs": [],
   "source": [
    "from sklearn.metrics import mean_squared_error, r2_score\n",
    "\n",
    "def print_eval(X, y, model):\n",
    "    y_pred = model.predict(X)\n",
    "    print(f\"      MSE: {mean_squared_error(y, y_pred):12.4f}\")\n",
    "    print(f\"R-squared: {r2_score(y, y_pred):12.4f}\")\n",
    "    print(f\"    RMSPE: {rmspe(y, y_pred):12.4f}\")"
   ]
  },
  {
   "cell_type": "code",
   "execution_count": null,
   "metadata": {},
   "outputs": [],
   "source": [
    "print_eval(X_val, y_val, model)"
   ]
  },
  {
   "cell_type": "markdown",
   "metadata": {},
   "source": [
    "### Esercizio 6: Grid search su alberi di regressione\n",
    "\n",
    "- **(6a)** Lavorando sempre sul dataset già preprocessato `X_train`, eseguire una grid search con cross validation come sopra (`kf`) testando\n",
    "  - tutti i valori da 4 a 8 come profondità massima dell'albero\n",
    "  - 5%, 10%, 15% del training set come numero di istanze minimo per suddividere i nodi\n",
    "- **(6b)** Mostrare i risultati della grid search in forma di una tabella pivot dove ogni riga corrisponde alla profondità massima, ogni colonna alla percentuale di istanze minima e ogni cella al punteeggio R² ottenuto con la configurazione corrispondente a riga e colonna"
   ]
  },
  {
   "cell_type": "markdown",
   "metadata": {
    "id": "__ODijdO54iX",
    "tags": []
   },
   "source": [
    "## Random Forest\n",
    "\n",
    "Random Forest è un algoritmo di tipo _bagging_: vengono creati numerosi alberi decisionali in parallelo, ognuno da un sottoinsieme del dataset di training in generale non disgiunto dagli altri\n",
    "\n",
    "Il bagging è uno tra i metodi di ensemble più efficaci perché ogni albero di regressione è generato da un subset leggermente diverso con prestazioni diverse\n",
    "\n",
    "A differenza dei modelli base di albero di regressione (e.g. CART), gli alberi di Random Forest non vengono potati, il che può renderli meno generali e più specifici per il relativo subset di dati di training\n",
    "\n",
    "Tuttavia, in questo caso, ciò è positivo perché rende ogni albero diverso con previsioni ed errori di previsione meno correlati\n",
    "\n",
    "Ogni previsione di Random Forest è data dalla media delle previsioni di tutti gli alberi decisionali e l'efficacia è migliore di qualsiasi singolo albero della propria foresta\n",
    "\n",
    "Random Forest è tra gli algoritmi più efficaci ed efficienti per dati tabulari"
   ]
  },
  {
   "cell_type": "code",
   "execution_count": null,
   "metadata": {
    "id": "ovonkJQ06CQD"
   },
   "outputs": [],
   "source": [
    "from sklearn.ensemble import RandomForestRegressor"
   ]
  },
  {
   "cell_type": "markdown",
   "metadata": {
    "id": "jXS4Y0oj_FIy"
   },
   "source": [
    "L'iperparametro `max_samples` è il numero (se intero) o la percentuale (se reale tra 0 e 1) di istanze del training set usate per addestrare ogni singolo albero\n",
    "\n",
    "Più la dimensione di `max_samples` è piccola, più gli alberi saranno diversi (il valore predefinito è 1 perciò occorre ridurlo)\n",
    "\n",
    "Altri iperparametri importanti sono\n",
    "\n",
    "- il numero di feature casuali che deve avere ogni albero come sottoinsieme casuale di tutte le feature del training set `max_features`, usiamo \"sqrt\" per indicare la radice quadrata del numero totale di feature\n",
    "- la profondità massima di ogni albero `max_depth`\n",
    "- il numero di alberi `n_estimators`\n",
    "\n",
    "L'iperparametro `n_jobs=-1` (presente anche in altri algoritmi) indica di utilizzare tutte le CPU della macchina in parallelo"
   ]
  },
  {
   "cell_type": "code",
   "execution_count": null,
   "metadata": {
    "colab": {
     "base_uri": "https://localhost:8080/"
    },
    "id": "12ZGP4SQ9x8Y",
    "outputId": "1872081f-5237-4f77-95f5-11a4aa714fe9"
   },
   "outputs": [],
   "source": [
    "%%time\n",
    "rfm = RandomForestRegressor(max_samples=0.2, max_features=\"sqrt\", n_estimators=200, max_depth=None, n_jobs=-1)\n",
    "rfm.fit(X_train, y_train)"
   ]
  },
  {
   "cell_type": "code",
   "execution_count": null,
   "metadata": {
    "colab": {
     "base_uri": "https://localhost:8080/"
    },
    "id": "Dnyvsrxm-P6n",
    "outputId": "dc1a726e-ffd3-4557-b5e0-9e87e91d948a"
   },
   "outputs": [],
   "source": [
    "print_eval(X_val, y_val, rfm)"
   ]
  },
  {
   "cell_type": "markdown",
   "metadata": {},
   "source": [
    "L'accuratezza è molto migliore rispetto all'albero singolo"
   ]
  },
  {
   "cell_type": "markdown",
   "metadata": {
    "id": "ux2ZWQlkHGC5"
   },
   "source": [
    "### Selezione di feature con Random Forest\n",
    "\n",
    "Dai modelli ad albero è possibile ottenere l'importanza delle feature, calcolata in base a quante volte ciascuna feature è usata come discriminante\n",
    "\n",
    "I coefficienti di importanza sono ottenibili dall'attributo `feature_importances_`"
   ]
  },
  {
   "cell_type": "code",
   "execution_count": null,
   "metadata": {},
   "outputs": [],
   "source": [
    "rfm.feature_importances_"
   ]
  },
  {
   "cell_type": "markdown",
   "metadata": {},
   "source": [
    "Come per i coefficienti dei modelli di regressione lineare, possiamo usare una serie per associare i valori ai nomi e vedere quali sono le feature più importanti"
   ]
  },
  {
   "cell_type": "code",
   "execution_count": null,
   "metadata": {},
   "outputs": [],
   "source": [
    "pd.Series(rfm.feature_importances_, index=X_names).sort_values(ascending=False)"
   ]
  },
  {
   "cell_type": "markdown",
   "metadata": {
    "id": "T1gL0cyRpXFO"
   },
   "source": [
    "## LightGBM\n",
    "\n",
    "LightGBM, abbreviazione di Light Gradient Boosted Machine, è una libreria sviluppata da Microsoft che fornisce un'implementazione efficiente dell'algoritmo di gradient boosting spiegato [a lezione](https://www.dropbox.com/s/4o8dg87274x0yae/08_bis_Aula_Introduzione_regression_decision_tree_e_xgboost.pdf?dl=0)\n",
    "\n",
    "Il vantaggio principale di LightGBM sono alcune variazioni all'algoritmo di addestramento che rendono il processo molto più veloce e spesso ottenendo modelli più efficaci\n",
    "\n",
    "Per ulteriori dettagli tecnici sull'algoritmo LightGBM è disponibile il sito https://github.com/microsoft/LightGBM ed il paper https://arxiv.org/abs/1810.11363"
   ]
  },
  {
   "cell_type": "code",
   "execution_count": null,
   "metadata": {},
   "outputs": [],
   "source": [
    "# per installare:\n",
    "#%pip install lightgbm"
   ]
  },
  {
   "cell_type": "code",
   "execution_count": null,
   "metadata": {
    "colab": {
     "base_uri": "https://localhost:8080/"
    },
    "id": "xVtUQzkOpU4q",
    "outputId": "e2227592-bc72-48b4-ea4f-4767a525de97"
   },
   "outputs": [],
   "source": [
    "from lightgbm import LGBMRegressor"
   ]
  },
  {
   "cell_type": "code",
   "execution_count": null,
   "metadata": {
    "colab": {
     "base_uri": "https://localhost:8080/"
    },
    "id": "NwhBDVMypkD0",
    "outputId": "9946a183-5928-4979-adf1-48b9b8a01ed1"
   },
   "outputs": [],
   "source": [
    "%%time\n",
    "lgbm = LGBMRegressor()\n",
    "lgbm.fit(X_train, y_train)"
   ]
  },
  {
   "cell_type": "markdown",
   "metadata": {},
   "source": [
    "L'addestramento è relativamente rapido ma il modello è meno efficace di Random Forest"
   ]
  },
  {
   "cell_type": "code",
   "execution_count": null,
   "metadata": {
    "colab": {
     "base_uri": "https://localhost:8080/"
    },
    "id": "5g549c2Tq-H2",
    "outputId": "9b83e857-e6cf-4eb2-f9e2-158791a6e875"
   },
   "outputs": [],
   "source": [
    "print_eval(X_val, y_val, lgbm)"
   ]
  },
  {
   "cell_type": "markdown",
   "metadata": {},
   "source": [
    "## XGBoost\n",
    "\n",
    "La libreria `xgboost` fornisce un'implementazione dell'omonimo algoritmo (_eXtreme Gradient Boosting_)"
   ]
  },
  {
   "cell_type": "code",
   "execution_count": null,
   "metadata": {
    "colab": {
     "base_uri": "https://localhost:8080/"
    },
    "id": "rzUj11Dqatx_",
    "outputId": "1185a316-e838-44c6-d720-252c519345ee"
   },
   "outputs": [],
   "source": [
    "#%pip install xgboost"
   ]
  },
  {
   "cell_type": "code",
   "execution_count": null,
   "metadata": {
    "colab": {
     "base_uri": "https://localhost:8080/"
    },
    "id": "5u0z1ObeQIpi",
    "outputId": "a9c78b17-5d1f-4258-b652-09c419890386"
   },
   "outputs": [],
   "source": [
    "import xgboost\n",
    "print(xgboost.__version__)"
   ]
  },
  {
   "cell_type": "code",
   "execution_count": null,
   "metadata": {},
   "outputs": [],
   "source": [
    "from xgboost import XGBRegressor"
   ]
  },
  {
   "cell_type": "code",
   "execution_count": null,
   "metadata": {
    "colab": {
     "base_uri": "https://localhost:8080/"
    },
    "id": "_FP7NRRXb2Ih",
    "outputId": "43c0066a-361e-46eb-e666-5e01d6a5a6cf"
   },
   "outputs": [],
   "source": [
    "%%time\n",
    "xgbm = XGBRegressor(objective='reg:squarederror', reg_alpha=0.0, reg_lambda=1.0, n_estimators=200, verbose_eval=True)\n",
    "xgbm.fit(X_train, y_train)"
   ]
  },
  {
   "cell_type": "code",
   "execution_count": null,
   "metadata": {},
   "outputs": [],
   "source": [
    "print_eval(X_val, y_val, xgbm)"
   ]
  },
  {
   "cell_type": "markdown",
   "metadata": {
    "id": "8GANhtc6MSBk"
   },
   "source": [
    "Il modello di regressione lineare ottiene un RMSPE pari a 0.4672, mentre xgboost senza tuning degli iperparametri 0.2235. Il miglior risultato nella competion kaggle è 0.13. XGBoost con 200 alberi ottiene 0.18 e con 400 alberi 0.1671."
   ]
  },
  {
   "cell_type": "code",
   "execution_count": null,
   "metadata": {},
   "outputs": [],
   "source": [
    "pd.Series(xgbm.feature_importances_, index=X_names).sort_values(ascending=False)"
   ]
  },
  {
   "cell_type": "markdown",
   "metadata": {
    "id": "blN4BY2zwwSi"
   },
   "source": [
    "## CatBoost: Category Gradient Boosting\n",
    "\n",
    "Supporta nativamente variabili categoriche ossia nominal. (https://catboost.ai/)"
   ]
  },
  {
   "cell_type": "code",
   "execution_count": null,
   "metadata": {
    "colab": {
     "base_uri": "https://localhost:8080/"
    },
    "id": "dPQcJgESrCwP",
    "outputId": "71d89437-f700-4995-fd46-3244533a255f"
   },
   "outputs": [],
   "source": [
    "# installazioone\n",
    "#%pip install catboost"
   ]
  },
  {
   "cell_type": "code",
   "execution_count": null,
   "metadata": {
    "colab": {
     "base_uri": "https://localhost:8080/"
    },
    "id": "dPQcJgESrCwP",
    "outputId": "71d89437-f700-4995-fd46-3244533a255f"
   },
   "outputs": [
    {
     "name": "stdout",
     "output_type": "stream",
     "text": [
      "1.2.5\n"
     ]
    }
   ],
   "source": [
    "import catboost\n",
    "print(catboost.__version__)\n",
    "from catboost import CatBoostRegressor"
   ]
  },
  {
   "cell_type": "code",
   "execution_count": null,
   "metadata": {
    "colab": {
     "base_uri": "https://localhost:8080/"
    },
    "id": "sCOmekZIsXeu",
    "outputId": "6c05efc4-0544-4b41-caf9-f9aceefeb1cf",
    "tags": []
   },
   "outputs": [
    {
     "ename": "NameError",
     "evalue": "name 'X_train' is not defined",
     "output_type": "error",
     "traceback": [
      "\u001b[1;31m---------------------------------------------------------------------------\u001b[0m",
      "\u001b[1;31mNameError\u001b[0m                                 Traceback (most recent call last)",
      "File \u001b[1;32m<timed eval>:1\u001b[0m\n",
      "\u001b[1;31mNameError\u001b[0m: name 'X_train' is not defined"
     ]
    }
   ],
   "source": [
    "# istanziazione e addestramento: con 1000 estimatori richiede due minuti\n",
    "catbm = CatBoostRegressor(n_estimators=1000)\n",
    "%time catbm.fit(X_train, y_train)"
   ]
  },
  {
   "cell_type": "code",
   "execution_count": null,
   "metadata": {
    "colab": {
     "base_uri": "https://localhost:8080/"
    },
    "id": "wIGWmlGysXev",
    "outputId": "f0c6d10e-9979-4243-850b-f44a1259f0ee"
   },
   "outputs": [],
   "source": [
    "# valutazione di CatBoost: su questo caso di studio e senza tuning degli iperparametri è competitivo con XGBoost anche se quest'ultimo risulta comunque il migliore  \n",
    "print_eval(X_val, y_val, catbm)"
   ]
  }
 ],
 "metadata": {
  "kernelspec": {
   "display_name": "Python 3",
   "language": "python",
   "name": "python3"
  },
  "language_info": {
   "codemirror_mode": {
    "name": "ipython",
    "version": 3
   },
   "file_extension": ".py",
   "mimetype": "text/x-python",
   "name": "python",
   "nbconvert_exporter": "python",
   "pygments_lexer": "ipython3",
   "version": "3.11.3"
  }
 },
 "nbformat": 4,
 "nbformat_minor": 4
}

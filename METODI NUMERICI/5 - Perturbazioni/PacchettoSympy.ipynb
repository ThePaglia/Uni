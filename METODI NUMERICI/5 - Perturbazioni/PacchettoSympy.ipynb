{
 "cells": [
  {
   "cell_type": "markdown",
   "id": "f3de9735-c6fa-4098-9e45-738a66da2009",
   "metadata": {},
   "source": [
    "## Pacchetto Sympy per il calcolo simbolico\n"
   ]
  },
  {
   "cell_type": "markdown",
   "id": "b940360c-0e7b-4181-9ec4-c5d1484c7c5e",
   "metadata": {},
   "source": [
    "Utilizzo del pacchetto sympy di Python che permette di fare calcolo simbolico."
   ]
  },
  {
   "cell_type": "code",
   "execution_count": 3,
   "id": "2870bf50-56b0-4ff0-ba9a-d0991cc08c5e",
   "metadata": {
    "tags": []
   },
   "outputs": [],
   "source": [
    "import sympy as sym\n",
    "import numpy as np\n",
    "import matplotlib.pyplot as plt"
   ]
  },
  {
   "cell_type": "markdown",
   "id": "9456a440-a247-4829-8fe9-3908702c063d",
   "metadata": {},
   "source": [
    "Una variabile simbolica si definisce nel seguente modo:"
   ]
  },
  {
   "cell_type": "code",
   "execution_count": 4,
   "id": "67ef262a-4474-4382-b99b-502dfb775635",
   "metadata": {
    "tags": []
   },
   "outputs": [],
   "source": [
    "x=sym.symbols('x')"
   ]
  },
  {
   "cell_type": "markdown",
   "id": "2014f1cb-a14c-42d3-9d36-58eeeb747d2e",
   "metadata": {},
   "source": [
    "Una espressione definita mediante **variabili simboliche** e **funzioni matematiche** che lavorano su simboli è simbolica\n",
    "(sym.abs, sym.log, sym.cos, etc)"
   ]
  },
  {
   "cell_type": "code",
   "execution_count": 5,
   "id": "11018670-fa94-4c7e-9f5a-0a2a2b24f05a",
   "metadata": {
    "tags": []
   },
   "outputs": [],
   "source": [
    "f=x**2+sym.sqrt(x+2)"
   ]
  },
  {
   "cell_type": "markdown",
   "id": "503db428-e7a9-4460-aec5-348680ddc63b",
   "metadata": {},
   "source": [
    "E' possibile calcolare la derivata simbolica di una espressione simbolica mediante la funzione diff del modulo sympy"
   ]
  },
  {
   "cell_type": "code",
   "execution_count": 6,
   "id": "2870c582-cb9c-4152-ae1a-e1fcc44b8bb5",
   "metadata": {
    "tags": []
   },
   "outputs": [],
   "source": [
    "df=sym.diff(f,x,1)"
   ]
  },
  {
   "cell_type": "code",
   "execution_count": 7,
   "id": "f156afb6-65ea-4f9a-a17e-a3ed48ab3581",
   "metadata": {
    "tags": []
   },
   "outputs": [
    {
     "name": "stdout",
     "output_type": "stream",
     "text": [
      "2*x + 1/(2*sqrt(x + 2))\n"
     ]
    }
   ],
   "source": [
    "print(df)"
   ]
  },
  {
   "cell_type": "markdown",
   "id": "ca81f038-8e34-435d-9193-5ea6a7a6c557",
   "metadata": {},
   "source": [
    "Per poi utilizzare un'espressione simbolica nei calcoli numerici è necessario trasformarla in una lambda function, importando la funzione lambdify dal pacchetto sympy.utilities.lambdify"
   ]
  },
  {
   "cell_type": "code",
   "execution_count": 8,
   "id": "6176bc51-445a-4862-9219-d331fc5f211e",
   "metadata": {
    "tags": []
   },
   "outputs": [],
   "source": [
    "from sympy.utilities.lambdify import lambdify"
   ]
  },
  {
   "cell_type": "code",
   "execution_count": 9,
   "id": "a6ee1f55-6a00-4d94-a353-20ff0ebfc6cb",
   "metadata": {
    "tags": []
   },
   "outputs": [],
   "source": [
    "df_numerica=lambdify(x,df,np)  #l'ultimo argomento np (nickaname di numpy) serve per specificare che la lambda function \n",
    "#può prendere come argomento un numpy array ed eseguire l'operazione su tutte le sue componenti.\n",
    "f_numerica=lambdify(x,f,np)"
   ]
  },
  {
   "cell_type": "code",
   "execution_count": 10,
   "id": "15321a99-a5cd-41dd-88a5-3c5713a4429b",
   "metadata": {
    "tags": []
   },
   "outputs": [
    {
     "data": {
      "image/png": "[encoded data removed]",
      "text/plain": [
       "<Figure size 432x288 with 1 Axes>"
      ]
     },
     "metadata": {
      "needs_background": "light"
     },
     "output_type": "display_data"
    }
   ],
   "source": [
    "t=np.linspace(0,2,200)\n",
    "plt.plot(t,df_numerica(t),'r-',t,f_numerica(t),'g:')\n",
    "plt.show()"
   ]
  },
  {
   "cell_type": "markdown",
   "id": "3db4e498-1059-4f9f-81d2-2346b3f9d8a6",
   "metadata": {},
   "source": [
    "Nel pacchetto linalg di numpy sono messi a disposizione alcune funzioni importanti per il calcolo numerico, a noi oggi interessa in particolare il calcolo della noma di un vettore o di una matrice"
   ]
  },
  {
   "cell_type": "code",
   "execution_count": 11,
   "id": "29c6d858-ba50-4a1e-aa1f-bf8f1fc35c8f",
   "metadata": {
    "tags": []
   },
   "outputs": [],
   "source": [
    "import numpy.linalg as npl"
   ]
  },
  {
   "cell_type": "markdown",
   "id": "94db9696-1c29-4612-b201-2228fc2f4e62",
   "metadata": {},
   "source": [
    "La funzione per calcolare la norma di un vettore o di una matrice  è\n",
    "npl.norm(x,np.inf)\n",
    "npl.norm(x,1)\n",
    "npl.norm(x,2)"
   ]
  },
  {
   "cell_type": "markdown",
   "id": "893110b5-34bd-4c6f-96e9-3703ae3bb29f",
   "metadata": {},
   "source": [
    "Per risolvere un sistema lineare useremo il pacchetto scipy.linalg e la funzione solve ad esso appartenente:"
   ]
  },
  {
   "cell_type": "code",
   "execution_count": 26,
   "id": "7929646f-bda3-4a2f-ab98-47841b23aa01",
   "metadata": {
    "tags": []
   },
   "outputs": [],
   "source": [
    "import scipy.linalg as spl"
   ]
  },
  {
   "cell_type": "markdown",
   "id": "94d65b86-2620-4809-9e50-b7bec97fbefe",
   "metadata": {},
   "source": [
    "Dato il sistema lineare Ax=b, per calcolare la sua soluzione usiamo la seguente istruzione:\n",
    "\n",
    "x=spl.solve(A,b)"
   ]
  },
  {
   "cell_type": "markdown",
   "id": "1b4bf5cf-20a7-42e9-9b33-da0c5dbfeeed",
   "metadata": {},
   "source": [
    "## Esercizio 1 \n",
    "Si consideri l'equazione quadratica $x^2 + 2px - q = 0 $ con $p=10^5$ e $q=10^{-i}$, i=1,..,10.\n",
    "Si stabilisca se il problema relativo al calcolo della soluzione $x= -p+\\sqrt{p^2+q}$ risulta essere ben\n",
    "condizionato per tutti i valori di q assegnati;"
   ]
  },
  {
   "cell_type": "code",
   "execution_count": null,
   "id": "54918407-1bbd-4480-9add-37035a10bb1a",
   "metadata": {},
   "outputs": [],
   "source": []
  },
  {
   "cell_type": "code",
   "execution_count": null,
   "id": "8f9123de-5e2a-4ed6-a6ec-9836201a7831",
   "metadata": {},
   "outputs": [],
   "source": []
  },
  {
   "cell_type": "markdown",
   "id": "ed972c40-a916-40e6-b269-3d3f1d3c8b91",
   "metadata": {},
   "source": [
    "## Esercizio 2\n",
    "Assegnato il sistema lineare $Ax = b$, con\n",
    "$$\n",
    "A =\n",
    "\\left [\n",
    "\\begin{array}{ccc}\n",
    "6 & 63 & 662.2\\\\\n",
    "63 & 662.2 & 6967.8\\\\\n",
    "662.2 & 6967.8 & 73393.5664\n",
    "\\end{array}\n",
    "\\right ], \\qquad\n",
    "b =\n",
    "\\left [\n",
    "\\begin{array}{c}\n",
    "1.1\\\\\n",
    "2.33\\\\\n",
    "1.7\n",
    "\\end{array}\n",
    "\\right ]\n",
    "$$\n",
    "- trovare il vettore soluzione $x$ (usando il metodo solve del modulo linalg di Scipy);\n",
    "- perturbare la matrice dei coefficienti della quantità\n",
    "$$\n",
    "\\delta A =\n",
    "0.01 \\, \\ast \\,\n",
    "\\left [ \\begin{array}{ccc}\n",
    "1 & 0 & 0\\\\\n",
    "0 & 0 & 0\\\\\n",
    "0 & 0 & 0\n",
    "\\end{array}\n",
    "\\right ]\n",
    "$$\n",
    "quindi calcolare l'errore relativo sulla soluzione e confrontarlo con la\n",
    "perturbazione relativa sui dati di ingresso. Cosa si osserva?\n",
    " \n",
    "\n",
    "\n",
    " "
   ]
  },
  {
   "cell_type": "markdown",
   "id": "6a52300d-d29a-4978-8976-7958c9ce186e",
   "metadata": {},
   "source": [
    "## Esercizio 3\n",
    "Assegnato il sistema lineare $Ax = b$, con $A$ matrice di Hilbert di ordine\n",
    "$4$ e $b = [1, 1, 1, 1]^T$,\n",
    " - trovare il vettore soluzione $x$ ((usando il metodo solve del modulo linalg di Scipy););\n",
    " -  perturbare il vettore dei termini noti della quantità\n",
    "$$\n",
    "\\delta b = 0.01 \\, \\ast \\,\n",
    "\\left [\n",
    "\\begin{array}{c}\n",
    "1\\\\\n",
    "-1\\\\\n",
    "1\\\\\n",
    "-1\n",
    "\\end{array}\n",
    "\\right ]\n",
    "$$\n",
    "quindi calcolare l'errore relativo sulla soluzione e confrontarlo con la\n",
    "perturbazione relativa sui dati di ingresso. Cosa si osserva?"
   ]
  },
  {
   "cell_type": "code",
   "execution_count": null,
   "id": "b6fb9702-82f5-4bf0-be7a-438c087d40b8",
   "metadata": {},
   "outputs": [],
   "source": []
  }
 ],
 "metadata": {
  "kernelspec": {
   "display_name": "Python 3 (ipykernel)",
   "language": "python",
   "name": "python3"
  },
  "language_info": {
   "codemirror_mode": {
    "name": "ipython",
    "version": 3
   },
   "file_extension": ".py",
   "mimetype": "text/x-python",
   "name": "python",
   "nbconvert_exporter": "python",
   "pygments_lexer": "ipython3",
   "version": "3.9.7"
  }
 },
 "nbformat": 4,
 "nbformat_minor": 5
}

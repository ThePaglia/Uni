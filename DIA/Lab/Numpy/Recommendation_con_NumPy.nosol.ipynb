{
 "cells": [
  {
   "cell_type": "markdown",
   "metadata": {
    "slideshow": {
     "slide_type": "slide"
    }
   },
   "source": [
    "# Laboratorio: Recommendation con Algebra Lineare e NumPy\n",
    "\n",
    "**Programmazione di Applicazioni Data Intensive**  \n",
    "Laurea in Ingegneria e Scienze Informatiche  \n",
    "DISI - Università di Bologna, Cesena\n",
    "\n",
    "Proff. Gianluca Moro, Roberto Pasolini  \n",
    "nome.cognome@unibo.it"
   ]
  },
  {
   "attachments": {},
   "cell_type": "markdown",
   "metadata": {
    "slideshow": {
     "slide_type": "slide"
    }
   },
   "source": [
    "## Introduzione a Jupyter/Colab\n",
    "\n",
    "Questo è un file notebook Jupyter (`.ipynb`), composto da una sequenza di:\n",
    "\n",
    "- celle contenenti testo formattato, come questa\n",
    "- celle contenenti codice Python eseguibile\n",
    "\n",
    "Questo è un esempio di cella di codice:"
   ]
  },
  {
   "cell_type": "code",
   "execution_count": 623,
   "metadata": {},
   "outputs": [
    {
     "data": {
      "text/plain": [
       "42"
      ]
     },
     "execution_count": 623,
     "metadata": {},
     "output_type": "execute_result"
    }
   ],
   "source": [
    "20 + 20 + 2"
   ]
  },
  {
   "cell_type": "markdown",
   "metadata": {},
   "source": [
    "Le celle di codice possono essere eseguite una alla volta: eseguendo una cella viene riportato sotto la stessa il risultato dell'espressione inserita e/o qualsiasi output ottenuto da `print` o simili.\n",
    "\n",
    "Cliccare sulla cella e premere **Maiusc + Invio** per eseguirla: il risultato dell'espressione comparirà sotto.\n",
    "\n",
    "Tutte le celle di codice all'interno di un notebook possono essere modificate e rieseguite liberamente.\n",
    "\n",
    "_**Importante!** Al contrario di quanto accade nei fogli di calcolo, in Jupyter modificando e rieseguendo una cella **NON** vengono automaticamente aggiornati i risultati delle altre! Ad esempio, se nella prima cella di un notebook si cambia il valore di una variabile da cui dipendono le celle sotto, queste dovranno essere rieseguite esplicitamente per aggiornarne i risultati. Per questo i menu in alto contengono comandi per eseguire in sequenza tutte le celle sopra o sotto quella selezionata._\n",
    "\n",
    "Si può aggiungere una nuova cella di codice sotto a quella corrente\n",
    "  - cliccando sul pulsante \"+ Code\" che appare tra le celle in Colab\n",
    "  - cliccando sul pulsante \"+\" in alto in Jupyter"
   ]
  },
  {
   "cell_type": "markdown",
   "metadata": {
    "slideshow": {
     "slide_type": "slide"
    }
   },
   "source": [
    "### Comandi principali da tastiera\n",
    "\n",
    "- **Ctrl + Invio**: esegui cella corrente\n",
    "- **Maiusc + Invio**: esegui cella corrente e seleziona la successiva\n",
    "- **Esc**: termina modifica (senza eseguire)\n",
    "\n",
    "I comandi sotto funzionano sulla cella selezionata solo se non se ne sta modificando il contenuto:\n",
    "- **Invio**: modifica contenuto\n",
    "- **A/B**: crea nuova cella sopra/sotto\n",
    "- **Ctrl+M** seguito da **D**: elimina cella (due volte D in Jupyter)"
   ]
  },
  {
   "cell_type": "markdown",
   "metadata": {
    "slideshow": {
     "slide_type": "slide"
    },
    "tags": []
   },
   "source": [
    "### Autocompletamento e inline help\n",
    "\n",
    "Nelle celle di codice sono forniti suggerimenti sul completamento di un nome di variabile, funzione, ecc.\n",
    "- si provi ad es. a creare una cella di codice (tasto B), e digitare \"so\"\n",
    "- attivare l'autocompletamento con Ctrl+Invio su Colab o con Tab su Jupyter\n",
    "- l'autocompletamento suggerisce ad es. la funzione `sorted`\n",
    "\n",
    "Per ottenere informazioni in linea su una funzione o metodo `foo`, eseguire una cella con `foo?`\n",
    "- in alternativa, usare la funzione `help` di Python: `help(foo)`"
   ]
  },
  {
   "cell_type": "code",
   "execution_count": 624,
   "metadata": {},
   "outputs": [
    {
     "name": "stdout",
     "output_type": "stream",
     "text": [
      "\u001b[1;31mSignature:\u001b[0m \u001b[0mlen\u001b[0m\u001b[1;33m(\u001b[0m\u001b[0mobj\u001b[0m\u001b[1;33m,\u001b[0m \u001b[1;33m/\u001b[0m\u001b[1;33m)\u001b[0m\u001b[1;33m\u001b[0m\u001b[1;33m\u001b[0m\u001b[0m\n",
      "\u001b[1;31mDocstring:\u001b[0m Return the number of items in a container.\n",
      "\u001b[1;31mType:\u001b[0m      builtin_function_or_method"
     ]
    }
   ],
   "source": [
    "len?"
   ]
  },
  {
   "cell_type": "code",
   "execution_count": 625,
   "metadata": {},
   "outputs": [
    {
     "name": "stdout",
     "output_type": "stream",
     "text": [
      "\u001b[1;31mSignature:\u001b[0m \u001b[0mlist\u001b[0m\u001b[1;33m.\u001b[0m\u001b[0mappend\u001b[0m\u001b[1;33m(\u001b[0m\u001b[0mself\u001b[0m\u001b[1;33m,\u001b[0m \u001b[0mobject\u001b[0m\u001b[1;33m,\u001b[0m \u001b[1;33m/\u001b[0m\u001b[1;33m)\u001b[0m\u001b[1;33m\u001b[0m\u001b[1;33m\u001b[0m\u001b[0m\n",
      "\u001b[1;31mDocstring:\u001b[0m Append object to the end of the list.\n",
      "\u001b[1;31mType:\u001b[0m      method_descriptor"
     ]
    }
   ],
   "source": [
    "list.append?"
   ]
  },
  {
   "cell_type": "markdown",
   "metadata": {
    "slideshow": {
     "slide_type": "slide"
    }
   },
   "source": [
    "## Test librerie\n",
    "\n",
    "NumPy si trova preinstallato su Colab e Anaconda. Eseguire la seguente cella per verificare il corretto funzionamento di NumPy."
   ]
  },
  {
   "cell_type": "code",
   "execution_count": 626,
   "metadata": {},
   "outputs": [
    {
     "data": {
      "text/plain": [
       "42"
      ]
     },
     "execution_count": 626,
     "metadata": {},
     "output_type": "execute_result"
    }
   ],
   "source": [
    "import numpy as np\n",
    "np.array([2, 6, 10, 24]).sum()"
   ]
  },
  {
   "cell_type": "markdown",
   "metadata": {},
   "source": [
    "- In caso di errore, verificare di stare utilizzando il kernel corretto e che NumPy sia installato in esso\n",
    "- Per installare NumPy all'interno dell'ambiente virtuale corrente (può dare errore per permessi insufficienti in caso non si stia utilizzando un ambiente virtuale):"
   ]
  },
  {
   "cell_type": "code",
   "execution_count": 627,
   "metadata": {},
   "outputs": [],
   "source": [
    "# rimuovere il \"#\" nella riga sotto per abilitare il comando\n",
    "#pip install numpy"
   ]
  },
  {
   "cell_type": "markdown",
   "metadata": {
    "slideshow": {
     "slide_type": "slide"
    }
   },
   "source": [
    "## Recommendation: Prevedere le propensioni di acquisto dei clienti\n",
    "\n",
    "Ogni azienda ha i dati storici di acquisto di ciascun cliente/utente.\n",
    "\n",
    "Vogliamo **raccomandare/suggerire ai singoli utenti quali prodotti acquistare**, proponendo a ciascuno i prodotti acquistati da altri utenti che in precedenza hanno effettuato acquisti comuni ad esso.\n",
    "\n",
    "Vediamo come risolvere questo problema utilizzando i concetti dell'**algebra lineare**, rappresentando i dati come **vettori e matrici** ed eseguendo operazioni tra essi.\n",
    "\n",
    "Usiamo come esempio un set di dati ricavato da vendite su Amazon."
   ]
  },
  {
   "cell_type": "markdown",
   "metadata": {
    "slideshow": {
     "slide_type": "slide"
    }
   },
   "source": [
    "## Scaricamento file dati\n",
    "\n",
    "Un archivio ZIP con i file necessari per l'esercitazione si trova all'URL https://git.io/fhxQh\n",
    "\n",
    "Come passaggi preliminari per lavorare sul problema dovremmo:\n",
    "- verificare i dati sono già presenti nella directory di lavoro;\n",
    "- se non lo sono, scaricare il file ZIP che li contiene ed estrarne i file nella cartella corrente.\n",
    "\n",
    "La libreria standard di Python fornisce funzioni per eseguire agevolmente tutte queste operazioni. Eseguire la cella sotto per ottenere i file da utilizzare per l'esercitazione."
   ]
  },
  {
   "cell_type": "code",
   "execution_count": 628,
   "metadata": {},
   "outputs": [],
   "source": [
    "# importo moduli e funzioni necessarie dalla libreria standard\n",
    "import os.path\n",
    "from urllib.request import urlretrieve\n",
    "from zipfile import ZipFile\n",
    "\n",
    "# se il file \"purchases_data.zip\" non esiste\n",
    "if not os.path.exists(\"purchases_data.zip\"):\n",
    "    # scarica il file dall'URL indicato\n",
    "    urlretrieve(\"https://git.io/fhxQh\", \"purchases_data.zip\")\n",
    "    # apri il file zip ed estrai tutto il contenuto nella directory corrente\n",
    "    with ZipFile(\"purchases_data.zip\") as f:\n",
    "        f.extractall()"
   ]
  },
  {
   "cell_type": "markdown",
   "metadata": {
    "slideshow": {
     "slide_type": "slide"
    }
   },
   "source": [
    "## Caricamento dati\n",
    "\n",
    "Il file `users.csv` contiene un elenco degli utenti coinvolti nell'analisi, quelli con almeno 30 acquisti nello storico.\n",
    "\n",
    "È un file CSV (_Comma Separated Values_) contenente una riga per ogni utente nel formato `IdUtente;Nome`.\n",
    "\n",
    "Possiamo leggere tali file usando il modulo `csv` della libreria standard di Python."
   ]
  },
  {
   "cell_type": "code",
   "execution_count": 629,
   "metadata": {},
   "outputs": [],
   "source": [
    "import csv"
   ]
  },
  {
   "cell_type": "markdown",
   "metadata": {
    "slideshow": {
     "slide_type": "-"
    }
   },
   "source": [
    "Vogliamo creare un dizionario `users` e inserire in esso un elemento per ogni utente, la cui chiave sia l'ID e il cui valore sia il nome.\n",
    "\n",
    "1. Usiamo il costrutto `with` e la funzione `open` per aprire il file e chiuderlo automaticamente dopo l'utilizzo.\n",
    "2. All'interno di `with` creiamo un oggetto `csv.reader` che interpreta il file passato come CSV e ne restituisce le righe scomposte in valori.\n",
    "3. Usiamo una _comprehension_ per definire un dizionario con una coppia chiave-valore per ogni riga letta dal file, usando `int` per convertire gli ID da stringhe a numeri."
   ]
  },
  {
   "cell_type": "code",
   "execution_count": 630,
   "metadata": {},
   "outputs": [],
   "source": [
    "with open(\"users.csv\", \"r\") as f:                     # 1\n",
    "    reader = csv.reader(f, delimiter=\";\")             # 2\n",
    "    users = {int(uid): name for uid, name in reader}  # 3"
   ]
  },
  {
   "cell_type": "markdown",
   "metadata": {},
   "source": [
    "Il file `items.csv` contiene i prodotti distinti acquistati dagli utenti in formato analogo al file `users.csv`, con righe `IdProdotto;Nome`.\n",
    "\n",
    "Ne vogliamo salvare il contenuto in un dizionario `items`, ottenuto come fatto sopra con `users`."
   ]
  },
  {
   "cell_type": "code",
   "execution_count": 631,
   "metadata": {},
   "outputs": [],
   "source": [
    "with open(\"items.csv\", \"r\") as f:\n",
    "    reader = csv.reader(f, delimiter=\";\")\n",
    "    items = {int(iid): name for iid, name in reader}"
   ]
  },
  {
   "cell_type": "markdown",
   "metadata": {
    "slideshow": {
     "slide_type": "slide"
    }
   },
   "source": [
    "Il file CSV `purchases-2000.csv` contiene i dati sugli acquisti effettuati dagli utenti analizzati fino alla fine del 2000: per ciascun acquisto registrato, il file contiene una riga `IdUtente;IdProdotto`.\n",
    "\n",
    "Usiamo le funzioni viste sopra per leggere il file, creando stavolta un insieme `purchases` di tuple `(uid, iid)`."
   ]
  },
  {
   "cell_type": "code",
   "execution_count": 632,
   "metadata": {},
   "outputs": [],
   "source": [
    "with open(\"purchases-2000.csv\", \"r\") as f:\n",
    "    reader = csv.reader(f, delimiter=\";\")\n",
    "    purchases_set = set(\n",
    "        (int(uid), int(iid))\n",
    "        for uid, iid in reader\n",
    "    )"
   ]
  },
  {
   "cell_type": "markdown",
   "metadata": {
    "slideshow": {
     "slide_type": "slide"
    }
   },
   "source": [
    "## Algebra Lineare e NumPy\n",
    "\n",
    "Oggetto di studio dell'**algebra lineare** sono i vettori, le matrici e le principali operazioni tra di essi:\n",
    "\n",
    "- con vettori e matrici si possono rappresentare dati da analizzare,\n",
    "- informazioni d'interesse si possono estrarre con operazioni come il prodotto tra matrici.\n",
    "\n",
    "**NumPy** è una libreria Python molto usata per lavorare con vettori, matrici e array N-dimensionali in generale. È alla base di altre librerie, ad es. _pandas_ che utilizzeremo nei prossimi laboratori.\n",
    "\n",
    "Sugli array NumPy si possono compiere efficientemente operazioni elemento per elemento, aggregazioni, operazioni di algebra lineare, ecc.\n",
    "\n",
    "Iniziando importando il package `numpy` e assegnandogli l'alias convenzionale `np`."
   ]
  },
  {
   "cell_type": "code",
   "execution_count": 633,
   "metadata": {},
   "outputs": [],
   "source": [
    "import numpy as np"
   ]
  },
  {
   "cell_type": "markdown",
   "metadata": {
    "slideshow": {
     "slide_type": "slide"
    }
   },
   "source": [
    "## Rappresentare gli acquisti in forma di matrice\n",
    "\n",
    "L'insieme `purchases` degli acquisti degli utenti analizzati può essere rappresentato in una matrice **P** binaria, ovvero di valori 0 e 1 dove\n",
    "- ogni **riga** corrisponde ad un **utente**,\n",
    "- ogni **colonna** corrisponde ad un **prodotto** distinto,\n",
    "- il valore della cella _i,j_ è 1 se l'utente i ha acquistato il prodotto j, 0 altrimenti.\n",
    "\n",
    "$$\\mathbf{P} = \\begin{bmatrix}0&1&0&1&0&\\cdots\\\\1&0&0&1&0&\\cdots\\\\0&0&1&0&1&\\ldots\\\\\\vdots&\\vdots&\\vdots&\\vdots&\\vdots&\\ddots\\end{bmatrix}$$\n",
    "\n",
    "Vediamo come costruire tale matrice."
   ]
  },
  {
   "cell_type": "markdown",
   "metadata": {
    "slideshow": {
     "slide_type": "slide"
    }
   },
   "source": [
    "### Assegnazione di indici a utenti e prodotti\n",
    "\n",
    "Iniziamo definendo **a quali utenti e prodotti corrispondano** rispettivamente **righe e colonne** della matrice.\n",
    "\n",
    "Costruiamo un dizionario `user_indices` che associ ad ognuno degli N ID utente (`uid`) un numero tra 0 e N-1 (`index`).\n",
    "\n",
    "Usiamo `enumerate` per ottenere tuple `(index, uid)`, dove _index_ è un numero progressivo da 0 a N-1.\n",
    "\n",
    "`enumerate([X, Y, Z])` $\\Rightarrow$ `(0, X), (1, Y), (2, Z)`\n",
    "\n",
    "Usiamo `sorted` per ottenere le chiavi in ordine crescente _(non è strettamente necessario, ma garantisce la piena riproducibilità dei passaggi)_."
   ]
  },
  {
   "cell_type": "code",
   "execution_count": 634,
   "metadata": {},
   "outputs": [],
   "source": [
    "user_indices = {uid: index for index, uid in enumerate(sorted(users.keys()))}"
   ]
  },
  {
   "cell_type": "markdown",
   "metadata": {
    "slideshow": {
     "slide_type": "slide"
    }
   },
   "source": [
    "Eseguiamo un'operazione simile per ottenere un dizionario `item_indices` con la numerazione degli oggetti."
   ]
  },
  {
   "cell_type": "code",
   "execution_count": 635,
   "metadata": {},
   "outputs": [],
   "source": [
    "item_indices = {iid: index for index, iid in enumerate(sorted(items.keys()))}"
   ]
  },
  {
   "cell_type": "markdown",
   "metadata": {},
   "source": [
    "Abbiamo così ottenuto dizionari che mappano ID utenti e prodotti a righe e colonne della matrice.\n",
    "\n",
    "Ad esempio, la riga corrispondente all'utente con ID 63776 ha indice..."
   ]
  },
  {
   "cell_type": "code",
   "execution_count": 636,
   "metadata": {},
   "outputs": [
    {
     "data": {
      "text/plain": [
       "10"
      ]
     },
     "execution_count": 636,
     "metadata": {},
     "output_type": "execute_result"
    }
   ],
   "source": [
    "user_indices[63776]"
   ]
  },
  {
   "cell_type": "markdown",
   "metadata": {
    "slideshow": {
     "slide_type": "slide"
    }
   },
   "source": [
    "### Inizializzazione della matrice\n",
    "\n",
    "Per allocare la matrice degli acquisti, definiamone dapprima la _forma_, ovvero il numero di righe e di colonne.\n",
    "\n",
    "Questi sono pari rispettivamente al numero di utenti e di prodotti, che salviamo in due variabili per comodità."
   ]
  },
  {
   "cell_type": "code",
   "execution_count": 637,
   "metadata": {},
   "outputs": [
    {
     "name": "stdout",
     "output_type": "stream",
     "text": [
      "178 utenti, 3384 prodotti\n"
     ]
    }
   ],
   "source": [
    "n_users = len(users)\n",
    "n_items = len(items)\n",
    "print(f\"{n_users} utenti, {n_items} prodotti\")"
   ]
  },
  {
   "cell_type": "markdown",
   "metadata": {},
   "source": [
    "Creiamo ora la matrice `purchases` inizializzando tutti i valori a 0, ovvero senza alcun acquisto.\n",
    "\n",
    "Usiamo per questo la funzione `zeros` passando la forma desiderata della matrice.\n",
    "\n",
    "Dato che la matrice conterrà solo valori interi (0 e 1), specifichiamo `int` come datatype\n",
    "\n",
    "- `int` verrà convertito ad un dtype con una precisione specifica, es. `int64`"
   ]
  },
  {
   "cell_type": "code",
   "execution_count": 638,
   "metadata": {},
   "outputs": [],
   "source": [
    "purchases = np.zeros((n_users, n_items), dtype=int)"
   ]
  },
  {
   "cell_type": "markdown",
   "metadata": {
    "slideshow": {
     "slide_type": "slide"
    }
   },
   "source": [
    "### Esercizio 1: Scrittura acquisti nella matrice\n",
    "\n",
    "Per ottenere la matrice degli acquisti effettiva, impostare a 1 gli elementi corrispondenti alle coppie utente-oggetto nell'insieme `purchases_set`\n",
    "\n",
    "- usare opportunamente i dizionari `user_indices` e `item_indices` creati sopra\n",
    "- per impostare un valore nella matrice: `matrice[indice_riga, indice_colonna] = valore`"
   ]
  },
  {
   "cell_type": "code",
   "execution_count": 639,
   "metadata": {},
   "outputs": [],
   "source": [
    "for uid, iid in purchases_set:\n",
    "    purchases[user_indices[uid], item_indices[iid]] = 1"
   ]
  },
  {
   "cell_type": "markdown",
   "metadata": {},
   "source": [
    "Eseguire la cella TEST sotto per verificare la correttezza. Se la condizione data è soddisfatta viene stampato \"OK\", altrimenti `assert` genera un errore."
   ]
  },
  {
   "cell_type": "code",
   "execution_count": 640,
   "metadata": {},
   "outputs": [
    {
     "name": "stdout",
     "output_type": "stream",
     "text": [
      "OK\n"
     ]
    }
   ],
   "source": [
    "# TEST\n",
    "assert purchases[0, 0] == 0\n",
    "assert purchases[-4, 10] == 1\n",
    "assert purchases[-2, 12] == 1\n",
    "assert purchases[-1, -1] == 0\n",
    "print(\"OK\")"
   ]
  },
  {
   "cell_type": "markdown",
   "metadata": {
    "slideshow": {
     "slide_type": "slide"
    }
   },
   "source": [
    "Visualizziamo una porzione della matrice ottenuta..."
   ]
  },
  {
   "cell_type": "code",
   "execution_count": 641,
   "metadata": {},
   "outputs": [
    {
     "data": {
      "text/plain": [
       "array([[0, 0, 0, 0, 0, 0, 0, 0, 0, 0, 0, 0, 0, 0, 0],\n",
       "       [0, 0, 0, 0, 0, 0, 0, 0, 0, 0, 1, 0, 0, 0, 0],\n",
       "       [0, 0, 0, 0, 0, 0, 0, 0, 0, 0, 0, 0, 0, 0, 0],\n",
       "       [0, 0, 0, 0, 0, 0, 0, 0, 0, 0, 0, 1, 1, 0, 0],\n",
       "       [0, 0, 0, 0, 0, 0, 0, 0, 0, 0, 0, 0, 0, 0, 0]])"
      ]
     },
     "execution_count": 641,
     "metadata": {},
     "output_type": "execute_result"
    }
   ],
   "source": [
    "purchases[-5:, :15]   # ultime 5 righe, prime 15 colonne"
   ]
  },
  {
   "cell_type": "markdown",
   "metadata": {},
   "source": [
    "Vediamo ad esempio che l'utente della penultima riga ha acquistato i prodotti di indice 11 e 12"
   ]
  },
  {
   "cell_type": "markdown",
   "metadata": {
    "slideshow": {
     "slide_type": "slide"
    }
   },
   "source": [
    "### Array booleani\n",
    "\n",
    "Oltre ai comuni array numerici, NumPy supporta array booleani, contenenti come unici valori possibili `False` e `True`\n",
    "\n",
    "Abbiamo rappresentato `purchases` con valori 0 e 1 perché è una notazione comune, ma può essere rappresentata anche come array booleano.\n",
    "\n",
    "Usiamo il metodo `astype` per ottenere una copia della matrice convertendone il datatype.\n",
    "\n",
    "Viene seguita la convenzione di Python per cui 0 diventa `False` e ogni altro numero `True`."
   ]
  },
  {
   "cell_type": "code",
   "execution_count": 642,
   "metadata": {},
   "outputs": [],
   "source": [
    "purchases_bool = purchases.astype(bool)"
   ]
  },
  {
   "cell_type": "markdown",
   "metadata": {
    "slideshow": {
     "slide_type": "slide"
    }
   },
   "source": [
    "Otteniamo una matrice con 0 e 1 convertiti rispettivamente in `False` e `True`."
   ]
  },
  {
   "cell_type": "code",
   "execution_count": 643,
   "metadata": {},
   "outputs": [
    {
     "data": {
      "text/plain": [
       "array([[False, False, False, False, False, False, False, False, False,\n",
       "        False, False, False, False, False, False],\n",
       "       [False, False, False, False, False, False, False, False, False,\n",
       "        False,  True, False, False, False, False],\n",
       "       [False, False, False, False, False, False, False, False, False,\n",
       "        False, False, False, False, False, False],\n",
       "       [False, False, False, False, False, False, False, False, False,\n",
       "        False, False,  True,  True, False, False],\n",
       "       [False, False, False, False, False, False, False, False, False,\n",
       "        False, False, False, False, False, False]])"
      ]
     },
     "execution_count": 643,
     "metadata": {},
     "output_type": "execute_result"
    }
   ],
   "source": [
    "purchases_bool[-5:, :15]   # ultime 5 righe, prime 15 colonne"
   ]
  },
  {
   "cell_type": "markdown",
   "metadata": {},
   "source": [
    "Questa versione booleana della matrice ci servirà per alcune operazioni."
   ]
  },
  {
   "cell_type": "markdown",
   "metadata": {
    "slideshow": {
     "slide_type": "slide"
    }
   },
   "source": [
    "## Associare nomi a righe e colonne\n",
    "\n",
    "I dizionari `*_indices` permettono, dato l'ID di un utente o prodotto, di risalire alla riga o colonna corrispondente della matrice.\n",
    "\n",
    "Creiamo ora un vettore `user_names` che contenga i nomi degli utenti nelle posizioni corrispondenti alle righe della matrice.\n",
    "\n",
    "Allochiamo un vettore vuoto con lunghezza pari al numero di utenti e tipo di elementi `object`, ovvero oggetti Python arbitrari\n",
    "\n",
    "Come forma dell'array indichiamo `n_users` (valore singolo), che equivale a `(n_users, )` (tupla di un elemento, quindi vettore)"
   ]
  },
  {
   "cell_type": "code",
   "execution_count": 644,
   "metadata": {},
   "outputs": [],
   "source": [
    "user_names = np.empty(n_users, dtype=object)\n",
    "item_names = np.empty(n_items, dtype=object)"
   ]
  },
  {
   "cell_type": "markdown",
   "metadata": {
    "slideshow": {
     "slide_type": "slide"
    }
   },
   "source": [
    "### Esercizio 2: Creazione vettori nomi\n",
    "\n",
    "- **(2a)** Riempire il vettore `user_names` con i nomi degli utenti corrispondenti alle righe di `purchases`\n",
    "  - usare i dizionari `users` e `user_indices`\n",
    "- **(2b)** Creare e riempire in modo simile un vettore `item_names` con i nomi degli oggetti corrispondenti alle colonne di `purchases`"
   ]
  },
  {
   "cell_type": "code",
   "execution_count": 645,
   "metadata": {},
   "outputs": [],
   "source": [
    "#2a\n",
    "for uid, name in users.items():\n",
    "    user_names[user_indices[uid]] = name\n",
    "#2b\n",
    "for iid, name in items.items():\n",
    "    item_names[item_indices[iid]] = name"
   ]
  },
  {
   "cell_type": "code",
   "execution_count": 646,
   "metadata": {},
   "outputs": [],
   "source": [
    "# TEST\n",
    "assert user_names[0] == \"malachix\"\n",
    "assert item_names[0] == \"Age of Innocence [VHS]\""
   ]
  },
  {
   "cell_type": "markdown",
   "metadata": {
    "slideshow": {
     "slide_type": "slide"
    }
   },
   "source": [
    "Possiamo accedere a singoli elementi o intervalli dell'array come nelle liste di Python, indicando un indice o un intervallo `inizio:fine` tra parentesi quadre.\n",
    "\n",
    "Possiamo ad esempio ottenere il nome di un singolo prodotto dato l'indice della colonna."
   ]
  },
  {
   "cell_type": "code",
   "execution_count": 647,
   "metadata": {},
   "outputs": [
    {
     "data": {
      "text/plain": [
       "'Doctor Who - Robot [VHS]'"
      ]
     },
     "execution_count": 647,
     "metadata": {},
     "output_type": "execute_result"
    }
   ],
   "source": [
    "item_names[11]"
   ]
  },
  {
   "cell_type": "markdown",
   "metadata": {},
   "source": [
    "In più, rispetto alle liste di Python, possiamo estrarre molteplici valori dal vettore passando una **lista di indici**."
   ]
  },
  {
   "cell_type": "code",
   "execution_count": 648,
   "metadata": {},
   "outputs": [
    {
     "data": {
      "text/plain": [
       "array(['Star Wars - Episode IV, A New Hope [VHS]',\n",
       "       'Star Wars - Episode V, The Empire Strikes Back [VHS]',\n",
       "       'Star Wars - Episode VI, Return of the Jedi [VHS]'], dtype=object)"
      ]
     },
     "execution_count": 648,
     "metadata": {},
     "output_type": "execute_result"
    }
   ],
   "source": [
    "item_names[[3112, 1417, 3109]]"
   ]
  },
  {
   "cell_type": "markdown",
   "metadata": {
    "slideshow": {
     "slide_type": "slide"
    }
   },
   "source": [
    "## Selezione elementi tramite array booleani\n",
    "\n",
    "Possiamo usare l'**indicizzazione booleana** per estrarre elementi che corrispondano ad una condizione.\n",
    "\n",
    "Consideriamo ad esempio la riga 176 della matrice, che indica gli acquisti dell'utente..."
   ]
  },
  {
   "cell_type": "code",
   "execution_count": 649,
   "metadata": {},
   "outputs": [
    {
     "data": {
      "text/plain": [
       "'G.Spider'"
      ]
     },
     "execution_count": 649,
     "metadata": {},
     "output_type": "execute_result"
    }
   ],
   "source": [
    "user_names[176]"
   ]
  },
  {
   "cell_type": "markdown",
   "metadata": {},
   "source": [
    "Estraiamo la riga corrispondente dalla matrice `purchases_bool` per ottenere un vettore in forma booleana.\n",
    "\n",
    "Per estrarre uno o più valori da una matrice, usiamo la forma `matrice[righe, colonne]`, dove per `righe` e `colonne` specifichiamo valori singoli, intervalli o liste.\n",
    "\n",
    "Per ottenere una riga intera al posto di `colonne` indichiamo `:`, che è una forma breve per `0:numero_colonne`."
   ]
  },
  {
   "cell_type": "code",
   "execution_count": 650,
   "metadata": {},
   "outputs": [],
   "source": [
    "purchased_by_user_176 = purchases_bool[176, :]"
   ]
  },
  {
   "cell_type": "markdown",
   "metadata": {},
   "source": [
    "A sua volta, `[N, :]` si può abbreviare in `[N]`"
   ]
  },
  {
   "cell_type": "code",
   "execution_count": 651,
   "metadata": {},
   "outputs": [],
   "source": [
    "purchased_by_user_176 = purchases_bool[176]"
   ]
  },
  {
   "cell_type": "markdown",
   "metadata": {},
   "source": [
    "Avendo selezionato una singola riga di una matrice (2 dimensioni), l'oggetto che otteniamo è un vettore (1 dimensione)."
   ]
  },
  {
   "cell_type": "code",
   "execution_count": 652,
   "metadata": {},
   "outputs": [
    {
     "data": {
      "text/plain": [
       "array([False, False, False, False, False, False, False, False, False,\n",
       "       False, False,  True,  True, False, False, False, False, False,\n",
       "       False, False])"
      ]
     },
     "execution_count": 652,
     "metadata": {},
     "output_type": "execute_result"
    }
   ],
   "source": [
    "# visualizzo i primi 20 valori\n",
    "purchased_by_user_176[:20]"
   ]
  },
  {
   "cell_type": "markdown",
   "metadata": {
    "slideshow": {
     "slide_type": "slide"
    }
   },
   "source": [
    "Possiamo usare questo vettore booleano come selettore del vettore `item_names` per estrarre i soli valori di `item_names` corrispondenti a valori `True`.\n",
    "\n",
    "In questo modo otteniamo un vettore con i **nomi** dei soli **prodotti acquistati dall'utente**."
   ]
  },
  {
   "cell_type": "code",
   "execution_count": 653,
   "metadata": {},
   "outputs": [
    {
     "data": {
      "text/plain": [
       "array(['Doctor Who - Robot [VHS]', 'Doctor Who - City of Death [VHS]',\n",
       "       'Doctor Who: The Curse of Peladon [VHS]',\n",
       "       'Doctor Who:  Time and The Rani [VHS]',\n",
       "       'Doctor Who - Ghost Light [VHS]',\n",
       "       'Doctor Who - The Visitation / Black Orchid [VHS]',\n",
       "       'Doctor Who - Kinda [VHS]',\n",
       "       'Doctor Who - The Mark of the Rani [VHS]',\n",
       "       'Doctor Who - The Leisure Hive [VHS]',\n",
       "       'Star Wars - Episode I, The Phantom Menace [VHS]'], dtype=object)"
      ]
     },
     "execution_count": 653,
     "metadata": {},
     "output_type": "execute_result"
    }
   ],
   "source": [
    "item_names_purchased_by_user_176 = item_names[purchased_by_user_176]\n",
    "\n",
    "# visualizzo i primi 10 elementi\n",
    "item_names_purchased_by_user_176[:10]"
   ]
  },
  {
   "cell_type": "markdown",
   "metadata": {},
   "source": [
    "Si noti che per questa operazione **è necessario usare l'array booleano** come selettore. Usando quello binario si avrebbe un risultato errato, in quanto i numeri 0 e 1 sarebbero interpretati come indici di valori da selezionare più volte all'interno di `item_names`."
   ]
  },
  {
   "cell_type": "code",
   "execution_count": 654,
   "metadata": {},
   "outputs": [
    {
     "data": {
      "text/plain": [
       "array(['Age of Innocence [VHS]', 'Age of Innocence [VHS]',\n",
       "       'Age of Innocence [VHS]', ..., 'Age of Innocence [VHS]',\n",
       "       'Age of Innocence [VHS]', 'Age of Innocence [VHS]'], dtype=object)"
      ]
     },
     "execution_count": 654,
     "metadata": {},
     "output_type": "execute_result"
    }
   ],
   "source": [
    "item_names[purchases[176, :]]"
   ]
  },
  {
   "cell_type": "markdown",
   "metadata": {
    "slideshow": {
     "slide_type": "slide"
    }
   },
   "source": [
    "## Statistiche sugli acquisti\n",
    "\n",
    "Gli array forniscono metodi per calcolare valori aggregati: somma, media, min/max, ecc.\n",
    "\n",
    "Ad esempio il metodo `sum` calcola la somma di tutti gli elementi di un array.\n",
    "\n",
    "Possiamo utilizzarlo per ottenere il numero totale di acquisti analizzati."
   ]
  },
  {
   "cell_type": "code",
   "execution_count": 655,
   "metadata": {},
   "outputs": [
    {
     "data": {
      "text/plain": [
       "9683"
      ]
     },
     "execution_count": 655,
     "metadata": {},
     "output_type": "execute_result"
    }
   ],
   "source": [
    "purchases.sum()"
   ]
  },
  {
   "cell_type": "markdown",
   "metadata": {},
   "source": [
    "Posso ottenere lo stesso risultato effettuando la somma sulla matrice booleana, in quanto `False` e `True` trattati come numeri valgono 0 e 1 rispettivamente.\n",
    "\n",
    "In generale, `sum` può essere usato per contare quanti sono i valori `True` in un array booleano."
   ]
  },
  {
   "cell_type": "code",
   "execution_count": 656,
   "metadata": {},
   "outputs": [
    {
     "data": {
      "text/plain": [
       "9683"
      ]
     },
     "execution_count": 656,
     "metadata": {},
     "output_type": "execute_result"
    }
   ],
   "source": [
    "purchases_bool.sum()"
   ]
  },
  {
   "cell_type": "markdown",
   "metadata": {
    "slideshow": {
     "slide_type": "slide"
    }
   },
   "source": [
    "Oltre ad aggregare tutti i valori, possiamo compiere aggregazioni per righe (asse 0) o per colonne (asse 1).\n",
    "\n",
    "Applichiamo la somma per righe e per colonne alla matrice degli acquisti.\n",
    "\n",
    "- `sum(1)` -> sommo tra loro le colonne -> ottengo il numero di prodotti acquistati per ogni utente (riga)\n",
    "- `sum(0)` -> sommo tra loro le righe -> ottengo il numero di utenti che hanno acquistato ciascun prodotto (colonna)"
   ]
  },
  {
   "cell_type": "code",
   "execution_count": 657,
   "metadata": {},
   "outputs": [],
   "source": [
    "user_purchases = purchases.sum(1)\n",
    "item_purchases = purchases.sum(0)"
   ]
  },
  {
   "cell_type": "code",
   "execution_count": 658,
   "metadata": {},
   "outputs": [
    {
     "data": {
      "text/plain": [
       "array([38, 32, 50, 41, 34, 47, 72, 40, 33, 51])"
      ]
     },
     "execution_count": 658,
     "metadata": {},
     "output_type": "execute_result"
    }
   ],
   "source": [
    "# numero di acquisti dei primi 10 clienti\n",
    "user_purchases[:10]"
   ]
  },
  {
   "cell_type": "code",
   "execution_count": 659,
   "metadata": {},
   "outputs": [
    {
     "data": {
      "text/plain": [
       "array([1, 2, 1, 4, 1, 1, 1, 1, 1, 2])"
      ]
     },
     "execution_count": 659,
     "metadata": {},
     "output_type": "execute_result"
    }
   ],
   "source": [
    "# numero di clienti che hanno acquistato i primi 10 oggetti\n",
    "item_purchases[:10]"
   ]
  },
  {
   "cell_type": "markdown",
   "metadata": {},
   "source": [
    "Oltre a `sum` si ricordano tra i metodi più comuni:\n",
    "\n",
    "- `mean` per la media,\n",
    "- `min` e `max` per ottenere **i valori** minimo e massimo dell'array,\n",
    "- `argmin` e `argmax` per ottenere **gli indici** all'interno di un vettore del valori minimo e massimo.\n",
    "\n",
    "Nota: per ognuno di questi metodi, ad es. `X.sum()`, esiste una funzione equivalente `np.sum(X)` che si può applicare anche ad oggetti _array-like_, ad es. le normali `list` di Python."
   ]
  },
  {
   "cell_type": "code",
   "execution_count": 660,
   "metadata": {},
   "outputs": [
    {
     "data": {
      "text/plain": [
       "6"
      ]
     },
     "execution_count": 660,
     "metadata": {},
     "output_type": "execute_result"
    }
   ],
   "source": [
    "# applico np.sum ad un array NumPy\n",
    "np.sum( np.array([1, 2, 3]) )"
   ]
  },
  {
   "cell_type": "code",
   "execution_count": 661,
   "metadata": {},
   "outputs": [
    {
     "data": {
      "text/plain": [
       "6"
      ]
     },
     "execution_count": 661,
     "metadata": {},
     "output_type": "execute_result"
    }
   ],
   "source": [
    "# applico np.sum ad una lista Python\n",
    "np.sum([1, 2, 3])"
   ]
  },
  {
   "cell_type": "markdown",
   "metadata": {
    "slideshow": {
     "slide_type": "slide"
    }
   },
   "source": [
    "### Esercizio 3: Estrazione informazioni dai vettori\n",
    "\n",
    "Utilizzando i vettori `user_purchases`, `item_purchases`, `user_names` e `item_names` ricavare:\n",
    "- **(3a)** il numero di acquisti medio per ogni utente\n",
    "- **(3b)** il numero di acquisti del prodotto più acquistato\n",
    "- **(3c)** il nome dell'utente che ha effettuato più acquisti\n",
    "- **(3d)** il numero di utenti che hanno acquistato almeno 50 prodotti\n",
    "- **(3e)** i nomi dei prodotti acquistati da almeno 35 utenti\n",
    "\n",
    "_**Suggerimento:** per risolvere i punti 3d e 3e, usare operatori di confronto (`>`, `>=`, ...) per ricavare array booleani da quelli numerici._"
   ]
  },
  {
   "cell_type": "code",
   "execution_count": 662,
   "metadata": {},
   "outputs": [
    {
     "data": {
      "text/plain": [
       "54.39887640449438"
      ]
     },
     "execution_count": 662,
     "metadata": {},
     "output_type": "execute_result"
    }
   ],
   "source": [
    "#3a\n",
    "user_purchases.mean()"
   ]
  },
  {
   "cell_type": "code",
   "execution_count": 663,
   "metadata": {},
   "outputs": [
    {
     "data": {
      "text/plain": [
       "50"
      ]
     },
     "execution_count": 663,
     "metadata": {},
     "output_type": "execute_result"
    }
   ],
   "source": [
    "#3b\n",
    "item_purchases.max()"
   ]
  },
  {
   "cell_type": "code",
   "execution_count": 664,
   "metadata": {},
   "outputs": [
    {
     "data": {
      "text/plain": [
       "'Bertin Ramirez \"justareviewer\"'"
      ]
     },
     "execution_count": 664,
     "metadata": {},
     "output_type": "execute_result"
    }
   ],
   "source": [
    "#3c\n",
    "user_names[user_purchases.argmax()]"
   ]
  },
  {
   "cell_type": "markdown",
   "metadata": {
    "slideshow": {
     "slide_type": "slide"
    }
   },
   "source": [
    "## Similarità tra utenti\n",
    "\n",
    "Vogliamo suggerire prodotti agli utenti in base a **cos'hanno acquistato utenti simili**.\n",
    "\n",
    "Per determinare quanto due utenti siano \"simili\" possiamo contare **quanti sono i prodotti che entrambi hanno acquistato**.\n",
    "\n",
    "Per far ciò, verifichiamo il numero di elementi nell'**intersezione** degli insiemi $P_u$ (operatore `&`) dei prodotti acquistati da ciascun utente $u$.\n",
    "\n",
    "$$ S_{u,v} = \\lvert P_u \\wedge P_v \\rvert $$\n",
    "\n",
    "Avendo un vettore (riga della matrice) booleano per ogni utente, possiamo trovare quali sono gli acquisti comuni tra due utenti tramite l'AND elemento per elemento.\n",
    "\n",
    "Estraiamo ad esempio gli acquisti comuni tra i primi due utenti nella matrice."
   ]
  },
  {
   "cell_type": "code",
   "execution_count": 665,
   "metadata": {},
   "outputs": [
    {
     "data": {
      "text/plain": [
       "array([False, False, False, ..., False, False, False])"
      ]
     },
     "execution_count": 665,
     "metadata": {},
     "output_type": "execute_result"
    }
   ],
   "source": [
    "purchases_bool[0] & purchases_bool[1]"
   ]
  },
  {
   "cell_type": "markdown",
   "metadata": {},
   "source": [
    "Nella rappresentazione binaria (0 e 1), questo corrisponde alla **moltiplicazione elemento per elemento**, in quanto il prodotto elemento per elemento è 1 solo dove in entrambi i vettori c'è 1, altrimenti è 0."
   ]
  },
  {
   "cell_type": "code",
   "execution_count": 666,
   "metadata": {},
   "outputs": [
    {
     "data": {
      "text/plain": [
       "array([0, 0, 0, ..., 0, 0, 0])"
      ]
     },
     "execution_count": 666,
     "metadata": {},
     "output_type": "execute_result"
    }
   ],
   "source": [
    "purchases[0] * purchases[1]"
   ]
  },
  {
   "cell_type": "markdown",
   "metadata": {},
   "source": [
    "Per sapere quanti sono i prodotti acquistati in comune posso contare i `True` o gli 1 nell'array col metodo `sum`."
   ]
  },
  {
   "cell_type": "code",
   "execution_count": 667,
   "metadata": {},
   "outputs": [
    {
     "data": {
      "text/plain": [
       "4"
      ]
     },
     "execution_count": 667,
     "metadata": {},
     "output_type": "execute_result"
    }
   ],
   "source": [
    "np.sum( purchases[0] * purchases[1] )"
   ]
  },
  {
   "attachments": {},
   "cell_type": "markdown",
   "metadata": {},
   "source": [
    "Il numero di prodotti acquistati in comune è quindi pari alla **somma dei prodotti** tra le corrispondenti righe della matrice.\n",
    "\n",
    "Questo corrisponde al **prodotto scalare** (_dot product_) tra le due righe, che può essere estratto efficientemente con la funzione/metodo `dot` o l'operatore `@`."
   ]
  },
  {
   "cell_type": "code",
   "execution_count": 668,
   "metadata": {},
   "outputs": [
    {
     "data": {
      "text/plain": [
       "4"
      ]
     },
     "execution_count": 668,
     "metadata": {},
     "output_type": "execute_result"
    }
   ],
   "source": [
    "np.dot(purchases[0], purchases[1])"
   ]
  },
  {
   "cell_type": "code",
   "execution_count": 669,
   "metadata": {},
   "outputs": [
    {
     "data": {
      "text/plain": [
       "4"
      ]
     },
     "execution_count": 669,
     "metadata": {},
     "output_type": "execute_result"
    }
   ],
   "source": [
    "purchases[0].dot(purchases[1])"
   ]
  },
  {
   "cell_type": "code",
   "execution_count": 670,
   "metadata": {},
   "outputs": [
    {
     "data": {
      "text/plain": [
       "4"
      ]
     },
     "execution_count": 670,
     "metadata": {},
     "output_type": "execute_result"
    }
   ],
   "source": [
    "purchases[0] @ purchases[1]"
   ]
  },
  {
   "cell_type": "markdown",
   "metadata": {
    "slideshow": {
     "slide_type": "slide"
    }
   },
   "source": [
    "### Matrice di similarità\n",
    "\n",
    "Vogliamo ottenere in una matrice `similarity` NxN tutte le similarità reciproche tra gli N utenti, ovvero i prodotti scalari tra tutte le righe di `purchases`.\n",
    "\n",
    "```\n",
    "similarity[i, j] == purchases[i, :] @ purchases[j, :]\n",
    "```\n",
    "\n",
    "Il **prodotto tra matrici** restituisce una matrice di prodotti scalari tra le righe di una matrice e le colonne di un'altra.\n",
    "\n",
    "```\n",
    "(A @ B)[i, j] == A[i, :] @ B[:, j]\n",
    "```\n",
    "\n",
    "Se vogliamo calcolare i prodotti tra le righe di A e le righe di B, possiamo calcolare il prodotto tra A e la **trasposta** di B, estraibile con `B.T`.\n",
    "\n",
    "```\n",
    "(A @ B.T)[i, j] == A[i, :] @ B[j, :]\n",
    "```\n",
    "\n",
    "Per ottenere i prodotti scalari tra tutte le righe di `purchases` possiamo quindi **moltiplicarla per la sua trasposta**."
   ]
  },
  {
   "cell_type": "code",
   "execution_count": 671,
   "metadata": {},
   "outputs": [],
   "source": [
    "similarity = purchases @ purchases.T"
   ]
  },
  {
   "cell_type": "markdown",
   "metadata": {},
   "source": [
    "Otteniamo una matrice quadrata, di ordine pari al numero di utenti."
   ]
  },
  {
   "cell_type": "code",
   "execution_count": 672,
   "metadata": {},
   "outputs": [
    {
     "data": {
      "text/plain": [
       "(178, 178)"
      ]
     },
     "execution_count": 672,
     "metadata": {},
     "output_type": "execute_result"
    }
   ],
   "source": [
    "similarity.shape"
   ]
  },
  {
   "cell_type": "markdown",
   "metadata": {
    "slideshow": {
     "slide_type": "slide"
    }
   },
   "source": [
    "Visualizziamo un estratto della matrice..."
   ]
  },
  {
   "cell_type": "code",
   "execution_count": 673,
   "metadata": {},
   "outputs": [
    {
     "data": {
      "text/plain": [
       "array([[38,  4,  1,  0,  1,  2,  1,  1,  0,  2],\n",
       "       [ 4, 32,  1,  0,  0,  2,  0,  1,  2,  4],\n",
       "       [ 1,  1, 50,  1,  4,  2,  1,  2,  1,  7],\n",
       "       [ 0,  0,  1, 41,  1,  1,  3,  1,  1,  2],\n",
       "       [ 1,  0,  4,  1, 34,  1,  0,  2,  1,  2],\n",
       "       [ 2,  2,  2,  1,  1, 47,  1,  0,  2,  1],\n",
       "       [ 1,  0,  1,  3,  0,  1, 72,  1,  1,  2],\n",
       "       [ 1,  1,  2,  1,  2,  0,  1, 40,  1,  6],\n",
       "       [ 0,  2,  1,  1,  1,  2,  1,  1, 33,  3],\n",
       "       [ 2,  4,  7,  2,  2,  1,  2,  6,  3, 51]])"
      ]
     },
     "execution_count": 673,
     "metadata": {},
     "output_type": "execute_result"
    }
   ],
   "source": [
    "similarity[:10, :10]"
   ]
  },
  {
   "cell_type": "markdown",
   "metadata": {},
   "source": [
    "Possiamo ad esempio notare che\n",
    "\n",
    "- tra i primi due utenti ci sono 4 oggetti acquistati in comune (come visto sopra),\n",
    "- il primo ed il quarto utente non hanno alcun acquisto in comune."
   ]
  },
  {
   "cell_type": "code",
   "execution_count": 674,
   "metadata": {},
   "outputs": [
    {
     "data": {
      "text/plain": [
       "4"
      ]
     },
     "execution_count": 674,
     "metadata": {},
     "output_type": "execute_result"
    }
   ],
   "source": [
    "similarity[0, 1]"
   ]
  },
  {
   "cell_type": "code",
   "execution_count": 675,
   "metadata": {},
   "outputs": [
    {
     "data": {
      "text/plain": [
       "0"
      ]
     },
     "execution_count": 675,
     "metadata": {},
     "output_type": "execute_result"
    }
   ],
   "source": [
    "similarity[0, 3]"
   ]
  },
  {
   "cell_type": "markdown",
   "metadata": {
    "slideshow": {
     "slide_type": "slide"
    }
   },
   "source": [
    "Possiamo verificare che la matrice sia simmetrica controllando se è uguale alla sua trasposta.\n",
    "\n",
    "L'operatore `==` applicato tra matrici restituisce una matrice booleana con il confronto elemento per elemento: usiamo il metodo `all` (o la funzione `np.all`) per verificare che tutti i valori siano `True`."
   ]
  },
  {
   "cell_type": "code",
   "execution_count": 676,
   "metadata": {},
   "outputs": [
    {
     "data": {
      "text/plain": [
       "True"
      ]
     },
     "execution_count": 676,
     "metadata": {},
     "output_type": "execute_result"
    }
   ],
   "source": [
    "(similarity == similarity.T).all()"
   ]
  },
  {
   "cell_type": "code",
   "execution_count": 677,
   "metadata": {},
   "outputs": [
    {
     "data": {
      "text/plain": [
       "True"
      ]
     },
     "execution_count": 677,
     "metadata": {},
     "output_type": "execute_result"
    }
   ],
   "source": [
    "np.all(similarity == similarity.T)"
   ]
  },
  {
   "cell_type": "markdown",
   "metadata": {},
   "source": [
    "In alternativa NumPy offre una funzione `array_equal` per verificare l'uguaglianza tra due array: questa evita errori in caso si comparino array di dimensioni incompatibili"
   ]
  },
  {
   "cell_type": "code",
   "execution_count": 678,
   "metadata": {},
   "outputs": [
    {
     "data": {
      "text/plain": [
       "True"
      ]
     },
     "execution_count": 678,
     "metadata": {},
     "output_type": "execute_result"
    }
   ],
   "source": [
    "np.array_equal(similarity, similarity.T)"
   ]
  },
  {
   "cell_type": "markdown",
   "metadata": {
    "slideshow": {
     "slide_type": "slide"
    }
   },
   "source": [
    "### Diagonale della matrice\n",
    "\n",
    "La diagonale della matrice creata contiene i prodotti scalari di ciascuna riga della matrice originale con se stessa.\n",
    "\n",
    "Si può verificare che sono uguali al numero di acquisti per colonne calcolato sopra."
   ]
  },
  {
   "cell_type": "code",
   "execution_count": 679,
   "metadata": {},
   "outputs": [
    {
     "data": {
      "text/plain": [
       "True"
      ]
     },
     "execution_count": 679,
     "metadata": {},
     "output_type": "execute_result"
    }
   ],
   "source": [
    "np.array_equal(np.diag(similarity), user_purchases)"
   ]
  },
  {
   "cell_type": "markdown",
   "metadata": {},
   "source": [
    "Prima di procedere, **impostiamo a 0 tutti i valori sulla diagonale** per far sì che tra i simili di ciascun utente non sia incluso lui stesso.\n",
    "\n",
    "La funzione `fill_diagonal` imposta gli elementi della diagonale al valore dato."
   ]
  },
  {
   "cell_type": "code",
   "execution_count": 680,
   "metadata": {},
   "outputs": [
    {
     "data": {
      "text/plain": [
       "array([[0, 4, 1, 0, 1],\n",
       "       [4, 0, 1, 0, 0],\n",
       "       [1, 1, 0, 1, 4],\n",
       "       [0, 0, 1, 0, 1],\n",
       "       [1, 0, 4, 1, 0]])"
      ]
     },
     "execution_count": 680,
     "metadata": {},
     "output_type": "execute_result"
    }
   ],
   "source": [
    "np.fill_diagonal(similarity, 0)\n",
    "similarity[:5, :5]"
   ]
  },
  {
   "cell_type": "markdown",
   "metadata": {
    "slideshow": {
     "slide_type": "slide"
    }
   },
   "source": [
    "### Esercizio 4: Estrazione informazioni dalla matrice similarità\n",
    "\n",
    "- **(4a)** Qual è il numero massimo di prodotti in comune tra due utenti?\n",
    "- **(4b)** Qual è il nome dell'utente che ha più acquisti in comune con l'utente con ID 7661?"
   ]
  },
  {
   "cell_type": "code",
   "execution_count": 681,
   "metadata": {},
   "outputs": [
    {
     "data": {
      "text/plain": [
       "53"
      ]
     },
     "execution_count": 681,
     "metadata": {},
     "output_type": "execute_result"
    }
   ],
   "source": [
    "#4a\n",
    "similarity.max()"
   ]
  },
  {
   "cell_type": "code",
   "execution_count": 682,
   "metadata": {},
   "outputs": [
    {
     "data": {
      "text/plain": [
       "'brent been'"
      ]
     },
     "execution_count": 682,
     "metadata": {},
     "output_type": "execute_result"
    }
   ],
   "source": [
    "#4b\n",
    "user_names[similarity[user_indices[7661]].argmax()]"
   ]
  },
  {
   "cell_type": "markdown",
   "metadata": {
    "slideshow": {
     "slide_type": "slide"
    }
   },
   "source": [
    "## Stimare il potenziale interesse nei prodotti\n",
    "\n",
    "Vogliamo stimare **quanto ciascun utente sia potenzialmente interessato** in ciascun prodotto non ancora acquistato.\n",
    "\n",
    "Possiamo stimarlo in base a quanto il prodotto **sia stato acquistato da utenti simili**.\n",
    "\n",
    "Associamo per ogni utente U e prodotto P un _punteggio d'interesse_ pari alla **somma delle similarità degli altri utenti** che hanno acquistato P.\n",
    "\n",
    "$$ I_{u,i} = \\sum_{v \\in \\mathbf{U}: i \\in P_v \\wedge u \\neq v} S_{u,v} $$"
   ]
  },
  {
   "cell_type": "markdown",
   "metadata": {
    "slideshow": {
     "slide_type": "slide"
    }
   },
   "source": [
    "Questa somma equivale in pratica al prodotto scalare tra:\n",
    "\n",
    "- la riga relativa a U di `similarity` che indica i punteggi di similarità con gli altri utenti e\n",
    "- la colonna relativa a P di `purchases` che indica quali utenti lo hanno acquistato.\n",
    "\n",
    "Ad esempio, l'interesse stimato del 1° utente verso il 2° prodotto è:"
   ]
  },
  {
   "cell_type": "code",
   "execution_count": 683,
   "metadata": {},
   "outputs": [
    {
     "data": {
      "text/plain": [
       "5"
      ]
     },
     "execution_count": 683,
     "metadata": {},
     "output_type": "execute_result"
    }
   ],
   "source": [
    "similarity[0, :] @ purchases[:, 1]"
   ]
  },
  {
   "cell_type": "markdown",
   "metadata": {},
   "source": [
    "### Esercizio 5: calcolo matrice punteggi d'interesse\n",
    "\n",
    "- **(5a)** Costruire una matrice `interest` contenente in ciascuna cella di riga _i_ e colonna _j_ l'interesse stimato dell'utente _i_-esimo verso il prodotto _j_-esimo secondo la formula indicata sopra.\n",
    "- **(5b)** Verificare che la forma di `interest` sia la stessa di quella di `purchases` (utenti x prodotti).\n",
    "- **(5c)** Impostare a 0 i valori nella matrice `interest` relativi a coppie utente-prodotto _(U, P)_ in cui _U_ ha già acquistato _P_."
   ]
  },
  {
   "cell_type": "code",
   "execution_count": 684,
   "metadata": {},
   "outputs": [],
   "source": [
    "#5a\n",
    "interest = similarity @ purchases"
   ]
  },
  {
   "cell_type": "code",
   "execution_count": 685,
   "metadata": {},
   "outputs": [
    {
     "data": {
      "text/plain": [
       "True"
      ]
     },
     "execution_count": 685,
     "metadata": {},
     "output_type": "execute_result"
    }
   ],
   "source": [
    "#5b\n",
    "interest.shape == purchases.shape"
   ]
  },
  {
   "cell_type": "code",
   "execution_count": 686,
   "metadata": {},
   "outputs": [],
   "source": [
    "#5c\n",
    "interest[purchases_bool] = 0"
   ]
  },
  {
   "cell_type": "code",
   "execution_count": 687,
   "metadata": {},
   "outputs": [
    {
     "name": "stdout",
     "output_type": "stream",
     "text": [
      "OK\n"
     ]
    }
   ],
   "source": [
    "# TEST\n",
    "assert interest[0, 0] == 0\n",
    "assert interest[3, 3] == 8\n",
    "assert interest[-4, 10] == 0\n",
    "assert interest[-2, 12] == 0\n",
    "assert interest[-1, -1] == 5\n",
    "print(\"OK\")"
   ]
  },
  {
   "cell_type": "markdown",
   "metadata": {
    "slideshow": {
     "slide_type": "slide"
    }
   },
   "source": [
    "Visualizziamo un estratto della matrice..."
   ]
  },
  {
   "cell_type": "code",
   "execution_count": 688,
   "metadata": {},
   "outputs": [
    {
     "data": {
      "text/plain": [
       "array([[ 0,  5,  0,  4,  4,  3,  1,  0,  4,  3],\n",
       "       [ 3,  7,  1,  6,  1,  1,  2,  1,  2,  0],\n",
       "       [ 6,  9,  0, 12,  0,  0,  1,  0,  9,  0],\n",
       "       [ 1,  2,  2,  8,  0,  0,  0,  2,  5,  2],\n",
       "       [ 3,  2,  0,  5,  0,  0,  0,  0,  2,  0],\n",
       "       [ 2,  5,  0, 10,  0,  0,  1,  0,  5,  0],\n",
       "       [ 0,  5,  5,  5,  1,  2,  1,  5,  2,  3],\n",
       "       [ 1,  5,  0,  7,  0,  0,  0,  0,  0,  3],\n",
       "       [ 2,  4,  0,  0,  0,  0,  1,  0,  4,  4],\n",
       "       [ 6, 17,  0, 25,  0,  0,  0,  0,  9,  2]])"
      ]
     },
     "execution_count": 688,
     "metadata": {},
     "output_type": "execute_result"
    }
   ],
   "source": [
    "interest[:10, :10]"
   ]
  },
  {
   "cell_type": "markdown",
   "metadata": {},
   "source": [
    "Ad esempio si ritiene che il 10° utente (ultima riga) sia molto interessato al 4° prodotto"
   ]
  },
  {
   "cell_type": "markdown",
   "metadata": {
    "slideshow": {
     "slide_type": "slide"
    }
   },
   "source": [
    "## Ottenere _N_ suggerimenti di acquisto per ogni utente\n",
    "\n",
    "Da migliaia di prodotti nel catalogo, vogliamo suggerirne **un numero limitato ad ogni utente** massimizzando la probabilità di acquisto.\n",
    "\n",
    "Fissiamo un numero _N_ di prodotti da suggerire..."
   ]
  },
  {
   "cell_type": "code",
   "execution_count": 689,
   "metadata": {},
   "outputs": [],
   "source": [
    "N = 20"
   ]
  },
  {
   "cell_type": "markdown",
   "metadata": {},
   "source": [
    "Vogliamo selezionare per ogni utente gli **_N_ prodotti con \"potenziale interesse\" maggiore**.\n",
    "\n",
    "Possiamo procedere per ciascun utente assegnando un \"ranking\" a ciascun prodotto in base al punteggio d'interesse.\n",
    "\n",
    "Una volta fatto questo, selezioniamo per ogni cliente gli _N_ prodotti col ranking migliore."
   ]
  },
  {
   "cell_type": "markdown",
   "metadata": {
    "slideshow": {
     "slide_type": "slide"
    }
   },
   "source": [
    "### Estrarre l'ordine dei valori: il metodo `argsort`\n",
    "\n",
    "Il metodo `argsort` su un vettore restituisce un vettore con i suoi **indici** (da 0 a N-1) **ordinati** secondo i valori."
   ]
  },
  {
   "cell_type": "code",
   "execution_count": 690,
   "metadata": {},
   "outputs": [
    {
     "data": {
      "text/plain": [
       "array([6, 2, 3, 1, 4, 0, 5], dtype=int64)"
      ]
     },
     "execution_count": 690,
     "metadata": {},
     "output_type": "execute_result"
    }
   ],
   "source": [
    "# indici:       0   1   2   3    4    5   6\n",
    "x = np.array([320, 80, 20, 40, 160, 640, 10])\n",
    "x.argsort()"
   ]
  },
  {
   "cell_type": "markdown",
   "metadata": {
    "slideshow": {
     "slide_type": "-"
    }
   },
   "source": [
    "Significa che l'elemento minimo è quello di indice 6 (10), seguito da quello di indice 2 (20) e così via fino al massimo di indice 5 (640).\n",
    "\n",
    "In pratica, selezionando gli elementi dell'array nell'ordine dato da `argsort`, otteniamo un array con gli elementi in ordine crescente."
   ]
  },
  {
   "cell_type": "code",
   "execution_count": 691,
   "metadata": {},
   "outputs": [
    {
     "data": {
      "text/plain": [
       "array([ 10,  20,  40,  80, 160, 320, 640])"
      ]
     },
     "execution_count": 691,
     "metadata": {},
     "output_type": "execute_result"
    }
   ],
   "source": [
    "x[x.argsort()]"
   ]
  },
  {
   "cell_type": "markdown",
   "metadata": {
    "slideshow": {
     "slide_type": "slide"
    }
   },
   "source": [
    "Nel caso di una matrice, l'operazione va eseguita **lungo una dimensione** a scelta (riga per riga o colonna per colonna)."
   ]
  },
  {
   "cell_type": "code",
   "execution_count": 692,
   "metadata": {},
   "outputs": [
    {
     "data": {
      "text/plain": [
       "array([[6, 2, 3, 1, 4, 0, 5],\n",
       "       [5, 6, 2, 0, 1, 4, 3]], dtype=int64)"
      ]
     },
     "execution_count": 692,
     "metadata": {},
     "output_type": "execute_result"
    }
   ],
   "source": [
    "np.array([[32,  8,  2,  4, 16, 64,  1],\n",
    "          [ 8, 16,  4, 64, 32,  1,  2]]).argsort(1)   # 1 = riga per riga"
   ]
  },
  {
   "cell_type": "markdown",
   "metadata": {
    "slideshow": {
     "slide_type": "slide"
    }
   },
   "source": [
    "### Calcolare il \"ranking\" dei prodotti\n",
    "\n",
    "Applicando l'operazione `argsort` due volte otteniamo il \"ranking\" dei valore, ovvero l'indice che ogni elemento avrebbe nell'array ordinato.\n",
    "\n",
    "Otteniamo quindi un array che associa **0 all'elemento più basso, 1 al secondo e così via**."
   ]
  },
  {
   "cell_type": "code",
   "execution_count": 693,
   "metadata": {},
   "outputs": [
    {
     "data": {
      "text/plain": [
       "array([320,  80,  20,  40, 160, 640,  10])"
      ]
     },
     "execution_count": 693,
     "metadata": {},
     "output_type": "execute_result"
    }
   ],
   "source": [
    "x"
   ]
  },
  {
   "cell_type": "code",
   "execution_count": 694,
   "metadata": {},
   "outputs": [
    {
     "data": {
      "text/plain": [
       "array([6, 2, 3, 1, 4, 0, 5], dtype=int64)"
      ]
     },
     "execution_count": 694,
     "metadata": {},
     "output_type": "execute_result"
    }
   ],
   "source": [
    "x.argsort()"
   ]
  },
  {
   "cell_type": "markdown",
   "metadata": {},
   "source": [
    "Da leggersi: l'elemento più basso di `x` ha indice 6, il secondo ha indice 2, ..."
   ]
  },
  {
   "cell_type": "code",
   "execution_count": 695,
   "metadata": {},
   "outputs": [
    {
     "data": {
      "text/plain": [
       "array([5, 3, 1, 2, 4, 6, 0], dtype=int64)"
      ]
     },
     "execution_count": 695,
     "metadata": {},
     "output_type": "execute_result"
    }
   ],
   "source": [
    "x.argsort().argsort()"
   ]
  },
  {
   "cell_type": "markdown",
   "metadata": {},
   "source": [
    "Da leggersi: il primo elemento di `x` è il 5° (contando da 0°) più basso, il secondo è il 3°, ...\n",
    "\n",
    "_(chi fosse curioso può leggere [questa dimostrazione formale](https://www.berkayantmen.com/rank.html) che spiega perché si ottiene questo risultato)_\n",
    "\n",
    "Normalmente l'array risultante contiene 0 per l'elemento più basso e N-1 per quello più alto. Per invertire gli indici, restituendo quindi 0 per l'elemento più alto, è possibile applicare la stessa operazione all'array inverso."
   ]
  },
  {
   "cell_type": "code",
   "execution_count": 696,
   "metadata": {},
   "outputs": [
    {
     "data": {
      "text/plain": [
       "array([1, 3, 5, 4, 2, 0, 6], dtype=int64)"
      ]
     },
     "execution_count": 696,
     "metadata": {},
     "output_type": "execute_result"
    }
   ],
   "source": [
    "(-x).argsort().argsort()"
   ]
  },
  {
   "cell_type": "markdown",
   "metadata": {},
   "source": [
    "Da leggersi: il primo elemento di `x` è il 1° (contando da 0°) più alto, il secondo è il 3°, ..."
   ]
  },
  {
   "cell_type": "markdown",
   "metadata": {},
   "source": [
    "### Esercizio 6: Selezionare i prodotti da suggerire\n",
    "\n",
    "- **(6a)** Estrarre un vettore `interest_ranking_user_0` con il ranking dal più alto al più basso (cioè assegnando 0 a quello più alto) dei punteggi di interesse verso ciascun prodotto per l'utente con indice 0 (prima riga di `purchases` e `interest`).\n",
    "- **(6b)** Dal vettore sopra, usando un operatore di confronto, estrarre un vettore booleano `suggestions_for_user_0` di pari forma con valori `True` in corrispondenza dei 20 punteggi d'interesse più alti.\n",
    "- **(6c)** Generalizzando le soluzioni dei punti sopra, estrarre una matrice `interest_ranking` con i ranking dei punteggi di interesse di ciascun utente (righe) verso ciascun prodotto (colonne) e una matrice `suggestions` di pari forma con valori `True` in corrispondenza dei 20 punteggi d'interesse più alti per ciascun utente.\n",
    "- **(6d)** Estrarre i nomi dei 20 prodotti suggeriti per l'utente con indice 0."
   ]
  },
  {
   "cell_type": "code",
   "execution_count": 697,
   "metadata": {},
   "outputs": [],
   "source": [
    "#6a\n",
    "interest_ranking_user_0 = (-interest[0]).argsort().argsort()"
   ]
  },
  {
   "cell_type": "code",
   "execution_count": 698,
   "metadata": {},
   "outputs": [],
   "source": [
    "#6b\n",
    "suggestions_for_user_0 = interest_ranking_user_0 < N"
   ]
  },
  {
   "cell_type": "code",
   "execution_count": 699,
   "metadata": {},
   "outputs": [],
   "source": [
    "#6c\n",
    "interest_ranking = (-interest).argsort().argsort()\n",
    "suggestions = interest_ranking < N"
   ]
  },
  {
   "cell_type": "code",
   "execution_count": 700,
   "metadata": {},
   "outputs": [
    {
     "data": {
      "text/plain": [
       "array(['Independence Day [VHS]', 'Being John Malkovich', 'Fight Club',\n",
       "       'The Green Mile [VHS]', 'Galaxy Quest [VHS]', 'Sleepy Hollow',\n",
       "       'Double Jeopardy', 'Armageddon [VHS]',\n",
       "       'Curse of the Blair Witch [VHS]', 'The Sixth Sense [VHS]',\n",
       "       'Saving Private Ryan [VHS]', 'Deep Blue Sea', 'Three Kings',\n",
       "       'Dogma [VHS]', 'Jaws [VHS]',\n",
       "       'Belleza Americana  (American Beauty) [VHS]',\n",
       "       'American Pie - Rated Edition (Special Edition) [VHS]',\n",
       "       'The Talented Mr. Ripley', 'Titanic [VHS]', 'Abyss [VHS]'],\n",
       "      dtype=object)"
      ]
     },
     "execution_count": 700,
     "metadata": {},
     "output_type": "execute_result"
    }
   ],
   "source": [
    "#6d\n",
    "item_names[suggestions[0]]"
   ]
  },
  {
   "cell_type": "code",
   "execution_count": 701,
   "metadata": {},
   "outputs": [
    {
     "name": "stdout",
     "output_type": "stream",
     "text": [
      "OK\n"
     ]
    }
   ],
   "source": [
    "# TEST\n",
    "assert suggestions[0, 0] == False\n",
    "assert suggestions[0, 170] == True\n",
    "assert suggestions[1, 400] == True\n",
    "assert suggestions[1, 570] == False\n",
    "print(\"OK\")"
   ]
  },
  {
   "cell_type": "markdown",
   "metadata": {
    "slideshow": {
     "slide_type": "slide"
    }
   },
   "source": [
    "## Accuratezza dei suggerimenti di acquisto\n",
    "\n",
    "Come valutare se i suggerimenti ottenuti in questo modo siano azzeccati?\n",
    "\n",
    "Una possibilità consiste nel verificare **se gli oggetti suggeriti siano stati effettivamente acquistati** in un successivo momento.\n",
    "\n",
    "Nel file `purchases-2014.csv` è fornita una seconda lista di acquisti aggiornata, che include anche quelli successivi al 2000 per gli stessi insiemi di utenti e prodotti. Possiamo confrontare questi nuovi acquisti con i suggerimenti.\n",
    "\n",
    "Come abbiamo fatto per il primo file, creiamo una matrice binaria che indichi quali utenti hanno acquistato quali prodotti.\n",
    "\n",
    "`zeros_like` crea una matrice di zeri di tipo e forma identiche a una data _(esistono anche `empty_like` e `ones_like`)_."
   ]
  },
  {
   "cell_type": "code",
   "execution_count": 702,
   "metadata": {},
   "outputs": [],
   "source": [
    "purchases_updated = np.zeros_like(purchases)"
   ]
  },
  {
   "cell_type": "markdown",
   "metadata": {
    "slideshow": {
     "slide_type": "slide"
    }
   },
   "source": [
    "### Esercizio 7: Caricamento dati in matrice\n",
    "\n",
    "Impostare a 1 gli elementi di `purchases_updated` corrispondenti alle coppie utente-prodotto nel file CSV `purchases-2014.csv`.\n",
    "\n",
    "- Non usare una struttura dati intermedia (es. l'insieme `purchases_set` usato sopra).\n",
    "- Riutilizzare gli stessi dizionari `user_indices` e `item_indices` di prima per garantire che righe e colonne delle matrici combacino."
   ]
  },
  {
   "cell_type": "code",
   "execution_count": 703,
   "metadata": {},
   "outputs": [],
   "source": [
    "#7\n",
    "with open(\"purchases-2014.csv\", \"r\") as f:\n",
    "    reader = csv.reader(f, delimiter=\";\")\n",
    "    for uid, iid in reader:\n",
    "        purchases_updated[user_indices[int(uid)], item_indices[int(iid)]] = 1"
   ]
  },
  {
   "cell_type": "markdown",
   "metadata": {
    "slideshow": {
     "slide_type": "slide"
    }
   },
   "source": [
    "### Esercizio 8: Selezionare solo i nuovi acquisti\n",
    "\n",
    "La nuova matrice riporta **tutti** gli acquisti, compresi quelli già indicati nella matrice precedente.\n",
    "\n",
    "Vogliamo una matrice `new_purchases` in cui siano indicati con 1 **solo gli acquisti successivi** all'analisi svolta sopra.\n",
    "\n",
    "Quale operazione tra le matrici `purchases` e `purchases_updated` ci permette di ottenere tale risultato?\n",
    "\n",
    "Estrarre la matrice binaria `new_purchases` da tale operazione e convertirla in matrice booleana."
   ]
  },
  {
   "cell_type": "code",
   "execution_count": 704,
   "metadata": {},
   "outputs": [],
   "source": [
    "#8\n",
    "new_purchases = (purchases_updated - purchases).astype(bool)"
   ]
  },
  {
   "cell_type": "markdown",
   "metadata": {
    "slideshow": {
     "slide_type": "slide"
    }
   },
   "source": [
    "### Esercizio 9: Quali nuovi acquisti sono stati suggeriti?\n",
    "\n",
    "Abbiamo ora le matrici booleane `suggestions` con gli acquisti _suggeriti_ e `new_purchases` con i nuovi acquisti _effettivi_.\n",
    "\n",
    "Da queste possiamo estrarre una matrice `hits` che indichi quali sono i suggerimenti **validi**, quelli a cui dopo l'analisi è corrisposto un acquisto.\n",
    "\n",
    "Quale operazione tra le due matrici ci fa ottenere tale risultato?"
   ]
  },
  {
   "cell_type": "code",
   "execution_count": 705,
   "metadata": {},
   "outputs": [],
   "source": [
    "#9\n",
    "hits = suggestions & new_purchases"
   ]
  },
  {
   "cell_type": "markdown",
   "metadata": {
    "slideshow": {
     "slide_type": "slide"
    }
   },
   "source": [
    "### Esercizio 10: Quanti utenti hanno ricevuto almeno un suggerimento valido?\n",
    "\n",
    "- **(10a)** Ottenere un vettore booleano `satisfied_users` che indichi quali utenti hanno ottenuto almeno un suggerimento valido, cioè almeno un `True` nella riga corrispondente di `hits`\n",
    "- **(10b)** Ricavare dal vettore stesso il numero di tali utenti\n",
    "- **(10c)** Ricavare dal vettore stesso la percentuale di tali utenti rispetto al numero totale"
   ]
  },
  {
   "cell_type": "code",
   "execution_count": 706,
   "metadata": {},
   "outputs": [],
   "source": [
    "#10a\n",
    "satisfied_users = hits.any(1)"
   ]
  },
  {
   "cell_type": "code",
   "execution_count": 707,
   "metadata": {},
   "outputs": [
    {
     "data": {
      "text/plain": [
       "61"
      ]
     },
     "execution_count": 707,
     "metadata": {},
     "output_type": "execute_result"
    }
   ],
   "source": [
    "#10b\n",
    "satisfied_users.sum()"
   ]
  },
  {
   "cell_type": "code",
   "execution_count": 708,
   "metadata": {},
   "outputs": [
    {
     "data": {
      "text/plain": [
       "0.34269662921348315"
      ]
     },
     "execution_count": 708,
     "metadata": {},
     "output_type": "execute_result"
    }
   ],
   "source": [
    "#10c\n",
    "satisfied_users.mean()"
   ]
  },
  {
   "cell_type": "markdown",
   "metadata": {},
   "source": [
    "Si dovrebbe ottenere una percentuale del **34,3%** di utenti soddisfatti."
   ]
  },
  {
   "cell_type": "markdown",
   "metadata": {
    "slideshow": {
     "slide_type": "slide"
    }
   },
   "source": [
    "## Esercizio avanzato: Confronto con una selezione casuale di prodotti\n",
    "\n",
    "_(si propone come esercizio da svolgere opzionalmente dopo la lezione)_\n",
    "\n",
    "Per valutare quanto il risultato ottenuto sia buono, possiamo misurare cosa otterremmo **suggerendo _N_ prodotti a caso** a ciascun utente.\n",
    "\n",
    "Con questa procedura, si verifica che si otterrebbe una percentuale di clienti soddisfatti intorno al **13%**, contro il **35%** ottenuto sopra.\n",
    "\n",
    "Per ottenere risultati riproducibili, impostare un seed per la generazione di numeri casuali tramite la seguente funzione."
   ]
  },
  {
   "cell_type": "code",
   "execution_count": 709,
   "metadata": {},
   "outputs": [],
   "source": [
    "np.random.seed(123)"
   ]
  },
  {
   "cell_type": "markdown",
   "metadata": {},
   "source": [
    "- **(a)** generare una matrice `random_interest` di forma pari ad `interest` con valori casuali\n",
    "  - usare una funzione per generare valori casuali in un intervallo continuo, ad es `np.random.random`, indicando la forma desiderata"
   ]
  },
  {
   "cell_type": "code",
   "execution_count": 710,
   "metadata": {},
   "outputs": [],
   "source": [
    "random_interest = ..."
   ]
  },
  {
   "cell_type": "markdown",
   "metadata": {
    "slideshow": {
     "slide_type": "slide"
    }
   },
   "source": [
    "- **(b)** impostare a 0 i valori della matrice corrispondenti a prodotti già acquistati"
   ]
  },
  {
   "cell_type": "markdown",
   "metadata": {
    "slideshow": {
     "slide_type": "-"
    }
   },
   "source": [
    "- **(c)** selezionare gli _N_ prodotti di maggiore interesse per ogni utente\n",
    "  - come sopra, generare la matrice con i ranking lungo ciascuna riga, quindi selezionare i ranking appropriati"
   ]
  },
  {
   "cell_type": "code",
   "execution_count": 711,
   "metadata": {},
   "outputs": [],
   "source": [
    "random_interest_ranking = ...\n",
    "random_suggestions = ..."
   ]
  },
  {
   "cell_type": "markdown",
   "metadata": {
    "slideshow": {
     "slide_type": "slide"
    }
   },
   "source": [
    "- **(d)** eseguire il confronto con i prodotti effettivamente acquistati ed estrarre il vettore che indica gli utenti con almeno un suggerimento valido"
   ]
  },
  {
   "cell_type": "code",
   "execution_count": 712,
   "metadata": {},
   "outputs": [],
   "source": [
    "random_hits = ...\n",
    "randomly_satisfied_users = ..."
   ]
  },
  {
   "cell_type": "markdown",
   "metadata": {},
   "source": [
    "- **(e)** calcolare la percentuale di tali utenti rispetto al totale"
   ]
  }
 ],
 "metadata": {
  "kernelspec": {
   "display_name": "Python 3 (ipykernel)",
   "language": "python",
   "name": "python3"
  },
  "language_info": {
   "codemirror_mode": {
    "name": "ipython",
    "version": 3
   },
   "file_extension": ".py",
   "mimetype": "text/x-python",
   "name": "python",
   "nbconvert_exporter": "python",
   "pygments_lexer": "ipython3",
   "version": "3.11.3"
  }
 },
 "nbformat": 4,
 "nbformat_minor": 4
}

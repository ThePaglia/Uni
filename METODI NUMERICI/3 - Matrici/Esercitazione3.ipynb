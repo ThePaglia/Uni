{
 "cells": [
  {
   "cell_type": "markdown",
   "id": "cd8d6a57-49d8-4eab-bb0f-107b277ad3d1",
   "metadata": {},
   "source": [
    "## Esercizi sui Numpy array  7 Marzo 2023\n"
   ]
  },
  {
   "cell_type": "markdown",
   "id": "e84277dd-60f6-4f68-a215-01a84d73523e",
   "metadata": {},
   "source": [
    "- **0.** Costruisci un numpy array con 2000000 elementi equidistanti nell'intervallo [0,4] utilizzando il linspace e con il metodo che assegna i valori in un ciclo dopo aver definito il passo e confronta il tempo di esecuzione delle due modalità di costruzione."
   ]
  },
  {
   "cell_type": "code",
   "execution_count": 68,
   "id": "b0962709",
   "metadata": {},
   "outputs": [
    {
     "name": "stdout",
     "output_type": "stream",
     "text": [
      "[0.000000e+00 2.000001e-06 4.000002e-06 ... 3.999996e+00 3.999998e+00\n",
      " 4.000000e+00]\n",
      "0.01695418357849121\n"
     ]
    }
   ],
   "source": [
    "import numpy as np\n",
    "import time\n",
    "start = time.time()\n",
    "print(np.linspace(0, 4, 2000000))\n",
    "stop = time.time()\n",
    "print(stop - start)"
   ]
  },
  {
   "cell_type": "code",
   "execution_count": 69,
   "id": "7f31c99b",
   "metadata": {},
   "outputs": [
    {
     "name": "stdout",
     "output_type": "stream",
     "text": [
      "[0.000000e+00 2.000001e-06 4.000002e-06 ... 3.999996e+00 3.999998e+00\n",
      " 4.000000e+00]\n",
      "0.3660438060760498\n"
     ]
    }
   ],
   "source": [
    "start = time.time()\n",
    "a = 0\n",
    "b = 4\n",
    "n = 2000000\n",
    "dx = (b - a) / (n - 1)\n",
    "x = np.zeros(n)\n",
    "for i in range(n):\n",
    "    x[i] = a + i * dx\n",
    "print(x)\n",
    "stop = time.time()\n",
    "print(stop - start)"
   ]
  },
  {
   "cell_type": "markdown",
   "id": "55088af4-a3a4-452b-9f39-38327eba5ab0",
   "metadata": {},
   "source": [
    "- **1.**  Costruire un numpy array 1d, denominato  `c`, di valori equidistanti che variano tra 7 e 41 con step 2 e trasformarlo in un numpy array 2d, denominato `C1` , con shape(2,9) applicando il metodo `.reshape((m,n))` a c. \n",
    "\n",
    "  Si tratta di una copia o di una `vista dell'array originale` con una nuova shape, con dati condivisi con l'array originale?\n"
   ]
  },
  {
   "cell_type": "code",
   "execution_count": 70,
   "id": "a0b531af",
   "metadata": {},
   "outputs": [
    {
     "data": {
      "text/plain": [
       "array([[ 7,  9, 11, 13, 15, 17, 19, 21, 23],\n",
       "       [25, 27, 29, 31, 33, 35, 37, 39, 41]])"
      ]
     },
     "execution_count": 70,
     "metadata": {},
     "output_type": "execute_result"
    }
   ],
   "source": [
    "np.arange(7, 42, 2).reshape(2, 9)"
   ]
  },
  {
   "cell_type": "markdown",
   "id": "62109805-3fdd-4ceb-b478-7e0c1652ef6b",
   "metadata": {},
   "source": [
    "Importa il modulo numpy"
   ]
  },
  {
   "cell_type": "markdown",
   "id": "7b81197a-a950-48ab-8e75-31855ac69d9d",
   "metadata": {},
   "source": [
    " - **2.** Costruire un numpy array 1d, denominato $C$ di valori che variano tra 15 e 41 con step 2 e trasformarlo in un numpy array 2d con shape(7,2) usando il metodo .`resize(7,2)` che lavora in-place,  (cioè  modifica l'array esistente, senza creare una copia). Verificare la shape di C"
   ]
  },
  {
   "cell_type": "code",
   "execution_count": 71,
   "id": "a6f92497",
   "metadata": {},
   "outputs": [
    {
     "name": "stdout",
     "output_type": "stream",
     "text": [
      "[[15 17]\n",
      " [19 21]\n",
      " [23 25]\n",
      " [27 29]\n",
      " [31 33]\n",
      " [35 37]\n",
      " [39 41]]\n"
     ]
    }
   ],
   "source": [
    "c = np.arange(15, 42, 2)\n",
    "c = np.resize(c, (7, 2))\n",
    "print(c)"
   ]
  },
  {
   "cell_type": "markdown",
   "id": "65a55a8f-1b6d-474d-a012-8e83ca167588",
   "metadata": {},
   "source": [
    "- **3.** Costruire un numpy array 1d $c$ di valori che variano tra 15 e 41 con step 2 e trasformarlo in un numpy array 2d con shape(7,2) usando la funzione `reshape`. Verificare se la funzione  `reshape` restituisce una copia oppure una vista. "
   ]
  },
  {
   "cell_type": "code",
   "execution_count": 72,
   "id": "fd70366b",
   "metadata": {},
   "outputs": [
    {
     "data": {
      "text/plain": [
       "array([[15, 17],\n",
       "       [19, 21],\n",
       "       [23, 25],\n",
       "       [27, 29],\n",
       "       [31, 33],\n",
       "       [35, 37],\n",
       "       [39, 41]])"
      ]
     },
     "execution_count": 72,
     "metadata": {},
     "output_type": "execute_result"
    }
   ],
   "source": [
    "np.arange(15, 42, 2).reshape(7, 2)"
   ]
  },
  {
   "cell_type": "markdown",
   "id": "fa72fbdd-8a7a-419a-8067-6951f06e2de4",
   "metadata": {},
   "source": [
    "- **4.** Costruire un numpy array 1d $d$ di valori che variano tra 15 e 41 con step 2 e trasformarlo in un numpy array 2d con shape(7,2) usando la funzione `resize`. Verificare se la funzione  `resize` restituisce una copia oppure una vista. "
   ]
  },
  {
   "cell_type": "code",
   "execution_count": 73,
   "id": "9c1c8813",
   "metadata": {},
   "outputs": [
    {
     "name": "stdout",
     "output_type": "stream",
     "text": [
      "[[15 17]\n",
      " [19 21]\n",
      " [23 25]\n",
      " [27 29]\n",
      " [31 33]\n",
      " [35 37]\n",
      " [39 41]]\n"
     ]
    }
   ],
   "source": [
    "c = np.arange(15, 42, 2)\n",
    "c = np.resize(c, (7, 2))\n",
    "print(c)"
   ]
  },
  {
   "cell_type": "markdown",
   "id": "d1adc080-9ce4-404c-ba18-c831f2625214",
   "metadata": {},
   "source": [
    "- **5.** Dato il numpy array s formato da 100 valori equidistanti in  [0,4], considerarne il reshape in un array 2d che ha 4 righe con un numero opportuno di colonne"
   ]
  },
  {
   "cell_type": "code",
   "execution_count": 74,
   "id": "029f46ad",
   "metadata": {},
   "outputs": [
    {
     "data": {
      "text/plain": [
       "array([[0.        , 0.04040404, 0.08080808, 0.12121212, 0.16161616,\n",
       "        0.2020202 , 0.24242424, 0.28282828, 0.32323232, 0.36363636,\n",
       "        0.4040404 , 0.44444444, 0.48484848, 0.52525253, 0.56565657,\n",
       "        0.60606061, 0.64646465, 0.68686869, 0.72727273, 0.76767677,\n",
       "        0.80808081, 0.84848485, 0.88888889, 0.92929293, 0.96969697],\n",
       "       [1.01010101, 1.05050505, 1.09090909, 1.13131313, 1.17171717,\n",
       "        1.21212121, 1.25252525, 1.29292929, 1.33333333, 1.37373737,\n",
       "        1.41414141, 1.45454545, 1.49494949, 1.53535354, 1.57575758,\n",
       "        1.61616162, 1.65656566, 1.6969697 , 1.73737374, 1.77777778,\n",
       "        1.81818182, 1.85858586, 1.8989899 , 1.93939394, 1.97979798],\n",
       "       [2.02020202, 2.06060606, 2.1010101 , 2.14141414, 2.18181818,\n",
       "        2.22222222, 2.26262626, 2.3030303 , 2.34343434, 2.38383838,\n",
       "        2.42424242, 2.46464646, 2.50505051, 2.54545455, 2.58585859,\n",
       "        2.62626263, 2.66666667, 2.70707071, 2.74747475, 2.78787879,\n",
       "        2.82828283, 2.86868687, 2.90909091, 2.94949495, 2.98989899],\n",
       "       [3.03030303, 3.07070707, 3.11111111, 3.15151515, 3.19191919,\n",
       "        3.23232323, 3.27272727, 3.31313131, 3.35353535, 3.39393939,\n",
       "        3.43434343, 3.47474747, 3.51515152, 3.55555556, 3.5959596 ,\n",
       "        3.63636364, 3.67676768, 3.71717172, 3.75757576, 3.7979798 ,\n",
       "        3.83838384, 3.87878788, 3.91919192, 3.95959596, 4.        ]])"
      ]
     },
     "execution_count": 74,
     "metadata": {},
     "output_type": "execute_result"
    }
   ],
   "source": [
    "np.linspace(0, 4, 100).reshape(4, 25)"
   ]
  },
  {
   "cell_type": "markdown",
   "id": "d40f5d7a-4808-4004-b806-b8b75bcaa01b",
   "metadata": {},
   "source": [
    "- **6.** Dato il numpy array s formato da 100 valori equidistanti in  [0,4], considerarne il reshape in un array 2d che ha 4 colonne con un numero opportuno di righe"
   ]
  },
  {
   "cell_type": "code",
   "execution_count": 75,
   "id": "f6b3e7dd",
   "metadata": {},
   "outputs": [
    {
     "data": {
      "text/plain": [
       "array([[0.        , 0.04040404, 0.08080808, 0.12121212],\n",
       "       [0.16161616, 0.2020202 , 0.24242424, 0.28282828],\n",
       "       [0.32323232, 0.36363636, 0.4040404 , 0.44444444],\n",
       "       [0.48484848, 0.52525253, 0.56565657, 0.60606061],\n",
       "       [0.64646465, 0.68686869, 0.72727273, 0.76767677],\n",
       "       [0.80808081, 0.84848485, 0.88888889, 0.92929293],\n",
       "       [0.96969697, 1.01010101, 1.05050505, 1.09090909],\n",
       "       [1.13131313, 1.17171717, 1.21212121, 1.25252525],\n",
       "       [1.29292929, 1.33333333, 1.37373737, 1.41414141],\n",
       "       [1.45454545, 1.49494949, 1.53535354, 1.57575758],\n",
       "       [1.61616162, 1.65656566, 1.6969697 , 1.73737374],\n",
       "       [1.77777778, 1.81818182, 1.85858586, 1.8989899 ],\n",
       "       [1.93939394, 1.97979798, 2.02020202, 2.06060606],\n",
       "       [2.1010101 , 2.14141414, 2.18181818, 2.22222222],\n",
       "       [2.26262626, 2.3030303 , 2.34343434, 2.38383838],\n",
       "       [2.42424242, 2.46464646, 2.50505051, 2.54545455],\n",
       "       [2.58585859, 2.62626263, 2.66666667, 2.70707071],\n",
       "       [2.74747475, 2.78787879, 2.82828283, 2.86868687],\n",
       "       [2.90909091, 2.94949495, 2.98989899, 3.03030303],\n",
       "       [3.07070707, 3.11111111, 3.15151515, 3.19191919],\n",
       "       [3.23232323, 3.27272727, 3.31313131, 3.35353535],\n",
       "       [3.39393939, 3.43434343, 3.47474747, 3.51515152],\n",
       "       [3.55555556, 3.5959596 , 3.63636364, 3.67676768],\n",
       "       [3.71717172, 3.75757576, 3.7979798 , 3.83838384],\n",
       "       [3.87878788, 3.91919192, 3.95959596, 4.        ]])"
      ]
     },
     "execution_count": 75,
     "metadata": {},
     "output_type": "execute_result"
    }
   ],
   "source": [
    "np.linspace(0, 4, 100).reshape(25, 4)"
   ]
  },
  {
   "cell_type": "markdown",
   "id": "19559c2a-0ac7-4d4a-b6ff-38e58843b3b6",
   "metadata": {},
   "source": [
    " - **7.** Scrivere il numpy  array 2d [[10,11,12],[13,14,15],[16,17,18]] e trasformarlo in un numpy array 1d usando i metodi `.ravel()` e `.flatten()`. Verificare che flatten restituisce una copia mentre ravel restituisce una vista."
   ]
  },
  {
   "cell_type": "code",
   "execution_count": 76,
   "id": "8e4672f1",
   "metadata": {},
   "outputs": [
    {
     "data": {
      "text/plain": [
       "array([10, 11, 12, 13, 14, 15, 16, 17, 18])"
      ]
     },
     "execution_count": 76,
     "metadata": {},
     "output_type": "execute_result"
    }
   ],
   "source": [
    "np.array([[10,11,12],[13,14,15],[16,17,18]]).ravel()\n",
    "np.array([[10,11,12],[13,14,15],[16,17,18]]).flatten()"
   ]
  },
  {
   "cell_type": "markdown",
   "id": "c77c2529-d680-42c9-9231-3aca724b1c12",
   "metadata": {},
   "source": [
    " - **8.** creare i due  numpy array 1d\n",
    "f1= [ 0  1  2  3  4  5  6  7  8  9 10 11 12 13 14 15] ed \n",
    "f2= [16 17 18 19 20 21 22 23 24 25 26 27 28 29 30 31]\n",
    "\"vederli\" come matrici  4x4 ed effettuarne il prodotto scalare, memorizzando in f3 la matrice che nasce dal loro prodotto."
   ]
  },
  {
   "cell_type": "code",
   "execution_count": 77,
   "id": "6fe17211",
   "metadata": {},
   "outputs": [
    {
     "data": {
      "text/plain": [
       "array([[ 152,  158,  164,  170],\n",
       "       [ 504,  526,  548,  570],\n",
       "       [ 856,  894,  932,  970],\n",
       "       [1208, 1262, 1316, 1370]])"
      ]
     },
     "execution_count": 77,
     "metadata": {},
     "output_type": "execute_result"
    }
   ],
   "source": [
    "f1= np.array([0, 1, 2, 3, 4, 5, 6, 7, 8, 9, 10, 11, 12, 13, 14, 15]).reshape(4, 4)\n",
    "f2= np.array([16, 17, 18, 19, 20, 21, 22, 23, 24, 25, 26, 27, 28, 29, 30, 31]).reshape(4, 4)\n",
    "np.dot(f1, f2)"
   ]
  },
  {
   "cell_type": "markdown",
   "id": "c9249961-c220-46c0-9e0d-e59dfefe662c",
   "metadata": {},
   "source": [
    "- **9.**                Dati :\n",
    " - Numpy Array A di shape (2,10) : array di valori random campionati da una distribuzione gaussiana con media 0 e varianza 1.\n",
    " - Numpy array 1D B di shape (20,) formato dagli interi da 0 a 19.\n",
    " \n",
    "\"Vedere\" A come un array 1D di 20 elementi ed effettuare la somma di A+B\n",
    "\n"
   ]
  },
  {
   "cell_type": "code",
   "execution_count": 78,
   "id": "6ac93edf",
   "metadata": {},
   "outputs": [
    {
     "data": {
      "text/plain": [
       "array([ 1.13959506,  2.39544391,  0.41579711,  4.70159022,  2.6854571 ,\n",
       "        4.02595699,  7.01626884,  7.91990189,  6.78667475, 10.74643947,\n",
       "       10.83275672,  9.49232423, 12.18842294, 11.78007532, 13.27759652,\n",
       "       14.29173565, 15.00420169, 17.24583249, 19.59968623, 19.44703802])"
      ]
     },
     "execution_count": 78,
     "metadata": {},
     "output_type": "execute_result"
    }
   ],
   "source": [
    "a = np.random.randn(2,10).flatten()\n",
    "b = np.arange(0, 20)\n",
    "a+b"
   ]
  },
  {
   "cell_type": "markdown",
   "id": "7f6cf29e-d14a-46c9-8f35-e66151a9e0a3",
   "metadata": {},
   "source": [
    " - **10.** Creare un array 2D di shape (5,5), denominato B2, con valori tutti uguali a 15.\n",
    "Creare una copia B3 di B2. Modificare l'elemento B3[0,0] assegnandogli il valore 150. \n",
    "Stampare il numpy array B2 ed il numpy array B3 e verificare che B2, dopo la modifica di B3, è rimasto inalterato"
   ]
  },
  {
   "cell_type": "code",
   "execution_count": 79,
   "id": "a4976272",
   "metadata": {},
   "outputs": [
    {
     "name": "stdout",
     "output_type": "stream",
     "text": [
      "[[15 15 15 15 15]\n",
      " [15 15 15 15 15]\n",
      " [15 15 15 15 15]\n",
      " [15 15 15 15 15]\n",
      " [15 15 15 15 15]]\n",
      "[[150  15  15  15  15]\n",
      " [ 15  15  15  15  15]\n",
      " [ 15  15  15  15  15]\n",
      " [ 15  15  15  15  15]\n",
      " [ 15  15  15  15  15]]\n"
     ]
    }
   ],
   "source": [
    "a = np.full((5, 5), 15)\n",
    "b = np.copy(a)\n",
    "b[0, 0] = 150\n",
    "\n",
    "print(a)\n",
    "print(b)"
   ]
  },
  {
   "cell_type": "markdown",
   "id": "22c456d1-2897-412c-99c1-e9b19cbab4e7",
   "metadata": {},
   "source": [
    " - **11.** - Dato un numpy array 1D, di shape (10,) denominato `f`, costituito da 10 valori equidistanti nell'intervallo [0,1], aumentarne la dimensionalità, in maniera tale che abbia shape (10,1)"
   ]
  },
  {
   "cell_type": "code",
   "execution_count": 80,
   "id": "217406a4",
   "metadata": {},
   "outputs": [
    {
     "name": "stdout",
     "output_type": "stream",
     "text": [
      "[[0.        ]\n",
      " [0.11111111]\n",
      " [0.22222222]\n",
      " [0.33333333]\n",
      " [0.44444444]\n",
      " [0.55555556]\n",
      " [0.66666667]\n",
      " [0.77777778]\n",
      " [0.88888889]\n",
      " [1.        ]]\n"
     ]
    }
   ],
   "source": [
    "a = np.linspace(0, 1, 10).reshape(10, 1)\n",
    "print(a)"
   ]
  },
  {
   "cell_type": "markdown",
   "id": "2866db7c-cbcb-431e-bc6a-2645577a65e8",
   "metadata": {},
   "source": [
    "- **12.** Dati i seguenti numpy array\n",
    "  - a= np.array([14,13,12,11])\n",
    "  - b=np.array([[4,3,2,1],[9,10,11,12]])\n",
    "\n",
    "  Costruire il numpy array che si ottiene concatenando a e b per righe\n"
   ]
  },
  {
   "cell_type": "code",
   "execution_count": 81,
   "id": "93a40c50",
   "metadata": {},
   "outputs": [
    {
     "data": {
      "text/plain": [
       "array([[14, 13, 12, 11],\n",
       "       [ 4,  3,  2,  1],\n",
       "       [ 9, 10, 11, 12]])"
      ]
     },
     "execution_count": 81,
     "metadata": {},
     "output_type": "execute_result"
    }
   ],
   "source": [
    "a = np.array([14,13,12,11]).reshape(1, 4)\n",
    "b = np.array([[4,3,2,1],[9,10,11,12]])\n",
    "np.concatenate((a, b), axis = 0)"
   ]
  },
  {
   "cell_type": "markdown",
   "id": "d57c7290-27ce-4dce-a8e2-6b89124ed223",
   "metadata": {},
   "source": [
    "- **13.** - Dati i seguenti numpy array\n",
    "  - a= np.array([14,13,12,11])\n",
    "  - b=np.array([[4,3,2,1],[9,10,11,12],[4,3,2,1],[9,10,11,12]])\n",
    "\n",
    "  Costruire il numpy array che si ottiene concatenando a e b per colonne"
   ]
  },
  {
   "cell_type": "code",
   "execution_count": 82,
   "id": "27e6be69",
   "metadata": {},
   "outputs": [
    {
     "data": {
      "text/plain": [
       "array([[14,  4,  3,  2,  1],\n",
       "       [13,  9, 10, 11, 12],\n",
       "       [12,  4,  3,  2,  1],\n",
       "       [11,  9, 10, 11, 12]])"
      ]
     },
     "execution_count": 82,
     "metadata": {},
     "output_type": "execute_result"
    }
   ],
   "source": [
    "a = np.array([14,13,12,11]).reshape(4, 1)\n",
    "b = np.array([[4,3,2,1],[9,10,11,12],[4,3,2,1],[9,10,11,12]])\n",
    "np.concatenate((a, b), axis = 1)"
   ]
  },
  {
   "attachments": {},
   "cell_type": "markdown",
   "id": "7c6eb421-0e1f-445b-b72f-7d2a2451fcb4",
   "metadata": {},
   "source": [
    "- **14.** Costruisci la matrice tridiagonale A di ordine 10, che ha elementi diagonali $A_{i,i}=10$, i=1,20, elementi nella codiagonale inferiore $A_{i-1,i}=-12$ i=2,..,20\n",
    "elementi nella codiagonale superiore $A_{i,i+1}=-2$ i=1,..,19"
   ]
  },
  {
   "cell_type": "code",
   "execution_count": 83,
   "id": "9b6824e0",
   "metadata": {},
   "outputs": [
    {
     "name": "stdout",
     "output_type": "stream",
     "text": [
      "[[10 -2  0  0  0  0  0  0  0  0]\n",
      " [12 10 -2  0  0  0  0  0  0  0]\n",
      " [ 0 12 10 -2  0  0  0  0  0  0]\n",
      " [ 0  0 12 10 -2  0  0  0  0  0]\n",
      " [ 0  0  0 12 10 -2  0  0  0  0]\n",
      " [ 0  0  0  0 12 10 -2  0  0  0]\n",
      " [ 0  0  0  0  0 12 10 -2  0  0]\n",
      " [ 0  0  0  0  0  0 12 10 -2  0]\n",
      " [ 0  0  0  0  0  0  0 12 10 -2]\n",
      " [ 0  0  0  0  0  0  0  0 12 10]]\n"
     ]
    }
   ],
   "source": [
    "a = np.diag([10 for x in range(10)])\n",
    "b = np.diag([-2 for x in range(9)], k = 1)\n",
    "c = np.diag([12 for x in range(9)], k = -1)\n",
    "A = a + b + c\n",
    "print(A)"
   ]
  },
  {
   "cell_type": "markdown",
   "id": "bae8a3dc-e71c-4ff4-8062-2d66c377d63f",
   "metadata": {},
   "source": [
    " - **15** Costruire la matrice identità della stessa dimensione di A"
   ]
  },
  {
   "cell_type": "code",
   "execution_count": 84,
   "id": "7e618d71",
   "metadata": {},
   "outputs": [
    {
     "data": {
      "text/plain": [
       "array([[1., 0., 0., 0., 0., 0., 0., 0., 0., 0.],\n",
       "       [0., 1., 0., 0., 0., 0., 0., 0., 0., 0.],\n",
       "       [0., 0., 1., 0., 0., 0., 0., 0., 0., 0.],\n",
       "       [0., 0., 0., 1., 0., 0., 0., 0., 0., 0.],\n",
       "       [0., 0., 0., 0., 1., 0., 0., 0., 0., 0.],\n",
       "       [0., 0., 0., 0., 0., 1., 0., 0., 0., 0.],\n",
       "       [0., 0., 0., 0., 0., 0., 1., 0., 0., 0.],\n",
       "       [0., 0., 0., 0., 0., 0., 0., 1., 0., 0.],\n",
       "       [0., 0., 0., 0., 0., 0., 0., 0., 1., 0.],\n",
       "       [0., 0., 0., 0., 0., 0., 0., 0., 0., 1.]])"
      ]
     },
     "execution_count": 84,
     "metadata": {},
     "output_type": "execute_result"
    }
   ],
   "source": [
    "np.identity(10)"
   ]
  },
  {
   "cell_type": "markdown",
   "id": "612458f4-d8f6-4015-ae74-042d73cbd9f9",
   "metadata": {},
   "source": [
    "- **16.** Selezionare dalla matrice A le righe che vanno dalla 2 alla 9 con step 2 e le colonne che vanno dalla 3 alla 6 con step 2\n"
   ]
  },
  {
   "cell_type": "code",
   "execution_count": 85,
   "id": "f8f89396",
   "metadata": {},
   "outputs": [
    {
     "data": {
      "text/plain": [
       "array([[-2,  0],\n",
       "       [12, -2],\n",
       "       [ 0, 12],\n",
       "       [ 0,  0]])"
      ]
     },
     "execution_count": 85,
     "metadata": {},
     "output_type": "execute_result"
    }
   ],
   "source": [
    "A[2:10:2, 3:6:2]"
   ]
  },
  {
   "cell_type": "markdown",
   "id": "db2a4f82-fe57-4763-bd58-9921869c671c",
   "metadata": {},
   "source": [
    "- **17.** A1 è una vista di A, come trasformarla in copia?"
   ]
  },
  {
   "cell_type": "code",
   "execution_count": 86,
   "id": "27289eb8",
   "metadata": {},
   "outputs": [],
   "source": [
    "A1 = np.copy(A)"
   ]
  },
  {
   "cell_type": "markdown",
   "id": "f5a336bc-5cf9-4400-ae23-4be1f35521de",
   "metadata": {
    "tags": []
   },
   "source": [
    "- **18.** Costruisci due numpy array di shape (5,5) \n",
    "   - A formata da numeri interi casuali  nell'intervallo [1,20]\n",
    "   - B formata da numeri interi casuali  nell'intervallo [1,6]\n",
    " \n",
    "  Costruisci in modalità element-wise le matrici\n",
    "  C=A+B\n",
    "  D=A-B\n",
    "  E=A*B\n",
    "  F=A\\B"
   ]
  },
  {
   "cell_type": "code",
   "execution_count": 87,
   "id": "32eefbc4",
   "metadata": {},
   "outputs": [
    {
     "name": "stdout",
     "output_type": "stream",
     "text": [
      "[[15 18  2  8  6]\n",
      " [ 8  3 17 19 15]\n",
      " [15 11  5 14 12]\n",
      " [ 5 16 12  2  4]\n",
      " [ 5 10  6  7 14]]\n",
      "[[1 5 2 3 6]\n",
      " [6 5 2 3 1]\n",
      " [6 6 6 1 2]\n",
      " [1 2 2 6 5]\n",
      " [6 6 3 3 2]]\n"
     ]
    }
   ],
   "source": [
    "A = np.random.randint(1, 21, [5,5])\n",
    "B = np.random.randint(1, 7, [5,5])\n",
    "print(A)\n",
    "print(B)"
   ]
  },
  {
   "cell_type": "code",
   "execution_count": 88,
   "id": "1dcc5b66",
   "metadata": {},
   "outputs": [
    {
     "name": "stdout",
     "output_type": "stream",
     "text": [
      "[[16 23  4 11 12]\n",
      " [14  8 19 22 16]\n",
      " [21 17 11 15 14]\n",
      " [ 6 18 14  8  9]\n",
      " [11 16  9 10 16]]\n",
      "[[14 13  0  5  0]\n",
      " [ 2 -2 15 16 14]\n",
      " [ 9  5 -1 13 10]\n",
      " [ 4 14 10 -4 -1]\n",
      " [-1  4  3  4 12]]\n",
      "[[15 90  4 24 36]\n",
      " [48 15 34 57 15]\n",
      " [90 66 30 14 24]\n",
      " [ 5 32 24 12 20]\n",
      " [30 60 18 21 28]]\n",
      "[[15.          3.6         1.          2.66666667  1.        ]\n",
      " [ 1.33333333  0.6         8.5         6.33333333 15.        ]\n",
      " [ 2.5         1.83333333  0.83333333 14.          6.        ]\n",
      " [ 5.          8.          6.          0.33333333  0.8       ]\n",
      " [ 0.83333333  1.66666667  2.          2.33333333  7.        ]]\n"
     ]
    }
   ],
   "source": [
    "C = A + B\n",
    "D = A - B\n",
    "E = A * B\n",
    "F = A / B\n",
    "print(C)\n",
    "print(D)\n",
    "print(E)\n",
    "print(F)"
   ]
  },
  {
   "cell_type": "markdown",
   "id": "43fad425-0411-4471-962e-c79247aecb83",
   "metadata": {},
   "source": [
    "- **19.** Costruisci il prodotto scalare tra le  matrici A e B (righe per colonne)"
   ]
  },
  {
   "cell_type": "code",
   "execution_count": 89,
   "id": "e7c6c064",
   "metadata": {},
   "outputs": [
    {
     "data": {
      "text/plain": [
       "array([[179, 229, 112, 167, 164],\n",
       "       [237, 285, 207, 209, 210],\n",
       "       [197, 260, 146, 203, 205],\n",
       "       [199, 205, 130,  99,  88],\n",
       "       [192, 209, 122, 135, 115]])"
      ]
     },
     "execution_count": 89,
     "metadata": {},
     "output_type": "execute_result"
    }
   ],
   "source": [
    "np.dot(A, B)"
   ]
  },
  {
   "cell_type": "markdown",
   "id": "e6ae130a-1d6c-429b-ab62-718ff805d9bc",
   "metadata": {},
   "source": [
    "- **20.** Somma gli elementi delle righe della matrice B"
   ]
  },
  {
   "cell_type": "code",
   "execution_count": 90,
   "id": "092f20fb",
   "metadata": {},
   "outputs": [
    {
     "name": "stdout",
     "output_type": "stream",
     "text": [
      "[20 24 15 16 16]\n"
     ]
    }
   ],
   "source": [
    "print(np.sum(B, axis = 0))"
   ]
  },
  {
   "cell_type": "markdown",
   "id": "4cb04c63-c9c6-41a8-8e62-bc4497a4251b",
   "metadata": {},
   "source": [
    "- **21.** Somma gli elementi delle colonne della matrice B"
   ]
  },
  {
   "cell_type": "code",
   "execution_count": 91,
   "id": "b4b1c8a7",
   "metadata": {},
   "outputs": [
    {
     "name": "stdout",
     "output_type": "stream",
     "text": [
      "[17 17 21 16 20]\n"
     ]
    }
   ],
   "source": [
    "print(np.sum(B, axis = 1))"
   ]
  },
  {
   "cell_type": "markdown",
   "id": "5715d0db-b005-4256-86a0-4a94a46fdd96",
   "metadata": {},
   "source": [
    "- **22.** Somma tutti gli elementi di B"
   ]
  },
  {
   "cell_type": "code",
   "execution_count": 92,
   "id": "ad131473",
   "metadata": {},
   "outputs": [
    {
     "name": "stdout",
     "output_type": "stream",
     "text": [
      "91\n"
     ]
    }
   ],
   "source": [
    "print(np.sum(B))"
   ]
  },
  {
   "cell_type": "markdown",
   "id": "337c76cc-d82b-4bbb-a57c-52080a6aa9cb",
   "metadata": {},
   "source": [
    "- **23.** Calcolare il minimo degli elementi di B, tra le righe, tra le colonne, il minimo di tutta la matrice B"
   ]
  },
  {
   "cell_type": "code",
   "execution_count": 93,
   "id": "ff94f77e",
   "metadata": {},
   "outputs": [
    {
     "name": "stdout",
     "output_type": "stream",
     "text": [
      "[1 2 2 1 1]\n",
      "[1 1 1 1 2]\n",
      "1\n"
     ]
    }
   ],
   "source": [
    "minRow = np.min(B, axis = 0)\n",
    "minCol = np.min(B, axis = 1)\n",
    "minAll = np.min(B)\n",
    "print(minRow)\n",
    "print(minCol)\n",
    "print(minAll)"
   ]
  },
  {
   "cell_type": "markdown",
   "id": "30bc84d9-f2ff-42aa-95ee-b10d69e50762",
   "metadata": {},
   "source": [
    "- **24** Calcola, memorizzando in un vettore, la somma degli elementi di ogni colonna di $ |B |$. Calcola successivamente il massimo di questo vettore.\n",
    "$cmaxc= \\max_{j=1,n} \\sum_{i} |b_{ij}|$"
   ]
  },
  {
   "cell_type": "code",
   "execution_count": 94,
   "id": "53f4f36f",
   "metadata": {},
   "outputs": [
    {
     "data": {
      "text/plain": [
       "21"
      ]
     },
     "execution_count": 94,
     "metadata": {},
     "output_type": "execute_result"
    }
   ],
   "source": [
    "sumCol = np.sum(B, axis = 1)\n",
    "np.max(sumCol)"
   ]
  },
  {
   "cell_type": "markdown",
   "id": "7763e180-a6f1-41d3-9af7-4fb92bacd72d",
   "metadata": {},
   "source": [
    "- **25.** Calcola, memorizzando in un vettore, la somma degli elementi di ogni riga  di $ |B |$. Calcola successivamente il massimo di questo vettore.\n",
    "$cmaxr= \\max_{i=1,n} \\sum_{j} |b_{ij}|$"
   ]
  },
  {
   "cell_type": "code",
   "execution_count": 95,
   "id": "392c916d",
   "metadata": {},
   "outputs": [
    {
     "data": {
      "text/plain": [
       "24"
      ]
     },
     "execution_count": 95,
     "metadata": {},
     "output_type": "execute_result"
    }
   ],
   "source": [
    "sumRow = np.sum(B, axis = 0)\n",
    "np.max(sumRow)"
   ]
  },
  {
   "cell_type": "markdown",
   "id": "89a136bb-2e23-4fca-9717-d32434f5f5ce",
   "metadata": {},
   "source": [
    "- **26.** Effettua nella matrice B lo scambio tra la  riga 2 e  la riga 3"
   ]
  },
  {
   "cell_type": "code",
   "execution_count": 96,
   "id": "b9b5b554",
   "metadata": {},
   "outputs": [
    {
     "name": "stdout",
     "output_type": "stream",
     "text": [
      "[[1 5 2 3 6]\n",
      " [6 5 2 3 1]\n",
      " [6 6 6 1 2]\n",
      " [1 2 2 6 5]\n",
      " [6 6 3 3 2]]\n",
      "[[1 5 2 3 6]\n",
      " [6 6 6 1 2]\n",
      " [6 5 2 3 1]\n",
      " [1 2 2 6 5]\n",
      " [6 6 3 3 2]]\n"
     ]
    }
   ],
   "source": [
    "print(B)\n",
    "B[[1, 2], :] = B[[2, 1], :] #swap rows\n",
    "#B[:, [1, 2]] = B[:, [2, 1]] #swap columns\n",
    "print(B)"
   ]
  },
  {
   "cell_type": "markdown",
   "id": "5a00eaef-f14c-49f9-b9d1-c8ad90627935",
   "metadata": {},
   "source": [
    " - **27.** Calcola il valore massimo della colonna 0-esima della matrice B e l'indice di riga a cui appartiene"
   ]
  },
  {
   "cell_type": "code",
   "execution_count": 97,
   "id": "2ca83dd6",
   "metadata": {},
   "outputs": [
    {
     "name": "stdout",
     "output_type": "stream",
     "text": [
      "6\n",
      "1\n"
     ]
    }
   ],
   "source": [
    "maxFirstCol = np.max(B[:, 0])\n",
    "print(maxFirstCol)\n",
    "maxFirstColIndex = np.argmax(B[:, 0])\n",
    "print(maxFirstColIndex)"
   ]
  },
  {
   "attachments": {},
   "cell_type": "markdown",
   "id": "12be327e-41a9-4700-82b2-f78709585ce3",
   "metadata": {},
   "source": [
    "- **28.** Scrivi una funzione `border(m,n)` per creare un array 2D di shape(m,n) che abbia tutti valori zero, ad eccezione degli elementi attorno al bordo (ovvero la prima e l'ultima riga e la prima e l'ultima colonna), che deve avere un valore pari a uno. Prevedi un argomento di default che se impostato a True visualizza la matrice "
   ]
  },
  {
   "cell_type": "code",
   "execution_count": 98,
   "id": "98ee4e3b",
   "metadata": {},
   "outputs": [
    {
     "name": "stdout",
     "output_type": "stream",
     "text": [
      "[[1. 1. 1. 1. 1.]\n",
      " [1. 0. 0. 0. 1.]\n",
      " [1. 0. 0. 0. 1.]\n",
      " [1. 0. 0. 0. 1.]\n",
      " [1. 1. 1. 1. 1.]]\n"
     ]
    }
   ],
   "source": [
    "def border(m, n, debug=False):\n",
    "    A = np.zeros((m, n))\n",
    "    A[[0], :] = 1\n",
    "    A[[m-1], :] = 1\n",
    "    A[:, [0]] = 1\n",
    "    A[:, [n-1]] = 1\n",
    "    if debug:\n",
    "        print(A)\n",
    "border(5, 5, debug=True)"
   ]
  },
  {
   "cell_type": "markdown",
   "id": "20e88028-91cf-4f99-90b9-5d2f8148b3a9",
   "metadata": {},
   "source": [
    "- **29.** Scrivi una funzione `visualizza(f,a,b)`che prende in input una lambda function, gli estremi dell'intervallo su cui è definita e la visualizzi in una finestra grafica"
   ]
  },
  {
   "cell_type": "code",
   "execution_count": 99,
   "id": "700e7edf",
   "metadata": {},
   "outputs": [
    {
     "data": {
      "image/png": "[encoded data removed]",
      "text/plain": [
       "<Figure size 640x480 with 1 Axes>"
      ]
     },
     "metadata": {},
     "output_type": "display_data"
    }
   ],
   "source": [
    "import matplotlib.pyplot as plt\n",
    "def visualizza(f, a, b):\n",
    "    x = np.linspace(a, b, 100)\n",
    "    y = f(x)\n",
    "    plt.plot(x, y)\n",
    "    plt.show()\n",
    "visualizza(lambda x: x**2, -2, 2)"
   ]
  },
  {
   "attachments": {},
   "cell_type": "markdown",
   "id": "c4e0b8d0-b590-4554-9954-7333715b3c63",
   "metadata": {},
   "source": [
    "- **30.** Scrivi una funzione `visualizza2(f,a,b,f2,a2,b2)`che prende in input una lambda function f e gli estremi dell'intervallo su cui è definita, una lambda function f2 e gli estremi dell'intervallo su cui è definita, e le visualizzi sulla stessa finestra grafica"
   ]
  },
  {
   "cell_type": "code",
   "execution_count": 101,
   "id": "0d8c43c3",
   "metadata": {},
   "outputs": [
    {
     "data": {
      "image/png": "[encoded data removed]",
      "text/plain": [
       "<Figure size 640x480 with 1 Axes>"
      ]
     },
     "metadata": {},
     "output_type": "display_data"
    }
   ],
   "source": [
    "def visualizza2(f1, a, b, f2, a2, b2):\n",
    "    x1 = np.linspace(a, b, 100)\n",
    "    y1 = f1(x1)\n",
    "    x2 = np.linspace(a2, b2, 100)\n",
    "    y2 = f2(x2)\n",
    "    plt.plot(x1, y1, x2, y2)\n",
    "    plt.show()\n",
    "visualizza2(lambda x: x**2, -2, 2, lambda x: x**3, -2, 2)"
   ]
  }
 ],
 "metadata": {
  "kernelspec": {
   "display_name": "py310",
   "language": "python",
   "name": "python3"
  },
  "language_info": {
   "codemirror_mode": {
    "name": "ipython",
    "version": 3
   },
   "file_extension": ".py",
   "mimetype": "text/x-python",
   "name": "python",
   "nbconvert_exporter": "python",
   "pygments_lexer": "ipython3",
   "version": "3.11.2"
  },
  "vscode": {
   "interpreter": {
    "hash": "30eef1dcfb837675ec28ded3b62cbdc631b763468d0e57f04da975e3db11727d"
   }
  }
 },
 "nbformat": 4,
 "nbformat_minor": 5
}

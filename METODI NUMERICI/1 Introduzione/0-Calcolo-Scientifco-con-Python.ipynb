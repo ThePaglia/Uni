{
 "cells": [
  {
   "cell_type": "markdown",
   "metadata": {
    "tags": []
   },
   "source": [
    "# Introduzione al calcolo scientifico con Python\n",
    "  - [Interprete](#Interprete)\n",
    "  - [IPython](#IPython)\n",
    "  - [Jupyter](#Jupyter)\n",
    "  - [Markdown](#Markdown)\n",
    "  - [JupyterLab](#JupyterLab)\n",
    "  - [Spyder](#Spyder)\n",
    "  - [Installazione di Python](#Installazione)\n",
    "  - [Identazione](#Indentazione)\n",
    "\n"
   ]
  },
  {
   "cell_type": "markdown",
   "metadata": {},
   "source": [
    "Cosa è Python?"
   ]
  },
  {
   "cell_type": "markdown",
   "metadata": {},
   "source": [
    "- Python è un linguaggio moderno di programmazione interpretato ad alto livello, orientato agli oggetti e di uso generale.\n",
    "\n",
    "- Caratteristiche generali di Python:\n",
    "\n",
    "    **Linguaggio pulito e semplice**: codice facile da leggere ed intuitivo, sintassi minimalista facile da apprendere, la manutenzione scala bene in base alla dimensione dei progetti.\n",
    "    Linguaggio espressivo: meno linee di codice, meno bug, più facile da mantenere.\n",
    "\n",
    "- Dettagli tecnici:\n",
    "\n",
    "    **Tipizzazione dinamica**: non è necessario definire il tipo di variabili, argomenti di funzione o tipi di ritorno.\n",
    "    \n",
    "    **Gestione automatica della memoria**: non è necessario allocare e deallocare esplicitamente la memoria per le variabili e gli array di dati. Nessun bug di perdita di memoria.\n",
    "    \n",
    "    **Interpretato**: non è necessario compilare il codice. L'interprete Python legge ed esegue direttamente il codice Python.\n",
    "\n",
    "- Vantaggi:\n",
    "\n",
    "    Il principale vantaggio è la **facilità di programmazione**, riducendo il tempo necessario per sviluppare, debuggare e mantenere il codice.\n",
    "    \n",
    "    Linguaggio ben progettato che incoraggia molte buone pratiche di programmazione:\n",
    "    \n",
    "    Programmazione modulare e orientata agli oggetti, buon sistema per l'incapsulamento e il riutilizzo del codice. Ciò spesso porta a codice più trasparente, mantenibile e privo di bug.\n",
    "    \n",
    "    Documentazione strettamente integrata con il codice.\n",
    "    \n",
    "    Una grande libreria standard e una vasta collezione di pacchetti aggiuntivi.\n",
    "    \n",
    "    Anche se Python è considerato un linguaggio interpretato, i programmi vengono automaticamente compilati in un formato chiamato **bytecode** prima di essere eseguiti. Questo formato è più compatto ed efficiente, e garantisce quindi prestazione elevate. Inoltre, diverse strutture dati, funzioni, e moduli di Python sono implementati internamente in C per essere ancora più performanti.\n",
    "\n"
   ]
  },
  {
   "cell_type": "markdown",
   "metadata": {},
   "source": [
    "# Cosa rende Python adatto per il calcolo scientifico?"
   ]
  },
  {
   "cell_type": "markdown",
   "metadata": {},
   "source": [
    "Python ha una posizione forte nel calcolo scientifico:\n",
    "\n",
    "    1. Ampia comunità di utenti, facile da trovare aiuto e documentazione.\n",
    "\n",
    "    2. Ecosistema esteso di librerie ed ambienti scientifici:\n",
    "        numpy: http://numpy.scipy.org - Numerical Python\n",
    "        scipy: http://www.scipy.org - Scientific Python\n",
    "        matplotlib: http://www.matplotlib.org - libreria grafica\n",
    "\n",
    "    3.  Ottime prestazioni grazie alla stretta integrazione con codici altamente\n",
    "        ottimizzati e collaudati scritti in C e Fortran:\n",
    "        blas, atlas blas, lapack, arpack, Intel MKL, ...\n",
    "\n",
    "    4. Buon supporto per:\n",
    "        Elaborazione parallela con processi e thread\n",
    "        Comunicazione tra processi (MPI)\n",
    "        Calcolo GPU (OpenCL e CUDA)\n",
    "\n",
    "    5. Facilmente disponibile e adatto per l'uso su cluster di elaborazione ad alta prestazione.\n",
    "\n",
    "    6. Nessun costo di licenza, nessun uso superfluo del budget di ricerca."
   ]
  },
  {
   "cell_type": "markdown",
   "metadata": {},
   "source": [
    "### The scientific python software stack"
   ]
  },
  {
   "cell_type": "markdown",
   "metadata": {},
   "source": [
    "<img src=\"scipy_ecosystem.png\" width=\"300\">"
   ]
  },
  {
   "cell_type": "markdown",
   "metadata": {},
   "source": [
    "\n",
    "Ci sono molte librerie disponibili per il calcolo scientifico e la visualizzazione. Ben noto e ampiamente utilizzato è lo SciPy Stack che consiste in\n",
    "\n",
    "- Python, un linguaggio di programmazione orientato agli oggetti generico\n",
    "- NumPy, una libreria Python che fornisce array multidimensionali sui quali è possibile eseguire operazioni vettoriali in maniera veloce.\n",
    "- SciPy, una libreria Python che fornisce routine computazionali, ad esempio integrazione numerica, vari risolutori di equazioni e ottimizzazione\n",
    "- matplotlib, una potente libreria Python che fornisce la visualizzazione scientifica di dati\n",
    "- IPython, un interprete Python interattivo migliorato\n",
    "- SymPy, una libreria Python per il supporto dell'algebra informatica (ovvero il calcolo simbolico)\n",
    "- Jupyter Notebook, un'app Web che consente di creare e condividere codice live, equazioni, visualizzazioni e testo esplicativo"
   ]
  },
  {
   "cell_type": "markdown",
   "metadata": {},
   "source": [
    "## Interprete "
   ]
  },
  {
   "cell_type": "markdown",
   "metadata": {},
   "source": [
    "Il modo standard per utilizzare il linguaggio di programmazione Python consiste nell'utilizzare l'interprete Python per eseguire il codice Python. L'interprete Python è un programma che legge ed esegue il codice Python scritto nei file che gli vengono passati come argomenti. Al prompt dei comandi, il comando ``python`` viene utilizzato per invocare l'interprete Python.\n",
    "\n",
    "Ad esempio, per eseguire un file ``my-program.py`` che contiene codice python dal *prompt dei comandi anaconda*, usare:\n",
    "\n",
    " python my-program.py\n",
    "\n",
    "Possiamo anche avviare l'interprete semplicemente digitando ``python`` nella riga di comando e digitare interattivamente il codice python nell'interprete.\n",
    "\n",
    "\n",
    "Questo è spesso il modo in cui vogliamo lavorare quando sviluppiamo applicazioni scientifiche o quando eseguiamo piccoli calcoli. Ma l'interprete Python standard non è molto conveniente per questo tipo di lavoro, a causa di una serie di limitazioni."
   ]
  },
  {
   "cell_type": "markdown",
   "metadata": {},
   "source": [
    "## IPython"
   ]
  },
  {
   "cell_type": "markdown",
   "metadata": {},
   "source": [
    "IPython è una shell interattiva che risolve i limiti dell'interprete Python standard ed è un cavallo di battaglia per l'uso scientifico di Python. Fornisce un prompt interattivo all'interprete Python con una facilità d'uso notevolmente migliorata.\n",
    "\n",
    "<!-- <img src=\"files/images/ipython-screenshot.jpg\" width=\"600\"> -->\n",
    "<img src=\"ipython_screenshot.jpg\" width=\"600\">\n",
    "\n",
    "Tra le funzioni utili di IPython ricordiamo:\n",
    "\n",
    "* Cronologia dei comandi, che può essere sfogliata con le frecce su e giù della tastiera.\n",
    "* Completamento automatico delle schede.\n",
    "* Modifica in linea del codice.\n",
    "* Introspezione degli oggetti ed estrazione automatica delle stringhe di documentazione da oggetti Python come classi e funzioni.\n",
    "* Buona interazione con la shell del sistema operativo.\n",
    "    - _% cd_  -> sposta la shell nella sua directory home (predefinita)\n",
    "    \n",
    "  \n",
    "    - _% pwd_ -> La console restituisce il percorso della directory corrente del computer\n",
    "    \n",
    "  \n",
    "    - _% cd_ .. ->  sposta la shell IPython nella directory superiore nell'albero delle directory\n",
    "    \n",
    "  \n",
    "    - _% ls_   -> la console elenca i nomi dei file e sottodirectory nella directory corrente\n"
   ]
  },
  {
   "cell_type": "markdown",
   "metadata": {},
   "source": [
    "## Jupyter"
   ]
  },
  {
   "cell_type": "markdown",
   "metadata": {},
   "source": [
    "[Jupyter notebook](https://jupyter.org/) È un ambiente notebook basato su HTML per Python, fornisce un ambiente basato su celle con una grande interattività, dove i calcoli possono essere organizzati e documentati in modo strutturato.\n",
    "\n",
    "\n",
    "Sebbene utilizzi un browser Web come interfaccia grafica, i notebook   vengono solitamente eseguiti localmente, dallo stesso computer che esegue il browser. Per avviare una nuova sessione notebook Jupyter Notebook, eseguire il comando seguente:\n",
    "\n",
    "     $ jupyter notebook\n",
    "\n",
    "da una directory in cui sono archiviati  i notebook. Verrà aperta una nuova finestra del browser (o una nuova scheda in una finestra esistente) con una pagina  da cui è possibile aprire notebook già esistenti oppure crearne di nuovi."
   ]
  },
  {
   "cell_type": "markdown",
   "metadata": {},
   "source": [
    "## Markdown"
   ]
  },
  {
   "cell_type": "markdown",
   "metadata": {},
   "source": [
    "Markdown è un linguaggio di markup leggero che può essere utilizzato per formattare testo, creare elenchi, aggiungere link e immagini, e altro ancora nei notebook Jupyter. Ecco alcune delle regole di base per la sintassi del Markdown in Jupyter:\n",
    "\n",
    "    Per il testo in grassetto: utilizzare due asterischi o due sottolineature : **testo in grassetto** o __testo in grassetto__.\n",
    "\n",
    "    Per il testo in corsivo: utilizzare un asterisco o una sottolineatura: *testo in corsivo* o _testo in corsivo_.\n",
    "\n",
    "    Per creare intestazioni: utilizzare il simbolo #. Ad esempio, # Intestazione di primo livello creerà un'intestazione di primo livello, mentre ## Intestazione di secondo livello creerà un'intestazione di secondo livello.\n",
    "\n",
    "    Liste: utilizzare il simbolo - o * per creare elenchi puntati e il numero seguito da un punto per creare elenchi numerati.\n",
    "    Link: utilizzare la sintassi [testo del link](URL del link) per creare un link. Ad esempio, [Link al sito di Jupyter](https://jupyter.org/) creerà un link al sito di Jupyter"
   ]
  },
  {
   "cell_type": "markdown",
   "metadata": {},
   "source": [
    "## JupyterLab"
   ]
  },
  {
   "cell_type": "markdown",
   "metadata": {},
   "source": [
    "[JupyterLab](https://jupyterlab.readthedocs.io/en/stable/)  è un ambiente di sviluppo integrato basato su Jupyter, progettato per fornire un'interfaccia utente più moderna e flessibile rispetto a Jupyter. JupyterLab ha una struttura basata su moduli che consente agli utenti di personalizzare l'interfaccia utente per soddisfare le proprie esigenze. Inoltre, JupyterLab consente di lavorare con più notebook contemporaneamente e di organizzare i documenti in schede e aree di lavoro.\n",
    "\n",
    "Per avviare una nuova sessione notebook Jupyter Notebook, eseguire il comando seguente:\n",
    "\n",
    "     $ jupyter-lab"
   ]
  },
  {
   "cell_type": "markdown",
   "metadata": {},
   "source": [
    "## Spyder"
   ]
  },
  {
   "cell_type": "markdown",
   "metadata": {},
   "source": [
    "[Spyder](http://code.google.com/p/spyderlib/) è un IDE simile a MATLAB per il calcolo scientifico con Python. Presenta i numerosi vantaggi di un ambiente IDE tradizionale, ad esempio che tutto, dalla modifica del codice, all'esecuzione e al debug, viene eseguito in un unico ambiente e il lavoro su diversi calcoli può essere organizzato come progetti nell'ambiente IDE.\n",
    "\n",
    "<!-- <img src=\"files/images/spyder-screenshot.jpg\" width=\"800\"> -->\n",
    "<img src=\"spyder_screenshot.png\" width=\"800\">\n",
    "\n",
    "Alcuni vantaggi di Spyder:\n",
    "\n",
    "* Potente editor di codice, con evidenziazione della sintassi, introspezione dinamica del codice e integrazione con il debugger Python.\n",
    "* Esplora variabili, prompt dei comandi IPython.\n",
    "* Documentazione e aiuto integrati."
   ]
  },
  {
   "cell_type": "markdown",
   "metadata": {},
   "source": [
    "## Installazione"
   ]
  },
  {
   "cell_type": "markdown",
   "metadata": {},
   "source": [
    "### Conda"
   ]
  },
  {
   "cell_type": "markdown",
   "metadata": {},
   "source": [
    "Durante questo corso utilizzeremo la **Anaconda Individual Distribution di Python** che include diversi pacchetti utili per il calcolo scientifico e l'analisi di dati. Scaricabile direttamente dal sito (https://www.anaconda.com/products/individual)"
   ]
  },
  {
   "cell_type": "markdown",
   "metadata": {},
   "source": [
    "<img src=\"Anaconda_Navigator.png\" width=\"800\">"
   ]
  },
  {
   "cell_type": "markdown",
   "metadata": {},
   "source": [
    "## Indentazione\n",
    "A differenza di altri linguaggi che delimitano blocchi di codice con parentesi graffe (come C, C++ e Java) o con parole riservate come begin /end, Python usa indentazione .\n",
    "Questa scelta ha diversi aspetti positivi, tra cui:\n",
    "\n",
    "- il linguaggio risulta più chiaro e leggibile;\n",
    "\n",
    " - la struttura del programma coincide sempre con quella dell’indentazione;\n",
    "\n",
    "- lo stile di indentazione è necessariamente uniforme in qualsiasi listato.\n",
    "\n",
    "Questo significa che, in Python, l’indentazione è significativa, e che indentare in modo scorretto può portare a comportamenti sbagliati del programma o a errori."
   ]
  },
  {
   "cell_type": "markdown",
   "metadata": {},
   "source": [
    "## Convenzioni\n",
    " La Python Software Foundation ha reso disponibile un documento chiamato PEP 8 (acronimo che sta per Python Enhancement Proposal ), che raccoglie diverse convenzioni e linee guida.\n",
    "La PEP 8 include anche una sezione sull’indentazione , che suggerisce tra le altre cose\n",
    "- usare sempre 4 spazi per livello di indentazione;\n",
    "- evitare l’uso dei caratteri di tabulazione;\n",
    "- non mischiare mai l’uso di tabulazioni e spazi.\n",
    "Anche se la PEP 8 suggerisce di seguire queste convenzioni, è possibile (sebbene fortemente sconsigliato) usare tab o un numero diverso di spazi. Fintanto che i livelli di indentazione sono consistenti, il programma comunque funzionerà.\n",
    "Ci sono tuttavia alcune eccezioni. Se state lavorando su codice che usa una convenzione diversa, è meglio adeguarsi ad essa o, in alternativa, adattare tutto il codice esistente alla PEP 8. Inoltre, è comunque possibile (e talvolta consigliato) usare più o meno spazi per allineare elementi all’interno di una lista, o argomenti all’interno di una chiamata a funzione."
   ]
  },
  {
   "cell_type": "code",
   "execution_count": null,
   "metadata": {},
   "outputs": [],
   "source": []
  }
 ],
 "metadata": {
  "kernelspec": {
   "display_name": "Python 3",
   "language": "python",
   "name": "python3"
  },
  "language_info": {
   "codemirror_mode": {
    "name": "ipython",
    "version": 3
   },
   "file_extension": ".py",
   "mimetype": "text/x-python",
   "name": "python",
   "nbconvert_exporter": "python",
   "pygments_lexer": "ipython3",
   "version": "3.11.2"
  },
  "vscode": {
   "interpreter": {
    "hash": "21dd527e9445c521a672bcf427b0c1f476f001b1e5c8510d955ec48db003ff86"
   }
  }
 },
 "nbformat": 4,
 "nbformat_minor": 4
}

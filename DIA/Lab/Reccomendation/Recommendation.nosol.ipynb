{
 "cells": [
  {
   "cell_type": "markdown",
   "metadata": {
    "slideshow": {
     "slide_type": "slide"
    }
   },
   "source": [
    "# Laboratorio: Recommendation\n",
    "\n",
    "**Programmazione di Applicazioni Data Intensive**  \n",
    "Laurea in Ingegneria e Scienze Informatiche  \n",
    "DISI - Università di Bologna, Cesena\n",
    "\n",
    "Proff. Gianluca Moro, Roberto Pasolini  \n",
    "`nome.cognome@unibo.it`"
   ]
  },
  {
   "cell_type": "markdown",
   "metadata": {
    "slideshow": {
     "slide_type": "slide"
    }
   },
   "source": [
    "## Setup\n",
    "\n",
    "Importare le librerie necessarie"
   ]
  },
  {
   "cell_type": "code",
   "execution_count": 63,
   "metadata": {},
   "outputs": [],
   "source": [
    "import numpy as np\n",
    "import pandas as pd"
   ]
  },
  {
   "cell_type": "markdown",
   "metadata": {},
   "source": [
    "Nella seconda parte utilizzeremo la libreria **Surprise**\n",
    "\n",
    "Se si utilizza Colab (consigliato), eseguire la cella sotto rimuovendo `#` per installare Surprise con `pip`"
   ]
  },
  {
   "cell_type": "code",
   "execution_count": 64,
   "metadata": {},
   "outputs": [],
   "source": [
    "# pip install scikit-surprise"
   ]
  },
  {
   "cell_type": "markdown",
   "metadata": {},
   "source": [
    "Se si utilizza un ambiente Anaconda, eseguire la cella sotto rimuovendo `#` per installare Surprise con `conda`"
   ]
  },
  {
   "cell_type": "code",
   "execution_count": 65,
   "metadata": {},
   "outputs": [],
   "source": [
    "# conda install -c conda-forge scikit-surprise"
   ]
  },
  {
   "cell_type": "markdown",
   "metadata": {},
   "source": [
    "In altri casi installare con `pip` come sopra\n",
    "\n",
    "_Può essere richiesta la compilazione dei sorgenti, in tal caso accertarsi di aver installato il package wheel (`pip install wheel`) e un compilatore C con le librerie Python (es. su Debian, Ubuntu e derivati `sudo apt install build-essentials python3-dev`)_\n",
    "\n",
    "Una volta installato Surprise, eseguirne l'import per verifica"
   ]
  },
  {
   "cell_type": "code",
   "execution_count": 66,
   "metadata": {},
   "outputs": [
    {
     "data": {
      "text/plain": [
       "'1.1.3'"
      ]
     },
     "execution_count": 66,
     "metadata": {},
     "output_type": "execute_result"
    }
   ],
   "source": [
    "import surprise\n",
    "surprise.__version__"
   ]
  },
  {
   "cell_type": "markdown",
   "metadata": {
    "slideshow": {
     "slide_type": "slide"
    }
   },
   "source": [
    "## Recommendation e collaborative filtering\n",
    "\n",
    "I sistemi di _recommendation_ sono usati in molti contesti per suggerire agli **utenti** di un servizio alcuni degli **oggetti** offerti, in modo mirato secondo i loro interessi\n",
    "\n",
    "- suggerire prodotti da acquistare su Amazon\n",
    "- suggerire film o serie da vedere su Netflix\n",
    "- suggerire canzoni da ascoltare su Spotify\n",
    "- ...\n",
    "\n",
    "I metodi di _collaborative filtering_ forniscono suggerimenti sulla base delle **associazioni** esistenti tra utenti e oggetti, ad esempio i **voti** dati dagli utenti agli oggetti\n",
    "\n",
    "Nel collaborative filtering non vengono invece usate informazioni specifiche su singoli utenti (es. età) e oggetti (es. categoria)"
   ]
  },
  {
   "cell_type": "markdown",
   "metadata": {
    "slideshow": {
     "slide_type": "slide"
    }
   },
   "source": [
    "## Recommendation su dati Amazon\n",
    "\n",
    "Nelle prime esercitazioni avevamo visto un metodo di recommendation semplice applicato su dati di vendite estratti da Amazon\n",
    "\n",
    "Riprendiamo ora gli stessi dati, ma includendo l'informazione sui **voti dati dai clienti**\n",
    "\n",
    "I dati sono divisi in due file CSV\n",
    "\n",
    "- uno contenente i voti raccolti fino alla fine del 2000, da usare come training set\n",
    "- uno contenente i voti raccolti dal 2001 in poi, da usare come validation set\n",
    "\n",
    "Scarichiamo i due file"
   ]
  },
  {
   "cell_type": "code",
   "execution_count": 67,
   "metadata": {},
   "outputs": [],
   "source": [
    "import os.path\n",
    "from urllib.request import urlretrieve\n",
    "if not os.path.exists(\"amazon_train.csv\"):\n",
    "    urlretrieve(\"https://bit.ly/2LdmgTR\", \"amazon_train.csv\")\n",
    "if not os.path.exists(\"amazon_val.csv\"):\n",
    "    urlretrieve(\"https://bit.ly/2IPlyxO\", \"amazon_val.csv\")"
   ]
  },
  {
   "cell_type": "markdown",
   "metadata": {
    "slideshow": {
     "slide_type": "slide"
    }
   },
   "source": [
    "Ciascun file CSV contiene tre colonne, nell'ordine:\n",
    "\n",
    "- codice e nome dell'utente\n",
    "- codice e nome del prodotto (film in VHS)\n",
    "- voto assegnato, da 1 a 5 stelle\n",
    "\n",
    "Carichiamo il file di training in un frame pandas con `read_csv` _(`header=None` indica che il file **non** contiene una riga di intestazione, con `names` indichiamo manualmente i nomi delle colonne)_"
   ]
  },
  {
   "cell_type": "code",
   "execution_count": 68,
   "metadata": {},
   "outputs": [],
   "source": [
    "amazon_train = pd.read_csv(\n",
    "    \"amazon_train.csv\",\n",
    "    header=None,\n",
    "    names=[\"user\", \"item\", \"rating\"],\n",
    ")"
   ]
  },
  {
   "cell_type": "markdown",
   "metadata": {
    "slideshow": {
     "slide_type": "slide"
    }
   },
   "source": [
    "Vediamo i dati caricati"
   ]
  },
  {
   "cell_type": "code",
   "execution_count": 69,
   "metadata": {},
   "outputs": [
    {
     "data": {
      "text/html": [
       "<div>\n",
       "<style scoped>\n",
       "    .dataframe tbody tr th:only-of-type {\n",
       "        vertical-align: middle;\n",
       "    }\n",
       "\n",
       "    .dataframe tbody tr th {\n",
       "        vertical-align: top;\n",
       "    }\n",
       "\n",
       "    .dataframe thead th {\n",
       "        text-align: right;\n",
       "    }\n",
       "</style>\n",
       "<table border=\"1\" class=\"dataframe\">\n",
       "  <thead>\n",
       "    <tr style=\"text-align: right;\">\n",
       "      <th></th>\n",
       "      <th>user</th>\n",
       "      <th>item</th>\n",
       "      <th>rating</th>\n",
       "    </tr>\n",
       "  </thead>\n",
       "  <tbody>\n",
       "    <tr>\n",
       "      <th>0</th>\n",
       "      <td>[624547] Roland E. Zwick</td>\n",
       "      <td>[96429] Varsity Blues [VHS]</td>\n",
       "      <td>2</td>\n",
       "    </tr>\n",
       "    <tr>\n",
       "      <th>1</th>\n",
       "      <td>[624547] Roland E. Zwick</td>\n",
       "      <td>[96654] Miss Julie [VHS]</td>\n",
       "      <td>3</td>\n",
       "    </tr>\n",
       "    <tr>\n",
       "      <th>2</th>\n",
       "      <td>[1201103] Benjamin J Burgraff</td>\n",
       "      <td>[47474] The Last Starfighter [VHS]</td>\n",
       "      <td>4</td>\n",
       "    </tr>\n",
       "    <tr>\n",
       "      <th>3</th>\n",
       "      <td>[81819] dsrussell \"greyhater\"</td>\n",
       "      <td>[95902] Meet Joe Black [VHS]</td>\n",
       "      <td>3</td>\n",
       "    </tr>\n",
       "    <tr>\n",
       "      <th>4</th>\n",
       "      <td>[1092996] Reviewer</td>\n",
       "      <td>[43720] Honeymoon in Vegas [VHS]</td>\n",
       "      <td>3</td>\n",
       "    </tr>\n",
       "    <tr>\n",
       "      <th>5</th>\n",
       "      <td>[1169585] Brooke276</td>\n",
       "      <td>[43871] Mccabe &amp;amp; Mrs. Miller [VHS]</td>\n",
       "      <td>5</td>\n",
       "    </tr>\n",
       "    <tr>\n",
       "      <th>6</th>\n",
       "      <td>[652570] Lawrance M. Bernabo</td>\n",
       "      <td>[101985] Little Women [VHS]</td>\n",
       "      <td>5</td>\n",
       "    </tr>\n",
       "    <tr>\n",
       "      <th>7</th>\n",
       "      <td>[1092996] Reviewer</td>\n",
       "      <td>[100268] American Dreamer [VHS]</td>\n",
       "      <td>4</td>\n",
       "    </tr>\n",
       "    <tr>\n",
       "      <th>8</th>\n",
       "      <td>[891040] casualsuede</td>\n",
       "      <td>[101569] Better Off Dead [VHS]</td>\n",
       "      <td>3</td>\n",
       "    </tr>\n",
       "    <tr>\n",
       "      <th>9</th>\n",
       "      <td>[125883] \"flickjunkie\"</td>\n",
       "      <td>[55450] Mr Smith Goes to Washington [VHS]</td>\n",
       "      <td>5</td>\n",
       "    </tr>\n",
       "  </tbody>\n",
       "</table>\n",
       "</div>"
      ],
      "text/plain": [
       "                            user                                       item  \\\n",
       "0       [624547] Roland E. Zwick                [96429] Varsity Blues [VHS]   \n",
       "1       [624547] Roland E. Zwick                   [96654] Miss Julie [VHS]   \n",
       "2  [1201103] Benjamin J Burgraff         [47474] The Last Starfighter [VHS]   \n",
       "3  [81819] dsrussell \"greyhater\"               [95902] Meet Joe Black [VHS]   \n",
       "4             [1092996] Reviewer           [43720] Honeymoon in Vegas [VHS]   \n",
       "5            [1169585] Brooke276     [43871] Mccabe &amp; Mrs. Miller [VHS]   \n",
       "6   [652570] Lawrance M. Bernabo                [101985] Little Women [VHS]   \n",
       "7             [1092996] Reviewer            [100268] American Dreamer [VHS]   \n",
       "8           [891040] casualsuede             [101569] Better Off Dead [VHS]   \n",
       "9         [125883] \"flickjunkie\"  [55450] Mr Smith Goes to Washington [VHS]   \n",
       "\n",
       "   rating  \n",
       "0       2  \n",
       "1       3  \n",
       "2       4  \n",
       "3       3  \n",
       "4       3  \n",
       "5       5  \n",
       "6       5  \n",
       "7       4  \n",
       "8       3  \n",
       "9       5  "
      ]
     },
     "execution_count": 69,
     "metadata": {},
     "output_type": "execute_result"
    }
   ],
   "source": [
    "amazon_train.head(10)"
   ]
  },
  {
   "cell_type": "markdown",
   "metadata": {
    "slideshow": {
     "slide_type": "slide"
    }
   },
   "source": [
    "### Esercizio 1: Esplorazione DataFrame\n",
    "\n",
    "- **(1a)** Quanti sono i voti dati?\n",
    "- **(1b)** Quanti sono gli utenti distinti nei dati?\n",
    "- **(1c)** Quanti sono gli oggetti distinti?\n",
    "- **(1d)** Qual'è la media di tutti i voti?\n",
    "- **(1e)** Qual è il numero minimo di voti dato da un utente?\n",
    "- **(1f)** Qual è l'oggetto con più voti?\n",
    "- **(1g)** Quali sono i 10 oggetti col voto medio maggiore?\n",
    "  - estrarre una serie con i nomi come etichette e i voti medi come valori"
   ]
  },
  {
   "cell_type": "code",
   "execution_count": 70,
   "metadata": {},
   "outputs": [
    {
     "data": {
      "text/plain": [
       "9683"
      ]
     },
     "execution_count": 70,
     "metadata": {},
     "output_type": "execute_result"
    }
   ],
   "source": [
    "#1a\n",
    "len(amazon_train)\n",
    "amazon_train.shape[0]"
   ]
  },
  {
   "cell_type": "code",
   "execution_count": 71,
   "metadata": {},
   "outputs": [
    {
     "data": {
      "text/plain": [
       "178"
      ]
     },
     "execution_count": 71,
     "metadata": {},
     "output_type": "execute_result"
    }
   ],
   "source": [
    "#1b\n",
    "amazon_train[\"user\"].nunique()"
   ]
  },
  {
   "cell_type": "code",
   "execution_count": 72,
   "metadata": {},
   "outputs": [
    {
     "data": {
      "text/plain": [
       "3384"
      ]
     },
     "execution_count": 72,
     "metadata": {},
     "output_type": "execute_result"
    }
   ],
   "source": [
    "#1c\n",
    "amazon_train[\"item\"].nunique()"
   ]
  },
  {
   "cell_type": "code",
   "execution_count": 73,
   "metadata": {},
   "outputs": [
    {
     "data": {
      "text/plain": [
       "3.931219663327481"
      ]
     },
     "execution_count": 73,
     "metadata": {},
     "output_type": "execute_result"
    }
   ],
   "source": [
    "#1d\n",
    "amazon_train[\"rating\"].mean()"
   ]
  },
  {
   "cell_type": "code",
   "execution_count": 74,
   "metadata": {},
   "outputs": [
    {
     "data": {
      "text/plain": [
       "30"
      ]
     },
     "execution_count": 74,
     "metadata": {},
     "output_type": "execute_result"
    }
   ],
   "source": [
    "#1e\n",
    "amazon_train[\"user\"].value_counts().min()"
   ]
  },
  {
   "cell_type": "code",
   "execution_count": 75,
   "metadata": {},
   "outputs": [
    {
     "data": {
      "text/plain": [
       "'[57372] The Sixth Sense [VHS]'"
      ]
     },
     "execution_count": 75,
     "metadata": {},
     "output_type": "execute_result"
    }
   ],
   "source": [
    "#1f\n",
    "amazon_train[\"item\"].value_counts().idxmax()"
   ]
  },
  {
   "cell_type": "code",
   "execution_count": 76,
   "metadata": {},
   "outputs": [
    {
     "data": {
      "text/plain": [
       "item\n",
       "[100004] High School Confidential [VHS]               5.0\n",
       "[47499] Send Me No Flowers [VHS]                      5.0\n",
       "[49068] Doctor Who - Revenge of the Cybermen [VHS]    5.0\n",
       "[49062] The Duchess and the Dirtwater Fox [VHS]       5.0\n",
       "[49036] Manhattan Melodrama [VHS]                     5.0\n",
       "[48982] The King and I [VHS]                          5.0\n",
       "[48922] A Summer Place [VHS]                          5.0\n",
       "[48910] Blood Alley [VHS]                             5.0\n",
       "[48874] Revenge of the Nerds [VHS]                    5.0\n",
       "[48832] Enemy Below [VHS]                             5.0\n",
       "Name: rating, dtype: float64"
      ]
     },
     "execution_count": 76,
     "metadata": {},
     "output_type": "execute_result"
    }
   ],
   "source": [
    "#1g\n",
    "mean_ratings = amazon_train.groupby(\"item\")[\"rating\"].mean()\n",
    "mean_ratings.sort_values(ascending=False).head(10)\n",
    "# o in breve: mean_ratings.nlargest(10)"
   ]
  },
  {
   "cell_type": "markdown",
   "metadata": {
    "slideshow": {
     "slide_type": "slide"
    }
   },
   "source": [
    "## Estrazione matrice voti\n",
    "\n",
    "Per lavorare agevolmente con i dati, rappresentiamoli come matrice dove\n",
    "\n",
    "- ogni **riga** corrisponde ad un **utente** $u$\n",
    "- ogni **colonna** corrisponde ad un **oggetto** $i$\n",
    "- ogni **cella** contiene il **voto** dato da $u$ a $i$, che può essere mancate (`NaN`)\n",
    "\n",
    "Possiamo ottenere un DataFrame in questa forma applicando il metodo `pivot_table`"
   ]
  },
  {
   "cell_type": "code",
   "execution_count": 77,
   "metadata": {},
   "outputs": [],
   "source": [
    "train_ratings = amazon_train.pivot_table(values=\"rating\", index=\"user\", columns=\"item\")"
   ]
  },
  {
   "cell_type": "code",
   "execution_count": 78,
   "metadata": {},
   "outputs": [
    {
     "data": {
      "text/html": [
       "<div>\n",
       "<style scoped>\n",
       "    .dataframe tbody tr th:only-of-type {\n",
       "        vertical-align: middle;\n",
       "    }\n",
       "\n",
       "    .dataframe tbody tr th {\n",
       "        vertical-align: top;\n",
       "    }\n",
       "\n",
       "    .dataframe thead th {\n",
       "        text-align: right;\n",
       "    }\n",
       "</style>\n",
       "<table border=\"1\" class=\"dataframe\">\n",
       "  <thead>\n",
       "    <tr style=\"text-align: right;\">\n",
       "      <th>item</th>\n",
       "      <th>[100004] High School Confidential [VHS]</th>\n",
       "      <th>[100019] Julius Caesar [VHS]</th>\n",
       "      <th>[100027] Love Happy [VHS]</th>\n",
       "      <th>[100028] Dark Mirror [VHS]</th>\n",
       "      <th>[100066] Foul Play [VHS]</th>\n",
       "    </tr>\n",
       "    <tr>\n",
       "      <th>user</th>\n",
       "      <th></th>\n",
       "      <th></th>\n",
       "      <th></th>\n",
       "      <th></th>\n",
       "      <th></th>\n",
       "    </tr>\n",
       "  </thead>\n",
       "  <tbody>\n",
       "    <tr>\n",
       "      <th>[1001561] D. Wetzel</th>\n",
       "      <td>NaN</td>\n",
       "      <td>NaN</td>\n",
       "      <td>NaN</td>\n",
       "      <td>NaN</td>\n",
       "      <td>NaN</td>\n",
       "    </tr>\n",
       "    <tr>\n",
       "      <th>[1001958] Neural Clone \"zarran67\"</th>\n",
       "      <td>NaN</td>\n",
       "      <td>NaN</td>\n",
       "      <td>NaN</td>\n",
       "      <td>NaN</td>\n",
       "      <td>NaN</td>\n",
       "    </tr>\n",
       "    <tr>\n",
       "      <th>[1003282] CHI-TOWN</th>\n",
       "      <td>NaN</td>\n",
       "      <td>NaN</td>\n",
       "      <td>NaN</td>\n",
       "      <td>NaN</td>\n",
       "      <td>NaN</td>\n",
       "    </tr>\n",
       "    <tr>\n",
       "      <th>[1007279] James L.</th>\n",
       "      <td>NaN</td>\n",
       "      <td>NaN</td>\n",
       "      <td>NaN</td>\n",
       "      <td>4.0</td>\n",
       "      <td>NaN</td>\n",
       "    </tr>\n",
       "    <tr>\n",
       "      <th>[1012166] Bertin Ramirez \"justareviewer\"</th>\n",
       "      <td>NaN</td>\n",
       "      <td>NaN</td>\n",
       "      <td>NaN</td>\n",
       "      <td>NaN</td>\n",
       "      <td>NaN</td>\n",
       "    </tr>\n",
       "  </tbody>\n",
       "</table>\n",
       "</div>"
      ],
      "text/plain": [
       "item                                      [100004] High School Confidential [VHS]  \\\n",
       "user                                                                                \n",
       "[1001561] D. Wetzel                                                           NaN   \n",
       "[1001958] Neural Clone \"zarran67\"                                             NaN   \n",
       "[1003282] CHI-TOWN                                                            NaN   \n",
       "[1007279] James L.                                                            NaN   \n",
       "[1012166] Bertin Ramirez \"justareviewer\"                                      NaN   \n",
       "\n",
       "item                                      [100019] Julius Caesar [VHS]  \\\n",
       "user                                                                     \n",
       "[1001561] D. Wetzel                                                NaN   \n",
       "[1001958] Neural Clone \"zarran67\"                                  NaN   \n",
       "[1003282] CHI-TOWN                                                 NaN   \n",
       "[1007279] James L.                                                 NaN   \n",
       "[1012166] Bertin Ramirez \"justareviewer\"                           NaN   \n",
       "\n",
       "item                                      [100027] Love Happy [VHS]  \\\n",
       "user                                                                  \n",
       "[1001561] D. Wetzel                                             NaN   \n",
       "[1001958] Neural Clone \"zarran67\"                               NaN   \n",
       "[1003282] CHI-TOWN                                              NaN   \n",
       "[1007279] James L.                                              NaN   \n",
       "[1012166] Bertin Ramirez \"justareviewer\"                        NaN   \n",
       "\n",
       "item                                      [100028] Dark Mirror [VHS]  \\\n",
       "user                                                                   \n",
       "[1001561] D. Wetzel                                              NaN   \n",
       "[1001958] Neural Clone \"zarran67\"                                NaN   \n",
       "[1003282] CHI-TOWN                                               NaN   \n",
       "[1007279] James L.                                               4.0   \n",
       "[1012166] Bertin Ramirez \"justareviewer\"                         NaN   \n",
       "\n",
       "item                                      [100066] Foul Play [VHS]  \n",
       "user                                                                \n",
       "[1001561] D. Wetzel                                            NaN  \n",
       "[1001958] Neural Clone \"zarran67\"                              NaN  \n",
       "[1003282] CHI-TOWN                                             NaN  \n",
       "[1007279] James L.                                             NaN  \n",
       "[1012166] Bertin Ramirez \"justareviewer\"                       NaN  "
      ]
     },
     "execution_count": 78,
     "metadata": {},
     "output_type": "execute_result"
    }
   ],
   "source": [
    "train_ratings.iloc[:5, :5]"
   ]
  },
  {
   "cell_type": "markdown",
   "metadata": {
    "slideshow": {
     "slide_type": "slide"
    }
   },
   "source": [
    "Per i prossimi passaggi, rappresentiamo questo frame in forma di matrice \"semplice\" che chiamiamo **R**, inserendo 0 al posto dei voti mancanti\n",
    "\n",
    "$r_{u,i}$ = voto dato dall'utente u all'oggetto i"
   ]
  },
  {
   "cell_type": "code",
   "execution_count": 79,
   "metadata": {},
   "outputs": [],
   "source": [
    "R = train_ratings.fillna(0).values"
   ]
  },
  {
   "cell_type": "code",
   "execution_count": 80,
   "metadata": {},
   "outputs": [
    {
     "data": {
      "text/plain": [
       "array([[0., 0., 0., 0., 0.],\n",
       "       [0., 0., 0., 0., 0.],\n",
       "       [0., 0., 0., 0., 0.],\n",
       "       [0., 0., 0., 4., 0.]])"
      ]
     },
     "execution_count": 80,
     "metadata": {},
     "output_type": "execute_result"
    }
   ],
   "source": [
    "R[:4, :5]"
   ]
  },
  {
   "cell_type": "markdown",
   "metadata": {},
   "source": [
    "Estraiamo anche una matrice booleana **P** che indichi per quali coppie utente-prodotto esiste un voto\n",
    "\n",
    "$p_{u,i}$ = 1 (`True`) se l'utente u ha dato un voto all'oggetto i, 0 (`False`) altrimenti"
   ]
  },
  {
   "cell_type": "code",
   "execution_count": 81,
   "metadata": {},
   "outputs": [],
   "source": [
    "P = train_ratings.notna().values"
   ]
  },
  {
   "cell_type": "code",
   "execution_count": 82,
   "metadata": {},
   "outputs": [
    {
     "data": {
      "text/plain": [
       "array([[False, False, False, False, False],\n",
       "       [False, False, False, False, False],\n",
       "       [False, False, False, False, False],\n",
       "       [False, False, False,  True, False]])"
      ]
     },
     "execution_count": 82,
     "metadata": {},
     "output_type": "execute_result"
    }
   ],
   "source": [
    "P[:4, :5]"
   ]
  },
  {
   "cell_type": "markdown",
   "metadata": {
    "slideshow": {
     "slide_type": "slide"
    }
   },
   "source": [
    "### Esercizio 2: Esplorazione matrici\n",
    "\n",
    "Estrarre le stesse informazioni richieste mell'esercizio 1, ma utilizzando le matrici `R` e `P` invece dei frame\n",
    "- **(2a)** Quanti sono i voti dati?\n",
    "- **(2b)** Quanti sono gli utenti distinti nei dati?\n",
    "- **(2c)** Quanti sono gli oggetti distinti?\n",
    "- **(2d)** Qual'è la media di tutti i voti?\n",
    "  - attenzione a non includere i voti mancanti (nulli) nella media\n",
    "- **(2e)** Qual è il numero minimo di voti dato da un utente?\n",
    "- **(2f)** Qual è l'oggetto con più voti\n",
    "- **(2g)** Quali sono i 10 oggetti col voto medio maggiore?"
   ]
  },
  {
   "cell_type": "code",
   "execution_count": 83,
   "metadata": {},
   "outputs": [
    {
     "data": {
      "text/plain": [
       "5"
      ]
     },
     "execution_count": 83,
     "metadata": {},
     "output_type": "execute_result"
    }
   ],
   "source": [
    "# esempio:\n",
    "np.array([1, 2, 3, 4]).sum(where=[False, True, True, False])\n",
    "# sono selezionati solo i valori 2 e 3"
   ]
  },
  {
   "cell_type": "code",
   "execution_count": 84,
   "metadata": {},
   "outputs": [
    {
     "data": {
      "text/plain": [
       "9683"
      ]
     },
     "execution_count": 84,
     "metadata": {},
     "output_type": "execute_result"
    }
   ],
   "source": [
    "#2a\n",
    "P.sum()"
   ]
  },
  {
   "cell_type": "code",
   "execution_count": 85,
   "metadata": {},
   "outputs": [
    {
     "data": {
      "text/plain": [
       "(178, 3384)"
      ]
     },
     "execution_count": 85,
     "metadata": {},
     "output_type": "execute_result"
    }
   ],
   "source": [
    "#2b/c (n.utenti/oggetti)\n",
    "P.shape"
   ]
  },
  {
   "cell_type": "code",
   "execution_count": 86,
   "metadata": {},
   "outputs": [
    {
     "data": {
      "text/plain": [
       "3.931219663327481"
      ]
     },
     "execution_count": 86,
     "metadata": {},
     "output_type": "execute_result"
    }
   ],
   "source": [
    "#2d\n",
    "R.mean(where=P)\n",
    "R[P].mean()"
   ]
  },
  {
   "cell_type": "code",
   "execution_count": 87,
   "metadata": {},
   "outputs": [
    {
     "data": {
      "text/plain": [
       "30"
      ]
     },
     "execution_count": 87,
     "metadata": {},
     "output_type": "execute_result"
    }
   ],
   "source": [
    "#2e\n",
    "P.sum(1).min()"
   ]
  },
  {
   "cell_type": "code",
   "execution_count": 88,
   "metadata": {},
   "outputs": [
    {
     "data": {
      "text/plain": [
       "'[57372] The Sixth Sense [VHS]'"
      ]
     },
     "execution_count": 88,
     "metadata": {},
     "output_type": "execute_result"
    }
   ],
   "source": [
    "#2f\n",
    "train_ratings.columns[P.sum(0).argmax()]"
   ]
  },
  {
   "cell_type": "code",
   "execution_count": 89,
   "metadata": {},
   "outputs": [
    {
     "data": {
      "text/plain": [
       "Index(['[100004] High School Confidential [VHS]',\n",
       "       '[49062] The Duchess and the Dirtwater Fox [VHS]',\n",
       "       '[49036] Manhattan Melodrama [VHS]', '[48982] The King and I [VHS]',\n",
       "       '[48922] A Summer Place [VHS]', '[48910] Blood Alley [VHS]',\n",
       "       '[48874] Revenge of the Nerds [VHS]', '[48832] Enemy Below [VHS]',\n",
       "       '[4880] Children of Heaven [VHS]',\n",
       "       '[49068] Doctor Who - Revenge of the Cybermen [VHS]'],\n",
       "      dtype='object', name='item')"
      ]
     },
     "execution_count": 89,
     "metadata": {},
     "output_type": "execute_result"
    }
   ],
   "source": [
    "#2g\n",
    "train_ratings.columns[(-R.mean(0, where=P)).argsort()[:10]]\n",
    "# oppure, se il parametro where non è disponibile:\n",
    "# train_ratings.columns[(-R.sum(0) / P.sum(0)).argsort()[:10]]"
   ]
  },
  {
   "cell_type": "markdown",
   "metadata": {
    "slideshow": {
     "slide_type": "slide"
    }
   },
   "source": [
    "Per i punti 2f e 2g recuperare i nomi degli oggetti dai nomi delle colonne di `train_ratings`\n",
    "\n",
    "Per i punti 2d e 2g è utile usare il parametro `where` dei metodi di aggregazione (`sum`, `mean`, ...), che filtra i dati su cui eseguire l'operazione"
   ]
  },
  {
   "cell_type": "code",
   "execution_count": 90,
   "metadata": {},
   "outputs": [
    {
     "data": {
      "text/plain": [
       "5"
      ]
     },
     "execution_count": 90,
     "metadata": {},
     "output_type": "execute_result"
    }
   ],
   "source": [
    "# esempio:\n",
    "np.array([1, 2, 3, 4]).sum(where=[False, True, True, False])\n",
    "# sono selezionati solo i valori 2 e 3"
   ]
  },
  {
   "cell_type": "markdown",
   "metadata": {
    "slideshow": {
     "slide_type": "slide"
    }
   },
   "source": [
    "## User-based collaborative filtering\n",
    "\n",
    "Nella recommendation _user-based_, il voto $\\hat{r}_{u,i}$ previsto per un oggetto $i$ da parte di un utente $u$ è determinato in base ai **voti dati da altri utenti** ad $i$, pesati in base alla loro _similarità_ con $u$\n",
    "\n",
    "La similarità $\\text{sim}(u,v)$ tra due utenti $u$ e $v$ è misurata dai **voti dati ad oggetti recensiti da entrambi**\n",
    "\n",
    "Iniziamo definendo come è calcolata la misura di similarità $\\text{sim}$"
   ]
  },
  {
   "cell_type": "markdown",
   "metadata": {
    "slideshow": {
     "slide_type": "slide"
    }
   },
   "source": [
    "## Similarità coseno\n",
    "\n",
    "La _similarità coseno_ è una misura della similarità tra due vettori data dal coseno dell'angolo formato tra i due vettori: per questo tiene conto del loro orientamento ma non della lunghezza\n",
    "\n",
    "La similarità coseno è pari al prodotto scalare dei vettori suddiviso per il prodotto delle loro norme euclidee, è quindi compresa tra 0 e 1 per vettori con valori non negativi\n",
    "\n",
    "$$ \\text{sim}(\\mathbf{a},\\mathbf{b}) = \\frac{\\sum_{i=1}^n a_i\\cdot b_i}{\\sqrt{\\sum_{i=1}^n a_i^2}\\cdot\\sqrt{\\sum_{i=1}^n b_i^2}} $$\n",
    "\n",
    "Nel collaborative filtering, possiamo usare la similarità coseno per **comparare i voti dati da due utenti**, considerando solo l'insieme di oggetti $C_{u,v}$ votati da entrambi\n",
    "\n",
    "$$ \\text{sim}(u,v) = \\frac{\\sum_{i\\in C_{u,v}} r_{u,i}\\cdot r_{v,i}}{\\sqrt{\\sum_{i\\in C_{u,v}} r_{u,i}^2}\\cdot\\sqrt{\\sum_{i\\in C_{u,v}} r_{v,i}^2}}$$"
   ]
  },
  {
   "cell_type": "markdown",
   "metadata": {
    "slideshow": {
     "slide_type": "slide"
    }
   },
   "source": [
    "Costruiamo una matrice con le **similarità coseno tra tutte le coppie di utenti** usando opportune operazioni tra matrici\n",
    "\n",
    "Il numeratore della formula è una somma di prodotti, rappresentabile quindi come prodotto scalare\n",
    "\n",
    "- i termini da moltiplicare sono nelle righe della matrice **R** relative agli utenti _u_ e _v_\n",
    "- vanno contati solo gli oggetti votati da entrambi, ma essendo i voti mancanti 0 gli altri oggetti sono esclusi implicitamente\n",
    "\n",
    "Una matrice di prodotti scalari si può ottenere tramite un prodotto canonico tra matrici\n",
    "\n",
    "Dobbiamo ottenere una matrice in cui alla posizione _u, v_ troviamo il prodotto scalare tra `R[u, :]` e `R[v, :]`: possiamo ottenerla dal prodotto tra `R` e la sua trasposta  \n",
    "\n",
    "`(R @ R.T)[u, v] == R[u, :] @ R.T[:, v] == R[u, :] @ R[v, :]`"
   ]
  },
  {
   "cell_type": "code",
   "execution_count": 91,
   "metadata": {},
   "outputs": [],
   "source": [
    "cosim_numer = R @ R.T"
   ]
  },
  {
   "cell_type": "markdown",
   "metadata": {
    "slideshow": {
     "slide_type": "slide"
    }
   },
   "source": [
    "Per il denominatore dobbiamo calcolare, per ciascuna coppia di utenti _u_ e _v_, la norma del vettore dei voti dati da _u_ sui soli oggetti acquistati anche da _v_\n",
    "\n",
    "Iniziamo creando un array booleano 3d $\\mathbf{P}^\\text{AND}$ che, per qualsiasi coppia di utenti _u_, _v_ e oggetto _i_, indichi se sia _u_ che _v_ hanno acquistato _i_\n",
    "$$ p^\\text{AND}_{u,v,i} = p_{u,i} \\wedge p_{v,i} $$\n",
    "\n",
    "Per farlo, eseguiamo un AND tra diverse viste della matrice **P** con assi aggiunti e sfruttiamo le regole di broadcasting di NumPy"
   ]
  },
  {
   "cell_type": "code",
   "execution_count": 92,
   "metadata": {},
   "outputs": [],
   "source": [
    "# M = numero utenti, N = numero oggetti\n",
    "# P ha forma M x N\n",
    "\n",
    "#          M x 1 x N       1 x M x N\n",
    "P_and = P[:, None, :] & P[None, :, :]\n",
    "\n",
    "# il risultato ha forma M x M x N\n",
    "# P_and[u, v, i] == P[u, i] & P[v, i]"
   ]
  },
  {
   "cell_type": "markdown",
   "metadata": {
    "slideshow": {
     "slide_type": "slide"
    }
   },
   "source": [
    "Creiamo ora un array 3d $\\mathbf{R}^\\text{COM}$ che riporti i voti degli utenti solo per oggetti in comune con altri\n",
    "\n",
    "- $r^\\text{COM}_{u,v,i} = r_{u,i}$ (voto di _u_ a _i_) se sia _u_ che _v_ hanno dato un voto a _i_\n",
    "- $r^\\text{COM}_{u,v,i} = 0$ altrimenti\n",
    "\n",
    "Ovvero:\n",
    "\n",
    "$$ r^\\text{COM}_{u,v,i} = p^\\text{AND}_{u,v,i} \\cdot r_{u,i} $$"
   ]
  },
  {
   "cell_type": "code",
   "execution_count": 93,
   "metadata": {},
   "outputs": [],
   "source": [
    "#     M x M x N    M x 1 x N\n",
    "R_com = P_and * R[:, None, :]\n",
    "\n",
    "# risultato: M x M x N"
   ]
  },
  {
   "cell_type": "markdown",
   "metadata": {},
   "source": [
    "Da quì possiamo ottenere una matrice 2d che per ogni coppia _u_, _v_ di utenti contiene il valore delle norme nel denominatore della formula della sim. coseno, sfruttando il fatto che nel calcolo della norma le coppie di elementi con almeno uno 0 sono implicitamente ignorate\n",
    "\n",
    "$$ \\forall u,v: \\sqrt{\\sum_{i\\in C_{u,v}} r_{u,i}^2} = \\sqrt{\\sum_i (r^\\text{COM}_{u,v,i})^2} $$\n",
    "\n",
    "Possiamo usare la funzione `norm` di NumPy per calcolare le norme lungo l'asse specificato (il terzo, quello indicizzato con $i$ nella formula sopra)"
   ]
  },
  {
   "cell_type": "code",
   "execution_count": 94,
   "metadata": {},
   "outputs": [],
   "source": [
    "R_com_norms = np.linalg.norm(R_com, axis=2)"
   ]
  },
  {
   "cell_type": "markdown",
   "metadata": {
    "slideshow": {
     "slide_type": "slide"
    }
   },
   "source": [
    "Utilizziamo la matrice `R_com_norms` sopra per estrarre una matrice `cosim_denum` col denominatore completo della formula"
   ]
  },
  {
   "cell_type": "code",
   "execution_count": 95,
   "metadata": {},
   "outputs": [],
   "source": [
    "cosim_denum = R_com_norms * R_com_norms.T"
   ]
  },
  {
   "cell_type": "markdown",
   "metadata": {
    "slideshow": {
     "slide_type": "slide"
    }
   },
   "source": [
    "Estraiamo infine la matrice `cosim` con tutte le similarità per ogni coppia di utenti"
   ]
  },
  {
   "cell_type": "code",
   "execution_count": 96,
   "metadata": {},
   "outputs": [
    {
     "name": "stderr",
     "output_type": "stream",
     "text": [
      "C:\\Users\\marti\\AppData\\Local\\Temp\\ipykernel_25080\\1268015982.py:1: RuntimeWarning: invalid value encountered in divide\n",
      "  cosim = cosim_numer / cosim_denum\n"
     ]
    }
   ],
   "source": [
    "cosim = cosim_numer / cosim_denum"
   ]
  },
  {
   "cell_type": "markdown",
   "metadata": {
    "slideshow": {
     "slide_type": "slide"
    }
   },
   "source": [
    "Nel calcolo di `cosim` riceviamo un warning per via di divisioni per zero, in corrispondenza delle quali troviamo valori mancanti (`nan`)"
   ]
  },
  {
   "cell_type": "code",
   "execution_count": 97,
   "metadata": {},
   "outputs": [
    {
     "data": {
      "text/plain": [
       "array([[1.        , 0.9924812 , 0.94372216,        nan],\n",
       "       [0.9924812 , 1.        , 0.97580525,        nan],\n",
       "       [0.94372216, 0.97580525, 1.        ,        nan],\n",
       "       [       nan,        nan,        nan, 1.        ]])"
      ]
     },
     "execution_count": 97,
     "metadata": {},
     "output_type": "execute_result"
    }
   ],
   "source": [
    "cosim[:4, :4]"
   ]
  },
  {
   "cell_type": "markdown",
   "metadata": {},
   "source": [
    "Questi corrispondono a coppie di utenti senza acquisti in comune\n",
    "\n",
    "Usiamo la funzione `isnan` per localizzare i valori mancanti e li impostiamo a 0 (similarità nulla)"
   ]
  },
  {
   "cell_type": "code",
   "execution_count": 98,
   "metadata": {},
   "outputs": [],
   "source": [
    "cosim[np.isnan(cosim)] = 0"
   ]
  },
  {
   "cell_type": "code",
   "execution_count": 99,
   "metadata": {},
   "outputs": [
    {
     "data": {
      "text/plain": [
       "array([[1.        , 0.9924812 , 0.94372216, 0.        ],\n",
       "       [0.9924812 , 1.        , 0.97580525, 0.        ],\n",
       "       [0.94372216, 0.97580525, 1.        , 0.        ],\n",
       "       [0.        , 0.        , 0.        , 1.        ]])"
      ]
     },
     "execution_count": 99,
     "metadata": {},
     "output_type": "execute_result"
    }
   ],
   "source": [
    "cosim[:4, :4]"
   ]
  },
  {
   "cell_type": "markdown",
   "metadata": {
    "slideshow": {
     "slide_type": "slide"
    }
   },
   "source": [
    "## Predizione dei voti mancanti\n",
    "\n",
    "Vediamo ora come predire il voto $\\hat{r}_{u,i}$ che un utente $u$ darebbe ad un oggetto $i$ che non conosce\n",
    "\n",
    "Come prima soluzione, prendiamo la **media dei voti** dati ad $i$ da qualsiasi altro utente $v$ che l'abbia valutato, **pesata in base alla similarità** tra $u$ e $v$\n",
    "\n",
    "$$ \\hat{r}_{u,i} = \\frac{\\sum_{v:P_{v,i}=1} \\text{sim}(u, v) \\cdot r_{v,i}}{\\sum_{v:P_{v,i}=1} \\text{sim}(u, v)} $$"
   ]
  },
  {
   "cell_type": "markdown",
   "metadata": {
    "slideshow": {
     "slide_type": "slide"
    }
   },
   "source": [
    "### Esercizio 3: Calcolo predizioni\n",
    "\n",
    "Definire la funzione `predict_from_all` in modo che, dati gli indici di un utente `u` e un oggetto `i`, restituisca il voto predetto\n",
    "\n",
    "- `voters` è una lista di indici degli utenti che hanno già acquistato l'oggetto, da usare per selezionare righe e colonne nel punto successivo\n",
    "  - il metodo `nonzero` è usato sul vettore booleano `P[:, i]` per restituire gli indici corrispondenti ai valori `True`\n",
    "  - si potrebbe impostare direttamente `voters = P[:, i]`, ma la lista ci tornerà comoda per creare una variante di questa funzione\n",
    "- impostare `predicted_vote` al voto predetto secondo la formula sopra\n",
    "- restituire tale voto se non è un valore NaN (verificare con `np.isnan`), altrimenti restituire come ripiego la media di tutti i voti noti"
   ]
  },
  {
   "cell_type": "code",
   "execution_count": 100,
   "metadata": {},
   "outputs": [],
   "source": [
    "def predict_from_all(u, i):\n",
    "    voters = list(P[:, i].nonzero()[0])\n",
    "    predicted_vote = (cosim[u, voters] @ R[voters, i]) / cosim[u, voters].sum()\n",
    "    return predicted_vote if not np.isnan(predicted_vote) else R.mean(where=P)"
   ]
  },
  {
   "cell_type": "markdown",
   "metadata": {
    "slideshow": {
     "slide_type": "slide"
    }
   },
   "source": [
    "## Validazione delle predizioni\n",
    "\n",
    "Una volta generati dei voti predetti, dobbiamo verificarne la bontà confrontandoli con voti veri\n",
    "\n",
    "Analogamente ai problemi di regressione, ci serve un _validation set_ di voti per la verifica disgiunto dal _training set_ su cui abbiamo costruito le predizioni\n",
    "\n",
    "Carichiamo i voti contenuti nel file `amazon_val.csv` da usare come validation set"
   ]
  },
  {
   "cell_type": "code",
   "execution_count": 162,
   "metadata": {},
   "outputs": [],
   "source": [
    "amazon_val = pd.read_csv(\n",
    "    \"amazon_val.csv\",\n",
    "    header=None,\n",
    "    names=[\"user\", \"item\", \"rating\"],\n",
    ")"
   ]
  },
  {
   "cell_type": "markdown",
   "metadata": {
    "slideshow": {
     "slide_type": "slide"
    }
   },
   "source": [
    "Come sopra, estraiamo i voti in forma di frame con una riga per ogni utente e una colonna per ogni oggetto"
   ]
  },
  {
   "cell_type": "code",
   "execution_count": 163,
   "metadata": {},
   "outputs": [],
   "source": [
    "val_ratings = amazon_val.set_index([\"user\", \"item\"])[\"rating\"].unstack(\"item\")"
   ]
  },
  {
   "cell_type": "code",
   "execution_count": 164,
   "metadata": {},
   "outputs": [
    {
     "data": {
      "text/html": [
       "<div>\n",
       "<style scoped>\n",
       "    .dataframe tbody tr th:only-of-type {\n",
       "        vertical-align: middle;\n",
       "    }\n",
       "\n",
       "    .dataframe tbody tr th {\n",
       "        vertical-align: top;\n",
       "    }\n",
       "\n",
       "    .dataframe thead th {\n",
       "        text-align: right;\n",
       "    }\n",
       "</style>\n",
       "<table border=\"1\" class=\"dataframe\">\n",
       "  <thead>\n",
       "    <tr style=\"text-align: right;\">\n",
       "      <th>item</th>\n",
       "      <th>[100004] High School Confidential [VHS]</th>\n",
       "      <th>[100019] Julius Caesar [VHS]</th>\n",
       "      <th>[100027] Love Happy [VHS]</th>\n",
       "      <th>[100066] Foul Play [VHS]</th>\n",
       "    </tr>\n",
       "    <tr>\n",
       "      <th>user</th>\n",
       "      <th></th>\n",
       "      <th></th>\n",
       "      <th></th>\n",
       "      <th></th>\n",
       "    </tr>\n",
       "  </thead>\n",
       "  <tbody>\n",
       "    <tr>\n",
       "      <th>[1001561] D. Wetzel</th>\n",
       "      <td>NaN</td>\n",
       "      <td>NaN</td>\n",
       "      <td>NaN</td>\n",
       "      <td>NaN</td>\n",
       "    </tr>\n",
       "    <tr>\n",
       "      <th>[1003282] CHI-TOWN</th>\n",
       "      <td>NaN</td>\n",
       "      <td>NaN</td>\n",
       "      <td>NaN</td>\n",
       "      <td>NaN</td>\n",
       "    </tr>\n",
       "    <tr>\n",
       "      <th>[1007279] James L.</th>\n",
       "      <td>NaN</td>\n",
       "      <td>NaN</td>\n",
       "      <td>NaN</td>\n",
       "      <td>NaN</td>\n",
       "    </tr>\n",
       "    <tr>\n",
       "      <th>[1012166] Bertin Ramirez \"justareviewer\"</th>\n",
       "      <td>NaN</td>\n",
       "      <td>NaN</td>\n",
       "      <td>NaN</td>\n",
       "      <td>NaN</td>\n",
       "    </tr>\n",
       "  </tbody>\n",
       "</table>\n",
       "</div>"
      ],
      "text/plain": [
       "item                                      [100004] High School Confidential [VHS]  \\\n",
       "user                                                                                \n",
       "[1001561] D. Wetzel                                                           NaN   \n",
       "[1003282] CHI-TOWN                                                            NaN   \n",
       "[1007279] James L.                                                            NaN   \n",
       "[1012166] Bertin Ramirez \"justareviewer\"                                      NaN   \n",
       "\n",
       "item                                      [100019] Julius Caesar [VHS]  \\\n",
       "user                                                                     \n",
       "[1001561] D. Wetzel                                                NaN   \n",
       "[1003282] CHI-TOWN                                                 NaN   \n",
       "[1007279] James L.                                                 NaN   \n",
       "[1012166] Bertin Ramirez \"justareviewer\"                           NaN   \n",
       "\n",
       "item                                      [100027] Love Happy [VHS]  \\\n",
       "user                                                                  \n",
       "[1001561] D. Wetzel                                             NaN   \n",
       "[1003282] CHI-TOWN                                              NaN   \n",
       "[1007279] James L.                                              NaN   \n",
       "[1012166] Bertin Ramirez \"justareviewer\"                        NaN   \n",
       "\n",
       "item                                      [100066] Foul Play [VHS]  \n",
       "user                                                                \n",
       "[1001561] D. Wetzel                                            NaN  \n",
       "[1003282] CHI-TOWN                                             NaN  \n",
       "[1007279] James L.                                             NaN  \n",
       "[1012166] Bertin Ramirez \"justareviewer\"                       NaN  "
      ]
     },
     "execution_count": 164,
     "metadata": {},
     "output_type": "execute_result"
    }
   ],
   "source": [
    "val_ratings.iloc[:4, :4]"
   ]
  },
  {
   "cell_type": "markdown",
   "metadata": {
    "slideshow": {
     "slide_type": "slide"
    }
   },
   "source": [
    "**Attenzione:** le righe e colonne di questo frame non sono conformi a quello analogo dei dati di training: ad esempio l'utente rappresentato nella seconda riga di `val_ratings` non è lo stesso rappresentato nella seconda riga di `train_ratings`\n",
    "\n",
    "Già la forma dei frame è diversa, perché alcuni utenti e oggetti presenti nel training non lo sono quì"
   ]
  },
  {
   "cell_type": "code",
   "execution_count": 165,
   "metadata": {},
   "outputs": [
    {
     "data": {
      "text/plain": [
       "False"
      ]
     },
     "execution_count": 165,
     "metadata": {},
     "output_type": "execute_result"
    }
   ],
   "source": [
    "val_ratings.shape == train_ratings.shape"
   ]
  },
  {
   "cell_type": "markdown",
   "metadata": {},
   "source": [
    "Utilizziamo il metodo `reindex_like` per ottenere un frame che contenga i dati di `val_ratings` ma con le stesse righe e colonne di `train_ratings`. Il frame risultante contiene valori `NaN` in righe e colonne che non erano presenti nel frame originale."
   ]
  },
  {
   "cell_type": "code",
   "execution_count": 166,
   "metadata": {},
   "outputs": [],
   "source": [
    "val_ratings = val_ratings.reindex_like(train_ratings)"
   ]
  },
  {
   "cell_type": "markdown",
   "metadata": {
    "slideshow": {
     "slide_type": "slide"
    }
   },
   "source": [
    "Otteniamo così un nuovo frame compatibile con quello di training"
   ]
  },
  {
   "cell_type": "code",
   "execution_count": 167,
   "metadata": {},
   "outputs": [
    {
     "data": {
      "text/html": [
       "<div>\n",
       "<style scoped>\n",
       "    .dataframe tbody tr th:only-of-type {\n",
       "        vertical-align: middle;\n",
       "    }\n",
       "\n",
       "    .dataframe tbody tr th {\n",
       "        vertical-align: top;\n",
       "    }\n",
       "\n",
       "    .dataframe thead th {\n",
       "        text-align: right;\n",
       "    }\n",
       "</style>\n",
       "<table border=\"1\" class=\"dataframe\">\n",
       "  <thead>\n",
       "    <tr style=\"text-align: right;\">\n",
       "      <th>item</th>\n",
       "      <th>[100004] High School Confidential [VHS]</th>\n",
       "      <th>[100019] Julius Caesar [VHS]</th>\n",
       "      <th>[100027] Love Happy [VHS]</th>\n",
       "      <th>[100028] Dark Mirror [VHS]</th>\n",
       "      <th>[100066] Foul Play [VHS]</th>\n",
       "    </tr>\n",
       "    <tr>\n",
       "      <th>user</th>\n",
       "      <th></th>\n",
       "      <th></th>\n",
       "      <th></th>\n",
       "      <th></th>\n",
       "      <th></th>\n",
       "    </tr>\n",
       "  </thead>\n",
       "  <tbody>\n",
       "    <tr>\n",
       "      <th>[1001561] D. Wetzel</th>\n",
       "      <td>NaN</td>\n",
       "      <td>NaN</td>\n",
       "      <td>NaN</td>\n",
       "      <td>NaN</td>\n",
       "      <td>NaN</td>\n",
       "    </tr>\n",
       "    <tr>\n",
       "      <th>[1001958] Neural Clone \"zarran67\"</th>\n",
       "      <td>NaN</td>\n",
       "      <td>NaN</td>\n",
       "      <td>NaN</td>\n",
       "      <td>NaN</td>\n",
       "      <td>NaN</td>\n",
       "    </tr>\n",
       "    <tr>\n",
       "      <th>[1003282] CHI-TOWN</th>\n",
       "      <td>NaN</td>\n",
       "      <td>NaN</td>\n",
       "      <td>NaN</td>\n",
       "      <td>NaN</td>\n",
       "      <td>NaN</td>\n",
       "    </tr>\n",
       "    <tr>\n",
       "      <th>[1007279] James L.</th>\n",
       "      <td>NaN</td>\n",
       "      <td>NaN</td>\n",
       "      <td>NaN</td>\n",
       "      <td>NaN</td>\n",
       "      <td>NaN</td>\n",
       "    </tr>\n",
       "    <tr>\n",
       "      <th>[1012166] Bertin Ramirez \"justareviewer\"</th>\n",
       "      <td>NaN</td>\n",
       "      <td>NaN</td>\n",
       "      <td>NaN</td>\n",
       "      <td>NaN</td>\n",
       "      <td>NaN</td>\n",
       "    </tr>\n",
       "  </tbody>\n",
       "</table>\n",
       "</div>"
      ],
      "text/plain": [
       "item                                      [100004] High School Confidential [VHS]  \\\n",
       "user                                                                                \n",
       "[1001561] D. Wetzel                                                           NaN   \n",
       "[1001958] Neural Clone \"zarran67\"                                             NaN   \n",
       "[1003282] CHI-TOWN                                                            NaN   \n",
       "[1007279] James L.                                                            NaN   \n",
       "[1012166] Bertin Ramirez \"justareviewer\"                                      NaN   \n",
       "\n",
       "item                                      [100019] Julius Caesar [VHS]  \\\n",
       "user                                                                     \n",
       "[1001561] D. Wetzel                                                NaN   \n",
       "[1001958] Neural Clone \"zarran67\"                                  NaN   \n",
       "[1003282] CHI-TOWN                                                 NaN   \n",
       "[1007279] James L.                                                 NaN   \n",
       "[1012166] Bertin Ramirez \"justareviewer\"                           NaN   \n",
       "\n",
       "item                                      [100027] Love Happy [VHS]  \\\n",
       "user                                                                  \n",
       "[1001561] D. Wetzel                                             NaN   \n",
       "[1001958] Neural Clone \"zarran67\"                               NaN   \n",
       "[1003282] CHI-TOWN                                              NaN   \n",
       "[1007279] James L.                                              NaN   \n",
       "[1012166] Bertin Ramirez \"justareviewer\"                        NaN   \n",
       "\n",
       "item                                      [100028] Dark Mirror [VHS]  \\\n",
       "user                                                                   \n",
       "[1001561] D. Wetzel                                              NaN   \n",
       "[1001958] Neural Clone \"zarran67\"                                NaN   \n",
       "[1003282] CHI-TOWN                                               NaN   \n",
       "[1007279] James L.                                               NaN   \n",
       "[1012166] Bertin Ramirez \"justareviewer\"                         NaN   \n",
       "\n",
       "item                                      [100066] Foul Play [VHS]  \n",
       "user                                                                \n",
       "[1001561] D. Wetzel                                            NaN  \n",
       "[1001958] Neural Clone \"zarran67\"                              NaN  \n",
       "[1003282] CHI-TOWN                                             NaN  \n",
       "[1007279] James L.                                             NaN  \n",
       "[1012166] Bertin Ramirez \"justareviewer\"                       NaN  "
      ]
     },
     "execution_count": 167,
     "metadata": {},
     "output_type": "execute_result"
    }
   ],
   "source": [
    "val_ratings.iloc[:5, :5]"
   ]
  },
  {
   "cell_type": "code",
   "execution_count": 168,
   "metadata": {},
   "outputs": [
    {
     "data": {
      "text/plain": [
       "True"
      ]
     },
     "execution_count": 168,
     "metadata": {},
     "output_type": "execute_result"
    }
   ],
   "source": [
    "np.array_equal(train_ratings.index, val_ratings.index)"
   ]
  },
  {
   "cell_type": "code",
   "execution_count": 169,
   "metadata": {},
   "outputs": [
    {
     "data": {
      "text/plain": [
       "True"
      ]
     },
     "execution_count": 169,
     "metadata": {},
     "output_type": "execute_result"
    }
   ],
   "source": [
    "np.array_equal(train_ratings.columns, val_ratings.columns)"
   ]
  },
  {
   "cell_type": "markdown",
   "metadata": {
    "slideshow": {
     "slide_type": "slide"
    }
   },
   "source": [
    "Analogamente a prima, estraiamo\n",
    "\n",
    "- una matrice dei voti `R_val`, impostando a 0 quelli mancanti\n",
    "- una matrice booleana `P_val` che indichi per quali coppie utente-oggetto è presente un voto"
   ]
  },
  {
   "cell_type": "code",
   "execution_count": 170,
   "metadata": {},
   "outputs": [],
   "source": [
    "R_val = val_ratings.fillna(0).values\n",
    "P_val = val_ratings.notna().values"
   ]
  },
  {
   "cell_type": "code",
   "execution_count": 171,
   "metadata": {},
   "outputs": [
    {
     "data": {
      "text/plain": [
       "array([[0., 0., 0., 0.],\n",
       "       [0., 0., 0., 0.],\n",
       "       [0., 0., 0., 0.],\n",
       "       [0., 5., 0., 4.]])"
      ]
     },
     "execution_count": 171,
     "metadata": {},
     "output_type": "execute_result"
    }
   ],
   "source": [
    "R_val[:4, -4:]"
   ]
  },
  {
   "cell_type": "code",
   "execution_count": 172,
   "metadata": {},
   "outputs": [
    {
     "data": {
      "text/plain": [
       "array([[False, False, False, False],\n",
       "       [False, False, False, False],\n",
       "       [False, False, False, False],\n",
       "       [False,  True, False,  True]])"
      ]
     },
     "execution_count": 172,
     "metadata": {},
     "output_type": "execute_result"
    }
   ],
   "source": [
    "P_val[:4, -4:]"
   ]
  },
  {
   "cell_type": "markdown",
   "metadata": {
    "slideshow": {
     "slide_type": "slide"
    }
   },
   "source": [
    "Estraiamo un vettore `val_actual` con tutti i voti definiti nel validation set"
   ]
  },
  {
   "cell_type": "code",
   "execution_count": 173,
   "metadata": {},
   "outputs": [],
   "source": [
    "val_actual = R_val[P_val]"
   ]
  },
  {
   "cell_type": "markdown",
   "metadata": {},
   "source": [
    "Definiamo quindi una funzione `get_val_predictions` che\n",
    "\n",
    "- accetti in ingresso una funzione `pred_func(u, i)` che predice il voto di un utente `u` ad un oggetto `i`\n",
    "- la applichi su tutte le coppie del validation set\n",
    "- restituisca un vettore con le predizioni estratte, allineate ai voti reali del vettore `val_actual`\n",
    "  - `zip(*P_val.nonzero())` restituisce tutte le tuple `(u, i)` per cui `P_val[u, i]` è `True`"
   ]
  },
  {
   "cell_type": "code",
   "execution_count": 174,
   "metadata": {},
   "outputs": [],
   "source": [
    "def get_val_predictions(pred_func):\n",
    "    return np.array([\n",
    "        pred_func(u, i)\n",
    "        for u, i in zip(*P_val.nonzero())\n",
    "    ])"
   ]
  },
  {
   "cell_type": "markdown",
   "metadata": {
    "slideshow": {
     "slide_type": "slide"
    }
   },
   "source": [
    "## RMSE\n",
    "\n",
    "Il _Root Mean Squared Error_ (RMSE) è una metrica di valutazione usata comunemente per i sistemi di recommendation\n",
    "\n",
    "Dato un validation set $V$ di voti reali $r_{u,i}$ per cui abbiamo estratto delle predizioni $\\hat{r}_{u,i}$, il RMSE è\n",
    "\n",
    "$$ \\text{RMSE} = \\sqrt{\\frac{1}{|V|} \\sum_{r_{u,i}\\in V} (\\hat{r}_{u,i}-r_{u,i})^2} $$\n",
    "\n",
    "Si può usare per comparare diversi modelli di recommendation sugli stessi dati: essendo una misura d'errore, i modelli migliori sono quelli con RMSE minore\n",
    "\n",
    "Similmente al MSE dei modelli di regressione, non è facile interpretare quanto un valore di RMSE sia \"buono\" senza un riferimento: si può ad es. comparare a recommendation casuali, che vedremo come estrarre con Surprise"
   ]
  },
  {
   "cell_type": "markdown",
   "metadata": {
    "slideshow": {
     "slide_type": "slide"
    }
   },
   "source": [
    "### Esercizio 4: Calcolo del RMSE\n",
    "\n",
    "- **(4a)** Definire una funzione `RMSE` che, dati dei vettori di voti reali e corrispondenti predizioni, calcoli e restituisca il RMSE\n",
    "- **(4b)** Usando `get_val_predictions`, estrarre i voti predetti sul validation set dalla funzione `predict_from_all`\n",
    "- **(4c)** Calcolare il RMSE di tali predizioni"
   ]
  },
  {
   "cell_type": "code",
   "execution_count": 175,
   "metadata": {},
   "outputs": [],
   "source": [
    "def RMSE(actual, predicted):\n",
    "    return ..."
   ]
  },
  {
   "cell_type": "markdown",
   "metadata": {
    "slideshow": {
     "slide_type": "slide"
    }
   },
   "source": [
    "## Selezione degli utenti simili\n",
    "\n",
    "Nella versione base, abbiamo predetto ciascun voto sulla base di tutti gli altri utenti che hanno acquistato l'oggetto\n",
    "\n",
    "Per migliorare l'efficienza e potenzialmente l'accuratezza delle predizioni, possiamo limitarci ad un numero $k$ di utenti, selezionando quelli più simili\n",
    "\n",
    "Per ogni coppia utente-oggetto $(u,i)$, consideriamo un _vicinato_ $N^k_i(u)$ degli utenti più simili a $u$ che hanno acquistato $i$\n",
    "\n",
    "La predizione è calcolata come sopra, ma su questo vicinato invece che su tutti gli utenti che hanno acquistato $i$\n",
    "\n",
    "$$ \\hat{r}_{u,i} = \\frac{\\sum_{v \\in N^k_i(u)} \\text{sim}(u, v) \\cdot r_{v,i}}{\\sum_{v \\in N^k_i(u)} \\text{sim}(u, v)} $$\n",
    "\n",
    "Impostiamo un valore per il parametro $k$, ad esempio:"
   ]
  },
  {
   "cell_type": "code",
   "execution_count": 176,
   "metadata": {},
   "outputs": [],
   "source": [
    "k = 10"
   ]
  },
  {
   "cell_type": "markdown",
   "metadata": {
    "slideshow": {
     "slide_type": "slide"
    }
   },
   "source": [
    "### Esercizio 5: Calcolo predizioni su utenti simili\n",
    "\n",
    "- **(5a)** Completare la definizione della funzione `predict_from_neighbors` in modo che predica un voto $\\hat{r}_{u,i}$ sulla base dei $k$ più simili tra gli utenti che hanno acquistato $i$\n",
    "  - abbiamo copiato l'implementazione dalla funzione `predict_from_all` dell'esercizio 3: modificarla in modo da ordinare la lista di indici `voters` per similarità ad $u$ e selezionare i primi $k$\n",
    "- **(5b)** Estrarre con questa funzione i voti predetti sul validation set ed estrarne il RMSE"
   ]
  },
  {
   "cell_type": "code",
   "execution_count": 177,
   "metadata": {},
   "outputs": [],
   "source": [
    "def predict_from_neighbors(u, i):\n",
    "    voters = list(P[:, i].nonzero()[0])\n",
    "    ...\n",
    "    predicted_vote = (cosim[u, voters] @ R[voters, i]) / cosim[u, voters].sum()\n",
    "    return predicted_vote if not np.isnan(predicted_vote) else R.mean(where=P)"
   ]
  },
  {
   "cell_type": "code",
   "execution_count": null,
   "metadata": {},
   "outputs": [],
   "source": [
    "#5a\n"
   ]
  },
  {
   "cell_type": "code",
   "execution_count": null,
   "metadata": {},
   "outputs": [],
   "source": [
    "#5b\n"
   ]
  },
  {
   "cell_type": "markdown",
   "metadata": {
    "slideshow": {
     "slide_type": "slide"
    }
   },
   "source": [
    "## Surprise\n",
    "\n",
    "_Surprise_ è una libreria Python per la creazione e la validazione di modelli di recommendation\n",
    "\n",
    "- definisce strutture per rappresentare i dati su cui addestrare i modelli\n",
    "- permette di caricare dati da diverse fonti o di utilizzare dataset d'esempio\n",
    "- implementa diverse tecniche basate su similarità, scomposizione di matrici, ...\n",
    "- fornisce funzionalità per validare i modelli calcolando comuni metriche di accuratezza come il RMSE"
   ]
  },
  {
   "cell_type": "markdown",
   "metadata": {
    "slideshow": {
     "slide_type": "slide"
    }
   },
   "source": [
    "## Dataset\n",
    "\n",
    "Un oggetto `Dataset` consiste in un insieme di voti conosciuti dati da degli utenti a degli oggetti\n",
    "\n",
    "Utenti e oggetti in un `Dataset` sono rappresentati con identificatori arbitrari scelti dall'utente, spesso numeri o stringhe: questi sono chiamati identificatori _raw_ in Surprise\n",
    "\n",
    "Un `Dataset` può essere ottenuto da un file CSV o da un DataFrame pandas, a sua volta ottenibile da diverse fonti\n",
    "\n",
    "Surprise permette inoltre di caricare diversi dataset d'esempio di uso comune, scaricati _on demand_ dal Web"
   ]
  },
  {
   "cell_type": "markdown",
   "metadata": {
    "slideshow": {
     "slide_type": "slide"
    }
   },
   "source": [
    "### Caricamento Dataset da CSV\n",
    "\n",
    "Per caricare dati da file CSV, dobbiamo prima creare un oggetto `Reader` che indichi le caratteristiche dei file\n",
    "\n",
    "- con `sep` indichiamo il separatore di campo usato nei CSV\n",
    "- con `rating_scale` indichiamo la scala di voti adottata, in forma di tupla con valori minimo e massimo"
   ]
  },
  {
   "cell_type": "code",
   "execution_count": 117,
   "metadata": {},
   "outputs": [],
   "source": [
    "from surprise import Reader\n",
    "csv_reader = Reader(sep=\",\", rating_scale=(1, 5))"
   ]
  },
  {
   "cell_type": "markdown",
   "metadata": {},
   "source": [
    "Usiamo quindi la funzione `load_from_file` per caricare i due dataset, indicando i nomi dei file e il `Reader` da usare"
   ]
  },
  {
   "cell_type": "code",
   "execution_count": 118,
   "metadata": {},
   "outputs": [],
   "source": [
    "from surprise import Dataset\n",
    "train_dataset = Dataset.load_from_file(\"amazon_train.csv\", csv_reader)\n",
    "val_dataset = Dataset.load_from_file(\"amazon_val.csv\", csv_reader)"
   ]
  },
  {
   "cell_type": "markdown",
   "metadata": {
    "slideshow": {
     "slide_type": "slide"
    }
   },
   "source": [
    "## Trainset\n",
    "\n",
    "Un `Trainset` contiene le stesse informazioni di un `Dataset`, ma in forma ottimizzata per l'utilizzo da parte degli algoritmi d'apprendimento\n",
    "\n",
    "$M$ utenti ed $N$ oggetti distinti sono identificati in un `Trainset` da identificatori interni (_inner_), ovvero numeri sequenziali da 0 a $M-1$ e da 0 a $N-1$, il `Trainset` tiene comunque traccia al suo interno delle corrispondenze tra ID raw e inner\n",
    "\n",
    "Per creare un `Trainset` con tutti i voti contenuti in un `Dataset`, usare il metodo `build_full_trainset` di quest'ultimo"
   ]
  },
  {
   "cell_type": "code",
   "execution_count": 119,
   "metadata": {},
   "outputs": [],
   "source": [
    "trainset = train_dataset.build_full_trainset()"
   ]
  },
  {
   "cell_type": "markdown",
   "metadata": {
    "slideshow": {
     "slide_type": "slide"
    }
   },
   "source": [
    "### Estrarre Informazioni da un Trainset\n",
    "\n",
    "Da un `Trainset` abbiamo accesso rapido ad informazioni quali il numero di utenti distinti, oggetti distinti e voti complessivi"
   ]
  },
  {
   "cell_type": "code",
   "execution_count": 120,
   "metadata": {},
   "outputs": [
    {
     "data": {
      "text/plain": [
       "(178, 3384, 9683)"
      ]
     },
     "execution_count": 120,
     "metadata": {},
     "output_type": "execute_result"
    }
   ],
   "source": [
    "trainset.n_users, trainset.n_items, trainset.n_ratings"
   ]
  },
  {
   "cell_type": "markdown",
   "metadata": {},
   "source": [
    "Possiamo consultare l'elenco dei voti noti di un qualsiasi utente od oggetto dai dizionari `ur` e `ir` (vanno usati gli ID seriali interni dal `Trainset`)"
   ]
  },
  {
   "cell_type": "code",
   "execution_count": 121,
   "metadata": {},
   "outputs": [
    {
     "data": {
      "text/plain": [
       "[(0, 2.0), (1, 3.0), (69, 3.0)]"
      ]
     },
     "execution_count": 121,
     "metadata": {},
     "output_type": "execute_result"
    }
   ],
   "source": [
    "# es.: 3 voti dati dall'utente 0\n",
    "trainset.ur[0][:3]\n",
    "# ogni tupla: (ID oggetto, voto)"
   ]
  },
  {
   "cell_type": "markdown",
   "metadata": {
    "slideshow": {
     "slide_type": "-"
    }
   },
   "source": [
    "Possiamo vedere la media globale di tutti i voti dati"
   ]
  },
  {
   "cell_type": "code",
   "execution_count": 122,
   "metadata": {},
   "outputs": [
    {
     "data": {
      "text/plain": [
       "3.931219663327481"
      ]
     },
     "execution_count": 122,
     "metadata": {},
     "output_type": "execute_result"
    }
   ],
   "source": [
    "trainset.global_mean"
   ]
  },
  {
   "cell_type": "markdown",
   "metadata": {
    "slideshow": {
     "slide_type": "slide"
    }
   },
   "source": [
    "## Addestramento di un modello user-based\n",
    "\n",
    "In Surprise possiamo addestrare modelli di recommendation, in modo simile ai modelli di regressione in scikit-learn\n",
    "\n",
    "- un modello viene creato, specificandone eventuali iperparametri\n",
    "- il modello viene addestrato sui dati del training set\n",
    "- il modello può essere usato per estrarre predizioni o validato su un validation set\n",
    "\n",
    "La recommendation user-based è implementata nella classe `KNNBasic`\n",
    "\n",
    "- con `k` specifichiamo il numero di utenti simili da considerare\n",
    "- con un dizionario `sim_options` impostiamo la misura di similarità\n",
    "\n",
    "Creiamo ad esempio un modello come il primo creato sopra, che usi la similarità coseno e consideri sempre tutti gli utenti per ogni predizione (poniamo `k` uguale al numero totale di utenti)"
   ]
  },
  {
   "cell_type": "code",
   "execution_count": 123,
   "metadata": {},
   "outputs": [],
   "source": [
    "from surprise import KNNBasic\n",
    "ubr = KNNBasic(k=trainset.n_users, sim_options={\"name\": \"cosine\"})"
   ]
  },
  {
   "cell_type": "markdown",
   "metadata": {
    "slideshow": {
     "slide_type": "slide"
    }
   },
   "source": [
    "Per eseguire l'addestramento del modello, chiamarne il metodo `fit` passando il `Trainset` da utilizzare"
   ]
  },
  {
   "cell_type": "code",
   "execution_count": 124,
   "metadata": {},
   "outputs": [
    {
     "name": "stdout",
     "output_type": "stream",
     "text": [
      "Computing the cosine similarity matrix...\n",
      "Done computing similarity matrix.\n"
     ]
    },
    {
     "data": {
      "text/plain": [
       "<surprise.prediction_algorithms.knns.KNNBasic at 0x1bd784aded0>"
      ]
     },
     "execution_count": 124,
     "metadata": {},
     "output_type": "execute_result"
    }
   ],
   "source": [
    "ubr.fit(trainset)"
   ]
  },
  {
   "cell_type": "markdown",
   "metadata": {},
   "source": [
    "Con l'addestramento viene costruita la matrice delle similarità coseno, accessibile dall'attributo `sim` _(questa può non essere identica alla matrice `cosim` estratta in precedenza per via di un diverso ordine degli utenti)_"
   ]
  },
  {
   "cell_type": "code",
   "execution_count": 125,
   "metadata": {},
   "outputs": [
    {
     "data": {
      "text/plain": [
       "array([[1.        , 0.94299033, 1.        , 0.94255773],\n",
       "       [0.94299033, 1.        , 1.        , 0.98      ],\n",
       "       [1.        , 1.        , 1.        , 0.97646729],\n",
       "       [0.94255773, 0.98      , 0.97646729, 1.        ]])"
      ]
     },
     "execution_count": 125,
     "metadata": {},
     "output_type": "execute_result"
    }
   ],
   "source": [
    "ubr.sim[:4, :4]"
   ]
  },
  {
   "cell_type": "markdown",
   "metadata": {
    "slideshow": {
     "slide_type": "slide"
    }
   },
   "source": [
    "## Utilizzare un modello\n",
    "\n",
    "Una volta addestrato, il modello può prevedere il rating che un utente darebbe ad un oggetto dati i rispettivi ID \"raw\", cioè quelli usati nel `Dataset` originale\n",
    "\n",
    "Ad esempio, estraiamo i nomi dell'utente e dell'oggetto che avevano indice 0 nella prima parte"
   ]
  },
  {
   "cell_type": "code",
   "execution_count": 126,
   "metadata": {},
   "outputs": [],
   "source": [
    "user0 = train_ratings.index[0]\n",
    "item0 = train_ratings.columns[0]"
   ]
  },
  {
   "cell_type": "markdown",
   "metadata": {},
   "source": [
    "Passiamo i nomi al metodo `predict` per ottenere la predizione da parte del modello surprise"
   ]
  },
  {
   "cell_type": "code",
   "execution_count": 127,
   "metadata": {},
   "outputs": [],
   "source": [
    "pred = ubr.predict(user0, item0)"
   ]
  },
  {
   "cell_type": "markdown",
   "metadata": {},
   "source": [
    "Otteniamo un oggetto `Prediction` i cui attributi riepilogano la richiesta (`uid` e `iid`) e forniscono i dati della predizione"
   ]
  },
  {
   "cell_type": "code",
   "execution_count": 128,
   "metadata": {
    "slideshow": {
     "slide_type": "slide"
    }
   },
   "outputs": [
    {
     "data": {
      "text/plain": [
       "Prediction(uid='[1001561] D. Wetzel', iid='[100004] High School Confidential [VHS]', r_ui=None, est=5, details={'actual_k': 1, 'was_impossible': False})"
      ]
     },
     "execution_count": 128,
     "metadata": {},
     "output_type": "execute_result"
    }
   ],
   "source": [
    "pred"
   ]
  },
  {
   "cell_type": "markdown",
   "metadata": {},
   "source": [
    "- Il voto predetto è dato dall'attributo `est`, in questo caso 5 stelle\n",
    "- I `details` indicano informazioni aggiuntive, in questo caso che il voto è stato predetto sulla base di quello dato da 1 solo utente simile\n",
    "- `r_ui` è il voto reale (in questo caso non c'è, ma lo vedremo a breve)\n",
    "\n",
    "Possiamo accedere a tutti i dati come attributi dell'oggetto, ad es.:"
   ]
  },
  {
   "cell_type": "code",
   "execution_count": 129,
   "metadata": {},
   "outputs": [
    {
     "data": {
      "text/plain": [
       "5"
      ]
     },
     "execution_count": 129,
     "metadata": {},
     "output_type": "execute_result"
    }
   ],
   "source": [
    "pred.est"
   ]
  },
  {
   "cell_type": "markdown",
   "metadata": {},
   "source": [
    "Possiamo verificare che questa predizione è la stessa fatta dal modello costruito manualmente sopra"
   ]
  },
  {
   "cell_type": "code",
   "execution_count": 130,
   "metadata": {},
   "outputs": [
    {
     "data": {
      "text/plain": [
       "5.0"
      ]
     },
     "execution_count": 130,
     "metadata": {},
     "output_type": "execute_result"
    }
   ],
   "source": [
    "predict_from_all(0, 0)"
   ]
  },
  {
   "cell_type": "markdown",
   "metadata": {
    "slideshow": {
     "slide_type": "slide"
    }
   },
   "source": [
    "## Validare un modello\n",
    "\n",
    "Per eseguire la validazione del modello in surprise dobbiamo\n",
    "\n",
    "- costruire un validation set in forma di una lista di tuple `(utente, oggetto, voto)`\n",
    "- fornire questa lista al modello da validare per ottenere una lista di `Prediction` corrispondenti\n",
    "- calcolare una metrica di accuratezza (es. RMSE) su tale lista\n",
    "\n",
    "Per ottenere un validation set nella forma corretta, possiamo usare il metodo `build_testset`:"
   ]
  },
  {
   "cell_type": "code",
   "execution_count": 131,
   "metadata": {},
   "outputs": [],
   "source": [
    "valset = val_dataset.build_full_trainset().build_testset()"
   ]
  },
  {
   "cell_type": "code",
   "execution_count": 132,
   "metadata": {},
   "outputs": [
    {
     "data": {
      "text/plain": [
       "[('[1092996] Reviewer', '[4742] Nights of Cabiria [VHS]', 5.0),\n",
       " ('[1092996] Reviewer', '[50377] The Quiet Man [VHS]', 5.0),\n",
       " ('[1092996] Reviewer', '[51373] Home Alone 2 - Lost in New York [VHS]', 3.0)]"
      ]
     },
     "execution_count": 132,
     "metadata": {},
     "output_type": "execute_result"
    }
   ],
   "source": [
    "valset[:3]"
   ]
  },
  {
   "cell_type": "markdown",
   "metadata": {
    "slideshow": {
     "slide_type": "slide"
    }
   },
   "source": [
    "Tale lista va passata al metodo `test` del modello addestrato"
   ]
  },
  {
   "cell_type": "code",
   "execution_count": 133,
   "metadata": {},
   "outputs": [],
   "source": [
    "preds = ubr.test(valset)"
   ]
  },
  {
   "cell_type": "markdown",
   "metadata": {},
   "source": [
    "Otteniamo una lista di oggetti `Prediction`"
   ]
  },
  {
   "cell_type": "code",
   "execution_count": 134,
   "metadata": {},
   "outputs": [
    {
     "data": {
      "text/plain": [
       "[Prediction(uid='[1092996] Reviewer', iid='[4742] Nights of Cabiria [VHS]', r_ui=5.0, est=5, details={'actual_k': 4, 'was_impossible': False}),\n",
       " Prediction(uid='[1092996] Reviewer', iid='[50377] The Quiet Man [VHS]', r_ui=5.0, est=4.241931710095136, details={'actual_k': 4, 'was_impossible': False}),\n",
       " Prediction(uid='[1092996] Reviewer', iid='[51373] Home Alone 2 - Lost in New York [VHS]', r_ui=3.0, est=3.0, details={'actual_k': 1, 'was_impossible': False})]"
      ]
     },
     "execution_count": 134,
     "metadata": {},
     "output_type": "execute_result"
    }
   ],
   "source": [
    "preds[:3]"
   ]
  },
  {
   "cell_type": "markdown",
   "metadata": {},
   "source": [
    "In ciascun oggetto troviamo rispettivamente in `r_ui` e in `est` i voti reali e predetti"
   ]
  },
  {
   "cell_type": "markdown",
   "metadata": {
    "slideshow": {
     "slide_type": "slide"
    }
   },
   "source": [
    "Possiamo quindi passare questa lista ad una funzione per il calcolo di una metrica di accuratezza\n",
    "\n",
    "Calcoliamo ad esempio il RMSE come abbiamo fatto sopra, verificando che combaci"
   ]
  },
  {
   "cell_type": "code",
   "execution_count": 135,
   "metadata": {},
   "outputs": [
    {
     "name": "stdout",
     "output_type": "stream",
     "text": [
      "RMSE: 1.1765\n"
     ]
    },
    {
     "data": {
      "text/plain": [
       "1.1764549883655138"
      ]
     },
     "execution_count": 135,
     "metadata": {},
     "output_type": "execute_result"
    }
   ],
   "source": [
    "from surprise.accuracy import rmse\n",
    "rmse(preds)"
   ]
  },
  {
   "cell_type": "markdown",
   "metadata": {},
   "source": [
    "Un'altra metrica che può essere calcolata è il MAE (_mean absolute error_), la media degli errori in valore assoluto"
   ]
  },
  {
   "cell_type": "code",
   "execution_count": 136,
   "metadata": {},
   "outputs": [
    {
     "name": "stdout",
     "output_type": "stream",
     "text": [
      "MAE:  0.8526\n"
     ]
    },
    {
     "data": {
      "text/plain": [
       "0.8525568703741262"
      ]
     },
     "execution_count": 136,
     "metadata": {},
     "output_type": "execute_result"
    }
   ],
   "source": [
    "from surprise.accuracy import mae\n",
    "mae(preds)"
   ]
  },
  {
   "cell_type": "markdown",
   "metadata": {
    "slideshow": {
     "slide_type": "slide"
    }
   },
   "source": [
    "### Esercizio 6: Modello user-based con vicinato\n",
    "\n",
    "- **(6a)** Addestrare sul training set un modello di recommendation user-based basato su similarità coseno e vicinato di 10 utenti, come quello costruito manualmente nella prima parte\n",
    "- **(6b)** Calcolare sul validation set il RMSE e il MAE di tale modello\n",
    "  - potrebbe risultare lievemente diverso da quello calcolato in precedenza per via di diversi utenti vicini selezionati nei casi di pari similarità"
   ]
  },
  {
   "cell_type": "markdown",
   "metadata": {
    "slideshow": {
     "slide_type": "slide"
    }
   },
   "source": [
    "## Varianti sul modello user-based\n",
    "\n",
    "Nel modello user-based è possibile utilizzare altre misure di similarità diverse dal coseno\n",
    "\n",
    "Una scelta comune è la _correlazione di Pearson_\n",
    "\n",
    "- in pratica consiste nella similarità coseno misurata non sui voti ma sul loro scarto rispetto alla media\n",
    "- questo bilancia le tendenze di voto diverse degli utenti, equiparando ad es. le 3 stelle di un utente alle 2 di uno più \"severo\"\n",
    "\n",
    "Per utilizzarla, specifichiamola in `sim_options` al posto del coseno"
   ]
  },
  {
   "cell_type": "code",
   "execution_count": 137,
   "metadata": {},
   "outputs": [],
   "source": [
    "ubr = KNNBasic(k=10, sim_options={\"name\": \"pearson\"})"
   ]
  },
  {
   "cell_type": "markdown",
   "metadata": {
    "slideshow": {
     "slide_type": "slide"
    }
   },
   "source": [
    "Possiamo quindi addestrare e validare il modello come prima"
   ]
  },
  {
   "cell_type": "code",
   "execution_count": 138,
   "metadata": {},
   "outputs": [
    {
     "name": "stdout",
     "output_type": "stream",
     "text": [
      "Computing the pearson similarity matrix...\n",
      "Done computing similarity matrix.\n"
     ]
    },
    {
     "data": {
      "text/plain": [
       "<surprise.prediction_algorithms.knns.KNNBasic at 0x1bd788e3b90>"
      ]
     },
     "execution_count": 138,
     "metadata": {},
     "output_type": "execute_result"
    }
   ],
   "source": [
    "ubr.fit(trainset)"
   ]
  },
  {
   "cell_type": "code",
   "execution_count": 139,
   "metadata": {},
   "outputs": [
    {
     "name": "stdout",
     "output_type": "stream",
     "text": [
      "RMSE: 1.1833\n",
      "MAE:  0.8782\n"
     ]
    },
    {
     "data": {
      "text/plain": [
       "(1.1833093002514359, 0.8782414100948562)"
      ]
     },
     "execution_count": 139,
     "metadata": {},
     "output_type": "execute_result"
    }
   ],
   "source": [
    "preds = ubr.test(valset)\n",
    "rmse(preds), mae(preds)"
   ]
  },
  {
   "cell_type": "markdown",
   "metadata": {},
   "source": [
    "In questo caso l'uso della correlazione di Pearson non ha migliorato il risultato"
   ]
  },
  {
   "cell_type": "markdown",
   "metadata": {
    "slideshow": {
     "slide_type": "slide"
    }
   },
   "source": [
    "Un altro modo per tenere conto delle differenze di voto medio tra gli utenti è riconsiderare il modo in cui è stimato il voto\n",
    "\n",
    "Invece di stimare direttamente il voto di $u$ come media di altri voti, possiamo stimare lo _scostamento dalla media_ del voto di $u$ come media degli scostamenti dalle rispettive medie di altri utenti\n",
    "\n",
    "$$ \\hat{r}_{u,i} = \\bar{r_u}+\\frac{\\sum_{v:P_{v,i}=1} \\text{sim}(u, v) \\cdot (r_{v,i}-\\bar{r_v})}{\\sum_{v:P_{v,i}=1} \\text{sim}(u, v)} $$\n",
    "\n",
    "Questo principio viene applicato nella classe `KNNWithMeans`, che per il resto è identica a `KNNBasic` e accetta le stesse opzioni"
   ]
  },
  {
   "cell_type": "code",
   "execution_count": 140,
   "metadata": {},
   "outputs": [],
   "source": [
    "from surprise import KNNWithMeans\n",
    "ubr = KNNWithMeans(k=10, sim_options={\"name\": \"cosine\"})"
   ]
  },
  {
   "cell_type": "markdown",
   "metadata": {
    "slideshow": {
     "slide_type": "slide"
    }
   },
   "source": [
    "Addestriamo e validiamo il modello come al solito"
   ]
  },
  {
   "cell_type": "code",
   "execution_count": 141,
   "metadata": {},
   "outputs": [
    {
     "name": "stdout",
     "output_type": "stream",
     "text": [
      "Computing the cosine similarity matrix...\n",
      "Done computing similarity matrix.\n"
     ]
    },
    {
     "data": {
      "text/plain": [
       "<surprise.prediction_algorithms.knns.KNNWithMeans at 0x1bd788e0390>"
      ]
     },
     "execution_count": 141,
     "metadata": {},
     "output_type": "execute_result"
    }
   ],
   "source": [
    "ubr.fit(trainset)"
   ]
  },
  {
   "cell_type": "code",
   "execution_count": 142,
   "metadata": {},
   "outputs": [
    {
     "name": "stdout",
     "output_type": "stream",
     "text": [
      "RMSE: 1.0494\n",
      "MAE:  0.7699\n"
     ]
    },
    {
     "data": {
      "text/plain": [
       "(1.049420754780564, 0.7698569855396796)"
      ]
     },
     "execution_count": 142,
     "metadata": {},
     "output_type": "execute_result"
    }
   ],
   "source": [
    "preds = ubr.test(valset)\n",
    "rmse(preds), mae(preds)"
   ]
  },
  {
   "cell_type": "markdown",
   "metadata": {},
   "source": [
    "Otteniamo un RMSE migliore"
   ]
  },
  {
   "cell_type": "markdown",
   "metadata": {
    "slideshow": {
     "slide_type": "slide"
    }
   },
   "source": [
    "## Collaborative filtering item-based\n",
    "\n",
    "La classe `KNNBasic` può essere usata anche per eseguire recommendation item-based, metodo duale allo user-based\n",
    "\n",
    "Il voto $\\hat{r}_{ui}$ previsto per un oggetto $i$ da parte di un utente $u$ è dato dalla media pesata dei voti dati da $u$ ai $k$ oggetti più simili ad $i$, rappresentati in un insieme $N_u^k(i)$\n",
    "\n",
    "$$ \\hat{r}_{ui} = \\frac{\\sum\\limits_{j \\in N^k_u(i)} \\text{sim}(i, j) \\cdot r_{uj}}{\\sum\\limits_{j \\in N^k_u(j)} \\text{sim}(i, j)} $$\n",
    "\n",
    "La similarità $\\text{sim}(i,j)$ tra due oggetti $i$ e $j$ è misurata dai voti ricevuti da utenti che hanno recensito entrambi\n",
    "\n",
    "Per eseguire item-based recommendation al posto di user-based, impostiamo `user_based=False` nelle opzioni della misura di similarità:"
   ]
  },
  {
   "cell_type": "code",
   "execution_count": 143,
   "metadata": {},
   "outputs": [],
   "source": [
    "ibr = KNNBasic(k=10, sim_options={\"name\": \"cosine\", \"user_based\": False})"
   ]
  },
  {
   "cell_type": "markdown",
   "metadata": {
    "slideshow": {
     "slide_type": "slide"
    }
   },
   "source": [
    "Possiamo quindi addestrare e validare il modello come prima"
   ]
  },
  {
   "cell_type": "code",
   "execution_count": 144,
   "metadata": {},
   "outputs": [
    {
     "name": "stdout",
     "output_type": "stream",
     "text": [
      "Computing the cosine similarity matrix...\n",
      "Done computing similarity matrix.\n"
     ]
    },
    {
     "data": {
      "text/plain": [
       "<surprise.prediction_algorithms.knns.KNNBasic at 0x1bdb67bb210>"
      ]
     },
     "execution_count": 144,
     "metadata": {},
     "output_type": "execute_result"
    }
   ],
   "source": [
    "ibr.fit(trainset)"
   ]
  },
  {
   "cell_type": "code",
   "execution_count": 145,
   "metadata": {},
   "outputs": [
    {
     "name": "stdout",
     "output_type": "stream",
     "text": [
      "RMSE: 1.1381\n",
      "MAE:  0.8494\n"
     ]
    },
    {
     "data": {
      "text/plain": [
       "(1.1381231208660862, 0.849433685290423)"
      ]
     },
     "execution_count": 145,
     "metadata": {},
     "output_type": "execute_result"
    }
   ],
   "source": [
    "preds = ibr.test(valset)\n",
    "rmse(preds), mae(preds)"
   ]
  },
  {
   "cell_type": "markdown",
   "metadata": {
    "slideshow": {
     "slide_type": "slide"
    }
   },
   "source": [
    "## Collaborative filtering con fattorizzazione di matrici\n",
    "\n",
    "I metodi basati su fattorizzazione o scomposizione di matrici funzionano rappresentando utenti ed oggetti come combinazione di fattori\n",
    "- i fattori sono ricavati statisticamente dai dati e corrispondono a grandi linee a categorie di oggetti (es. per i film: azione, commedia, ...)\n",
    "- ciascun oggetto è rappresentato da un vettore col peso di ciascun fattore su di esso (es. quanto un film è d'azione)\n",
    "- il vettore di ciascun utente indica l'affinità a ciascun fattore (es. quanto gli piacciono i film d'azione)\n",
    "- il voto stimato è quindi proporzionale alla similarità tra il vettore dell'utente e quello del prodotto"
   ]
  },
  {
   "cell_type": "markdown",
   "metadata": {
    "slideshow": {
     "slide_type": "slide"
    }
   },
   "source": [
    "Il modello più semplice con fattorizzazione di matrici è `SVD` (_singular value decomposition_)\n",
    "\n",
    "- l'addestramento avviene internamente tramite una discesa gradiente _stocastica_, ovvero in cui i gradienti sono calcolati per efficienza su campioni casuali di dati\n",
    "- il parametro principale è il numero di fattori da individuare `n_factors`\n",
    "- con `n_epochs` si può invece controllare il numero di iterazioni di discesa gradiente\n",
    "- con `random_state` si può fornire un seed per la componente stocastica (necessario per la riproducibilità)"
   ]
  },
  {
   "cell_type": "code",
   "execution_count": 146,
   "metadata": {},
   "outputs": [],
   "source": [
    "from surprise import SVD\n",
    "fbr = SVD(n_factors=10, random_state=42)"
   ]
  },
  {
   "cell_type": "code",
   "execution_count": 147,
   "metadata": {
    "slideshow": {
     "slide_type": "slide"
    }
   },
   "outputs": [
    {
     "data": {
      "text/plain": [
       "<surprise.prediction_algorithms.matrix_factorization.SVD at 0x1bdb6731a50>"
      ]
     },
     "execution_count": 147,
     "metadata": {},
     "output_type": "execute_result"
    }
   ],
   "source": [
    "fbr.fit(trainset)"
   ]
  },
  {
   "cell_type": "code",
   "execution_count": 148,
   "metadata": {},
   "outputs": [
    {
     "name": "stdout",
     "output_type": "stream",
     "text": [
      "RMSE: 0.9565\n",
      "MAE:  0.7446\n"
     ]
    },
    {
     "data": {
      "text/plain": [
       "(0.9565151460041259, 0.7445630800807548)"
      ]
     },
     "execution_count": 148,
     "metadata": {},
     "output_type": "execute_result"
    }
   ],
   "source": [
    "preds = fbr.test(valset)\n",
    "rmse(preds), mae(preds)"
   ]
  },
  {
   "cell_type": "markdown",
   "metadata": {},
   "source": [
    "Il modello SVD fornisce risultati migliori di quelli sopra"
   ]
  },
  {
   "cell_type": "markdown",
   "metadata": {
    "slideshow": {
     "slide_type": "slide"
    }
   },
   "source": [
    "## Recommendation casuale\n",
    "\n",
    "Surprise offre anche un recommender `NormalPredictor` che prevede voti casuali, utilizzabile come baseline nella valutazione degli altri metodi\n",
    "\n",
    "I voti predetti hanno una distribuzione normale con media e varianza calcolate dal training set"
   ]
  },
  {
   "cell_type": "code",
   "execution_count": 149,
   "metadata": {},
   "outputs": [
    {
     "data": {
      "text/plain": [
       "<surprise.prediction_algorithms.random_pred.NormalPredictor at 0x1bdb67308d0>"
      ]
     },
     "execution_count": 149,
     "metadata": {},
     "output_type": "execute_result"
    }
   ],
   "source": [
    "from surprise import NormalPredictor\n",
    "rr = NormalPredictor()\n",
    "rr.fit(trainset)"
   ]
  },
  {
   "cell_type": "code",
   "execution_count": 150,
   "metadata": {},
   "outputs": [
    {
     "name": "stdout",
     "output_type": "stream",
     "text": [
      "RMSE: 1.5121\n",
      "MAE:  1.1861\n"
     ]
    },
    {
     "data": {
      "text/plain": [
       "(1.512097500815903, 1.186109068977617)"
      ]
     },
     "execution_count": 150,
     "metadata": {},
     "output_type": "execute_result"
    }
   ],
   "source": [
    "preds = rr.test(valset)\n",
    "rmse(preds), mae(preds)"
   ]
  },
  {
   "cell_type": "markdown",
   "metadata": {},
   "source": [
    "Estraendo i voti a caso ad ogni chiamata, la valutazione eseguita più volte dà risultati diversi _(per impostare un seed prima dell'addestramento: `np.random.seed(123)`)_\n",
    "\n",
    "Ovviamente questo metodo è molto veloce ma ha un RMSE molto più alto"
   ]
  },
  {
   "cell_type": "markdown",
   "metadata": {
    "slideshow": {
     "slide_type": "slide"
    }
   },
   "source": [
    "## Cross validation k-fold\n",
    "\n",
    "Per eseguire la validazione dei modelli provati, abbiamo fin quì usato il metodo _hold-out_, cioè la divisione tra un training e un validation set predefiniti\n",
    "\n",
    "Come visto nei modelli di regressione, possiamo ottenere una validazione più accurata con la cross validation a _k_ fold: il dataset è suddiviso casualmente in _k_ gruppi, ciascuno è usato come validation set di un modello addestrato su tutti gli altri\n",
    "\n",
    "Surprise fornisce funzionalità per la cross validation con un API molto simile a quella di scikit-learn\n",
    "\n",
    "Per definire come suddividere il dataset creiamo un oggetto `KFold`, specificando il numero di fold da creare e un seed per la casualità"
   ]
  },
  {
   "cell_type": "code",
   "execution_count": 151,
   "metadata": {},
   "outputs": [],
   "source": [
    "from surprise.model_selection import KFold\n",
    "kf = KFold(n_splits=3, shuffle=True, random_state=42)"
   ]
  },
  {
   "cell_type": "markdown",
   "metadata": {
    "slideshow": {
     "slide_type": "slide"
    }
   },
   "source": [
    "Per eseguire una cross validation possiamo usare la funzione `cross_validate` indicando\n",
    "\n",
    "- il modello (algoritmo e parametri) su cui eseguire la validazione\n",
    "- il `Dataset` da utilizzare\n",
    "- il criterio di split da usare, ad es. il `KFold` sopra\n",
    "- le misure di accuratezza da calcolare (default: RMSE e MAE)\n",
    "\n",
    "Prendiamo ad esempio il modello user-based basato su 10 vicini e similarità coseno visto prima"
   ]
  },
  {
   "cell_type": "code",
   "execution_count": 152,
   "metadata": {},
   "outputs": [
    {
     "name": "stdout",
     "output_type": "stream",
     "text": [
      "Computing the cosine similarity matrix...\n",
      "Done computing similarity matrix.\n",
      "Computing the cosine similarity matrix...\n",
      "Done computing similarity matrix.\n",
      "Computing the cosine similarity matrix...\n",
      "Done computing similarity matrix.\n"
     ]
    }
   ],
   "source": [
    "from surprise.model_selection import cross_validate\n",
    "model = KNNBasic(k=10, sim_options={\"name\": \"cosine\"})\n",
    "cv_results = cross_validate(model, train_dataset, cv=kf)"
   ]
  },
  {
   "cell_type": "markdown",
   "metadata": {
    "slideshow": {
     "slide_type": "slide"
    }
   },
   "source": [
    "Come in scikit-learn, otteniamo un dizionario che possiamo visualizzare comodamente in un frame pandas"
   ]
  },
  {
   "cell_type": "code",
   "execution_count": 153,
   "metadata": {},
   "outputs": [
    {
     "data": {
      "text/html": [
       "<div>\n",
       "<style scoped>\n",
       "    .dataframe tbody tr th:only-of-type {\n",
       "        vertical-align: middle;\n",
       "    }\n",
       "\n",
       "    .dataframe tbody tr th {\n",
       "        vertical-align: top;\n",
       "    }\n",
       "\n",
       "    .dataframe thead th {\n",
       "        text-align: right;\n",
       "    }\n",
       "</style>\n",
       "<table border=\"1\" class=\"dataframe\">\n",
       "  <thead>\n",
       "    <tr style=\"text-align: right;\">\n",
       "      <th></th>\n",
       "      <th>test_rmse</th>\n",
       "      <th>test_mae</th>\n",
       "      <th>fit_time</th>\n",
       "      <th>test_time</th>\n",
       "    </tr>\n",
       "  </thead>\n",
       "  <tbody>\n",
       "    <tr>\n",
       "      <th>0</th>\n",
       "      <td>1.254324</td>\n",
       "      <td>0.951606</td>\n",
       "      <td>0.004069</td>\n",
       "      <td>0.032793</td>\n",
       "    </tr>\n",
       "    <tr>\n",
       "      <th>1</th>\n",
       "      <td>1.231866</td>\n",
       "      <td>0.926686</td>\n",
       "      <td>0.000000</td>\n",
       "      <td>0.015687</td>\n",
       "    </tr>\n",
       "    <tr>\n",
       "      <th>2</th>\n",
       "      <td>1.251063</td>\n",
       "      <td>0.937161</td>\n",
       "      <td>0.000000</td>\n",
       "      <td>0.026671</td>\n",
       "    </tr>\n",
       "  </tbody>\n",
       "</table>\n",
       "</div>"
      ],
      "text/plain": [
       "   test_rmse  test_mae  fit_time  test_time\n",
       "0   1.254324  0.951606  0.004069   0.032793\n",
       "1   1.231866  0.926686  0.000000   0.015687\n",
       "2   1.251063  0.937161  0.000000   0.026671"
      ]
     },
     "execution_count": 153,
     "metadata": {},
     "output_type": "execute_result"
    }
   ],
   "source": [
    "pd.DataFrame(cv_results)"
   ]
  },
  {
   "cell_type": "markdown",
   "metadata": {},
   "source": [
    "- Ogni riga corrisponde ad un fold\n",
    "- Le colonne `fit_time` e `test_time` riportano il tempo (in secondi) richiesto per addestramento e validazione\n",
    "- Le colonne `test_rmse` e `test_mae` riportano le misure di accuratezza\n",
    "\n",
    "Possiamo usare le medie dei valori come valutazioni generali del modello testato sui dati"
   ]
  },
  {
   "cell_type": "code",
   "execution_count": 154,
   "metadata": {},
   "outputs": [
    {
     "data": {
      "text/plain": [
       "1.2457509255127395"
      ]
     },
     "execution_count": 154,
     "metadata": {},
     "output_type": "execute_result"
    }
   ],
   "source": [
    "cv_results[\"test_rmse\"].mean()"
   ]
  },
  {
   "cell_type": "markdown",
   "metadata": {
    "slideshow": {
     "slide_type": "slide"
    }
   },
   "source": [
    "## Grid search\n",
    "\n",
    "Come i modelli di regressione, anche quelli di recommendation hanno degli iperparametri da impostare che possono influenzarne l'accuratezza, ad esempio il numero k di vicini nella recommendation user-based\n",
    "\n",
    "Surprise offre una funzionalità di _grid search_ simile a quella di scikit-learn per testare diversi valori dei parametri\n",
    "\n",
    "Vediamo ad esempio l'efficacia della user-based recommendation al variare di k e della misura di similarità\n",
    "\n",
    "Si definisce una \"griglia\" con i valori possibili dei parametri"
   ]
  },
  {
   "cell_type": "code",
   "execution_count": 155,
   "metadata": {},
   "outputs": [],
   "source": [
    "grid = {\n",
    "    \"k\": [5, 10, 20],\n",
    "    \"sim_options\": {\"name\": [\"cosine\", \"pearson\"]}\n",
    "}"
   ]
  },
  {
   "cell_type": "markdown",
   "metadata": {
    "slideshow": {
     "slide_type": "slide"
    }
   },
   "source": [
    "Si crea quindi un oggetto `GridSearchCV` passando il modello da testare, la griglia dei parametri e il metodo di split per la validazione\n",
    "\n",
    "**Differentemente da scikit-learn** va passata _la classe_ del modello da usare (in questo caso `KNNBasic`), non una sua istanza. Se la classe ha dei parametri con valori fissi, questi possono essere inseriti nella griglia insieme a quelli variabili.\n",
    "\n",
    "Con `refit=True` specifichiamo che alla fine va riaddestrato su tutti i dati un modello con i parametri risultati migliori (di default basandosi sul RMSE)"
   ]
  },
  {
   "cell_type": "code",
   "execution_count": 156,
   "metadata": {},
   "outputs": [],
   "source": [
    "from surprise.model_selection import GridSearchCV\n",
    "gs = GridSearchCV(KNNBasic, grid, cv=kf, refit=True)"
   ]
  },
  {
   "cell_type": "markdown",
   "metadata": {},
   "source": [
    "Si chiama quindi il metodo `fit` passando il `Dataset` con i dati"
   ]
  },
  {
   "cell_type": "code",
   "execution_count": 157,
   "metadata": {},
   "outputs": [
    {
     "name": "stdout",
     "output_type": "stream",
     "text": [
      "Computing the cosine similarity matrix...\n",
      "Done computing similarity matrix.\n",
      "Computing the cosine similarity matrix...\n",
      "Done computing similarity matrix.\n",
      "Computing the cosine similarity matrix...\n",
      "Done computing similarity matrix.\n",
      "Computing the pearson similarity matrix...\n",
      "Done computing similarity matrix.\n",
      "Computing the pearson similarity matrix...\n",
      "Done computing similarity matrix.\n",
      "Computing the pearson similarity matrix...\n",
      "Done computing similarity matrix.\n",
      "Computing the cosine similarity matrix...\n",
      "Done computing similarity matrix.\n",
      "Computing the cosine similarity matrix...\n",
      "Done computing similarity matrix.\n",
      "Computing the cosine similarity matrix...\n",
      "Done computing similarity matrix.\n",
      "Computing the pearson similarity matrix...\n",
      "Done computing similarity matrix.\n",
      "Computing the pearson similarity matrix...\n",
      "Done computing similarity matrix.\n",
      "Computing the pearson similarity matrix...\n",
      "Done computing similarity matrix.\n",
      "Computing the cosine similarity matrix...\n",
      "Done computing similarity matrix.\n",
      "Computing the cosine similarity matrix...\n",
      "Done computing similarity matrix.\n",
      "Computing the cosine similarity matrix...\n",
      "Done computing similarity matrix.\n",
      "Computing the pearson similarity matrix...\n",
      "Done computing similarity matrix.\n",
      "Computing the pearson similarity matrix...\n",
      "Done computing similarity matrix.\n",
      "Computing the pearson similarity matrix...\n",
      "Done computing similarity matrix.\n",
      "Computing the pearson similarity matrix...\n",
      "Done computing similarity matrix.\n"
     ]
    }
   ],
   "source": [
    "gs.fit(train_dataset)"
   ]
  },
  {
   "cell_type": "markdown",
   "metadata": {
    "slideshow": {
     "slide_type": "slide"
    }
   },
   "source": [
    "L'oggetto addestrato può essere ispezionato in modo simile a scikit-learn\n",
    "\n",
    "L'attributo `best_params` fornisce la combinazione di parametri risultata migliore per ciascuna metrica di accuratezza"
   ]
  },
  {
   "cell_type": "code",
   "execution_count": 158,
   "metadata": {},
   "outputs": [
    {
     "data": {
      "text/plain": [
       "{'rmse': {'k': 10, 'sim_options': {'name': 'pearson', 'user_based': True}},\n",
       " 'mae': {'k': 10, 'sim_options': {'name': 'cosine', 'user_based': True}}}"
      ]
     },
     "execution_count": 158,
     "metadata": {},
     "output_type": "execute_result"
    }
   ],
   "source": [
    "gs.best_params"
   ]
  },
  {
   "cell_type": "markdown",
   "metadata": {},
   "source": [
    "`cv_results` fornisce tutti i risultati, può essere visualizzato come frame con le righe ordinate per RMSE o MAE medio"
   ]
  },
  {
   "cell_type": "code",
   "execution_count": 159,
   "metadata": {},
   "outputs": [
    {
     "data": {
      "text/html": [
       "<div>\n",
       "<style scoped>\n",
       "    .dataframe tbody tr th:only-of-type {\n",
       "        vertical-align: middle;\n",
       "    }\n",
       "\n",
       "    .dataframe tbody tr th {\n",
       "        vertical-align: top;\n",
       "    }\n",
       "\n",
       "    .dataframe thead th {\n",
       "        text-align: right;\n",
       "    }\n",
       "</style>\n",
       "<table border=\"1\" class=\"dataframe\">\n",
       "  <thead>\n",
       "    <tr style=\"text-align: right;\">\n",
       "      <th></th>\n",
       "      <th>split0_test_rmse</th>\n",
       "      <th>split1_test_rmse</th>\n",
       "      <th>split2_test_rmse</th>\n",
       "      <th>mean_test_rmse</th>\n",
       "      <th>std_test_rmse</th>\n",
       "      <th>rank_test_rmse</th>\n",
       "      <th>split0_test_mae</th>\n",
       "      <th>split1_test_mae</th>\n",
       "      <th>split2_test_mae</th>\n",
       "      <th>mean_test_mae</th>\n",
       "      <th>std_test_mae</th>\n",
       "      <th>rank_test_mae</th>\n",
       "      <th>mean_fit_time</th>\n",
       "      <th>std_fit_time</th>\n",
       "      <th>mean_test_time</th>\n",
       "      <th>std_test_time</th>\n",
       "      <th>params</th>\n",
       "      <th>param_k</th>\n",
       "      <th>param_sim_options</th>\n",
       "    </tr>\n",
       "  </thead>\n",
       "  <tbody>\n",
       "    <tr>\n",
       "      <th>3</th>\n",
       "      <td>1.255051</td>\n",
       "      <td>1.227805</td>\n",
       "      <td>1.233077</td>\n",
       "      <td>1.238644</td>\n",
       "      <td>0.011799</td>\n",
       "      <td>1</td>\n",
       "      <td>0.967408</td>\n",
       "      <td>0.946476</td>\n",
       "      <td>0.942974</td>\n",
       "      <td>0.952286</td>\n",
       "      <td>0.010788</td>\n",
       "      <td>4</td>\n",
       "      <td>0.000000</td>\n",
       "      <td>0.000000</td>\n",
       "      <td>0.020900</td>\n",
       "      <td>0.001466</td>\n",
       "      <td>{'k': 10, 'sim_options': {'name': 'pearson', '...</td>\n",
       "      <td>10</td>\n",
       "      <td>{'name': 'pearson', 'user_based': True}</td>\n",
       "    </tr>\n",
       "    <tr>\n",
       "      <th>5</th>\n",
       "      <td>1.255065</td>\n",
       "      <td>1.227821</td>\n",
       "      <td>1.233085</td>\n",
       "      <td>1.238657</td>\n",
       "      <td>0.011800</td>\n",
       "      <td>2</td>\n",
       "      <td>0.967457</td>\n",
       "      <td>0.946491</td>\n",
       "      <td>0.942922</td>\n",
       "      <td>0.952290</td>\n",
       "      <td>0.010823</td>\n",
       "      <td>5</td>\n",
       "      <td>0.007868</td>\n",
       "      <td>0.006673</td>\n",
       "      <td>0.033505</td>\n",
       "      <td>0.023322</td>\n",
       "      <td>{'k': 20, 'sim_options': {'name': 'pearson', '...</td>\n",
       "      <td>20</td>\n",
       "      <td>{'name': 'pearson', 'user_based': True}</td>\n",
       "    </tr>\n",
       "    <tr>\n",
       "      <th>1</th>\n",
       "      <td>1.255666</td>\n",
       "      <td>1.227754</td>\n",
       "      <td>1.233733</td>\n",
       "      <td>1.239051</td>\n",
       "      <td>0.011999</td>\n",
       "      <td>3</td>\n",
       "      <td>0.968043</td>\n",
       "      <td>0.946195</td>\n",
       "      <td>0.943654</td>\n",
       "      <td>0.952631</td>\n",
       "      <td>0.010948</td>\n",
       "      <td>6</td>\n",
       "      <td>0.005231</td>\n",
       "      <td>0.007397</td>\n",
       "      <td>0.020171</td>\n",
       "      <td>0.007868</td>\n",
       "      <td>{'k': 5, 'sim_options': {'name': 'pearson', 'u...</td>\n",
       "      <td>5</td>\n",
       "      <td>{'name': 'pearson', 'user_based': True}</td>\n",
       "    </tr>\n",
       "    <tr>\n",
       "      <th>4</th>\n",
       "      <td>1.252696</td>\n",
       "      <td>1.231326</td>\n",
       "      <td>1.249788</td>\n",
       "      <td>1.244603</td>\n",
       "      <td>0.009463</td>\n",
       "      <td>4</td>\n",
       "      <td>0.951588</td>\n",
       "      <td>0.927287</td>\n",
       "      <td>0.937037</td>\n",
       "      <td>0.938637</td>\n",
       "      <td>0.009985</td>\n",
       "      <td>2</td>\n",
       "      <td>0.005237</td>\n",
       "      <td>0.007406</td>\n",
       "      <td>0.020065</td>\n",
       "      <td>0.006282</td>\n",
       "      <td>{'k': 20, 'sim_options': {'name': 'cosine', 'u...</td>\n",
       "      <td>20</td>\n",
       "      <td>{'name': 'cosine', 'user_based': True}</td>\n",
       "    </tr>\n",
       "    <tr>\n",
       "      <th>2</th>\n",
       "      <td>1.254324</td>\n",
       "      <td>1.231866</td>\n",
       "      <td>1.251063</td>\n",
       "      <td>1.245751</td>\n",
       "      <td>0.009908</td>\n",
       "      <td>5</td>\n",
       "      <td>0.951606</td>\n",
       "      <td>0.926686</td>\n",
       "      <td>0.937161</td>\n",
       "      <td>0.938484</td>\n",
       "      <td>0.010217</td>\n",
       "      <td>1</td>\n",
       "      <td>0.000000</td>\n",
       "      <td>0.000000</td>\n",
       "      <td>0.012938</td>\n",
       "      <td>0.003846</td>\n",
       "      <td>{'k': 10, 'sim_options': {'name': 'cosine', 'u...</td>\n",
       "      <td>10</td>\n",
       "      <td>{'name': 'cosine', 'user_based': True}</td>\n",
       "    </tr>\n",
       "    <tr>\n",
       "      <th>0</th>\n",
       "      <td>1.261489</td>\n",
       "      <td>1.239035</td>\n",
       "      <td>1.255559</td>\n",
       "      <td>1.252028</td>\n",
       "      <td>0.009501</td>\n",
       "      <td>6</td>\n",
       "      <td>0.953364</td>\n",
       "      <td>0.930041</td>\n",
       "      <td>0.938673</td>\n",
       "      <td>0.940693</td>\n",
       "      <td>0.009628</td>\n",
       "      <td>3</td>\n",
       "      <td>0.000990</td>\n",
       "      <td>0.001400</td>\n",
       "      <td>0.020693</td>\n",
       "      <td>0.004441</td>\n",
       "      <td>{'k': 5, 'sim_options': {'name': 'cosine', 'us...</td>\n",
       "      <td>5</td>\n",
       "      <td>{'name': 'cosine', 'user_based': True}</td>\n",
       "    </tr>\n",
       "  </tbody>\n",
       "</table>\n",
       "</div>"
      ],
      "text/plain": [
       "   split0_test_rmse  split1_test_rmse  split2_test_rmse  mean_test_rmse  \\\n",
       "3          1.255051          1.227805          1.233077        1.238644   \n",
       "5          1.255065          1.227821          1.233085        1.238657   \n",
       "1          1.255666          1.227754          1.233733        1.239051   \n",
       "4          1.252696          1.231326          1.249788        1.244603   \n",
       "2          1.254324          1.231866          1.251063        1.245751   \n",
       "0          1.261489          1.239035          1.255559        1.252028   \n",
       "\n",
       "   std_test_rmse  rank_test_rmse  split0_test_mae  split1_test_mae  \\\n",
       "3       0.011799               1         0.967408         0.946476   \n",
       "5       0.011800               2         0.967457         0.946491   \n",
       "1       0.011999               3         0.968043         0.946195   \n",
       "4       0.009463               4         0.951588         0.927287   \n",
       "2       0.009908               5         0.951606         0.926686   \n",
       "0       0.009501               6         0.953364         0.930041   \n",
       "\n",
       "   split2_test_mae  mean_test_mae  std_test_mae  rank_test_mae  mean_fit_time  \\\n",
       "3         0.942974       0.952286      0.010788              4       0.000000   \n",
       "5         0.942922       0.952290      0.010823              5       0.007868   \n",
       "1         0.943654       0.952631      0.010948              6       0.005231   \n",
       "4         0.937037       0.938637      0.009985              2       0.005237   \n",
       "2         0.937161       0.938484      0.010217              1       0.000000   \n",
       "0         0.938673       0.940693      0.009628              3       0.000990   \n",
       "\n",
       "   std_fit_time  mean_test_time  std_test_time  \\\n",
       "3      0.000000        0.020900       0.001466   \n",
       "5      0.006673        0.033505       0.023322   \n",
       "1      0.007397        0.020171       0.007868   \n",
       "4      0.007406        0.020065       0.006282   \n",
       "2      0.000000        0.012938       0.003846   \n",
       "0      0.001400        0.020693       0.004441   \n",
       "\n",
       "                                              params  param_k  \\\n",
       "3  {'k': 10, 'sim_options': {'name': 'pearson', '...       10   \n",
       "5  {'k': 20, 'sim_options': {'name': 'pearson', '...       20   \n",
       "1  {'k': 5, 'sim_options': {'name': 'pearson', 'u...        5   \n",
       "4  {'k': 20, 'sim_options': {'name': 'cosine', 'u...       20   \n",
       "2  {'k': 10, 'sim_options': {'name': 'cosine', 'u...       10   \n",
       "0  {'k': 5, 'sim_options': {'name': 'cosine', 'us...        5   \n",
       "\n",
       "                         param_sim_options  \n",
       "3  {'name': 'pearson', 'user_based': True}  \n",
       "5  {'name': 'pearson', 'user_based': True}  \n",
       "1  {'name': 'pearson', 'user_based': True}  \n",
       "4   {'name': 'cosine', 'user_based': True}  \n",
       "2   {'name': 'cosine', 'user_based': True}  \n",
       "0   {'name': 'cosine', 'user_based': True}  "
      ]
     },
     "execution_count": 159,
     "metadata": {},
     "output_type": "execute_result"
    }
   ],
   "source": [
    "pd.DataFrame(gs.cv_results).sort_values(\"mean_test_rmse\")"
   ]
  },
  {
   "cell_type": "markdown",
   "metadata": {
    "slideshow": {
     "slide_type": "slide"
    }
   },
   "source": [
    "Possiamo utilizzare l'oggetto come modello, validandolo ad esempio sui dati non utilizzati del validation set"
   ]
  },
  {
   "cell_type": "code",
   "execution_count": 160,
   "metadata": {},
   "outputs": [
    {
     "name": "stdout",
     "output_type": "stream",
     "text": [
      "RMSE: 1.1833\n",
      "MAE:  0.8782\n"
     ]
    },
    {
     "data": {
      "text/plain": [
       "(1.1833093002514359, 0.8782414100948562)"
      ]
     },
     "execution_count": 160,
     "metadata": {},
     "output_type": "execute_result"
    }
   ],
   "source": [
    "preds = gs.test(valset)\n",
    "rmse(preds), mae(preds)"
   ]
  },
  {
   "cell_type": "markdown",
   "metadata": {
    "slideshow": {
     "slide_type": "slide"
    }
   },
   "source": [
    "### Esercizio 7: Grid search\n",
    "\n",
    "- **(7a)** Con una grid search, usando stessi dati e criterio di split usati sopra, individuare il valore ottimale (in termini di RMSE) del parametro `n_factors` per un modello `SVD`, testando i valori 3, 6, 9, ..., 30\n",
    "- **(7b)** Calcolare RMSE e MAE sul validation set del modello migliore individuato"
   ]
  },
  {
   "cell_type": "markdown",
   "metadata": {
    "slideshow": {
     "slide_type": "slide"
    }
   },
   "source": [
    "## Esercizio 8: Suggerire prodotti agli utenti\n",
    "\n",
    "Un modello di recommendation è in genere utilizzato, basandosi sui voti predetti, per suggerire un numero di prodotti ad un dato utente\n",
    "\n",
    "- **(8a)** Usando il modello ottenuto nell'esercizio 7, estrarre una lista di `Prediction` con i voti predetti per l'utente `target_user` definito sotto su tutti i prodotti nel training set\n",
    "  - per scorrere tutti i prodotti, scorrere gli indici del `trainset` da 0 a `n_items-1` e usare `trainset.to_raw_iid` per ottenere i nomi corrispondenti\n",
    "  - per semplicità, non è necessario escludere i prodotti già valutati\n",
    "- **(8b)** Stampare i nomi dei 10 prodotti con voto predetto più alto\n",
    "- **(8c)** Definire una funzione `recommend` che, dato un nome utente e un numero di prodotti da suggerire, restituisca una lista di nomi di prodotti suggeriti ottenuta come nei punti sopra"
   ]
  },
  {
   "cell_type": "code",
   "execution_count": 161,
   "metadata": {},
   "outputs": [],
   "source": [
    "target_user = \"[624547] Roland E. Zwick\""
   ]
  }
 ],
 "metadata": {
  "kernelspec": {
   "display_name": "Python 3",
   "language": "python",
   "name": "python3"
  },
  "language_info": {
   "codemirror_mode": {
    "name": "ipython",
    "version": 3
   },
   "file_extension": ".py",
   "mimetype": "text/x-python",
   "name": "python",
   "nbconvert_exporter": "python",
   "pygments_lexer": "ipython3",
   "version": "3.11.3"
  }
 },
 "nbformat": 4,
 "nbformat_minor": 4
}

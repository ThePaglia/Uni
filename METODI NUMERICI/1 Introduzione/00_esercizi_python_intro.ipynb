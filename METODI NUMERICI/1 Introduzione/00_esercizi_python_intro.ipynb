{
 "cells": [
  {
   "cell_type": "markdown",
   "metadata": {},
   "source": [
    "# Esercizio n. 1\n",
    "Scrivere un programma che, data una lista (ad esempio, a = [1, 1, 2, 3, 5, 8, 13, 21, 34, 55, 89]) stampa tutti gli elementi della lista che sono minori di 5.\n",
    "\n",
    "Extra:\n",
    "* Invece di stampare gli elementi uno per uno, creare un nuovo elenco che contenga tutti gli elementi inferiori a 5 dall'elenco di input e stampare questo nuovo elenco.\n"
   ]
  },
  {
   "cell_type": "code",
   "execution_count": 2,
   "metadata": {},
   "outputs": [
    {
     "name": "stdout",
     "output_type": "stream",
     "text": [
      "[1, 1, 2, 3]\n"
     ]
    }
   ],
   "source": [
    "a = [1, 1, 2, 3, 5, 8, 13, 21, 34, 55, 89]\n",
    "print(list(i for i in a if i < 5))"
   ]
  },
  {
   "cell_type": "markdown",
   "metadata": {},
   "source": [
    "# Esercizio n. 2\n",
    "Scrivere un programma che, date due liste, restituisca una lista che contiene solo gli elementi che sono comuni tra le prime due liste (senza duplicati), ad esempio, usando a = [1, 1, 2, 3, 5, 8, 13, 21, 34, 55, 89], b = [1, 2, 3, 4, 5, 6, 7, 8, 9, 10, 11, 12, 13].\n",
    "\n",
    "Assicurati che il tuo programma funzioni su due elenchi di dimensioni diverse.\n",
    "\n",
    "Extra:\n",
    "* Scrivere lo stesso programma per restituire un elenco con elementi concatenati tra gli elenchi di input (con ripetizioni)."
   ]
  },
  {
   "cell_type": "code",
   "execution_count": 3,
   "metadata": {},
   "outputs": [
    {
     "name": "stdout",
     "output_type": "stream",
     "text": [
      "[1, 2, 3, 5, 8, 13]\n"
     ]
    }
   ],
   "source": [
    "a = [1, 1, 2, 3, 5, 8, 13, 21, 34, 55, 89]\n",
    "b = [1, 2, 3, 4, 5, 6, 7, 8, 9, 10, 11, 12, 13]\n",
    "\n",
    "print(list(set(a) & set(b)))\n"
   ]
  },
  {
   "cell_type": "markdown",
   "metadata": {},
   "source": [
    "# Esercizio n. 3\n",
    "Sfruttando la list comprehension, scrivi una riga di codice Python che prende un elenco (ad esempio, a = [1, 4, 9, 16, 25, 36, 49, 64, 81, 100]) e crea un nuovo elenco che ha solo gli elementi pari di questo elenco "
   ]
  },
  {
   "cell_type": "code",
   "execution_count": 4,
   "metadata": {},
   "outputs": [
    {
     "name": "stdout",
     "output_type": "stream",
     "text": [
      "[4, 16, 36, 64, 100]\n"
     ]
    }
   ],
   "source": [
    "a = [1, 4, 9, 16, 25, 36, 49, 64, 81, 100]\n",
    "print(list(i for i in a if i % 2 == 0))"
   ]
  },
  {
   "cell_type": "markdown",
   "metadata": {},
   "source": [
    "# Esercizio n. 4\n",
    "Scrivete un programma per stampare il seguente modello usando i cicli for.\n",
    "\n",
    "```\n",
    "* \n",
    "* * \n",
    "* * * \n",
    "* * * * \n",
    "* * * * * \n",
    "* * * * \n",
    "* * * \n",
    "* * \n",
    "*\n",
    "```"
   ]
  },
  {
   "cell_type": "code",
   "execution_count": 5,
   "metadata": {},
   "outputs": [
    {
     "name": "stdout",
     "output_type": "stream",
     "text": [
      "\n",
      " *\n",
      " * *\n",
      " * * *\n",
      " * * * *\n",
      " * * * * *\n",
      " * * * *\n",
      " * * *\n",
      " * *\n",
      " *\n"
     ]
    }
   ],
   "source": [
    "for i in range(5):\n",
    "    print(\" *\" * i)\n",
    "for i in range(5, 0, -1) :\n",
    "    print(\" *\" * i)\n"
   ]
  },
  {
   "cell_type": "markdown",
   "metadata": {},
   "source": [
    "# Esercizio n. 5\n",
    "Scrivere un programma per controllare se tutti i caratteri di s1 sono contenuti in s2. La posizione del carattere non ha importanza.\n",
    "\n",
    "Ad esempio con s1='by' e s2='blueberry' dovrebbe restituire true. Al contrario, con s1='byZ' e s2='blueberry' dovrebbe restituire false.\n"
   ]
  },
  {
   "cell_type": "code",
   "execution_count": 6,
   "metadata": {},
   "outputs": [
    {
     "name": "stdout",
     "output_type": "stream",
     "text": [
      "True\n",
      "False\n"
     ]
    }
   ],
   "source": [
    "s1='by'\n",
    "s2='blueberry'\n",
    "s3='byZ'\n",
    "s4='blueberry'\n",
    "\n",
    "def check(s1, s2):\n",
    "    for char in s1:\n",
    "        if char not in s2:\n",
    "            return False\n",
    "    return True\n",
    "\n",
    "print(check(s1, s2))\n",
    "print(check(s3, s4))"
   ]
  },
  {
   "cell_type": "markdown",
   "metadata": {},
   "source": [
    "# Esercizio n. 6\n",
    "Crea una funzione che accetta due numeri interi come parametri di input e se il loro prodotto è minore di 1000 restituisce il prodotto, altrimenti restituisce la somma dei numeri di input.\n",
    "\n",
    "Extra:\n",
    "* Scrivere lo stesso programma utilizzando il parametro soglia (1000) come parametro opzionale di input. Ciò significa che questo parametro deve essere definito al suo valore predefinito nella funzione. Testare la funzione modificando la soglia quando la si chiama."
   ]
  },
  {
   "cell_type": "code",
   "execution_count": 7,
   "metadata": {},
   "outputs": [
    {
     "data": {
      "text/plain": [
       "12"
      ]
     },
     "execution_count": 7,
     "metadata": {},
     "output_type": "execute_result"
    }
   ],
   "source": [
    "def f(i, j, cap=1000):\n",
    "    \n",
    "    if i*j < cap:\n",
    "        return i*j\n",
    "    else:\n",
    "        return i+j\n",
    "f(10, 2, cap=20)"
   ]
  },
  {
   "attachments": {},
   "cell_type": "markdown",
   "metadata": {},
   "source": [
    "# Esercizio n. 7\n",
    "Scrivi una funzione Python che:\n",
    "* restituisce la somma e il prodotto degli elementi contenuti in una lista\n",
    "* restituisce la somma o il prodotto degli elementi della lista a seconda di un parametro di input aggiuntivo specificato dall'utente.\n"
   ]
  },
  {
   "cell_type": "code",
   "execution_count": 12,
   "metadata": {},
   "outputs": [
    {
     "data": {
      "text/plain": [
       "10"
      ]
     },
     "execution_count": 12,
     "metadata": {},
     "output_type": "execute_result"
    }
   ],
   "source": [
    "a = [1,2,3,4]\n",
    "def f(a, p=True):\n",
    "    sum = 0\n",
    "    prod = 1\n",
    "    if p:\n",
    "        for i in a:\n",
    "            sum += i\n",
    "        return sum\n",
    "    else:\n",
    "        for i in a:\n",
    "            prod *= i\n",
    "        return prod\n",
    "    \n",
    "f(a)"
   ]
  },
  {
   "cell_type": "markdown",
   "metadata": {
    "ExecuteTime": {
     "end_time": "2023-02-21T00:10:18.015779Z",
     "start_time": "2023-02-21T00:10:17.978520Z"
    }
   },
   "source": [
    "# Esercizio n. 8\n",
    "Dato un elenco di numeri interi, ad esempio x = [0,1,2,3,4,5,6,7,8,9,], eleva al quadrato tutti i suoi valori in un nuovo elenco y. Usa la list comprehension per farlo.\n",
    "\n",
    "* Traccia y su x usando la libreria matplotlib. Aggiungi anche un indicatore per ogni punto (ad esempio, un indicatore quadrato).\n",
    "\n",
    "* Prova a modificare alcuni parametri della trama come:\n",
    "     * colore\n",
    "     * etichetta x, etichetta y\n",
    "     * grid(axis='y')# \n",
    "     * titolo\n",
    "     * larghezza della linea\n",
    "\n",
    "* Tracciare una seconda curva (ad esempio, una relazione cubica o lineare semplice su x) sulla curva precedente.\n",
    "* Invece di tracciare le due curve in un unico grafico, riportarle su due subplot distinti organizzate per colonne (ad esempio, subplot(1,2,1) e subplot(1,2,2))."
   ]
  },
  {
   "cell_type": "code",
   "execution_count": 9,
   "metadata": {},
   "outputs": [
    {
     "data": {
      "image/png": "[encoded data removed]",
      "text/plain": [
       "<Figure size 640x480 with 1 Axes>"
      ]
     },
     "metadata": {},
     "output_type": "display_data"
    }
   ],
   "source": [
    "import matplotlib.pyplot as plt\n",
    "\n",
    "x = list(range(10))\n",
    "y = [i**2 for i in x]\n",
    "\n",
    "plt.plot(x, y, linewidth=2)\n",
    "plt.grid(True)\n",
    "plt.xlabel('x')\n",
    "plt.ylabel('y')\n",
    "plt.title('title')\n",
    "plt.legend([\"Funzione1\"])\n",
    "plt.show()"
   ]
  }
 ],
 "metadata": {
  "kernelspec": {
   "display_name": "Python 3",
   "language": "python",
   "name": "python3"
  },
  "language_info": {
   "codemirror_mode": {
    "name": "ipython",
    "version": 3
   },
   "file_extension": ".py",
   "mimetype": "text/x-python",
   "name": "python",
   "nbconvert_exporter": "python",
   "pygments_lexer": "ipython3",
   "version": "3.11.2"
  },
  "varInspector": {
   "cols": {
    "lenName": 16,
    "lenType": 16,
    "lenVar": 40
   },
   "kernels_config": {
    "python": {
     "delete_cmd_postfix": "",
     "delete_cmd_prefix": "del ",
     "library": "var_list.py",
     "varRefreshCmd": "print(var_dic_list())"
    },
    "r": {
     "delete_cmd_postfix": ") ",
     "delete_cmd_prefix": "rm(",
     "library": "var_list.r",
     "varRefreshCmd": "cat(var_dic_list()) "
    }
   },
   "types_to_exclude": [
    "module",
    "function",
    "builtin_function_or_method",
    "instance",
    "_Feature"
   ],
   "window_display": false
  },
  "vscode": {
   "interpreter": {
    "hash": "21dd527e9445c521a672bcf427b0c1f476f001b1e5c8510d955ec48db003ff86"
   }
  }
 },
 "nbformat": 4,
 "nbformat_minor": 4
}

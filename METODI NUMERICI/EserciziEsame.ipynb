{
 "cells": [
  {
   "cell_type": "code",
   "execution_count": null,
   "metadata": {},
   "outputs": [],
   "source": [
    "import numpy as np\n",
    "import matplotlib.pyplot as plt\n",
    "import numpy.linalg as npl\n",
    "import RisolviSis\n",
    "import scipy.linalg as spl\n",
    "from scipy.io import loadmat as lm"
   ]
  },
  {
   "attachments": {},
   "cell_type": "markdown",
   "metadata": {},
   "source": [
    "## Matrice 1"
   ]
  },
  {
   "cell_type": "code",
   "execution_count": null,
   "metadata": {},
   "outputs": [],
   "source": [
    "dati = lm(\"Matrici test su cui esercitarsi-20230610/test10.mat\")\n",
    "A = dati[\"A\"]\n",
    "b = dati[\"b\"]"
   ]
  },
  {
   "cell_type": "code",
   "execution_count": null,
   "metadata": {},
   "outputs": [],
   "source": [
    "A.shape  # Controllo la dimensione della matrice e quindi se m = n\n",
    "plt.spy(A)  # Controllo se è densa o sparsa\n",
    "np.array_equal(A, A.T)  # Controllo che sia simmetrica\n",
    "print(np.min(npl.eigvals(A)) > 0)  # Controllo che sia definita positiva"
   ]
  },
  {
   "cell_type": "code",
   "execution_count": null,
   "metadata": {},
   "outputs": [],
   "source": [
    "# Gauss Seidel\n",
    "def gauss_seidel(A, b, x0, toll, it_max):\n",
    "    errore = 1000\n",
    "\n",
    "    D = np.diag(np.diag(A))\n",
    "    E = np.tril(A, -1)\n",
    "    F = np.triu(A, 1)\n",
    "    M = D + E\n",
    "    N = -F\n",
    "    T = np.dot(npl.inv(M), N)\n",
    "\n",
    "    raggiospettrale = np.max(np.abs(npl.eigvals(T)))\n",
    "    print(\"raggio spettrale Gauss-Seidel \", raggiospettrale)\n",
    "    it = 0\n",
    "    er_vet = []\n",
    "    while it <= it_max and errore >= toll:\n",
    "        x, flag = RisolviSis.Lsolve(M, b - np.dot(F, x0))\n",
    "        errore = npl.norm(x - x0) / npl.norm(x)\n",
    "        er_vet.append(errore)\n",
    "        x0 = x.copy()\n",
    "        it = it + 1\n",
    "    return x, it, er_vet"
   ]
  },
  {
   "cell_type": "code",
   "execution_count": null,
   "metadata": {},
   "outputs": [],
   "source": [
    "# Gauss Seidel SOR\n",
    "def gauss_seidel_sor(A, b, x0, toll, it_max, omega):\n",
    "    errore = 1000\n",
    "\n",
    "    D = np.diag(np.diag(A))\n",
    "    E = np.tril(A, -1)\n",
    "    F = np.triu(A, 1)\n",
    "    # Calcolo della matrice di iterazione di Gassu_Seidel SOR\n",
    "    Momega = D + omega * E\n",
    "    Nomega = (1 - omega) * D - omega * F\n",
    "    T = np.dot(npl.inv(Momega), Nomega)\n",
    "\n",
    "    raggiospettrale = np.max(np.abs(npl.eigvals(T)))\n",
    "    print(\"raggio spettrale Gauss-Seidel SOR \", raggiospettrale)\n",
    "\n",
    "    M = D + E\n",
    "    N = -F\n",
    "    it = 0\n",
    "    xold = x0.copy()\n",
    "    xnew = x0.copy()\n",
    "    er_vet = []\n",
    "    while it <= it_max and errore >= toll:\n",
    "        xtilde, flag = RisolviSis.Lsolve(M, b - np.dot(F, xold))\n",
    "        xnew = (1 - omega) * xold + omega * xtilde\n",
    "        errore = npl.norm(xnew - xold) / npl.norm(xnew)\n",
    "        er_vet.append(errore)\n",
    "        xold = xnew.copy()\n",
    "        it = it + 1\n",
    "    return xnew, it, er_vet"
   ]
  },
  {
   "cell_type": "code",
   "execution_count": null,
   "metadata": {},
   "outputs": [],
   "source": [
    "# Steepest Descent\n",
    "def steepestdescent(A, b, x0, itmax, tol):\n",
    "    # inizializzare le variabili necessarie\n",
    "    x = x0\n",
    "    r = np.dot(A, x) - b\n",
    "    p = -r\n",
    "    it = 0\n",
    "    nb = npl.norm(b)\n",
    "    errore = npl.norm(r) / nb\n",
    "    vec_sol = []\n",
    "    vec_sol.append(x)\n",
    "    vet_r = []\n",
    "    vet_r.append(errore)\n",
    "\n",
    "    # utilizzare il metodo del gradiente per trovare la soluzione\n",
    "    while it <= itmax and errore >= tol:\n",
    "        it = it + 1\n",
    "        Ap = A @ p\n",
    "        rTr = r.T @ r\n",
    "        alpha = rTr / np.dot(p.T, Ap)\n",
    "        x = x + alpha * p\n",
    "        vec_sol.append(x)\n",
    "        r = r + alpha * Ap\n",
    "        errore = npl.norm(r) / nb\n",
    "        vet_r.append(errore)\n",
    "        p = -r\n",
    "\n",
    "    return x, vet_r, vec_sol, it"
   ]
  },
  {
   "cell_type": "code",
   "execution_count": null,
   "metadata": {},
   "outputs": [],
   "source": [
    "# Gradiente Coniugato\n",
    "def conjugate_gradient(A, b, x0, itmax, tol):\n",
    "    # inizializzare le variabili necessarie\n",
    "    x = x0\n",
    "    r = np.dot(A, x) - b\n",
    "    p = -r\n",
    "    it = 0\n",
    "    nb = npl.norm(b)\n",
    "    errore = npl.norm(r) / nb\n",
    "    vec_sol = []\n",
    "    vec_sol.append(x0)\n",
    "    vet_r = []\n",
    "    vet_r.append(errore)\n",
    "    # utilizzare il metodo del gradiente coniugato per trovare la soluzione\n",
    "    while it < itmax and errore >= tol:\n",
    "        it = it + 1\n",
    "        Ap = A @ p\n",
    "        rtr = r.T @ r\n",
    "        alpha = rtr / np.dot(p.T, Ap)\n",
    "        x = x + alpha * p\n",
    "        vec_sol.append(x)\n",
    "        r = r + alpha * Ap\n",
    "        gamma = np.dot(r.T, r) / rtr\n",
    "        errore = npl.norm(r) / nb\n",
    "        vet_r.append(errore)\n",
    "        p = -r + gamma * p\n",
    "\n",
    "    return x, vet_r, vec_sol, it"
   ]
  },
  {
   "cell_type": "code",
   "execution_count": null,
   "metadata": {},
   "outputs": [],
   "source": [
    "n = A.shape[0]\n",
    "x0 = np.zeros(A.shape[0]).reshape(n, 1)\n",
    "toll = 1e-8\n",
    "it_max = 100\n",
    "x, it, er_vet = gauss_seidel(A, b, x0, toll, it_max)"
   ]
  },
  {
   "cell_type": "code",
   "execution_count": null,
   "metadata": {},
   "outputs": [],
   "source": [
    "n = A.shape[0]\n",
    "x0 = np.zeros(A.shape[0]).reshape(n, 1)\n",
    "toll = 1e-16\n",
    "it_max = 1000\n",
    "omega = 1.585\n",
    "xnew, it, er_vet = gauss_seidel_sor(A, b, x0, toll, it_max, omega)"
   ]
  },
  {
   "cell_type": "code",
   "execution_count": null,
   "metadata": {},
   "outputs": [],
   "source": [
    "n = A.shape[0]\n",
    "x0 = np.zeros(A.shape[0]).reshape(n, 1)\n",
    "tol = 1e-16\n",
    "itmax = 1000\n",
    "x, vet_r, vec_sol, it = steepestdescent(A, b, x0, itmax, tol)"
   ]
  },
  {
   "cell_type": "code",
   "execution_count": null,
   "metadata": {},
   "outputs": [],
   "source": [
    "n = A.shape[0]\n",
    "x0 = np.zeros(A.shape[0]).reshape(n, 1)\n",
    "tol = 1e-16\n",
    "itmax = 1000\n",
    "x,vet_r,vec_sol,it = conjugate_gradient(A, b, x0, itmax, tol)"
   ]
  },
  {
   "cell_type": "code",
   "execution_count": null,
   "metadata": {},
   "outputs": [],
   "source": [
    "# Usare il gradiente coniugato perché più efficiente"
   ]
  },
  {
   "attachments": {},
   "cell_type": "markdown",
   "metadata": {},
   "source": [
    "## Matrice 2"
   ]
  },
  {
   "cell_type": "code",
   "execution_count": null,
   "metadata": {},
   "outputs": [],
   "source": [
    "dati = lm(\"Matrici test su cui esercitarsi-20230610/test11.mat\")\n",
    "A = dati[\"A\"]\n",
    "b = dati[\"b\"]"
   ]
  },
  {
   "cell_type": "code",
   "execution_count": null,
   "metadata": {},
   "outputs": [],
   "source": [
    "A.shape\n",
    "plt.spy(A)\n",
    "np.array_equal(A, A.T)\n",
    "print(np.min(npl.eigvals(A)) > 0)"
   ]
  },
  {
   "cell_type": "code",
   "execution_count": null,
   "metadata": {},
   "outputs": [],
   "source": [
    "def conjugate_gradient(A, b, x0, itmax, tol):\n",
    "    # inizializzare le variabili necessarie\n",
    "    x = x0\n",
    "    r = np.dot(A, x) - b\n",
    "    p = -r\n",
    "    it = 0\n",
    "    nb = npl.norm(b)\n",
    "    errore = npl.norm(r) / nb\n",
    "    vec_sol = []\n",
    "    vec_sol.append(x)\n",
    "    vet_r = []\n",
    "    vet_r.append(errore)\n",
    "    # utilizzare il metodo del gradiente coniugato per trovare la soluzione\n",
    "    while errore > toll and it < itmax:\n",
    "        it = it + 1\n",
    "        Ap = A @ p\n",
    "        rtr = r.T @ r\n",
    "        alpha = rtr / np.dot(p.T, Ap)\n",
    "        x = x + alpha * p\n",
    "        vec_sol.append(x)\n",
    "        r = r + alpha * Ap\n",
    "        gamma = np.dot(r.T, r) / rtr\n",
    "        errore = npl.norm(r) / nb\n",
    "        vet_r.append(errore)\n",
    "        p = -r + gamma * p\n",
    "\n",
    "    return x, vet_r, vec_sol, it"
   ]
  },
  {
   "cell_type": "code",
   "execution_count": null,
   "metadata": {},
   "outputs": [],
   "source": [
    "n = A.shape[0]\n",
    "x0 = np.zeros(A.shape[0]).reshape(n, 1)\n",
    "tol = 1e-16\n",
    "itmax = 1000\n",
    "x,vet_r,vec_sol,it = conjugate_gradient(A, b, x0, itmax, tol)\n",
    "print(x)"
   ]
  },
  {
   "attachments": {},
   "cell_type": "markdown",
   "metadata": {},
   "source": [
    "## Matrice 3"
   ]
  },
  {
   "cell_type": "code",
   "execution_count": null,
   "metadata": {},
   "outputs": [],
   "source": [
    "dati = lm(\"Matrici test su cui esercitarsi-20230610/test13.mat\")\n",
    "A = dati[\"A\"]\n",
    "b = dati[\"b\"]"
   ]
  },
  {
   "cell_type": "code",
   "execution_count": null,
   "metadata": {},
   "outputs": [],
   "source": [
    "A.shape\n",
    "npl.matrix_rank(A) == np.min(A.shape)  # Controllo se ha rango massimo\n",
    "npl.cond(A)  # Controllo il condizionamento: in questo caso è ben condizionata"
   ]
  },
  {
   "cell_type": "code",
   "execution_count": null,
   "metadata": {},
   "outputs": [],
   "source": [
    "# Equazioni Normali\n",
    "def eqnorm(A, b):\n",
    "    # Soluzione di un sistema sovradeterminato facendo uso delle equazioni normali\n",
    "    G = A.T @ A\n",
    "    f = A.T @ b\n",
    "    L = spl.cholesky(G, lower=True)\n",
    "    y, flag = RisolviSis.Lsolve(L, f)  # Provo prima con Lsolve se il flag è 0 uso Usolve\n",
    "    if flag == 0:\n",
    "        x, flag = RisolviSis.Usolve(L.T, y)\n",
    "    return x"
   ]
  },
  {
   "cell_type": "code",
   "execution_count": null,
   "metadata": {},
   "outputs": [],
   "source": [
    "x = eqnorm(A, b)"
   ]
  },
  {
   "attachments": {},
   "cell_type": "markdown",
   "metadata": {},
   "source": [
    "## Matrice 4"
   ]
  },
  {
   "cell_type": "code",
   "execution_count": null,
   "metadata": {},
   "outputs": [],
   "source": [
    "dati = lm(\"Matrici test su cui esercitarsi-20230610/test14.mat\")\n",
    "A = dati[\"A\"]\n",
    "b = dati[\"b\"]"
   ]
  },
  {
   "cell_type": "code",
   "execution_count": null,
   "metadata": {},
   "outputs": [],
   "source": [
    "A.shape\n",
    "npl.matrix_rank(A) == np.min(A.shape)\n",
    "npl.cond(A)"
   ]
  },
  {
   "cell_type": "code",
   "execution_count": null,
   "metadata": {},
   "outputs": [],
   "source": [
    "# SVDLS\n",
    "# Soluzione di un sistema sovradeterminato facendo uso della fattorizzazione SVD\n",
    "def SVDLS(A, b):\n",
    "    # Calcola la fattorizzazione SVD di A e utilizzala per calcolare\n",
    "    # la soluzione nel senso dei minimi quadrati di Ax=b\n",
    "    U, s, VT = spl.svd(A)\n",
    "    V = VT.T\n",
    "    k = np.count_nonzero(s)\n",
    "    d = U.T @ b\n",
    "    d1 = d[:k].reshape(A.shape[1], 1)\n",
    "    s1 = s.reshape(A.shape[1], 1)\n",
    "    # Risolve il sistema diagonale di dimensione kxk avente come matrice dei coefficienti la matrice Sigma\n",
    "    c = d1[:k] / s1[:k]\n",
    "    x = V[:, :k] @ c\n",
    "    residuo = npl.norm(d[k:]) ** 2\n",
    "    return x, residuo"
   ]
  },
  {
   "cell_type": "code",
   "execution_count": null,
   "metadata": {},
   "outputs": [],
   "source": [
    "x, residuo = SVDLS(A, b)"
   ]
  },
  {
   "attachments": {},
   "cell_type": "markdown",
   "metadata": {},
   "source": [
    "## Matrice 5"
   ]
  },
  {
   "cell_type": "code",
   "execution_count": null,
   "metadata": {},
   "outputs": [],
   "source": [
    "dati = lm(\"Matrici test su cui esercitarsi-20230610/test15.mat\")\n",
    "A = dati[\"A\"]\n",
    "b = dati[\"b\"]"
   ]
  },
  {
   "cell_type": "code",
   "execution_count": null,
   "metadata": {},
   "outputs": [],
   "source": [
    "A.shape\n",
    "npl.matrix_rank(A) == np.min(A.shape)\n",
    "npl.cond(A)"
   ]
  },
  {
   "cell_type": "code",
   "execution_count": null,
   "metadata": {},
   "outputs": [],
   "source": [
    "# QRLS\n",
    "# Soluzione di un sistema sovradeterminato facendo uso della fattorizzazione QR\n",
    "def qrLS(A, b):\n",
    "    n = A.shape[1]  # numero di colonne di A\n",
    "    # Calcola la fattorizzazione QR di A e utilizzala per calcolare\n",
    "    # la soluzione nel senso dei minimi quadrati di Ax=b\n",
    "    Q, R = spl.qr(A)\n",
    "    h = Q.T @ b\n",
    "    x, flag = RisolviSis.Usolve(R[0:n, :], h[0:n])\n",
    "    residuo = npl.norm(h[n:]) ** 2\n",
    "    return x, residuo"
   ]
  },
  {
   "cell_type": "code",
   "execution_count": null,
   "metadata": {},
   "outputs": [],
   "source": [
    "x, residuo = qrLS(A, b)"
   ]
  },
  {
   "attachments": {},
   "cell_type": "markdown",
   "metadata": {},
   "source": [
    "## Matrice 6"
   ]
  },
  {
   "cell_type": "code",
   "execution_count": null,
   "metadata": {},
   "outputs": [],
   "source": [
    "dati = lm(\"Matrici test su cui esercitarsi-20230610/testC.mat\")\n",
    "A = dati[\"A\"]\n",
    "b = dati[\"b\"]"
   ]
  },
  {
   "cell_type": "code",
   "execution_count": null,
   "metadata": {},
   "outputs": [],
   "source": [
    "A.shape\n",
    "plt.spy(A)\n",
    "np.array_equal(A, A.T)\n",
    "npl.cond(A)"
   ]
  },
  {
   "cell_type": "code",
   "execution_count": 200,
   "metadata": {},
   "outputs": [
    {
     "data": {
      "text/plain": [
       "(array([[1.00000454],\n",
       "        [0.99999948],\n",
       "        [0.99999776],\n",
       "        [0.99999565],\n",
       "        [1.00000432],\n",
       "        [0.99999775],\n",
       "        [1.00000026],\n",
       "        [1.0000015 ],\n",
       "        [0.99999902],\n",
       "        [0.9999986 ],\n",
       "        [1.00000179],\n",
       "        [0.99999971],\n",
       "        [0.99999997],\n",
       "        [1.00000139],\n",
       "        [0.99999771],\n",
       "        [1.00000099],\n",
       "        [1.0000005 ],\n",
       "        [0.99999778],\n",
       "        [1.00000252],\n",
       "        [1.00000108],\n",
       "        [0.99999801],\n",
       "        [0.99999609],\n",
       "        [1.00000719],\n",
       "        [0.99999505],\n",
       "        [1.00000155],\n",
       "        [1.00000154],\n",
       "        [0.99999823],\n",
       "        [1.00000015],\n",
       "        [1.00000028],\n",
       "        [1.00000131],\n",
       "        [0.99999464],\n",
       "        [1.00001293],\n",
       "        [0.99997999],\n",
       "        [1.00000736]]),\n",
       " 0)"
      ]
     },
     "execution_count": 200,
     "metadata": {},
     "output_type": "execute_result"
    }
   ],
   "source": [
    "# Fattorizzazione QR\n",
    "Q, R = spl.qr(A)\n",
    "y = Q.T@b\n",
    "RisolviSis.Usolve(R, y)"
   ]
  },
  {
   "cell_type": "code",
   "execution_count": null,
   "metadata": {},
   "outputs": [],
   "source": []
  }
 ],
 "metadata": {
  "kernelspec": {
   "display_name": "Python 3",
   "language": "python",
   "name": "python3"
  },
  "language_info": {
   "codemirror_mode": {
    "name": "ipython",
    "version": 3
   },
   "file_extension": ".py",
   "mimetype": "text/x-python",
   "name": "python",
   "nbconvert_exporter": "python",
   "pygments_lexer": "ipython3",
   "version": "3.11.2"
  },
  "orig_nbformat": 4
 },
 "nbformat": 4,
 "nbformat_minor": 2
}

{
 "cells": [
  {
   "cell_type": "markdown",
   "id": "11874d8c-1742-4875-ac22-d596596c332b",
   "metadata": {},
   "source": [
    "## Esercitazione di Potenziamento"
   ]
  },
  {
   "cell_type": "markdown",
   "id": "a47df7a7-f227-42d8-b4fa-828e8dd24da4",
   "metadata": {},
   "source": [
    "Implementare le function necessarie per costruire il polinomio interpolante di Lagrange. \n",
    "\n",
    "                                                                [5 punti]\n",
    "                                                         \n",
    "                                                         "
   ]
  },
  {
   "cell_type": "markdown",
   "id": "a36e0e93-6991-4689-8503-7225df3b9064",
   "metadata": {},
   "source": [
    "Sia assegnata la funzione $f(x)=cos(\\pi x)+sin(\\pi x)$, $ x \\in [0,2]$"
   ]
  },
  {
   "cell_type": "markdown",
   "id": "12daee8b-9fc8-4275-9581-666764da72b0",
   "metadata": {},
   "source": [
    "facendo uso delle functions implementate precedentemente, si determini il polinomio p che interpola f nei nodi  x0 = 1, x1 = 1.5, x2 = 1.75.\n",
    "\n",
    "                                                               [3 punti]"
   ]
  },
  {
   "cell_type": "code",
   "execution_count": null,
   "id": "283e304d-6420-4e08-ad5f-8a9c172cad90",
   "metadata": {},
   "outputs": [],
   "source": []
  },
  {
   "cell_type": "markdown",
   "id": "fd5c35dd-a674-451c-aae9-337e5ef03c62",
   "metadata": {},
   "source": [
    "si rappresenti in uno stesso grafico la funzione f, il polinomio p e i punti di interpolazione assegnati;\n",
    "\n",
    "                                                              [2 punti]"
   ]
  },
  {
   "cell_type": "markdown",
   "id": "c9bc4c59-d2da-415c-b200-839ad4b9223e",
   "metadata": {},
   "source": [
    " si calcoli il valore assunto dalla funzione errore E(x) := |f(x) − p(x)| nel punto $x^∗$ = 0.75 e si definisca teoricamente da cosa dipende l'errore che si compie quando al posto del polinomio interpolatore si considera la funzione che ha generato i dati, commentando opportunamente la formula\n",
    " \n",
    "                                                             [3 punti]"
   ]
  },
  {
   "cell_type": "markdown",
   "id": "581b9038-3bf9-4ad8-8648-60f6fb904430",
   "metadata": {},
   "source": [
    "si stabilisca qual è il polinomio interpolatore per f passante per i nodi $x^*$ \n",
    ", x0, x1 e x2.\n",
    "\n",
    "                                                          [3 punti]"
   ]
  },
  {
   "cell_type": "markdown",
   "id": "b532e3ca-3b24-4818-9869-118090fd8d8e",
   "metadata": {},
   "source": [
    "Si calcoli la costante di Lebesgue e si dica che ruolo svolge nell'ambito dell'interpolazione polinomiale\n",
    "\n",
    "                                                        [3 punti]"
   ]
  },
  {
   "cell_type": "code",
   "execution_count": 14,
   "id": "fd1b4277-4505-4236-8275-ab5f3d7535be",
   "metadata": {},
   "outputs": [],
   "source": [
    "import numpy as np\n",
    "import matplotlib.pyplot as plt\n",
    "def plagr(xnodi,k):\n",
    "    \"\"\"\n",
    "    Restituisce i coefficienti del k-esimo pol di\n",
    "    Lagrange associato ai punti del vettore xnodi\n",
    "    \"\"\"\n",
    "    xzeri=np.zeros_like(xnodi)\n",
    "    n=xnodi.size\n",
    "    if k==0:\n",
    "       xzeri=xnodi[1:n]\n",
    "    else:\n",
    "       xzeri=np.append(xnodi[0:k],xnodi[k+1:n])\n",
    "    \n",
    "    num=np.poly(xzeri) \n",
    "    den=np.polyval(num,xnodi[k])\n",
    "    \n",
    "    p=num/den\n",
    "    \n",
    "    return p\n",
    "\n",
    "\n",
    "\n",
    "def InterpL(x, f, xx):\n",
    "     \"\"\"\"\n",
    "        %funzione che determina in un insieme di punti il valore del polinomio\n",
    "        %interpolante ottenuto dalla formula di Lagrange.\n",
    "        % DATI INPUT\n",
    "        %  x  vettore con i nodi dell'interpolazione\n",
    "        %  f  vettore con i valori dei nodi \n",
    "        %  xx vettore con i punti in cui si vuole calcolare il polinomio\n",
    "        % DATI OUTPUT\n",
    "        %  y vettore contenente i valori assunti dal polinomio interpolante\n",
    "        %\n",
    "     \"\"\"\n",
    "     n=x.size\n",
    "     m=xx.size\n",
    "     L=np.zeros((m,n))\n",
    "     for k in range(n):\n",
    "        p=plagr(x,k)\n",
    "        L[:,k]=np.polyval(p,xx)\n",
    "    \n",
    "    \n",
    "     return np.dot(L,f)"
   ]
  },
  {
   "cell_type": "code",
   "execution_count": 15,
   "id": "23786eea-e803-40b4-beb9-8a5082c93360",
   "metadata": {},
   "outputs": [],
   "source": [
    "f = lambda x: np.cos(np.pi*x)+np.sin(np.pi*x)"
   ]
  },
  {
   "cell_type": "code",
   "execution_count": 16,
   "id": "1f90fe56-a705-468f-abc3-98fcc9e74e5b",
   "metadata": {},
   "outputs": [],
   "source": [
    "x=np.array([1,1.5,1.75])\n",
    "y=f(x)"
   ]
  },
  {
   "cell_type": "code",
   "execution_count": 17,
   "id": "4f7286fc-6606-4ad8-ac3f-b6d7488e8270",
   "metadata": {},
   "outputs": [
    {
     "data": {
      "image/png": "[encoded data removed]",
      "text/plain": [
       "<Figure size 432x288 with 1 Axes>"
      ]
     },
     "metadata": {
      "needs_background": "light"
     },
     "output_type": "display_data"
    }
   ],
   "source": [
    "xx=np.linspace(0,2,200)\n",
    "polL=InterpL(x,y ,xx)\n",
    "plt.plot(xx,polL,'r--',x,y,'*',xx,f(xx),'c-');\n",
    "plt.legend(['interpolante di Lagrange','punti di interpolazione','y=cos(pi*x)+sn(pi*x))']);\n"
   ]
  },
  {
   "cell_type": "code",
   "execution_count": 21,
   "id": "9f37faae-a9e8-4777-937f-f1e11969fb12",
   "metadata": {},
   "outputs": [],
   "source": [
    "err=abs(f(0.75)- InterpL(x,y ,np.array([0.75])))"
   ]
  },
  {
   "cell_type": "code",
   "execution_count": 22,
   "id": "2da1c75d-9c7e-4955-a511-8cfcdaa5a84d",
   "metadata": {},
   "outputs": [
    {
     "data": {
      "text/plain": [
       "array([2.22044605e-16])"
      ]
     },
     "execution_count": 22,
     "metadata": {},
     "output_type": "execute_result"
    }
   ],
   "source": [
    "err"
   ]
  },
  {
   "cell_type": "code",
   "execution_count": 25,
   "id": "dd337c62-58b8-4aac-b289-d92b64deb299",
   "metadata": {},
   "outputs": [],
   "source": [
    "x1=np.array([0.75,1,1.5,1.75])\n",
    "y1=f (x1)"
   ]
  },
  {
   "cell_type": "code",
   "execution_count": 26,
   "id": "212887d9-a295-4269-a43c-fa7a0f363c22",
   "metadata": {},
   "outputs": [],
   "source": [
    "polL1=InterpL(x,y ,xx)"
   ]
  },
  {
   "cell_type": "markdown",
   "id": "9b6ee8c3-0df4-4528-97e6-57bede5631e0",
   "metadata": {},
   "source": [
    "Costruire il polinomio interpolatore di Lagrange  di grado $n$, per valori di  n=5,10,15 che interpola i nodi  $P_i =(x_i, y_i)$ $i = 0, ..., n $ dove $x_i$ sono n nodi **equidistanti** nell'intervallo $[a, b]$, ed $y_i = f(x_i)$ sono ottenuti dalla valutazione nei punti $x_i$ della funzione  - $f(x) = 1/(1+25*x^2)$,  $ \\quad x \\in [-1, 1]$ (funzione di Runge)."
   ]
  },
  {
   "cell_type": "markdown",
   "id": "1274a04d-ce2a-4f71-96e2-872eae7b2a0a",
   "metadata": {},
   "source": [
    "si rappresenti in uno stesso grafico la funzione f, il polinomio p e i punti di interpolazione assegnati;"
   ]
  },
  {
   "cell_type": "markdown",
   "id": "1b528711-aca1-43c3-90ad-0552cd3f1c42",
   "metadata": {},
   "source": [
    "Calcolare l'errore di interpolazione $r(x) = f(x)-p(x)$,\n",
    "tra la funzione test $f(x)$ e il polinomio di interpolazione $p(x)$.\n",
    "Visualizzare il grafico di $f(x)$ e $p(x)$, ed il grafico di\n",
    "$|r(x)|$. Cosa si osserva? Descrivere "
   ]
  },
  {
   "cell_type": "markdown",
   "id": "57821145-f32f-4615-b4c1-70e82f4a08c4",
   "metadata": {},
   "source": [
    " Per gli stessi valori di $n$ si costruisca il polinomio interpolatore di Lagrange  che interpola i nodi  $P_i =(x_i, y_i)$ $i = 0, ..., n $ dove $x_i$ sono  definiti dai nodi di Chebyshev nell'intervallo $[a, b]$, ossia\n",
    "$$\n",
    "x_i = \\frac{(a + b)}{2}+\\frac{(b-a)}{2} \\, \\cos \\left(\n",
    "\\frac{(2i+1)\\pi}{2(n + 1)}\n",
    "\\right), \\quad  i =0, ..., n \n",
    "$$"
   ]
  },
  {
   "cell_type": "markdown",
   "id": "c73f3d73-a6ce-40dc-95a8-1666b050b1e1",
   "metadata": {},
   "source": [
    "si rappresenti in uno stesso grafico la funzione f, il polinomio p e i punti di interpolazione assegnati;"
   ]
  },
  {
   "cell_type": "markdown",
   "id": "f979884e-51a1-4624-8a72-241c4ea58299",
   "metadata": {},
   "source": [
    "Calcolare l'errore di interpolazione $r(x) = f(x)-p(x)$,\n",
    "tra la funzione test $f(x)$ e il polinomio di interpolazione $p(x)$.\n",
    "Visualizzare il grafico di $f(x)$ e $p(x)$, ed il grafico di\n",
    "$|r(x)|$. Cosa si osserva? "
   ]
  },
  {
   "cell_type": "markdown",
   "id": "1eb29e05-7843-44a5-b346-229b7d272e33",
   "metadata": {},
   "source": [
    "Il polinomio interpolatore comveDescrivi la formula dell'errore che si compie quando al posto della funzione che ha generato i dati si considera il polinomio interpolatore. Da cosa dipende? In quali casi è nullo. Come può essere minimizzato con una particolare scelta dei nodi interpolazione. Come si definisce la costante di Lebesgue e cosa misura nell'ambito dell'interpolazione polinomiale?"
   ]
  },
  {
   "cell_type": "code",
   "execution_count": null,
   "id": "8ae3ee84-b2ec-438a-a0d6-18ca9eab9677",
   "metadata": {},
   "outputs": [],
   "source": []
  }
 ],
 "metadata": {
  "kernelspec": {
   "display_name": "Python 3 (ipykernel)",
   "language": "python",
   "name": "python3"
  },
  "language_info": {
   "codemirror_mode": {
    "name": "ipython",
    "version": 3
   },
   "file_extension": ".py",
   "mimetype": "text/x-python",
   "name": "python",
   "nbconvert_exporter": "python",
   "pygments_lexer": "ipython3",
   "version": "3.9.7"
  }
 },
 "nbformat": 4,
 "nbformat_minor": 5
}

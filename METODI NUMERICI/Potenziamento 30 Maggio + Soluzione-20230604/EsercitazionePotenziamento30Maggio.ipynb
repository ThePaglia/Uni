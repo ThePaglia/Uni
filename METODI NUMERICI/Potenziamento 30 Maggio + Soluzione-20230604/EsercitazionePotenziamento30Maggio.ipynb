{
 "cells": [
  {
   "cell_type": "markdown",
   "id": "498aa83d-7a0b-4015-950d-309c7284a836",
   "metadata": {},
   "source": [
    "## Esercitazione di potenziamento del 30 Maggio 2023"
   ]
  },
  {
   "cell_type": "markdown",
   "id": "c36bfdae-c6a9-4c3a-ac7b-4779d9567e0d",
   "metadata": {},
   "source": [
    "## Esercizio 1"
   ]
  },
  {
   "cell_type": "markdown",
   "id": "919fb260-f93b-4613-89a1-5e8d93f65822",
   "metadata": {},
   "source": [
    "-   Valutare in aritmetica floating point l'espressione\n",
    "$$f(x)=\\frac{1}{x}-\\frac{1}{(x+0.04)}$$  nel vettore   $x=[10^0, 10^1,... ,10^{20}]$ contenente potenze successive  di $10$. \n",
    "\n",
    "                                                [1 punto]\n",
    "- Calcolare l'indice di condizionamente del problema di valutare la funzione $f(x)$ al variare x e dedurre a partire da quale valore di x esso  assume valori molto elevati. Dire cosa rappresenta l'indice di condizionamento di un problema e dire cosa misura. \n",
    "\n",
    "                                                [5 punti]\n",
    "\n",
    "- Calcolare $f(x)$ per il valore di x precedente  a quello individuato dal punto precedente. perturbare questo x del 10% ed indicarlo con xp. Calcolare l'errore relativo di xp rispetto ad x. Cosa si ottiene\n",
    "\n",
    "                                                [1 punto]\n",
    "    \n",
    "- Determinare se la funzione $f(x)$ è numericamente stabile? E nel caso non lo sia individuare la causa della sua instabilità.\n",
    "\n",
    "                                                [2 punti]\n",
    " \n",
    "- Fornire una formula alternativa $g(x)$ algebricamente equivalente ma numericamente più stabile. \n",
    "\n",
    "                                                 [2 punti]\n",
    "- Calcolare l'errore relativo della funzione $f(x)$ rispetto alla funzione $g(x)$ e visuarlo graficamente in scla logaritmica sia sulle ascisse che sulle ordinate\n",
    "\n",
    "                                                [1 punto]"
   ]
  },
  {
   "cell_type": "markdown",
   "id": "6889498e-b2a3-4daf-a34e-5110f86e32ee",
   "metadata": {},
   "source": [
    "## Esercizo 2\n",
    "Si consideri il sistema lineare Ax=b, con A matrice e b termine noto memorizzati nel file ``testC.mat.mat``.  Risolvere il sistema utilizzando il metodo più adatto al problema proposto. Argomentare dal punto di vista teorico la scelta fatta e commentare i risultati ottenuti  giustificandoli alla luce della teoria. \n",
    "\n",
    "\n",
    "La soluzione esatta del sistema lineare è il vettore x=[1,1,1,1...1 1].\n",
    "\n",
    "Per la lettura dei dati procedere nel seguente modo:\n",
    "\n",
    "``from scipy.io import loadmat``\n",
    "\n",
    "``import numpy as np``\n",
    "\n",
    "``dati = loadmat('testC.mat')``\n",
    "\n",
    "``A=dati[\"A\"] ``\n",
    "\n",
    "`` b=dati[\"b\"] ``\n",
    "\n",
    "\n",
    "                                                       \n",
    "                                               [13 punti]"
   ]
  },
  {
   "cell_type": "markdown",
   "id": "a52a229b",
   "metadata": {},
   "source": []
  }
 ],
 "metadata": {
  "kernelspec": {
   "display_name": "Python 3 (ipykernel)",
   "language": "python",
   "name": "python3"
  },
  "language_info": {
   "codemirror_mode": {
    "name": "ipython",
    "version": 3
   },
   "file_extension": ".py",
   "mimetype": "text/x-python",
   "name": "python",
   "nbconvert_exporter": "python",
   "pygments_lexer": "ipython3",
   "version": "3.11.2"
  }
 },
 "nbformat": 4,
 "nbformat_minor": 5
}

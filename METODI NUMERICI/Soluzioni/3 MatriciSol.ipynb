{
 "cells": [
  {
   "cell_type": "markdown",
   "id": "cd8d6a57-49d8-4eab-bb0f-107b277ad3d1",
   "metadata": {},
   "source": [
    "## Esercizi sui Numpy array\n"
   ]
  },
  {
   "cell_type": "markdown",
   "id": "3fcb26be-bbed-4ffe-b019-ba7417b875a7",
   "metadata": {},
   "source": [
    "- **0.** Costruisci un numpy array con 2000000 elementi equidistanti nell'intervallo [0,4] utilizzando il linspace e con il metodo che assegna i valori in un ciclo dopo aver definito il passo e confronta il tempo di esecuzione delle due modalità di costruzione."
   ]
  },
  {
   "cell_type": "code",
   "execution_count": 45,
   "id": "9794d57b-f17c-48da-8004-248fc4f168c3",
   "metadata": {},
   "outputs": [
    {
     "name": "stdout",
     "output_type": "stream",
     "text": [
      "Tempo ciclo  0.40024010004708543\n"
     ]
    }
   ],
   "source": [
    "import time\n",
    "import numpy as np\n",
    "n=2000000\n",
    "a=0\n",
    "b=4\n",
    "step=(b-a)/(n-1)\n",
    "start=time.perf_counter()\n",
    "x=[]\n",
    "for i in range(n):\n",
    "    x.append(a+i*step)\n",
    "end=time.perf_counter()\n",
    "print(\"Tempo ciclo \",end-start)  "
   ]
  },
  {
   "cell_type": "code",
   "execution_count": 46,
   "id": "576d4480-73db-490d-94b2-4372b94bd2c8",
   "metadata": {},
   "outputs": [
    {
     "name": "stdout",
     "output_type": "stream",
     "text": [
      "Tempo linspace  0.014473100018221885\n"
     ]
    }
   ],
   "source": [
    "start=time.perf_counter()\n",
    "c=np.linspace(0,4,n)\n",
    "end =time.perf_counter()\n",
    "print(\"Tempo linspace \",end-start)  "
   ]
  },
  {
   "cell_type": "markdown",
   "id": "55088af4-a3a4-452b-9f39-38327eba5ab0",
   "metadata": {},
   "source": [
    "- **1.** Costruire un numpy array 1d, denominato  `c`, di valori equidistanti che variano tra 7 e 41 con step 2 e trasformarlo in un numpy array 2d, denominato `C1` , con shape(2,9) applicando il metodo `.reshape((m,n))` a c. \n",
    "\n",
    "  Si tratta di una copia o di una `vista dell'array originale` con una nuova shape, con dati condivisi con l'array originale?\n"
   ]
  },
  {
   "cell_type": "markdown",
   "id": "62109805-3fdd-4ceb-b478-7e0c1652ef6b",
   "metadata": {},
   "source": [
    "Importa il modulo numpy"
   ]
  },
  {
   "cell_type": "code",
   "execution_count": 47,
   "id": "53999d4c-bb97-4e5a-8a37-d6aae4c4a4a5",
   "metadata": {
    "tags": []
   },
   "outputs": [
    {
     "name": "stdout",
     "output_type": "stream",
     "text": [
      "c (18,)\n",
      "C1 [[ 7  9 11 13 15 17 19 21 23]\n",
      " [25 27 29 31 33 35 37 39 41]]\n"
     ]
    }
   ],
   "source": [
    "c=np.arange(7,42,2)\n",
    "print(\"c\",c.shape)\n",
    "C1=c.reshape((2,9))\n",
    "print(\"C1\",C1)\n",
    "#C1[0,0]=110\n",
    "#print(\"c\",c)\n",
    "#print(\"C1\",C1)\n",
    "\n",
    "#il metodo .reshape() restituisce una \n",
    "#vista dell'array originale con una nuova forma, \n",
    "#senza creare una copia dei dati dell'array, \n",
    "#ma condividendoli con l'array originale."
   ]
  },
  {
   "cell_type": "markdown",
   "id": "7b81197a-a950-48ab-8e75-31855ac69d9d",
   "metadata": {},
   "source": [
    " - **2.** Costruire un numpy array 1d, denominato $C$ di valori che variano tra 15 e 41 con step 2 e trasformarlo in un numpy array 2d con shape(7,2) usando il metodo .`resize(7,2)` che lavora in-place,  (cioè  modifica l'array esistente, senza creare una copia). Verificare la shape di C"
   ]
  },
  {
   "cell_type": "code",
   "execution_count": 48,
   "id": "9fe94712-97d4-4145-8656-5ddb974906ca",
   "metadata": {
    "tags": []
   },
   "outputs": [
    {
     "name": "stdout",
     "output_type": "stream",
     "text": [
      "(7, 2)\n",
      "[[15 17]\n",
      " [19 21]\n",
      " [23 25]\n",
      " [27 29]\n",
      " [31 33]\n",
      " [35 37]\n",
      " [39 41]]\n"
     ]
    }
   ],
   "source": [
    "C=np.arange(15,42,2)\n",
    "C.resize((7,2))#np.resize(c,(7,2))  #resize restituisce una copia\n",
    "print(C.shape)\n",
    "print(C)\n",
    "#d[0,0]=70\n",
    "#print(\"c\",c)\n",
    "#print(\"d\",d)\n"
   ]
  },
  {
   "cell_type": "markdown",
   "id": "65a55a8f-1b6d-474d-a012-8e83ca167588",
   "metadata": {},
   "source": [
    "- **3.**  Costruire un numpy array 1d $c$ di valori che variano tra 15 e 41 con step 2 e trasformarlo in un numpy array 2d con shape(7,2) usando la funzione `reshape`. Verificare se la funzione  `reshape` restituisce una copia oppure una vista. "
   ]
  },
  {
   "cell_type": "code",
   "execution_count": 49,
   "id": "64381f43-3364-45d9-b0b6-d2c0aed4154c",
   "metadata": {
    "tags": []
   },
   "outputs": [
    {
     "name": "stdout",
     "output_type": "stream",
     "text": [
      "c [70 17 19 21 23 25 27 29 31 33 35 37 39 41]\n",
      "d [[70 17]\n",
      " [19 21]\n",
      " [23 25]\n",
      " [27 29]\n",
      " [31 33]\n",
      " [35 37]\n",
      " [39 41]]\n"
     ]
    }
   ],
   "source": [
    "c=np.arange(15,42,2)\n",
    "d=np.reshape(c,(7,2))  #reshape restituisce una vista\n",
    "d[0,0]=70\n",
    "print(\"c\",c)\n",
    "print(\"d\",d)\n"
   ]
  },
  {
   "cell_type": "markdown",
   "id": "fa72fbdd-8a7a-419a-8067-6951f06e2de4",
   "metadata": {},
   "source": [
    "- **4.** Costruire un numpy array 1d $d$ di valori che variano tra 15 e 41 con step 2 e trasformarlo in un numpy array 2d con shape(7,2) usando la funzione `resize`. Verificare se la funzione  `resize` restituisce una copia oppure una vista. "
   ]
  },
  {
   "cell_type": "code",
   "execution_count": 50,
   "id": "58821015-a791-4110-a7db-0c71ec39cd9f",
   "metadata": {
    "tags": []
   },
   "outputs": [
    {
     "name": "stdout",
     "output_type": "stream",
     "text": [
      "(7, 2)\n",
      "[[15 17]\n",
      " [19 21]\n",
      " [23 25]\n",
      " [27 29]\n",
      " [31 33]\n",
      " [35 37]\n",
      " [39 41]]\n",
      "C [[15 17]\n",
      " [19 21]\n",
      " [23 25]\n",
      " [27 29]\n",
      " [31 33]\n",
      " [35 37]\n",
      " [39 41]]\n",
      "d [70 17 19 21 23 25 27 29 31 33 35 37 39 41]\n"
     ]
    }
   ],
   "source": [
    "d=np.arange(15,42,2)\n",
    "C=np.resize(d,(7,2))  #resize restituisce una copia\n",
    "print(C.shape)\n",
    "print(C)\n",
    "d[0]=70\n",
    "print(\"C\",C)\n",
    "print(\"d\",d)"
   ]
  },
  {
   "cell_type": "markdown",
   "id": "d1adc080-9ce4-404c-ba18-c831f2625214",
   "metadata": {},
   "source": [
    "- **5.**  Dato il numpy array s formato da 100 valori equidistanti in  [0,4], considerarne il reshape in un array 2d che ha 4 righe con un numero opportuno di colonne"
   ]
  },
  {
   "cell_type": "code",
   "execution_count": 51,
   "id": "d11501c5-2fb0-44de-b4c7-adf47b06abe6",
   "metadata": {
    "tags": []
   },
   "outputs": [
    {
     "name": "stdout",
     "output_type": "stream",
     "text": [
      "[[0.         0.04040404 0.08080808 0.12121212 0.16161616 0.2020202\n",
      "  0.24242424 0.28282828 0.32323232 0.36363636 0.4040404  0.44444444\n",
      "  0.48484848 0.52525253 0.56565657 0.60606061 0.64646465 0.68686869\n",
      "  0.72727273 0.76767677 0.80808081 0.84848485 0.88888889 0.92929293\n",
      "  0.96969697]\n",
      " [1.01010101 1.05050505 1.09090909 1.13131313 1.17171717 1.21212121\n",
      "  1.25252525 1.29292929 1.33333333 1.37373737 1.41414141 1.45454545\n",
      "  1.49494949 1.53535354 1.57575758 1.61616162 1.65656566 1.6969697\n",
      "  1.73737374 1.77777778 1.81818182 1.85858586 1.8989899  1.93939394\n",
      "  1.97979798]\n",
      " [2.02020202 2.06060606 2.1010101  2.14141414 2.18181818 2.22222222\n",
      "  2.26262626 2.3030303  2.34343434 2.38383838 2.42424242 2.46464646\n",
      "  2.50505051 2.54545455 2.58585859 2.62626263 2.66666667 2.70707071\n",
      "  2.74747475 2.78787879 2.82828283 2.86868687 2.90909091 2.94949495\n",
      "  2.98989899]\n",
      " [3.03030303 3.07070707 3.11111111 3.15151515 3.19191919 3.23232323\n",
      "  3.27272727 3.31313131 3.35353535 3.39393939 3.43434343 3.47474747\n",
      "  3.51515152 3.55555556 3.5959596  3.63636364 3.67676768 3.71717172\n",
      "  3.75757576 3.7979798  3.83838384 3.87878788 3.91919192 3.95959596\n",
      "  4.        ]]\n"
     ]
    }
   ],
   "source": [
    "s=np.linspace(0,4,100).reshape(4,25)  \n",
    "#NB. Se nel reshape inseriamo -1 piuttosto che specificare il numero di colonne\n",
    "#il reshape viene fatto automaticamente nella dimensione corretta per le colonne\n",
    "#s=np.linspace(0,4,100).reshape(4,-1)  \n",
    "print(s)"
   ]
  },
  {
   "cell_type": "markdown",
   "id": "d40f5d7a-4808-4004-b806-b8b75bcaa01b",
   "metadata": {},
   "source": [
    "- **7.** Dato il numpy array s formato da 100 valori equidistanti in  [0,4], considerarne il reshape in un array 2d che ha 4 colonne con un numero opportuno di righe"
   ]
  },
  {
   "cell_type": "code",
   "execution_count": 52,
   "id": "0125630e-85cd-4ae3-9a7d-3ed23bd99807",
   "metadata": {
    "tags": []
   },
   "outputs": [
    {
     "name": "stdout",
     "output_type": "stream",
     "text": [
      "[[0.         0.04040404]\n",
      " [0.08080808 0.12121212]\n",
      " [0.16161616 0.2020202 ]\n",
      " [0.24242424 0.28282828]\n",
      " [0.32323232 0.36363636]\n",
      " [0.4040404  0.44444444]\n",
      " [0.48484848 0.52525253]\n",
      " [0.56565657 0.60606061]\n",
      " [0.64646465 0.68686869]\n",
      " [0.72727273 0.76767677]\n",
      " [0.80808081 0.84848485]\n",
      " [0.88888889 0.92929293]\n",
      " [0.96969697 1.01010101]\n",
      " [1.05050505 1.09090909]\n",
      " [1.13131313 1.17171717]\n",
      " [1.21212121 1.25252525]\n",
      " [1.29292929 1.33333333]\n",
      " [1.37373737 1.41414141]\n",
      " [1.45454545 1.49494949]\n",
      " [1.53535354 1.57575758]\n",
      " [1.61616162 1.65656566]\n",
      " [1.6969697  1.73737374]\n",
      " [1.77777778 1.81818182]\n",
      " [1.85858586 1.8989899 ]\n",
      " [1.93939394 1.97979798]\n",
      " [2.02020202 2.06060606]\n",
      " [2.1010101  2.14141414]\n",
      " [2.18181818 2.22222222]\n",
      " [2.26262626 2.3030303 ]\n",
      " [2.34343434 2.38383838]\n",
      " [2.42424242 2.46464646]\n",
      " [2.50505051 2.54545455]\n",
      " [2.58585859 2.62626263]\n",
      " [2.66666667 2.70707071]\n",
      " [2.74747475 2.78787879]\n",
      " [2.82828283 2.86868687]\n",
      " [2.90909091 2.94949495]\n",
      " [2.98989899 3.03030303]\n",
      " [3.07070707 3.11111111]\n",
      " [3.15151515 3.19191919]\n",
      " [3.23232323 3.27272727]\n",
      " [3.31313131 3.35353535]\n",
      " [3.39393939 3.43434343]\n",
      " [3.47474747 3.51515152]\n",
      " [3.55555556 3.5959596 ]\n",
      " [3.63636364 3.67676768]\n",
      " [3.71717172 3.75757576]\n",
      " [3.7979798  3.83838384]\n",
      " [3.87878788 3.91919192]\n",
      " [3.95959596 4.        ]]\n"
     ]
    }
   ],
   "source": [
    "s=np.linspace(0,4,100).reshape(-1,2)\n",
    "#s=np.linspace(0,4,100).reshape(25,2)\n",
    "print(s)"
   ]
  },
  {
   "cell_type": "markdown",
   "id": "19559c2a-0ac7-4d4a-b6ff-38e58843b3b6",
   "metadata": {},
   "source": [
    "- **8.** Scrivere il numpy  array 2d [[10,11,12],[13,14,15],[16,17,18]] e trasformarlo in un numpy array 1d usando i metodi `.ravel()` e `.flatten()`. Verificare che flatten restituisce una copia mentre ravel restituisce una vista."
   ]
  },
  {
   "cell_type": "code",
   "execution_count": 53,
   "id": "dcc2ccad-8591-4940-bd84-3b51907721d4",
   "metadata": {
    "tags": []
   },
   "outputs": [
    {
     "name": "stdout",
     "output_type": "stream",
     "text": [
      "e2= [100  11  12  13  14  15  16  17  18]\n",
      "e= [[10 11 12]\n",
      " [13 14 15]\n",
      " [16 17 18]]\n"
     ]
    }
   ],
   "source": [
    "e=np.arange(10,19,1).reshape(3,3)\n",
    "e2=e.flatten()\n",
    "e2[0]=100\n",
    "print(\"e2=\",e2)\n",
    "print(\"e=\",e)"
   ]
  },
  {
   "cell_type": "markdown",
   "id": "33154a3e-d3e7-4aef-95d6-4b7672bb31e5",
   "metadata": {},
   "source": [
    "# NB. Per verificare se un contenitore di dati è una vista oppure una copia di un altro\n",
    "si può procedere usando il campo .flags del contenitore e verificando il valore della chiave \"OWNDATA\": se il valore è True allora il contenitore ha dei dati propri,  si tratta di una copia, se il valore è False, significa che il contenitore non ha dei dati propri ma è una vista"
   ]
  },
  {
   "cell_type": "code",
   "execution_count": 54,
   "id": "0f1777c8-e6a0-4235-bc2f-fed640c7fede",
   "metadata": {
    "tags": []
   },
   "outputs": [
    {
     "data": {
      "text/plain": [
       "True"
      ]
     },
     "execution_count": 54,
     "metadata": {},
     "output_type": "execute_result"
    }
   ],
   "source": [
    "e2.flags['OWNDATA']   #Il Flatten restituisce una copia"
   ]
  },
  {
   "cell_type": "code",
   "execution_count": 55,
   "id": "1006ba41-ad7c-4b6d-a585-64aef6cd6299",
   "metadata": {
    "tags": []
   },
   "outputs": [
    {
     "name": "stdout",
     "output_type": "stream",
     "text": [
      "e2= [100  11  12  13  14  15  16  17  18]\n",
      "e= [[100  11  12]\n",
      " [ 13  14  15]\n",
      " [ 16  17  18]]\n"
     ]
    }
   ],
   "source": [
    "e=np.arange(10,19,1).reshape(3,3)\n",
    "e2=e.ravel()\n",
    "e2[0]=100\n",
    "print(\"e2=\",e2)\n",
    "print(\"e=\",e)"
   ]
  },
  {
   "cell_type": "markdown",
   "id": "c77c2529-d680-42c9-9231-3aca724b1c12",
   "metadata": {},
   "source": [
    " - **9.** creare i due  numpy array 1d\n",
    "f1= [ 0  1  2  3  4  5  6  7  8  9 10 11 12 13 14 15] ed \n",
    "f2= [16 17 18 19 20 21 22 23 24 25 26 27 28 29 30 31]\n",
    "\"vederli\" come matrici  4x4 ed effettuarne il prodotto scalare, memorizzando in f3 la matrice che nasce dal loro prodotto."
   ]
  },
  {
   "cell_type": "code",
   "execution_count": 56,
   "id": "e461814d-837a-4144-bf7d-4627549c82cd",
   "metadata": {
    "tags": []
   },
   "outputs": [
    {
     "name": "stdout",
     "output_type": "stream",
     "text": [
      "(16,) (16,)\n",
      "[[ 152  158  164  170]\n",
      " [ 504  526  548  570]\n",
      " [ 856  894  932  970]\n",
      " [1208 1262 1316 1370]]\n"
     ]
    }
   ],
   "source": [
    "f1=np.arange(16)\n",
    "f2=np.arange(16,32)\n",
    "c=np.dot(f1.reshape(4,4),f2.reshape(4,4))\n",
    "print(f1.shape,f2.shape)\n",
    "print(c)"
   ]
  },
  {
   "cell_type": "markdown",
   "id": "c9249961-c220-46c0-9e0d-e59dfefe662c",
   "metadata": {},
   "source": [
    "- **10.**                Dati :\n",
    " - Numpy Array A di shape (2,10) : array di valori random campionati da una distribuzione gaussiana con media 0 e varianza 1.\n",
    " - Numpy array 1D B di shape (20,) formato dagli interi da 0 a 19.\n",
    " \n",
    "\"Vedere\" A come un array 1D di 20 elementi ed effettuare la somma di A+B\n",
    "\n"
   ]
  },
  {
   "cell_type": "code",
   "execution_count": 57,
   "id": "416ec487-1db2-4211-add4-631e26b7950e",
   "metadata": {
    "tags": []
   },
   "outputs": [
    {
     "name": "stdout",
     "output_type": "stream",
     "text": [
      "C [-0.56667486 -0.6364309   1.73380447  2.81425264  4.4525679   5.09790094\n",
      "  5.24150175  6.05816453]\n"
     ]
    }
   ],
   "source": [
    "A=np.random.randn(2,4)\n",
    "B=np.arange(0,8)\n",
    "C=A.ravel()+B  #.ravel() produce una vista, non occupa memoria\n",
    "print(\"C\",C)\n"
   ]
  },
  {
   "cell_type": "markdown",
   "id": "7f6cf29e-d14a-46c9-8f35-e66151a9e0a3",
   "metadata": {},
   "source": [
    " - **11.** Creare un array 2D di shape (5,5), denominato B2, con valori tutti uguali a 15.\n",
    "Creare una copia B3 di B2. Modificare l'elemento B3[0,0] assegnandogli il valore 150. \n",
    "Stampare il numpy array B2 ed il numpy array B3 e verificare che B2, dopo la modifica di B3, è rimasto inalterato"
   ]
  },
  {
   "cell_type": "code",
   "execution_count": 58,
   "id": "16f9ede1-29c3-46e4-a408-d1f64712162c",
   "metadata": {
    "tags": []
   },
   "outputs": [
    {
     "name": "stdout",
     "output_type": "stream",
     "text": [
      "B2= [[15 15 15 15 15]\n",
      " [15 15 15 15 15]\n",
      " [15 15 15 15 15]\n",
      " [15 15 15 15 15]\n",
      " [15 15 15 15 15]]\n",
      "B3= [[150  15  15  15  15]\n",
      " [ 15  15  15  15  15]\n",
      " [ 15  15  15  15  15]\n",
      " [ 15  15  15  15  15]\n",
      " [ 15  15  15  15  15]]\n"
     ]
    }
   ],
   "source": [
    "B2=np.full((5,5),15)\n",
    "B3=B2.copy()\n",
    "B3[0,0]=150\n",
    "print(\"B2=\",B2)\n",
    "print(\"B3=\",B3)"
   ]
  },
  {
   "cell_type": "markdown",
   "id": "22c456d1-2897-412c-99c1-e9b19cbab4e7",
   "metadata": {},
   "source": [
    "- **12.** Dato un numpy array 1D, di shape (10,) denominato `f`, costituito da 10 valori equidistanti nell'intervallo [0,1], aumentarne la dimensionalità, in maniera tale che abbia shape (10,1)"
   ]
  },
  {
   "cell_type": "code",
   "execution_count": 59,
   "id": "ce10b86f-da27-42fc-8d98-d342199cd691",
   "metadata": {
    "tags": []
   },
   "outputs": [
    {
     "name": "stdout",
     "output_type": "stream",
     "text": [
      "(10, 1)\n"
     ]
    }
   ],
   "source": [
    "f=np.linspace(0,1,10)\n",
    "f1=f.reshape(10,1)\n",
    "print(f1.shape)"
   ]
  },
  {
   "cell_type": "markdown",
   "id": "f5576082-9f61-49bb-94a8-615f8c7d4791",
   "metadata": {},
   "source": [
    "Un altro modo per aumentare la dimensionalità"
   ]
  },
  {
   "cell_type": "code",
   "execution_count": 60,
   "id": "b2afa908-ca74-45f0-9908-5a6f643c2bdf",
   "metadata": {
    "tags": []
   },
   "outputs": [
    {
     "name": "stdout",
     "output_type": "stream",
     "text": [
      "[[0.        ]\n",
      " [0.11111111]\n",
      " [0.22222222]\n",
      " [0.33333333]\n",
      " [0.44444444]\n",
      " [0.55555556]\n",
      " [0.66666667]\n",
      " [0.77777778]\n",
      " [0.88888889]\n",
      " [1.        ]]\n",
      "(10, 1)\n"
     ]
    }
   ],
   "source": [
    "f2=f[:,np.newaxis]\n",
    "print(f2)\n",
    "print(f2.shape)"
   ]
  },
  {
   "cell_type": "markdown",
   "id": "2866db7c-cbcb-431e-bc6a-2645577a65e8",
   "metadata": {},
   "source": [
    "- **13.** Dati i seguenti numpy array\n",
    "  - a= np.array([14,13,12,11])\n",
    "  - b=np.array([[4,3,2,1],[9,10,11,12]])\n",
    "\n",
    "Costruire il numpy array che si ottiene concatenando a e b per righe\n"
   ]
  },
  {
   "cell_type": "code",
   "execution_count": 61,
   "id": "dd2ee9e3-31be-4cb0-89f5-1249f4ffbaf6",
   "metadata": {},
   "outputs": [
    {
     "name": "stdout",
     "output_type": "stream",
     "text": [
      "[[14 13 12 11]\n",
      " [ 4  3  2  1]\n",
      " [ 9 10 11 12]]\n"
     ]
    }
   ],
   "source": [
    "a= np.array([14,13,12,11])\n",
    "b=np.array([[4,3,2,1],[9,10,11,12]])\n",
    "#Bisogna trasformare il numpy array 1d a, in un numpy array cone shape (1,4)\n",
    "c=np.concatenate((a.reshape(1,4),b),axis=0)\n",
    "print(c)"
   ]
  },
  {
   "cell_type": "markdown",
   "id": "d57c7290-27ce-4dce-a8e2-6b89124ed223",
   "metadata": {},
   "source": [
    " - **14.**  Dati i seguenti numpy array\n",
    "  - a= np.array([14,13,12,11])\n",
    "  - b=np.array([[4,3,2,1],[9,10,11,12],[4,3,2,1],[9,10,11,12]])\n",
    "\n",
    "Costruire il numpy array che si ottiene concatenando a e b per colonne"
   ]
  },
  {
   "cell_type": "code",
   "execution_count": 62,
   "id": "6f892d44-29e5-48c8-9d68-2cb81417620b",
   "metadata": {
    "tags": []
   },
   "outputs": [
    {
     "name": "stdout",
     "output_type": "stream",
     "text": [
      "[[14  4  3  2  1]\n",
      " [13  9 10 11 12]\n",
      " [12  4  3  2  1]\n",
      " [11  9 10 11 12]]\n"
     ]
    }
   ],
   "source": [
    "a= np.array([14,13,12,11])\n",
    "b=np.array([[4,3,2,1],[9,10,11,12],[4,3,2,1],[9,10,11,12]])\n",
    "c=np.concatenate((a.reshape(4,1),b),axis=1)\n",
    "print(c)"
   ]
  },
  {
   "cell_type": "markdown",
   "id": "7c6eb421-0e1f-445b-b72f-7d2a2451fcb4",
   "metadata": {},
   "source": [
    "- **15.** Costruisci la matrice tridiagonale A di ordine 20, che ha elementi diagonali $A_{i,i}=10$, i=1,20, elementi nella codiagonale inferiore $A_{i-1,i}=-12$ i=2,..,20\n",
    "elementi nella codiagonale superiore $A_{i,i+1}=-2$ i=1,..,19"
   ]
  },
  {
   "cell_type": "code",
   "execution_count": 63,
   "id": "3d9370a0-319f-4654-9284-3428f13bd931",
   "metadata": {
    "tags": []
   },
   "outputs": [],
   "source": [
    "d=np.ones((20,))*10\n",
    "e=np.ones((19,))*(-12)\n",
    "f=np.ones((19,))*(-2)\n",
    "A=np.diag(d)+np.diag(e,-1)+np.diag(f,1)"
   ]
  },
  {
   "cell_type": "code",
   "execution_count": 64,
   "id": "5b530455-3de1-4f62-8dfe-56a6a2f754ad",
   "metadata": {
    "tags": []
   },
   "outputs": [
    {
     "name": "stdout",
     "output_type": "stream",
     "text": [
      "[[ 10.  -2.   0.   0.   0.   0.   0.   0.   0.   0.   0.   0.   0.   0.\n",
      "    0.   0.   0.   0.   0.   0.]\n",
      " [-12.  10.  -2.   0.   0.   0.   0.   0.   0.   0.   0.   0.   0.   0.\n",
      "    0.   0.   0.   0.   0.   0.]\n",
      " [  0. -12.  10.  -2.   0.   0.   0.   0.   0.   0.   0.   0.   0.   0.\n",
      "    0.   0.   0.   0.   0.   0.]\n",
      " [  0.   0. -12.  10.  -2.   0.   0.   0.   0.   0.   0.   0.   0.   0.\n",
      "    0.   0.   0.   0.   0.   0.]\n",
      " [  0.   0.   0. -12.  10.  -2.   0.   0.   0.   0.   0.   0.   0.   0.\n",
      "    0.   0.   0.   0.   0.   0.]\n",
      " [  0.   0.   0.   0. -12.  10.  -2.   0.   0.   0.   0.   0.   0.   0.\n",
      "    0.   0.   0.   0.   0.   0.]\n",
      " [  0.   0.   0.   0.   0. -12.  10.  -2.   0.   0.   0.   0.   0.   0.\n",
      "    0.   0.   0.   0.   0.   0.]\n",
      " [  0.   0.   0.   0.   0.   0. -12.  10.  -2.   0.   0.   0.   0.   0.\n",
      "    0.   0.   0.   0.   0.   0.]\n",
      " [  0.   0.   0.   0.   0.   0.   0. -12.  10.  -2.   0.   0.   0.   0.\n",
      "    0.   0.   0.   0.   0.   0.]\n",
      " [  0.   0.   0.   0.   0.   0.   0.   0. -12.  10.  -2.   0.   0.   0.\n",
      "    0.   0.   0.   0.   0.   0.]\n",
      " [  0.   0.   0.   0.   0.   0.   0.   0.   0. -12.  10.  -2.   0.   0.\n",
      "    0.   0.   0.   0.   0.   0.]\n",
      " [  0.   0.   0.   0.   0.   0.   0.   0.   0.   0. -12.  10.  -2.   0.\n",
      "    0.   0.   0.   0.   0.   0.]\n",
      " [  0.   0.   0.   0.   0.   0.   0.   0.   0.   0.   0. -12.  10.  -2.\n",
      "    0.   0.   0.   0.   0.   0.]\n",
      " [  0.   0.   0.   0.   0.   0.   0.   0.   0.   0.   0.   0. -12.  10.\n",
      "   -2.   0.   0.   0.   0.   0.]\n",
      " [  0.   0.   0.   0.   0.   0.   0.   0.   0.   0.   0.   0.   0. -12.\n",
      "   10.  -2.   0.   0.   0.   0.]\n",
      " [  0.   0.   0.   0.   0.   0.   0.   0.   0.   0.   0.   0.   0.   0.\n",
      "  -12.  10.  -2.   0.   0.   0.]\n",
      " [  0.   0.   0.   0.   0.   0.   0.   0.   0.   0.   0.   0.   0.   0.\n",
      "    0. -12.  10.  -2.   0.   0.]\n",
      " [  0.   0.   0.   0.   0.   0.   0.   0.   0.   0.   0.   0.   0.   0.\n",
      "    0.   0. -12.  10.  -2.   0.]\n",
      " [  0.   0.   0.   0.   0.   0.   0.   0.   0.   0.   0.   0.   0.   0.\n",
      "    0.   0.   0. -12.  10.  -2.]\n",
      " [  0.   0.   0.   0.   0.   0.   0.   0.   0.   0.   0.   0.   0.   0.\n",
      "    0.   0.   0.   0. -12.  10.]]\n"
     ]
    }
   ],
   "source": [
    "print(A)\n"
   ]
  },
  {
   "cell_type": "markdown",
   "id": "bae8a3dc-e71c-4ff4-8062-2d66c377d63f",
   "metadata": {},
   "source": [
    "- **16.** Costruire la matrice identità della stessa dimensione di A"
   ]
  },
  {
   "cell_type": "code",
   "execution_count": 65,
   "id": "7a9d9fac-0579-4a9f-81ca-f3b313c6c041",
   "metadata": {
    "tags": []
   },
   "outputs": [
    {
     "name": "stdout",
     "output_type": "stream",
     "text": [
      "[[1. 0. 0. 0. 0. 0. 0. 0. 0. 0. 0. 0. 0. 0. 0. 0. 0. 0. 0. 0.]\n",
      " [0. 1. 0. 0. 0. 0. 0. 0. 0. 0. 0. 0. 0. 0. 0. 0. 0. 0. 0. 0.]\n",
      " [0. 0. 1. 0. 0. 0. 0. 0. 0. 0. 0. 0. 0. 0. 0. 0. 0. 0. 0. 0.]\n",
      " [0. 0. 0. 1. 0. 0. 0. 0. 0. 0. 0. 0. 0. 0. 0. 0. 0. 0. 0. 0.]\n",
      " [0. 0. 0. 0. 1. 0. 0. 0. 0. 0. 0. 0. 0. 0. 0. 0. 0. 0. 0. 0.]\n",
      " [0. 0. 0. 0. 0. 1. 0. 0. 0. 0. 0. 0. 0. 0. 0. 0. 0. 0. 0. 0.]\n",
      " [0. 0. 0. 0. 0. 0. 1. 0. 0. 0. 0. 0. 0. 0. 0. 0. 0. 0. 0. 0.]\n",
      " [0. 0. 0. 0. 0. 0. 0. 1. 0. 0. 0. 0. 0. 0. 0. 0. 0. 0. 0. 0.]\n",
      " [0. 0. 0. 0. 0. 0. 0. 0. 1. 0. 0. 0. 0. 0. 0. 0. 0. 0. 0. 0.]\n",
      " [0. 0. 0. 0. 0. 0. 0. 0. 0. 1. 0. 0. 0. 0. 0. 0. 0. 0. 0. 0.]\n",
      " [0. 0. 0. 0. 0. 0. 0. 0. 0. 0. 1. 0. 0. 0. 0. 0. 0. 0. 0. 0.]\n",
      " [0. 0. 0. 0. 0. 0. 0. 0. 0. 0. 0. 1. 0. 0. 0. 0. 0. 0. 0. 0.]\n",
      " [0. 0. 0. 0. 0. 0. 0. 0. 0. 0. 0. 0. 1. 0. 0. 0. 0. 0. 0. 0.]\n",
      " [0. 0. 0. 0. 0. 0. 0. 0. 0. 0. 0. 0. 0. 1. 0. 0. 0. 0. 0. 0.]\n",
      " [0. 0. 0. 0. 0. 0. 0. 0. 0. 0. 0. 0. 0. 0. 1. 0. 0. 0. 0. 0.]\n",
      " [0. 0. 0. 0. 0. 0. 0. 0. 0. 0. 0. 0. 0. 0. 0. 1. 0. 0. 0. 0.]\n",
      " [0. 0. 0. 0. 0. 0. 0. 0. 0. 0. 0. 0. 0. 0. 0. 0. 1. 0. 0. 0.]\n",
      " [0. 0. 0. 0. 0. 0. 0. 0. 0. 0. 0. 0. 0. 0. 0. 0. 0. 1. 0. 0.]\n",
      " [0. 0. 0. 0. 0. 0. 0. 0. 0. 0. 0. 0. 0. 0. 0. 0. 0. 0. 1. 0.]\n",
      " [0. 0. 0. 0. 0. 0. 0. 0. 0. 0. 0. 0. 0. 0. 0. 0. 0. 0. 0. 1.]]\n"
     ]
    }
   ],
   "source": [
    "Id=np.eye(A.shape[0])\n",
    "print(Id)"
   ]
  },
  {
   "cell_type": "markdown",
   "id": "612458f4-d8f6-4015-ae74-042d73cbd9f9",
   "metadata": {},
   "source": [
    "- **17.** Selezionare dalla matrice A le righe che vanno dalla 2 alla 9 con step 2 e le colonne che vanno dalla 3 alla 6 con step 2\n"
   ]
  },
  {
   "cell_type": "code",
   "execution_count": 66,
   "id": "e2c57f80-3c16-4a14-931d-660c38369a08",
   "metadata": {
    "tags": []
   },
   "outputs": [
    {
     "name": "stdout",
     "output_type": "stream",
     "text": [
      "[[ -2.   0.]\n",
      " [-12.  -2.]\n",
      " [  0. -12.]\n",
      " [  0.   0.]]\n"
     ]
    },
    {
     "data": {
      "text/plain": [
       "False"
      ]
     },
     "execution_count": 66,
     "metadata": {},
     "output_type": "execute_result"
    }
   ],
   "source": [
    "A1=A[2:10:2,3:7:2]\n",
    "print(A1)\n",
    "A1.flags['OWNDATA']"
   ]
  },
  {
   "cell_type": "markdown",
   "id": "db2a4f82-fe57-4763-bd58-9921869c671c",
   "metadata": {},
   "source": [
    "- **18.** A1 è una vista di A, come trasformarla in copia?"
   ]
  },
  {
   "cell_type": "code",
   "execution_count": 67,
   "id": "2675fce7-f224-4b8a-b4e0-8debb0742224",
   "metadata": {
    "tags": []
   },
   "outputs": [
    {
     "data": {
      "text/plain": [
       "True"
      ]
     },
     "execution_count": 67,
     "metadata": {},
     "output_type": "execute_result"
    }
   ],
   "source": [
    "A1=A[2:10:2,3:7:2].copy()\n",
    "A1.flags['OWNDATA']"
   ]
  },
  {
   "cell_type": "markdown",
   "id": "f5a336bc-5cf9-4400-ae23-4be1f35521de",
   "metadata": {
    "tags": []
   },
   "source": [
    "- **19.** Costruisci due numpy array di shape (5,5) \n",
    " - A formata da numeri interi casuali  nell'intervallo [1,20]\n",
    " - B formata da numeri interi casuali  nell'intervallo [1,6]\n",
    " \n",
    " Costruisci in modalità element-wise le matrici\n",
    " C=A+B\n",
    " D=A-B\n",
    " E=A*B\n",
    " F=A\\B"
   ]
  },
  {
   "cell_type": "code",
   "execution_count": 68,
   "id": "bcacee68-9aa1-46fb-b734-8644847ff506",
   "metadata": {
    "tags": []
   },
   "outputs": [],
   "source": [
    "A=np.random.randint(1,20,25).reshape(5,5)\n",
    "B=np.random.randint(1,6,25).reshape(5,5)\n",
    "C=A+B\n",
    "D=A-B\n",
    "E=A*B\n",
    "F=A/B"
   ]
  },
  {
   "cell_type": "code",
   "execution_count": 69,
   "id": "849bbe71-bdef-434e-895f-0ca53f3381ef",
   "metadata": {
    "tags": []
   },
   "outputs": [
    {
     "name": "stdout",
     "output_type": "stream",
     "text": [
      "A [[ 9  7 17  7 11]\n",
      " [ 5  6  6 13  5]\n",
      " [12  6  7 19  4]\n",
      " [18  7 18 13 15]\n",
      " [ 6 18  7 17  1]]\n",
      "B [[5 4 4 1 5]\n",
      " [4 4 2 3 4]\n",
      " [4 5 3 3 4]\n",
      " [2 2 5 5 3]\n",
      " [4 3 4 5 1]]\n",
      "C [[14 11 21  8 16]\n",
      " [ 9 10  8 16  9]\n",
      " [16 11 10 22  8]\n",
      " [20  9 23 18 18]\n",
      " [10 21 11 22  2]]\n",
      "D [[ 4  3 13  6  6]\n",
      " [ 1  2  4 10  1]\n",
      " [ 8  1  4 16  0]\n",
      " [16  5 13  8 12]\n",
      " [ 2 15  3 12  0]]\n",
      "E [[45 28 68  7 55]\n",
      " [20 24 12 39 20]\n",
      " [48 30 21 57 16]\n",
      " [36 14 90 65 45]\n",
      " [24 54 28 85  1]]\n",
      "F [[1.8        1.75       4.25       7.         2.2       ]\n",
      " [1.25       1.5        3.         4.33333333 1.25      ]\n",
      " [3.         1.2        2.33333333 6.33333333 1.        ]\n",
      " [9.         3.5        3.6        2.6        5.        ]\n",
      " [1.5        6.         1.75       3.4        1.        ]]\n"
     ]
    }
   ],
   "source": [
    "print(\"A\",A)\n",
    "print(\"B\",B)\n",
    "print(\"C\",C)\n",
    "print(\"D\",D)\n",
    "print(\"E\",E)\n",
    "print(\"F\",F)\n"
   ]
  },
  {
   "cell_type": "markdown",
   "id": "43fad425-0411-4471-962e-c79247aecb83",
   "metadata": {},
   "source": [
    "- **20.** Costruisci il prodotto scalare tra le  matrici A e B (righe per colonne)"
   ]
  },
  {
   "cell_type": "code",
   "execution_count": 70,
   "id": "d1c8eab3-890c-4c91-8e70-0ef896b8f2ae",
   "metadata": {
    "tags": []
   },
   "outputs": [],
   "source": [
    "C=np.dot(A,B)"
   ]
  },
  {
   "cell_type": "markdown",
   "id": "e6ae130a-1d6c-429b-ab62-718ff805d9bc",
   "metadata": {},
   "source": [
    "- **21.** Somma gli elementi delle righe della matrice B"
   ]
  },
  {
   "cell_type": "code",
   "execution_count": 71,
   "id": "55389011-db3d-4514-b65a-852c44702f7f",
   "metadata": {
    "tags": []
   },
   "outputs": [
    {
     "name": "stdout",
     "output_type": "stream",
     "text": [
      "B= [[5 4 4 1 5]\n",
      " [4 4 2 3 4]\n",
      " [4 5 3 3 4]\n",
      " [2 2 5 5 3]\n",
      " [4 3 4 5 1]]\n",
      "soma elementi righe  [19 18 18 17 17]\n"
     ]
    }
   ],
   "source": [
    "print(\"B=\",B)\n",
    "c=np.sum(B,axis=0)\n",
    "print('soma elementi righe ',c)"
   ]
  },
  {
   "cell_type": "markdown",
   "id": "4cb04c63-c9c6-41a8-8e62-bc4497a4251b",
   "metadata": {},
   "source": [
    "- **22.** Somma gli elementi delle colonne della matrice B"
   ]
  },
  {
   "cell_type": "code",
   "execution_count": 72,
   "id": "7a8c04c4-475a-470a-a809-fed96e4988d3",
   "metadata": {
    "tags": []
   },
   "outputs": [
    {
     "name": "stdout",
     "output_type": "stream",
     "text": [
      "B= [[5 4 4 1 5]\n",
      " [4 4 2 3 4]\n",
      " [4 5 3 3 4]\n",
      " [2 2 5 5 3]\n",
      " [4 3 4 5 1]]\n",
      "somma elementi colonne  [19 17 19 17 17]\n"
     ]
    }
   ],
   "source": [
    "print(\"B=\",B)\n",
    "c=np.sum(B,axis=1)\n",
    "print(\"somma elementi colonne \",c)"
   ]
  },
  {
   "cell_type": "markdown",
   "id": "5715d0db-b005-4256-86a0-4a94a46fdd96",
   "metadata": {},
   "source": [
    "- **23.** Somma tutti gli elementi di B"
   ]
  },
  {
   "cell_type": "code",
   "execution_count": 73,
   "id": "f1c71349-efa2-464d-86a8-85351dd00848",
   "metadata": {
    "tags": []
   },
   "outputs": [
    {
     "name": "stdout",
     "output_type": "stream",
     "text": [
      "89\n"
     ]
    }
   ],
   "source": [
    "c=np.sum(B)\n",
    "print(c)\n"
   ]
  },
  {
   "cell_type": "markdown",
   "id": "337c76cc-d82b-4bbb-a57c-52080a6aa9cb",
   "metadata": {},
   "source": [
    "- **24.** Calcolare il minimo degli elementi di B, tra le righe, tra le colonne, il minimo di tutta la matrice B"
   ]
  },
  {
   "cell_type": "code",
   "execution_count": 74,
   "id": "4d46176f-ec18-41d5-97d6-ec50be2f7edf",
   "metadata": {
    "tags": []
   },
   "outputs": [
    {
     "name": "stdout",
     "output_type": "stream",
     "text": [
      "[[5 4 4 1 5]\n",
      " [4 4 2 3 4]\n",
      " [4 5 3 3 4]\n",
      " [2 2 5 5 3]\n",
      " [4 3 4 5 1]]\n",
      "[2 2 2 1 1]\n"
     ]
    }
   ],
   "source": [
    "print(B)\n",
    "r=np.min(B,axis=0)\n",
    "print(r)"
   ]
  },
  {
   "cell_type": "markdown",
   "id": "30bc84d9-f2ff-42aa-95ee-b10d69e50762",
   "metadata": {},
   "source": [
    "- **25.** Calcola, memorizzando in un vettore, la somma degli elementi di ogni colonna di $ |B |$. Calcola successivamente il massimo di questo vettore.\n",
    "$cmaxc= \\max_{j=1,n} \\sum_{i} |b_{ij}|$"
   ]
  },
  {
   "cell_type": "code",
   "execution_count": 75,
   "id": "cd9d4d36-eec3-475a-bbf2-b4ef7f3a6fc5",
   "metadata": {
    "tags": []
   },
   "outputs": [
    {
     "name": "stdout",
     "output_type": "stream",
     "text": [
      "[19 18 18 17 17]\n",
      "19\n"
     ]
    }
   ],
   "source": [
    "c=np.sum(np.abs(B),axis=0)  #equivale a sommare gli elementi di tutte le righe\n",
    "cmaxc=np.max(c)\n",
    "print(c)\n",
    "print(cmaxc)"
   ]
  },
  {
   "cell_type": "markdown",
   "id": "7763e180-a6f1-41d3-9af7-4fb92bacd72d",
   "metadata": {},
   "source": [
    "- **26.** Calcola, memorizzando in un vettore, la somma degli elementi di ogni riga  di $ |B |$. Calcola successivamente il massimo di questo vettore.\n",
    "$cmaxr= \\max_{i=1,n} \\sum_{j} |b_{ij}|$"
   ]
  },
  {
   "cell_type": "code",
   "execution_count": 76,
   "id": "86cbefb2-ec77-4b51-a0ec-929b172a7662",
   "metadata": {
    "tags": []
   },
   "outputs": [
    {
     "name": "stdout",
     "output_type": "stream",
     "text": [
      "[19 17 19 17 17]\n",
      "19\n"
     ]
    }
   ],
   "source": [
    "c=np.sum(np.abs(B),axis=1)  #equivale a sommare gli elementi di tutte le colonne\n",
    "cmaxr=np.max(c)\n",
    "print(c)\n",
    "print(cmaxr)"
   ]
  },
  {
   "cell_type": "markdown",
   "id": "89a136bb-2e23-4fca-9717-d32434f5f5ce",
   "metadata": {},
   "source": [
    "- **27.** Effettua nella matrice B lo scambio tra la  riga 2 e  la riga 3"
   ]
  },
  {
   "cell_type": "code",
   "execution_count": 77,
   "id": "edc52d40-0b67-4b63-85a1-cb2fa2fb81f1",
   "metadata": {
    "tags": []
   },
   "outputs": [
    {
     "name": "stdout",
     "output_type": "stream",
     "text": [
      "B [[5 4 4 1 5]\n",
      " [4 4 2 3 4]\n",
      " [4 5 3 3 4]\n",
      " [2 2 5 5 3]\n",
      " [4 3 4 5 1]]\n",
      "B [[5 4 4 1 5]\n",
      " [4 4 2 3 4]\n",
      " [2 2 5 5 3]\n",
      " [4 5 3 3 4]\n",
      " [4 3 4 5 1]]\n"
     ]
    }
   ],
   "source": [
    "print(\"B\",B)\n",
    "B[[2,3],:] = B[[3,2],:]\n",
    "print(\"B\",B)"
   ]
  },
  {
   "cell_type": "markdown",
   "id": "5a00eaef-f14c-49f9-b9d1-c8ad90627935",
   "metadata": {},
   "source": [
    "- **28.** Calcola il valore massimo della colonna 0-esima della matrice B e l'indice di riga a cui appartiene"
   ]
  },
  {
   "cell_type": "code",
   "execution_count": 78,
   "id": "fd6f7117-f7de-4802-8907-11c8938482d6",
   "metadata": {
    "tags": []
   },
   "outputs": [
    {
     "name": "stdout",
     "output_type": "stream",
     "text": [
      "[[5 4 4 1 5]\n",
      " [4 4 2 3 4]\n",
      " [2 2 5 5 3]\n",
      " [4 5 3 3 4]\n",
      " [4 3 4 5 1]]\n",
      "elemento di valore massimo nella colonna 0-esima pari a  5   riga di appartenenza  0\n"
     ]
    }
   ],
   "source": [
    "print(B)\n",
    "vmc=np.max(B[:,0])\n",
    "rigamin=np.argmax(B[:,0])\n",
    "print('elemento di valore massimo nella colonna 0-esima pari a ',vmc,'  riga di appartenenza ', rigamin)"
   ]
  },
  {
   "cell_type": "markdown",
   "id": "12be327e-41a9-4700-82b2-f78709585ce3",
   "metadata": {},
   "source": [
    "- **29.** Scrivi una funzione border(m,n) per creare un array 2D di shape(m,n) che abbia tutti valori zero, ad eccezione degli elementi attorno al bordo (ovvero la prima e l'ultima riga e la prima e l'ultima colonna), che deve avere un valore pari a uno. Prevedi un argomento di default che se impostato a True visualizza la matrice "
   ]
  },
  {
   "cell_type": "code",
   "execution_count": 79,
   "id": "efc55d44-88bf-4270-8439-3d6b4d7bce5e",
   "metadata": {
    "tags": []
   },
   "outputs": [],
   "source": [
    "def border(m,n,stampa=True):\n",
    "    A=np.zeros((m,n));\n",
    "    A[[0,m-1],:]=1\n",
    "    A[:,[0,n-1]]=1\n",
    "    if stampa:\n",
    "        print(A)\n",
    "    return A\n",
    "        "
   ]
  },
  {
   "cell_type": "code",
   "execution_count": 80,
   "id": "e9ad963e-855c-48ff-8301-7040b0a3ea12",
   "metadata": {
    "tags": []
   },
   "outputs": [],
   "source": [
    "S=border(4,7,stampa=False)"
   ]
  },
  {
   "cell_type": "markdown",
   "id": "20e88028-91cf-4f99-90b9-5d2f8148b3a9",
   "metadata": {},
   "source": [
    "- **30.**  . Scrivi una funzione `visualizza(f,a,b)`che prende in input una lambda function, gli estremi dell'intervallo su cui è definita e la visualizzi in una finestra grafica"
   ]
  },
  {
   "cell_type": "code",
   "execution_count": 81,
   "id": "800d4bb3-472a-4fcb-9900-f5b88dccc4c9",
   "metadata": {
    "tags": []
   },
   "outputs": [],
   "source": [
    "def visualizza(f,a,b):\n",
    "    x=np.linspace(a,b,100)\n",
    "    funz=f(x)\n",
    "    plt.plot(x,funz,'r')\n",
    "    "
   ]
  },
  {
   "cell_type": "code",
   "execution_count": 82,
   "id": "76674381-a97a-4da9-aeff-b0944db8e78e",
   "metadata": {
    "tags": []
   },
   "outputs": [
    {
     "data": {
      "image/png": "[encoded data removed]",
      "text/plain": [
       "<Figure size 640x480 with 1 Axes>"
      ]
     },
     "metadata": {},
     "output_type": "display_data"
    }
   ],
   "source": [
    "import matplotlib.pyplot as plt\n",
    "f= lambda x: np.sin(x)+np.cos(12*x)\n",
    "visualizza(f,0,2*np.pi)"
   ]
  },
  {
   "cell_type": "markdown",
   "id": "c4e0b8d0-b590-4554-9954-7333715b3c63",
   "metadata": {},
   "source": [
    "- **31.** . Scrivi una funzione `visualizza2(f,a,b,f2,a2,b2)`che prende in input una lambda function f e gli estremi dell'intervallo su cui è definita, una lambda function f2 e gli estremi dell'intervallo su cui è definita, e l2 visualizzi sulla stessa finestra grafica"
   ]
  },
  {
   "cell_type": "code",
   "execution_count": 83,
   "id": "8ad6c62c-0523-468a-b16d-b2043df49ee7",
   "metadata": {
    "tags": []
   },
   "outputs": [],
   "source": [
    "def visualizza2(f1,a,b,f2,a2,b2):\n",
    "    x=np.linspace(a,b,100)\n",
    "    funz=f1(x)\n",
    "    x2=np.linspace(a2,b2,100)\n",
    "    funz2=f2(x2)\n",
    "    plt.grid(True)\n",
    "    plt.plot(x,funz,'r:',x2,funz2,'g--')\n",
    "    plt.legend(['Funzione 1','Funzione 2'])\n",
    "    plt.show()\n",
    "    "
   ]
  },
  {
   "cell_type": "code",
   "execution_count": 84,
   "id": "6f1221b5-2d76-483b-bdbc-a0a5a17cf8dc",
   "metadata": {
    "tags": []
   },
   "outputs": [
    {
     "data": {
      "image/png": "[encoded data removed]",
      "text/plain": [
       "<Figure size 640x480 with 1 Axes>"
      ]
     },
     "metadata": {},
     "output_type": "display_data"
    }
   ],
   "source": [
    "f= lambda x: np.sin(x)+np.cos(12*x)\n",
    "f2= lambda x: np.sin(6*x)+np.cos(5*x)\n",
    "\n",
    "visualizza2(f,0,2*np.pi,f2,0,2*np.pi)"
   ]
  }
 ],
 "metadata": {
  "kernelspec": {
   "display_name": "Python 3 (ipykernel)",
   "language": "python",
   "name": "python3"
  },
  "language_info": {
   "codemirror_mode": {
    "name": "ipython",
    "version": 3
   },
   "file_extension": ".py",
   "mimetype": "text/x-python",
   "name": "python",
   "nbconvert_exporter": "python",
   "pygments_lexer": "ipython3",
   "version": "3.11.2"
  }
 },
 "nbformat": 4,
 "nbformat_minor": 5
}

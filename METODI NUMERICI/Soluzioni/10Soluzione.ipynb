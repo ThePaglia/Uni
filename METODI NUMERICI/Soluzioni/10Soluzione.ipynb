{
 "cells": [
  {
   "cell_type": "markdown",
   "id": "c33c02f5-a85e-4689-bcba-9a00a03dab3c",
   "metadata": {},
   "source": [
    "# Esercitazione 10\n",
    "2 - 5 Maggio 2023"
   ]
  },
  {
   "cell_type": "markdown",
   "id": "f6b59003-c255-41cb-b711-67609181c39e",
   "metadata": {},
   "source": [
    "### Codice EquazioniNormali\n",
    "Implementare la function  **eqnorm(A,b)** che implementa il metodo delle equazioni normali per la soluzione del sistema sovradeterminato Ax=b e che prende in input:\n",
    "- la matrice A di dimensione $m \\times n$ , $m>n$\n",
    "- il termine noto b di ordine m\n",
    "restituisce in output\n",
    "- la soluzione del sistema lineare "
   ]
  },
  {
   "cell_type": "code",
   "execution_count": 1,
   "id": "214294b2-3d64-4b28-85a7-46440d6a0bf7",
   "metadata": {},
   "outputs": [
    {
     "name": "stderr",
     "output_type": "stream",
     "text": [
      "C:\\Users\\Damiana Lazzaro\\anaconda3\\lib\\site-packages\\scipy\\__init__.py:146: UserWarning: A NumPy version >=1.16.5 and <1.23.0 is required for this version of SciPy (detected version 1.24.3\n",
      "  warnings.warn(f\"A NumPy version >={np_minversion} and <{np_maxversion}\"\n"
     ]
    }
   ],
   "source": [
    "import numpy as np\n",
    "import scipy.linalg as spLin\n",
    "import RisolviSis\n",
    "import matplotlib.pyplot as plt"
   ]
  },
  {
   "cell_type": "code",
   "execution_count": 2,
   "id": "e56deff8-c102-4a54-8b84-5e42c1cf6dfa",
   "metadata": {},
   "outputs": [],
   "source": [
    "def eqnorm(A,b):\n",
    " \n",
    "    G=A.T@A\n",
    "     \n",
    "    print(\"Indice di condizionamento di G \",np.linalg.cond(G))\n",
    "    f=A.T@b\n",
    "    L=spLin.cholesky(G,lower=True)\n",
    "   \n",
    "    y,flag=RisolviSis.Lsolve(L,f)\n",
    "    if flag==0:\n",
    "        x,flag=RisolviSis.Usolve(L.T,y)\n",
    "    \n",
    "    \n",
    "    return x\n",
    "    \n",
    "    "
   ]
  },
  {
   "cell_type": "markdown",
   "id": "cdd19909-e613-455a-a98e-dd5e8175a835",
   "metadata": {},
   "source": [
    "### Codice QRLS\n",
    "Implementare la function  **qrLS(A,b)** che utilizza il metodo QR per la soluzione del sistema sovradeterminato Ax=b e che prende in input:\n",
    "- la matrice A di dimensione $m \\times n$ , $m>n$\n",
    "- il termine noto b di ordine m\n",
    "restituisce in output\n",
    "- la soluzione del sistema lineare e la norma 2 al quadrato del residuo."
   ]
  },
  {
   "cell_type": "code",
   "execution_count": 3,
   "id": "644b07ea-6fe8-4db6-a578-dac84ffb281e",
   "metadata": {},
   "outputs": [],
   "source": [
    "def qrLS(A,b):\n",
    "    n=A.shape[1]  # numero di colonne di A\n",
    "    Q,R=spLin.qr(A)\n",
    "    h=Q.T@b\n",
    "    x,flag=RisolviSis.Usolve(R[0:n,:],h[0:n])\n",
    "    residuo=np.linalg.norm(h[n:])**2\n",
    "    return x,residuo"
   ]
  },
  {
   "cell_type": "markdown",
   "id": "5efe494f-3f53-4dfb-8601-fcee7f691691",
   "metadata": {},
   "source": [
    "### Codice SVDLS\n",
    "Implementare la function  **svdLS(A,b)** che utilizza  il metodo SVD per la soluzione del sistema sovradeterminato Ax=b e che prende in input:\n",
    "- la matrice A di dimensione $m \\times n$ , $m>n$\n",
    "- il termine noto b di ordine m\n",
    "restituisce in output\n",
    "- la soluzione del sistema lineare e la norma 2 al quadrato del residuo."
   ]
  },
  {
   "cell_type": "code",
   "execution_count": 4,
   "id": "59eec469-2725-4917-87c9-0c1d170c5284",
   "metadata": {},
   "outputs": [],
   "source": [
    "def SVDLS(A,b):\n",
    "    n=A.shape[1]  # numero di colonne di A\n",
    "    U,s,VT=spLin.svd(A)  #Attenzione : Restituisce U, Sigma e VT=VTrasposta)\n",
    "    V=VT.T\n",
    "    thresh=np.spacing(1)*m*s[0] ##Calcolo del rango della matrice, numero dei valori singolari maggiori di una soglia\n",
    "    k=np.count_nonzero(s>thresh)\n",
    "    print(\"rango=\",k)\n",
    "    d=U.T@b\n",
    "    d1=d[:k].reshape(k,1)\n",
    "    s1=s[:k].reshape(k,1)\n",
    "    #Risolve il sistema diagonale di dimensione kxk avene come matrice dei coefficienti la matrice Sigma\n",
    "    c=d1/s1\n",
    "    x=V[:,:k]@c \n",
    "    residuo=np.linalg.norm(d[k:])**2\n",
    "    return x,residuo\n",
    "     \n"
   ]
  },
  {
   "cell_type": "markdown",
   "id": "12228038-aafe-45b0-803b-8ad5d3a2925c",
   "metadata": {},
   "source": [
    "## Esercizio 1\n",
    "- Si utilizzino i tre metodi implementati  per l'approssimazione ai minimi quadrati delle seguenti configurazioni di dati:\n",
    "\n",
    "$$\n",
    "\\begin{array}{l}\n",
    "x_1 = [-3.5, \\, -3, \\, -2, \\, -1.5, \\, -0.5, \\, 0.5, \\, 1.7, \\, 2.5, \\, 3] ;\\\\\n",
    "y_1 = [-3.9, \\, -4.8, \\, -3.3, \\, -2.5, \\, 0.3, \\, 1.8, \\, 4, \\, 6.9, \\, 7.1] ;\\\\\n",
    "x_2 = [-3.14, \\, -2.4, \\, -1.57, \\, -0.7, \\, -0.3, \\, 0, \\, 0.4, \\, 0.7, \\, 1.57] ;\\\\\n",
    "y_2 = [0.02, \\, -1, \\, -0.9, \\, -0.72, \\, -0.2, \\, -0.04, \\, 0.65, \\, 0.67, \\, 1.1] ;\\\\\n",
    "x_3 = [[1.001,\\, 1.004,\\, 1.005,\\,1.0012, \\,1.0013,  \\, 1.0014,  \\, 1.0015, \\, 1.0016] ;\\\\\n",
    "y_3 = [-1.2, \\, -0.95, \\, -0.9, \\, -1.15, \\, -1.1, \\, -1] ;\\\\\n",
    "\\end{array}\n",
    "$$\n",
    "\n",
    "al variare del grado $n$ tra 1 e 4.\n",
    "\n"
   ]
  },
  {
   "cell_type": "code",
   "execution_count": 5,
   "id": "07c9efcb-ed44-4971-9e16-f054f9d8cc24",
   "metadata": {},
   "outputs": [
    {
     "name": "stdout",
     "output_type": "stream",
     "text": [
      "rango= 3\n",
      "resdiuo  2.705705543331559\n"
     ]
    },
    {
     "data": {
      "image/png": "[encoded data removed]",
      "text/plain": [
       "<Figure size 432x288 with 1 Axes>"
      ]
     },
     "metadata": {
      "needs_background": "light"
     },
     "output_type": "display_data"
    },
    {
     "name": "stdout",
     "output_type": "stream",
     "text": [
      "errore  2.7057055433315553\n"
     ]
    }
   ],
   "source": [
    "x= np.array([-3.5,-3, -2, -1.5, -0.5, 0.5, 1.7, 2.5, 3]) \n",
    "y = np.array([-3.9,-4.8,-3.3,-2.5, 0.3,1.8,4,6.9,7.1])\n",
    "#x=np.array( [-3.14,  -2.4,  -1.57,  -0.7,  -0.3,  0,  0.4,  0.7,  1.57]  )\n",
    "#y=np.array(  [0.02,  -1, -0.9,   -0.72,   -0.2,   -0.04,  0.65,   0.67,   1.1] )\n",
    "#x  = np.array([1.001, 1.004, 1.005,1.0012, 1.0013,   1.0014,   1.0015,  1.0016])\n",
    "#y  = np.array([-1.2,-1.0, -0.98,-0.95,-0.9, -1.15, -1.1, -1])\n",
    "m=x.shape[0]\n",
    "n=2  #grado del polinomio di regressione\n",
    "n1=n+1  # gradi di libertà\n",
    "A=np.vander(x,increasing=True)[:,:n1]\n",
    "alpha,residuo=SVDLS(A,y)\n",
    "#alpha=eqnorm(A,y)\n",
    "\n",
    "print(\"resdiuo \",residuo)\n",
    "xv=np.linspace(np.min(x),np.max(x),100)\n",
    "pol1=np.polyval(np.flip(alpha),xv)\n",
    "plt.plot(xv,pol1,x,y,'ro')\n",
    "plt.show()\n",
    "errore=np.linalg.norm(y-np.polyval(np.flip(alpha),x))**2\n",
    "print(\"errore \",errore)"
   ]
  },
  {
   "cell_type": "markdown",
   "id": "a2b6044f-2076-4979-be19-4584ae4857c6",
   "metadata": {},
   "source": [
    "## Esercizio 2: \n",
    "Per i dati $(x_i, y_i)$ riportati nei seguenti array\n",
    "\n",
    "$$\n",
    "\\begin{array}{l}\n",
    "x = [0.0004, \\, 0.2507, \\, 0.5008, \\, 2.0007, \\, 8.0013]  ;\\\\\n",
    "y = [0.0007, \\, 0.0162, \\, 0.0288, \\, 0.0309, \\, 0.0310] ;\n",
    "\\end{array}\n",
    "$$\n",
    "\n",
    "- costruire la retta di regressione;\n",
    "- costruire la parabola approssimante i dati nel senso dei minimi quadrati;\n",
    "\n",
    "Quale tra le due approssimazioni risulta la migliore? (Confrontare i grafici e la norma euclidea al quadrato del vettore dei residui).\n",
    "\n"
   ]
  },
  {
   "cell_type": "code",
   "execution_count": 6,
   "id": "850478c3-70cc-4811-94e9-aa41f8ea4b20",
   "metadata": {},
   "outputs": [
    {
     "name": "stdout",
     "output_type": "stream",
     "text": [
      "condizionamento di A2  4.663457775986456\n",
      "Indice di condizionamento di G  21.747838428408542\n"
     ]
    },
    {
     "data": {
      "image/png": "[encoded data removed]",
      "text/plain": [
       "<Figure size 432x288 with 1 Axes>"
      ]
     },
     "metadata": {
      "needs_background": "light"
     },
     "output_type": "display_data"
    },
    {
     "name": "stdout",
     "output_type": "stream",
     "text": [
      "errore  0.0004848327762313228\n"
     ]
    }
   ],
   "source": [
    "x2=np.array([0.0004,0.2507,0.5008,2.0007, 8.0013])\n",
    "y2=np.array([0.0007,0.0162,0.0288, 0.0309,0.0310])\n",
    "m=x2.shape[0]\n",
    "n=1 #retta di regressione: grado 1\n",
    "n1=n+1  # gradi di libertà\n",
    "A2=np.vander(x2,increasing=True)[:,:n1]\n",
    "condA2=np.linalg.cond(A2)\n",
    "print(\"condizionamento di A2 \",condA2)\n",
    "#Poichè la matrice A è ben condizionata uso il metodo delle equazioni normali,\n",
    "#la matrice G=A.T@A avrà un indice di condizionamento K(A)^2 contenuto\n",
    "alpha2=eqnorm(A2,y2)\n",
    "xv=np.linspace(np.min(x2),np.max(x2),100)\n",
    "pol2=np.polyval(np.flip(alpha2),xv)\n",
    "plt.plot(xv,pol2,x2,y2,'ro')\n",
    "plt.show()\n",
    "errore=np.linalg.norm(y2-np.polyval(np.flip(alpha2),x2))**2\n",
    "print(\"errore \",errore)"
   ]
  },
  {
   "cell_type": "code",
   "execution_count": 7,
   "id": "7528b129-7838-4964-b055-4d6cfc15ffb2",
   "metadata": {},
   "outputs": [
    {
     "name": "stdout",
     "output_type": "stream",
     "text": [
      "condizionamento di A2  65.67493525624782\n"
     ]
    },
    {
     "data": {
      "image/png": "[encoded data removed]",
      "text/plain": [
       "<Figure size 432x288 with 1 Axes>"
      ]
     },
     "metadata": {
      "needs_background": "light"
     },
     "output_type": "display_data"
    },
    {
     "name": "stdout",
     "output_type": "stream",
     "text": [
      "residuo  0.00023646355940249808\n"
     ]
    }
   ],
   "source": [
    "n=2 #parabola di regressione: grado 2\n",
    "n1=n+1  # gradi di libertà\n",
    "A2=np.vander(x2,increasing=True)[:,:n1]\n",
    "condA2=np.linalg.cond(A2)\n",
    "print(\"condizionamento di A2 \",condA2)\n",
    "#Poichè la matrice è mediamente ben condizionata (Ha un indice di condizionamento pari a  65.67493525624782\n",
    "# (quinfi A.T@A avrà indice di condizionamento pari al quadrato dell'indice di condionamento di A)\n",
    "#è quindi preferibile usare il metodo QR\n",
    "alpha2,residuo=qrLS(A2,y2)\n",
    "xv=np.linspace(np.min(x2),np.max(x2),100)\n",
    "pol2=np.polyval(np.flip(alpha2),xv)\n",
    "plt.plot(xv,pol2,x2,y2,'ro')\n",
    "plt.show()\n",
    "print(\"residuo \",residuo)"
   ]
  },
  {
   "cell_type": "markdown",
   "id": "bea991a1-bdea-4496-98ac-4057a3feed66",
   "metadata": {},
   "source": [
    "## Esercizio 3:\n",
    "Scrivere uno script Python per approssimare la seguente configurazione di punti\n",
    "\n",
    "$$\n",
    "\\begin{array}{l}\n",
    "x = [10 \\, : \\, 0.5/5 \\, : \\, 10.5] ;\\\\\n",
    "y = [11.0320, \\, 11.1263, \\, 11.1339, \\, 11.1339, \\, 11.1993, \\, 11.1844] ;\n",
    "\\end{array}\n",
    "$$\n",
    "\n",
    "mediante un polinomio ai minimi quadrati di grado 4 costruito  con il metodo\n",
    "delle equazioni normali, con il metodo QRLS e con il metodo SVDLS.\n",
    "Perturbare poi il secondo punto nel seguente modo\n",
    "$$x(1) = x(1) + 0.013; \\quad y(1) = y(1) - 0.001;$$\n",
    "e calcolare i polinomi ai minimi quadrati relativi alla\n",
    "configurazione perturbata. Commentare e motivare i risultati ottenuti.\n",
    "\n"
   ]
  },
  {
   "cell_type": "code",
   "execution_count": 8,
   "id": "37176986-7457-422d-b14b-9fa180cd648e",
   "metadata": {},
   "outputs": [],
   "source": [
    "x3=np.arange(10,10.6,0.5/5)\n",
    "y3 =np.array([11.0320,11.1263,11.1339,11.1339,11.1993,11.1844])"
   ]
  },
  {
   "cell_type": "code",
   "execution_count": 18,
   "id": "f8314ab0-9ca1-48b4-8b25-b36db0bd2011",
   "metadata": {},
   "outputs": [
    {
     "name": "stdout",
     "output_type": "stream",
     "text": [
      "condizionamento di A3  356547058213.3379\n",
      "Indice di condizionamento di G  3.119991671513675e+19\n",
      "errore eqn 0.001516764840752788\n",
      "errore qr 0.00017936016258788436\n",
      "rango= 5\n",
      "errore svd 0.0001793600585501004\n"
     ]
    },
    {
     "data": {
      "image/png": "[encoded data removed]",
      "text/plain": [
       "<Figure size 432x288 with 1 Axes>"
      ]
     },
     "metadata": {
      "needs_background": "light"
     },
     "output_type": "display_data"
    }
   ],
   "source": [
    "n=4 # grado del polinomio di regressione: 4\n",
    "n1=n+1  # gradi di libertà\n",
    "A3=np.vander(x3,increasing=True)[:,:n1]\n",
    "condA3=np.linalg.cond(A3)\n",
    "print(\"condizionamento di A3 \",condA3)\n",
    "alpha3_eqn=eqnorm(A3,y3)\n",
    "xv=np.linspace(np.min(x3),np.max(x3),100)\n",
    "pol3_eqn=np.polyval(np.flip(alpha3_eqn),xv)\n",
    "plt.plot(xv,pol3_eqn,x3,y3,'ro')\n",
    "errore_eqn=np.linalg.norm(y3-np.polyval(np.flip(alpha3_eqn),x3))**2\n",
    "print(\"errore eqn\",errore_eqn)\n",
    "alpha3_qr,residuo_qr=qrLS(A3,y3)\n",
    "pol3_qr=np.polyval(np.flip(alpha3_qr),xv)\n",
    "print(\"errore qr\",residuo_qr)\n",
    "plt.plot(xv,pol3_qr,'b')\n",
    "\n",
    "alpha3_svd,residuo_svd=SVDLS(A3,y3)\n",
    "pol3_svd=np.polyval(np.flip(alpha3_svd),xv)\n",
    "print(\"errore svd\",residuo_svd)\n",
    "plt.plot(xv,pol3_svd,'m')\n",
    "plt.legend(['Equazioni Normali','Osservazioni','QRLS','SVDLS'])\n",
    "plt.show()\n",
    "#A causa dell'elevato mal condizionamento di G il metodo delle equazioni normali non approssima i dati in maniera \n",
    "# accurata (errore maggiore rispetto agli altri due metodi, che forniscono la stess accuratezza (grafici sovrapposti))"
   ]
  },
  {
   "cell_type": "code",
   "execution_count": 19,
   "id": "a85577fb-ea94-40f4-9b70-00afe26d01bf",
   "metadata": {},
   "outputs": [],
   "source": [
    "#Ricalcolo il polimonio di grado 4 a partire da dati perturbati come richiesto dall'esercizio\n",
    "x3p=x3.copy()\n",
    "x3p[1]= x3p[1] + 0.013\n",
    "y3p=y3.copy()\n",
    "y3p[1] = y3p[1] - 0.001"
   ]
  },
  {
   "cell_type": "code",
   "execution_count": 22,
   "id": "001cab78-b15b-4693-9a68-bdc58e5568d1",
   "metadata": {},
   "outputs": [
    {
     "name": "stdout",
     "output_type": "stream",
     "text": [
      "condizionamento di A3  380506178142.03284\n",
      "errore qr 0.00020144369472854776\n",
      "rango= 5\n",
      "errore svd 0.00020144362519374602\n",
      "Indice di condizionamento di G  1.812296418201932e+19\n"
     ]
    },
    {
     "ename": "LinAlgError",
     "evalue": "5-th leading minor of the array is not positive definite",
     "output_type": "error",
     "traceback": [
      "\u001b[1;31m---------------------------------------------------------------------------\u001b[0m",
      "\u001b[1;31mLinAlgError\u001b[0m                               Traceback (most recent call last)",
      "\u001b[1;32mC:\\Users\\DAMIAN~1\\AppData\\Local\\Temp/ipykernel_10104/3232445014.py\u001b[0m in \u001b[0;36m<module>\u001b[1;34m\u001b[0m\n\u001b[0;32m     15\u001b[0m \u001b[0mplt\u001b[0m\u001b[1;33m.\u001b[0m\u001b[0mplot\u001b[0m\u001b[1;33m(\u001b[0m\u001b[0mxv\u001b[0m\u001b[1;33m,\u001b[0m\u001b[0mpol3_svd\u001b[0m\u001b[1;33m,\u001b[0m\u001b[1;34m'm'\u001b[0m\u001b[1;33m)\u001b[0m\u001b[1;33m\u001b[0m\u001b[1;33m\u001b[0m\u001b[0m\n\u001b[0;32m     16\u001b[0m \u001b[1;31m#Utilizzo del metodo qr\u001b[0m\u001b[1;33m\u001b[0m\u001b[1;33m\u001b[0m\u001b[0m\n\u001b[1;32m---> 17\u001b[1;33m \u001b[0malpha3_eqn\u001b[0m\u001b[1;33m=\u001b[0m\u001b[0meqnorm\u001b[0m\u001b[1;33m(\u001b[0m\u001b[0mA3\u001b[0m\u001b[1;33m,\u001b[0m\u001b[0my3p\u001b[0m\u001b[1;33m)\u001b[0m\u001b[1;33m\u001b[0m\u001b[1;33m\u001b[0m\u001b[0m\n\u001b[0m\u001b[0;32m     18\u001b[0m \u001b[0mxv\u001b[0m\u001b[1;33m=\u001b[0m\u001b[0mnp\u001b[0m\u001b[1;33m.\u001b[0m\u001b[0mlinspace\u001b[0m\u001b[1;33m(\u001b[0m\u001b[0mnp\u001b[0m\u001b[1;33m.\u001b[0m\u001b[0mmin\u001b[0m\u001b[1;33m(\u001b[0m\u001b[0mx3\u001b[0m\u001b[1;33m)\u001b[0m\u001b[1;33m,\u001b[0m\u001b[0mnp\u001b[0m\u001b[1;33m.\u001b[0m\u001b[0mmax\u001b[0m\u001b[1;33m(\u001b[0m\u001b[0mx3\u001b[0m\u001b[1;33m)\u001b[0m\u001b[1;33m,\u001b[0m\u001b[1;36m100\u001b[0m\u001b[1;33m)\u001b[0m\u001b[1;33m\u001b[0m\u001b[1;33m\u001b[0m\u001b[0m\n\u001b[0;32m     19\u001b[0m \u001b[0mpol3_eqn\u001b[0m\u001b[1;33m=\u001b[0m\u001b[0mnp\u001b[0m\u001b[1;33m.\u001b[0m\u001b[0mpolyval\u001b[0m\u001b[1;33m(\u001b[0m\u001b[0mnp\u001b[0m\u001b[1;33m.\u001b[0m\u001b[0mflip\u001b[0m\u001b[1;33m(\u001b[0m\u001b[0malpha3_eqn\u001b[0m\u001b[1;33m)\u001b[0m\u001b[1;33m,\u001b[0m\u001b[0mxv\u001b[0m\u001b[1;33m)\u001b[0m\u001b[1;33m\u001b[0m\u001b[1;33m\u001b[0m\u001b[0m\n",
      "\u001b[1;32mC:\\Users\\DAMIAN~1\\AppData\\Local\\Temp/ipykernel_10104/504708064.py\u001b[0m in \u001b[0;36meqnorm\u001b[1;34m(A, b)\u001b[0m\n\u001b[0;32m      5\u001b[0m     \u001b[0mprint\u001b[0m\u001b[1;33m(\u001b[0m\u001b[1;34m\"Indice di condizionamento di G \"\u001b[0m\u001b[1;33m,\u001b[0m\u001b[0mnp\u001b[0m\u001b[1;33m.\u001b[0m\u001b[0mlinalg\u001b[0m\u001b[1;33m.\u001b[0m\u001b[0mcond\u001b[0m\u001b[1;33m(\u001b[0m\u001b[0mG\u001b[0m\u001b[1;33m)\u001b[0m\u001b[1;33m)\u001b[0m\u001b[1;33m\u001b[0m\u001b[1;33m\u001b[0m\u001b[0m\n\u001b[0;32m      6\u001b[0m     \u001b[0mf\u001b[0m\u001b[1;33m=\u001b[0m\u001b[0mA\u001b[0m\u001b[1;33m.\u001b[0m\u001b[0mT\u001b[0m\u001b[1;33m@\u001b[0m\u001b[0mb\u001b[0m\u001b[1;33m\u001b[0m\u001b[1;33m\u001b[0m\u001b[0m\n\u001b[1;32m----> 7\u001b[1;33m     \u001b[0mL\u001b[0m\u001b[1;33m=\u001b[0m\u001b[0mspLin\u001b[0m\u001b[1;33m.\u001b[0m\u001b[0mcholesky\u001b[0m\u001b[1;33m(\u001b[0m\u001b[0mG\u001b[0m\u001b[1;33m,\u001b[0m\u001b[0mlower\u001b[0m\u001b[1;33m=\u001b[0m\u001b[1;32mTrue\u001b[0m\u001b[1;33m)\u001b[0m\u001b[1;33m\u001b[0m\u001b[1;33m\u001b[0m\u001b[0m\n\u001b[0m\u001b[0;32m      8\u001b[0m \u001b[1;33m\u001b[0m\u001b[0m\n\u001b[0;32m      9\u001b[0m     \u001b[0my\u001b[0m\u001b[1;33m,\u001b[0m\u001b[0mflag\u001b[0m\u001b[1;33m=\u001b[0m\u001b[0mRisolviSis\u001b[0m\u001b[1;33m.\u001b[0m\u001b[0mLsolve\u001b[0m\u001b[1;33m(\u001b[0m\u001b[0mL\u001b[0m\u001b[1;33m,\u001b[0m\u001b[0mf\u001b[0m\u001b[1;33m)\u001b[0m\u001b[1;33m\u001b[0m\u001b[1;33m\u001b[0m\u001b[0m\n",
      "\u001b[1;32m~\\anaconda3\\lib\\site-packages\\scipy\\linalg\\decomp_cholesky.py\u001b[0m in \u001b[0;36mcholesky\u001b[1;34m(a, lower, overwrite_a, check_finite)\u001b[0m\n\u001b[0;32m     86\u001b[0m \u001b[1;33m\u001b[0m\u001b[0m\n\u001b[0;32m     87\u001b[0m     \"\"\"\n\u001b[1;32m---> 88\u001b[1;33m     c, lower = _cholesky(a, lower=lower, overwrite_a=overwrite_a, clean=True,\n\u001b[0m\u001b[0;32m     89\u001b[0m                          check_finite=check_finite)\n\u001b[0;32m     90\u001b[0m     \u001b[1;32mreturn\u001b[0m \u001b[0mc\u001b[0m\u001b[1;33m\u001b[0m\u001b[1;33m\u001b[0m\u001b[0m\n",
      "\u001b[1;32m~\\anaconda3\\lib\\site-packages\\scipy\\linalg\\decomp_cholesky.py\u001b[0m in \u001b[0;36m_cholesky\u001b[1;34m(a, lower, overwrite_a, clean, check_finite)\u001b[0m\n\u001b[0;32m     35\u001b[0m     \u001b[0mc\u001b[0m\u001b[1;33m,\u001b[0m \u001b[0minfo\u001b[0m \u001b[1;33m=\u001b[0m \u001b[0mpotrf\u001b[0m\u001b[1;33m(\u001b[0m\u001b[0ma1\u001b[0m\u001b[1;33m,\u001b[0m \u001b[0mlower\u001b[0m\u001b[1;33m=\u001b[0m\u001b[0mlower\u001b[0m\u001b[1;33m,\u001b[0m \u001b[0moverwrite_a\u001b[0m\u001b[1;33m=\u001b[0m\u001b[0moverwrite_a\u001b[0m\u001b[1;33m,\u001b[0m \u001b[0mclean\u001b[0m\u001b[1;33m=\u001b[0m\u001b[0mclean\u001b[0m\u001b[1;33m)\u001b[0m\u001b[1;33m\u001b[0m\u001b[1;33m\u001b[0m\u001b[0m\n\u001b[0;32m     36\u001b[0m     \u001b[1;32mif\u001b[0m \u001b[0minfo\u001b[0m \u001b[1;33m>\u001b[0m \u001b[1;36m0\u001b[0m\u001b[1;33m:\u001b[0m\u001b[1;33m\u001b[0m\u001b[1;33m\u001b[0m\u001b[0m\n\u001b[1;32m---> 37\u001b[1;33m         raise LinAlgError(\"%d-th leading minor of the array is not positive \"\n\u001b[0m\u001b[0;32m     38\u001b[0m                           \"definite\" % info)\n\u001b[0;32m     39\u001b[0m     \u001b[1;32mif\u001b[0m \u001b[0minfo\u001b[0m \u001b[1;33m<\u001b[0m \u001b[1;36m0\u001b[0m\u001b[1;33m:\u001b[0m\u001b[1;33m\u001b[0m\u001b[1;33m\u001b[0m\u001b[0m\n",
      "\u001b[1;31mLinAlgError\u001b[0m: 5-th leading minor of the array is not positive definite"
     ]
    },
    {
     "data": {
      "image/png": "[encoded data removed]",
      "text/plain": [
       "<Figure size 432x288 with 1 Axes>"
      ]
     },
     "metadata": {
      "needs_background": "light"
     },
     "output_type": "display_data"
    }
   ],
   "source": [
    "n=4 # grado del polinomio di regressione: 4\n",
    "n1=n+1  # gradi di libertà\n",
    "A3=np.vander(x3p,increasing=True)[:,:n1]\n",
    "condA3=np.linalg.cond(A3)\n",
    "print(\"condizionamento di A3 \",condA3)\n",
    "#Utilizzo del metodo QR\n",
    "alpha3_qr,residuo_qr=qrLS(A3,y3p)\n",
    "pol3_qr=np.polyval(np.flip(alpha3_qr),xv)\n",
    "print(\"errore qr\",residuo_qr)\n",
    "plt.plot(xv,pol3_qr,'b',x3p,y3p,'ro')\n",
    "#Utilizzo del metodo svd\n",
    "alpha3_svd,residuo_svd=SVDLS(A3,y3p)\n",
    "pol3_svd=np.polyval(np.flip(alpha3_svd),xv)\n",
    "print(\"errore svd\",residuo_svd)\n",
    "plt.plot(xv,pol3_svd,'m')\n",
    "#Utilizzo del metodo qr\n",
    "alpha3_eqn=eqnorm(A3,y3p)\n",
    "xv=np.linspace(np.min(x3),np.max(x3),100)\n",
    "pol3_eqn=np.polyval(np.flip(alpha3_eqn),xv)\n",
    "plt.plot(xv,pol3_eqn)\n",
    "errore_eqn=np.linalg.norm(y3-np.polyval(np.flip(alpha3_eqn),x3))**2\n",
    "print(\"errore eqn\",errore_eqn)\n",
    "\n",
    "plt.show()\n",
    "#SI osserva che a causa dell'elevato indice di condizionamento della matrice A3, a cada di una piccola perturbazione sui dati \n",
    "# la matrice G risulta \"numericamente\" non  definita positiva e cholesky dà errore."
   ]
  },
  {
   "cell_type": "code",
   "execution_count": null,
   "id": "43dc09a5-9c6e-4089-83ed-d69c96c89ce5",
   "metadata": {},
   "outputs": [],
   "source": []
  },
  {
   "cell_type": "code",
   "execution_count": null,
   "id": "ab97049d-af54-494c-9a0a-f52a6593411f",
   "metadata": {},
   "outputs": [],
   "source": []
  },
  {
   "cell_type": "code",
   "execution_count": null,
   "id": "5fd49e01-cc9b-4a07-bcd6-2c17e9fcae81",
   "metadata": {},
   "outputs": [],
   "source": []
  }
 ],
 "metadata": {
  "kernelspec": {
   "display_name": "Python 3 (ipykernel)",
   "language": "python",
   "name": "python3"
  },
  "language_info": {
   "codemirror_mode": {
    "name": "ipython",
    "version": 3
   },
   "file_extension": ".py",
   "mimetype": "text/x-python",
   "name": "python",
   "nbconvert_exporter": "python",
   "pygments_lexer": "ipython3",
   "version": "3.9.7"
  }
 },
 "nbformat": 4,
 "nbformat_minor": 5
}

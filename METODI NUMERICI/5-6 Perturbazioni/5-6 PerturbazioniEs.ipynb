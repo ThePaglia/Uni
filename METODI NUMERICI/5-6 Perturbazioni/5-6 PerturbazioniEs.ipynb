{
 "cells": [
  {
   "cell_type": "markdown",
   "id": "d2903ef7-4c36-4b4f-b8dd-01fa2f35dfc5",
   "metadata": {},
   "source": [
    "## Esercitazione 6  del    27 Marzo 2023 \n"
   ]
  },
  {
   "cell_type": "code",
   "execution_count": null,
   "id": "6129858f",
   "metadata": {},
   "outputs": [],
   "source": [
    "import sympy as sym\n",
    "import numpy as np\n",
    "import matplotlib.pyplot as plt\n",
    "import numpy.linalg as npl\n",
    "import scipy.linalg as spl\n",
    "import math"
   ]
  },
  {
   "cell_type": "markdown",
   "id": "8c418e44-c9dc-46d9-a3df-199e47ed1a93",
   "metadata": {},
   "source": [
    "## Esercizio 1 \n",
    "Si consideri l'equazione quadratica $x^2 + 2px - q = 0 $ con $p=10^5$ e $q=10^{-i}$, i=1,..,10.\n",
    "Si stabilisca se il problema relativo al calcolo della soluzione $x= -p+\\sqrt{p^2+q}$ risulta essere ben\n",
    "condizionato per tutti i valori di q assegnati;"
   ]
  },
  {
   "cell_type": "code",
   "execution_count": null,
   "id": "f3d4e574",
   "metadata": {},
   "outputs": [],
   "source": [
    "p = sym.symbols('p')\n",
    "q = sym.symbols('q')\n",
    "p = 10**5\n",
    "for i in range(1, 11):\n",
    "    q = 10**-i\n",
    "    print(-p + sym.sqrt(p**2 + q))"
   ]
  },
  {
   "cell_type": "markdown",
   "id": "1090e57b-2759-433c-9a3b-8cde7950f693",
   "metadata": {},
   "source": [
    "## Esercizio 2\n",
    "Scrivere una funzione numpy che calcola la norma infinito e la norma 1 di un vettore ed una matrice  e testarla su vettori e matrici  a propria scelta. Confrontarne i risultati con quelli ottenuti utilizzando la funzione norm di numpy.linalg\n",
    "\n",
    "(Ricorda la formula della norma infinito e della norma 1 di una matrice\n",
    "$||A||_\\infty= \\max_{j=1,n} \\sum_{i} |a_{ij}| $\n",
    "$\\quad ||A||_1= \\max_{i=1,n} \\sum_{j} |a_{ij}| $)"
   ]
  },
  {
   "cell_type": "code",
   "execution_count": null,
   "id": "3231779b",
   "metadata": {},
   "outputs": [],
   "source": [
    "def myNormaInfinito(A):\n",
    "    return np.max(np.sum(np.abs(A), axis=1))\n",
    "\n",
    "def myNorma1(A):\n",
    "    return np.max(np.sum(np.abs(A), axis=0))\n",
    "\n",
    "testA = np.array([[1, 2, 3], [4, 5, 6], [7, 8, 9]])\n",
    "print(myNorma1(testA))\n",
    "print(myNormaInfinito(testA))\n",
    "print(np.linalg.norm(testA, 1))\n",
    "print(np.linalg.norm(testA, np.inf))"
   ]
  },
  {
   "cell_type": "markdown",
   "id": "b6f0000b-3345-45d7-a610-5d9a09b7c115",
   "metadata": {},
   "source": [
    "## Esercizio 3\n",
    "Implementare una funzione che calcola la norma 2 di una  matrice facendo uso della funzione eigvals del pacchetto numpy.linalg, (np.linalg.eigvals(A)). Testarla sulla matrice A=np.array([[4,-1,6],[2,3,-3],[1,-2,9/2]])   e confrontarne i risultati con quelli ottenuti utilizzando la funzione norm di numpy.linalg"
   ]
  },
  {
   "cell_type": "code",
   "execution_count": null,
   "id": "6910ea62",
   "metadata": {},
   "outputs": [],
   "source": [
    "def myNorma2vet(A):\n",
    "    return np.sqrt(np.max(np.sum(np.abs(A)**2, axis=0)))\n",
    "#myNorma2mat funziona sia per matrici che per vettori\n",
    "def myNorma2mat(A):\n",
    "    return np.sqrt(np.max(np.linalg.eigvals(np.dot(A.T, A))))\n",
    "\n",
    "testVetA = np.array([[1], [2], [3]])\n",
    "\n",
    "print(myNorma2vet(testA)) #non va bene perché è una matrice\n",
    "print(myNorma2mat(testA))\n",
    "print(myNorma2vet(testVetA))\n",
    "print(myNorma2mat(testVetA))"
   ]
  },
  {
   "cell_type": "markdown",
   "id": "2b3aefbb-af07-4543-91a9-e6b766760a6a",
   "metadata": {},
   "source": [
    "## Esercizio 4 \n",
    "Implementare il calcolo dell'indice di condizionamento in norma 2 di una matrice A come rapporto tra la radice dell'autovalore massimo di $A^TA$ e la radice dell'autovalore minimo di $A^TA$."
   ]
  },
  {
   "cell_type": "code",
   "execution_count": null,
   "id": "9cb0881f",
   "metadata": {},
   "outputs": [],
   "source": [
    "def conditionNumber(A):\n",
    "    return np.sqrt(np.max(np.linalg.eigvals(np.dot(A.T, A))))/np.sqrt(np.min(np.linalg.eigvals(np.dot(A.T, A))))\n",
    "\n",
    "print(conditionNumber(testA))\n",
    "print(np.linalg.cond(testA))\n"
   ]
  },
  {
   "cell_type": "markdown",
   "id": "2b2f0afd-9374-4f8e-8a7b-eb783ba28fd4",
   "metadata": {},
   "source": [
    "## Esercizio 5\n",
    "- Costruire la matrice di Vandermonde A, generata dal vettore x=[1.0,2.0,...,6.0] utilizzando la funzione np.vander(x, increasing=True) di numpy. \n",
    "- Calcolarne l'indice di condizionamento in norma 1 senza utilizzare la funzione cond di numpy.linalg e poi confrontarne il valore con quello ottenuto utilizzando la funzione.\n",
    "- Considerare il sistema lineare Ax=b  con matrice dei coefficienti A e termine noto costruito in maniera tale che la soluzione esatta sia il vettore x=[1,1,1,1,1,1] (ogni sua componente è 1)\n",
    "- perturbare il vettore dei termini noti della quantità\n",
    "$$\n",
    "\\delta b = 0.025 \\, \\ast \\,\n",
    "\\left [\n",
    "\\begin{array}{c}\n",
    "1\\\\\n",
    "0\\\\\n",
    "0\\\\\n",
    "0\n",
    "\\end{array}\n",
    "\\right ]\n",
    "$$\n",
    "- Risolvere il sistema con termine noto pertubato $b + \\delta b$ ((usando il metodo solve del modulo linalg di Scipy).\n",
    "- Calcolare l'errore relativo sul termine noto e l'errore relativo sulla soluzione. Cosa si può concludere?\n",
    "\n",
    "N.B. per il calcolo dell'inversa della matrice di A usare la funzione di numpy.linalg.inv(A).\n"
   ]
  },
  {
   "cell_type": "code",
   "execution_count": null,
   "id": "f0aac9d6",
   "metadata": {},
   "outputs": [],
   "source": [
    "vandermonde = np.vander(np.array([1.0, 2.0, 3.0, 4.0, 5.0, 6.0]), increasing=True)\n",
    "print(np.linalg.cond(vandermonde, 1))\n",
    "print(myNorma1(vandermonde)*myNorma1(npl.inv(vandermonde)))\n",
    "\n",
    "b = np.sum(vandermonde, axis=1).reshape(6, 1)\n",
    "print(b)\n",
    "bp = b.copy()\n",
    "bp[0] = bp[0] + 0.025\n",
    "erroreDati = np.linalg.norm(bp - b, np.inf)/np.linalg.norm(b, np.inf)\n",
    "print(erroreDati)\n",
    "\n",
    "solEsatta = np.ones((6,1))\n",
    "solPerturbata = npl.solve(vandermonde, bp)\n",
    "print(solEsatta)\n",
    "print(solPerturbata)\n",
    "\n",
    "erroreSol = np.linalg.norm(solPerturbata - solEsatta, np.inf)/np.linalg.norm(solEsatta, np.inf)\n",
    "print(erroreSol)"
   ]
  },
  {
   "cell_type": "markdown",
   "id": "1fad1579-04c4-4aae-a840-2ab3120aaf2e",
   "metadata": {},
   "source": [
    "## Esercizio 6\n",
    "Assegnato il sistema lineare $Ax = b$, con\n",
    "$$\n",
    "A =\n",
    "\\left [\n",
    "\\begin{array}{ccc}\n",
    "6 & 63 & 662.2\\\\\n",
    "63 & 662.2 & 6967.8\\\\\n",
    "662.2 & 6967.8 & 73393.5664\n",
    "\\end{array}\n",
    "\\right ], \\qquad\n",
    "b =\n",
    "\\left [\n",
    "\\begin{array}{c}\n",
    "1.1\\\\\n",
    "2.33\\\\\n",
    "1.7\n",
    "\\end{array}\n",
    "\\right ]\n",
    "$$\n",
    "- trovare il vettore soluzione $x$ (usando il metodo solve del modulo linalg di Scipy);\n",
    "- perturbare la matrice dei coefficienti della quantità\n",
    "$$\n",
    "\\delta A =\n",
    "0.01 \\, \\ast \\,\n",
    "\\left [ \\begin{array}{ccc}\n",
    "1 & 0 & 0\\\\\n",
    "0 & 0 & 0\\\\\n",
    "0 & 0 & 0\n",
    "\\end{array}\n",
    "\\right ]\n",
    "$$\n",
    "quindi calcolare l'errore relativo sulla soluzione e confrontarlo con la\n",
    "perturbazione relativa sui dati di ingresso. Cosa si osserva?"
   ]
  },
  {
   "cell_type": "code",
   "execution_count": null,
   "id": "0c0b6c4b",
   "metadata": {},
   "outputs": [],
   "source": [
    "A = np.array([[6, 63, 662.2],[63, 662.2, 6967.8],[662.2, 6967.8, 73393.5664]])\n",
    "b = np.array([[1.1], [2.33], [1.7]])\n",
    "X = spl.solve(A,b)\n",
    "dA = 0.01*np.array([[1,0,0],[0,0,0],[0,0,0]])\n",
    "X_perturbed = spl.solve(A+dA,b)\n",
    "errRel = abs(X-X_perturbed)/abs(X)\n",
    "\n",
    "print(\"Solution without perturbation: \\n\", X)\n",
    "print(\"\\nSolution with perturbation: \\n\", X_perturbed)\n",
    "print(\"\\nRelative error: \\n\", errRel)"
   ]
  },
  {
   "cell_type": "markdown",
   "id": "3fd35cbb-3eaa-4674-91ff-cf7148cac8b8",
   "metadata": {},
   "source": [
    "## Esercizio 7\n",
    " \n",
    "Assegnato il sistema lineare $Ax = b$, con $A$ matrice di Hilbert di ordine\n",
    "$4$ e $b = [1, 1, 1, 1]^T$,\n",
    " - trovare il vettore soluzione $x$ (usando il metodo solve del modulo linalg di Scipy);\n",
    " -  perturbare il vettore dei termini noti della quantità\n",
    "$$\n",
    "\\delta b = 0.01 \\, \\ast \\,\n",
    "\\left [\n",
    "\\begin{array}{c}\n",
    "1\\\\\n",
    "-1\\\\\n",
    "1\\\\\n",
    "-1\n",
    "\\end{array}\n",
    "\\right ]\n",
    "$$\n",
    "quindi calcolare la soluzione del sistema $A x_p= b_p$ con termine noto $b_p=b+ \\delta b$.\n",
    "Calcolare l'errore relativo sulla soluzione e confrontarlo con la perturbazione relativa sui dati di ingresso. Cosa si osserva?\n",
    "\n",
    "Nota: per la costruzione della matrice di Hilbert usare la funzione hilbert(n) del modulo scipy.linalg\n",
    "(scipy.linalg.hilbert(n))  dove bisogna specificare l'ordine n della matrice."
   ]
  },
  {
   "cell_type": "code",
   "execution_count": null,
   "id": "4748843d",
   "metadata": {},
   "outputs": [],
   "source": [
    "from scipy.linalg import hilbert\n",
    "A = hilbert(4)\n",
    "b = np.array([1,1,1,1])\n",
    "X = spl.solve(A,b)\n",
    "dB = 0.01*np.array([[1],[-1],[1],[-1]])\n",
    "X_perturbed = spl.solve(A,b+dB)\n",
    "errRel = abs(X-X_perturbed)/abs(X)\n",
    "\n",
    "print(\"Solution without perturbation: \\n\", X)\n",
    "print(\"\\nSolution with perturbation: \\n\", X_perturbed)\n",
    "print(\"\\nRelative error: \\n\", errRel)"
   ]
  },
  {
   "cell_type": "markdown",
   "id": "b7609125-16d1-4652-8945-8128d7ba1ca4",
   "metadata": {},
   "source": [
    "## Esercizio 8\n",
    "Si consideri lo sviluppo in serie dell'esponenziale $e^x=1+x+\\frac{1}{2!}x^2+\\frac{1}{3!}x^3+\\cdots =\\sum_{k=0}^\\infty \\frac{x^k}{k!} $. Si calcoli un'approssimazione dell'esponenziale troncando ad N=100 termini la serie, per valori di x che variano da -10 a 10 incluso. Si calcoli  per ogni valore di x l'errore relativo del valore approssimato rispetto al valore esatto, ottenuto mediante la funzione exp della libreria numpy. Cosa si osserva? Pensare ad un algoritmo più stabile ricordando che $e^{-x}=\\frac{1}{e^{|x|}}$. "
   ]
  },
  {
   "cell_type": "code",
   "execution_count": null,
   "id": "2ad3562d",
   "metadata": {},
   "outputs": [],
   "source": [
    "def esp_taylor_stabile(x,N):\n",
    "    \n",
    "    if x<0:\n",
    "        x=abs(x)\n",
    "        r=x\n",
    "        fattoriale=1\n",
    "        esponential=1+r\n",
    "        for i in range(2,N+1):\n",
    "            r=r*x\n",
    "            fattoriale=fattoriale*i\n",
    "            esponential=esponential+r/fattoriale\n",
    "    \n",
    "        return 1/esponential\n",
    "    \n",
    "    else: \n",
    "\n",
    "        r=x\n",
    "        fattoriale=1\n",
    "        esponential=1+r\n",
    "        for i in range(2,N+1):\n",
    "            r=r*x\n",
    "            fattoriale=fattoriale*i\n",
    "            esponential=esponential+r/fattoriale\n",
    "        return esponential"
   ]
  },
  {
   "cell_type": "code",
   "execution_count": null,
   "id": "88bb04c8",
   "metadata": {},
   "outputs": [],
   "source": [
    "a=-10               \n",
    "b=10                \n",
    "ncampio=21\n",
    "N=100\n",
    "\n",
    "xc= np.linspace(a,b,ncampio)\n",
    "exp_es=np.exp(xc); #esponenziale esatto\n",
    "\n",
    "\n",
    "exp_app=np.zeros((ncampio,)); \n",
    "nt=np.zeros((ncampio,));     #indice n della serie\n",
    "\n",
    "for i in range(ncampio):\n",
    "    exp_app[i]= esp_taylor_stabile(xc[i],N)\n",
    "\n",
    "\n",
    "err_rel=np.abs(exp_app-exp_es)/np.abs(exp_es)\n",
    "\n",
    "print(err_rel)\n",
    "plt.plot(xc,exp_app,'b-',xc,exp_es,'r--')\n",
    "plt.title('Approssimazione esponenziale con serie di Taylor troncata')\n",
    "plt.legend(['exp_app_1','exp_esatta'])\n",
    "plt.show()\n",
    "\n",
    "\n",
    "\n",
    "plt.plot(xc,err_rel)\n",
    "plt.title(\"Errore relativo scala cartesiana\")\n",
    "plt.show()\n",
    "\n",
    "\n",
    "plt.plot(xc,err_rel)\n",
    "plt.yscale(\"log\")\n",
    "plt.title(\"Errore relativo scala semi-logaritimica\")\n",
    "plt.show()\n",
    "\n",
    "#Si nota che l'errore relativo risulta più alto nel caso di esponente negativo, perchè lo sviluppo in serie\n",
    "#presenta termini a segno alterno, e sappiamo che in situazioni particolari la somma tra numeri a segno alterno\n",
    "#può provocare la cancellazione di cifre significative e produrre quindi un algoritmo instabile\n",
    "'''\n",
    "--------------------------------------------------------------------------\n",
    "come migliorare andamento errore relativo\n",
    "--------------------------------------------------------------------------\n",
    "'''\n",
    "#Pe realizzare un aglrotimo stabile si considera il fatto che exp(-x)= 1/exp(x).\n",
    "#Si calcola quindi lo sviluppo in serie troncato ad n termini di exp(abs(x)) e poi se ne considera il reciproco.\n",
    "\n",
    "for i in range(ncampio) :\n",
    "       exp_app[i]= esp_taylor_stabile(xc[i],N)\n",
    "   \n",
    "\n",
    "err_rel_2=np.abs(exp_app-exp_es)/np.abs(exp_es)\n",
    "print(err_rel_2)\n",
    "plt.plot(xc,err_rel_2)\n",
    "plt.yscale(\"log\")\n",
    "plt.title('Errore relativo Algoritmo Migliorato- scala semilogaritmica')\n",
    "plt.show()"
   ]
  },
  {
   "cell_type": "markdown",
   "id": "0205da67-2ed7-4f56-beb7-33b5e38b8216",
   "metadata": {},
   "source": [
    "## Esercizio 9\n",
    "Calcolare l'approssimazione della derivata prima di f(x) = sin(x) in x = 1\n",
    "mediante l'algoritmo del rapporto incrementale (f(x + h) - f(x))/h per valori decrescenti\n",
    "di h, confrontandolo con il valore fornito dalla funzione di libreria per f'(x)\n",
    "mediante calcolo dell'errore relativo."
   ]
  },
  {
   "cell_type": "code",
   "execution_count": null,
   "id": "de58d366",
   "metadata": {},
   "outputs": [],
   "source": [
    "k=np.arange(0,-21,-1)\n",
    "h=10.0**k\n",
    "\n",
    "des=math.cos(1);            #derivata esatta\n",
    "\n",
    "\n",
    "x=1\n",
    "rai=(np.sin(x+h)-np.sin(x))/h #rapporto incrementale\n",
    "\n",
    "err_rel=np.abs(rai-des)/np.abs(des); # errore relativo\n",
    "\n",
    "\n",
    "plt.plot(h,err_rel,'b-',h,h,'r:')\n",
    "plt.xscale(\"log\")\n",
    "plt.yscale(\"log\")\n",
    "plt.legend(['Errore relativo', 'Incremento'])"
   ]
  }
 ],
 "metadata": {
  "kernelspec": {
   "display_name": "Python 3 (ipykernel)",
   "language": "python",
   "name": "python3"
  },
  "language_info": {
   "codemirror_mode": {
    "name": "ipython",
    "version": 3
   },
   "file_extension": ".py",
   "mimetype": "text/x-python",
   "name": "python",
   "nbconvert_exporter": "python",
   "pygments_lexer": "ipython3",
   "version": "3.11.3"
  }
 },
 "nbformat": 4,
 "nbformat_minor": 5
}

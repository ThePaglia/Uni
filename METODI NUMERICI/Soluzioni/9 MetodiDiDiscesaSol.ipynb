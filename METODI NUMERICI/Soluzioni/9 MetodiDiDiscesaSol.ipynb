{
 "cells": [
  {
   "cell_type": "markdown",
   "id": "563c6e9f-4262-4dff-889f-d8bbeba42a00",
   "metadata": {
    "tags": []
   },
   "source": [
    "# Esercitazione 9\n",
    "\n",
    "**27 Aprile 2023**\n",
    "\n",
    "*Gradiente e gradiente coniugato*"
   ]
  },
  {
   "cell_type": "markdown",
   "id": "af3ab26b-9626-4782-a629-1851ad883687",
   "metadata": {
    "tags": []
   },
   "source": [
    "## Esercizio 1\n",
    "Implementare una funzione **steepestdescent(A,b,x0,itmax,tol)** che implementa il metodo di discesa più ripida del gradiente per risolvere il sistema lineare Ax=b, con A matrice simmetrica e definita positiva. La funzione prende in input:\n",
    "- A: matrice dei coefficienti\n",
    "- b: termine noto\n",
    "- x0: vettore iniziale della stessa dimensione di b\n",
    "- itmax: iterazioni massime oltre le quali il metodo si ferma\n",
    "- toll: tolleranza per il criterio di arresto\n",
    "\n",
    "e restituisce in output:\n",
    "- il vettore soluzione\n",
    "- un vettore di tante componenti quanto il numero di iterazioni effettuate, contenente $ \\frac{||r^{(k)}||_2} {||b||_2}$ iterazione per iterazione\n",
    "\n",
    "- un array contenente le soluzioni ad ogni iterazione\n",
    "- il numero di iterazioni impiegate per calcolare la soluzione con la tolleranza richiesta\n",
    "\n",
    "Usare come criterio di arresto $ \\frac{||r^{(k)}||_2} {||b||_2} < toll$"
   ]
  },
  {
   "cell_type": "code",
   "execution_count": 7,
   "id": "8a429613-8cf9-49d4-8e02-25a13ecb148d",
   "metadata": {
    "tags": []
   },
   "outputs": [],
   "source": [
    "import numpy as np\n",
    "import matplotlib.pyplot as plt"
   ]
  },
  {
   "cell_type": "code",
   "execution_count": 8,
   "id": "4e26d886-ba39-4368-ae1f-8ac5ba92cbfa",
   "metadata": {
    "tags": []
   },
   "outputs": [],
   "source": [
    "def steepestdescent(A,b,x0,itmax,tol):\n",
    "    n,m=A.shape\n",
    "    if n!=m:\n",
    "        print(\"Matrice non quadrata\")\n",
    "        return [],[]\n",
    "    \n",
    "    \n",
    "   # inizializzare le variabili necessarie\n",
    "    x = x0\n",
    "    r = A.dot(x)-b\n",
    "    p = -r\n",
    "    it = 0\n",
    "    nb=np.linalg.norm(b)\n",
    "    errore=np.linalg.norm(r)/nb\n",
    "    vec_sol=[]\n",
    "    vec_sol.append(x)\n",
    "    vet_r=[]\n",
    "    vet_r.append(errore)\n",
    "     \n",
    "# utilizzare il metodo del gradiente per trovare la soluzione\n",
    "    while errore>= tol and it< itmax:\n",
    "        it=it+1\n",
    "        Ap=A.dot(p)\n",
    "        rTr=np.dot(r.T, r)\n",
    "        alpha = rTr / np.dot(p.T, Ap)\n",
    "                \n",
    "        x = x + alpha*p\n",
    "        vec_sol.append(x)\n",
    "        r=r+alpha*Ap\n",
    "        errore=np.linalg.norm(r)/nb\n",
    "        vet_r.append(errore)\n",
    "        p = -r \n",
    "        \n",
    "    \n",
    "    return x,vet_r,vec_sol,it"
   ]
  },
  {
   "cell_type": "markdown",
   "id": "725a79a7-8e11-4151-a8bd-fce7bc91f4ab",
   "metadata": {
    "tags": []
   },
   "source": [
    "## Esercizio 2\n",
    "Implementare una funzione **conjugate_gradient(A,b,x0,itmax,tol)** che implementa il metodo del gradiente coniugato per risolvere il sistema lineare Ax=b, con A matrice simmetrica e definita positiva. La funzione prende in input:\n",
    "- A: matrice dei coefficienti\n",
    "- b: termine noto\n",
    "- x0: vettore iniziale della stessa dimensione di b\n",
    "- itmax: iterazioni massime oltre le quali il metodo si ferma\n",
    "- toll: tolleranza per il criterio di arresto\n",
    "\n",
    "e restituisce in output:\n",
    "- il vettore soluzione\n",
    "- un vettore di tante componenti quanto il numero di iterazioni effettuate, contenente $ \\frac{||r^{(k)}||_2} {||b||_2}$ iterazione per iterazione\n",
    "- un array contenente le soluzioni ad ogni iterazione\n",
    "- il numero di iterazioni impiegate per calcolare la soluzione con la tolleranza richiesta\n",
    "\n",
    "Usare come criterio di arresto $ \\frac{||r^{(k)}||_2} {||b||_2} < toll$"
   ]
  },
  {
   "cell_type": "code",
   "execution_count": 9,
   "id": "e0d6e07e-114c-4530-a75a-0ca25061e84c",
   "metadata": {
    "tags": []
   },
   "outputs": [],
   "source": [
    "def conjugate_gradient(A,b,x0,itmax,tol):\n",
    "    n,m=A.shape\n",
    "    if n!=m:\n",
    "        print(\"Matrice non quadrata\")\n",
    "        return [],[]\n",
    "    \n",
    "    \n",
    "   # inizializzare le variabili necessarie\n",
    "    x = x0\n",
    "    r = A.dot(x)-b\n",
    "    p = -r\n",
    "    it = 0\n",
    "    nb=np.linalg.norm(b)\n",
    "    errore=np.linalg.norm(r)/nb\n",
    "    vec_sol=[]\n",
    "    vec_sol.append(x0)\n",
    "    vet_r=[]\n",
    "    vet_r.append(errore)\n",
    "# utilizzare il metodo del gradiente coniugato per trovare la soluzione\n",
    "    while errore >= tol and it< itmax:\n",
    "        it=it+1\n",
    "        Ap=A.dot(p)\n",
    "        rtr=np.dot(r.T, r)\n",
    "        alpha = rtr / np.dot(p.T, Ap)\n",
    "        x = x + alpha *p\n",
    "        vec_sol.append(x)\n",
    "        r=r+alpha*Ap\n",
    "        gamma=np.dot(r.T,r)/rtr\n",
    "        errore=np.linalg.norm(r)/nb\n",
    "        vet_r.append(errore)\n",
    "        p = -r+gamma*p\n",
    "   \n",
    "    \n",
    "    return x,vet_r,vec_sol,it"
   ]
  },
  {
   "cell_type": "markdown",
   "id": "1fa4e799-9317-4477-9ea3-d6bc7bef2ee1",
   "metadata": {
    "tags": []
   },
   "source": [
    "## Esercizio 3\n",
    "Scrivere una funzione creaPoisson(n) che preso in input l'ordine della matrice quadrata di Poisson la costruzione secondo la seguente formula:\n",
    "$$A =\n",
    "\\left [\n",
    "\\begin{array}{ccccccccccc}\n",
    "4 & -1 & 0 & -1 &0 &0 & 0& 0& \\cdots &   0 & 0\\\\\n",
    "-1 & 4 & -1 & 0  &-1 &0 & 0& 0& \\cdots &   0 & 0\\\\\n",
    "0 & -1 & 4 & -1  &0 &-1 & 0& 0& \\cdots &   0 & 0 \\\\\n",
    "-1 & 0 & -1 & 4  &-1 &0  & -1 & 0& \\cdots &   0 & 0\\\\\n",
    "0 & -1 & 0 & -1  & 4 &-1 & 0 & -1& \\cdots &   0 & 0\\\\\n",
    "0 & 0 & -1 & 0  & -1 &4 & -1 & 0&  -1 & 0 & 0 \\\\\n",
    "0 & 0 & 0 & \\ddots  & 0 &\\ddots & \\ddots & \\ddots& \\ddots & \\ddots & 0\\\\\n",
    "0 & 0 & 0 & 0  & -1 &0  & -1 & 4& -1 &   0& -1\\\\\n",
    "\\end{array}\n",
    " \\right ], \\qquad\n",
    "$$\n",
    "\n",
    "- Risolvere il sistema lineare Ax=b con matrice dei coefficienti A di Poisson con ordine che va da 10 a 100 con step 2,  e termine noto b scelto in maniera tale che il sistema abbia soluzione il vettore x con tutte le componenti  uguali ad 1, utilizzando  il metodo iterativo del gradiente e del gradiente coniugato  "
   ]
  },
  {
   "cell_type": "code",
   "execution_count": 10,
   "id": "1278ca65-2f9f-4857-8ae3-032548b56203",
   "metadata": {
    "tags": []
   },
   "outputs": [],
   "source": [
    "def creaPoisson(n):\n",
    "    #costruire una matrice di Poisson\n",
    "    d=np.ones((n))*4\n",
    "    e=-np.ones((n-1,))\n",
    "    f=-np.ones((n-3,))\n",
    "    A=np.diag(d)+np.diag(e,-1)+np.diag(e,1)+np.diag(f,-3)+np.diag(f,3)\n",
    "    return A"
   ]
  },
  {
   "cell_type": "code",
   "execution_count": 11,
   "id": "bbd6501f-7166-4d2b-be61-2697bf5f32db",
   "metadata": {
    "tags": []
   },
   "outputs": [
    {
     "name": "stdout",
     "output_type": "stream",
     "text": [
      "Condizionameto di A 81429.27286818028\n"
     ]
    }
   ],
   "source": [
    "n=1000\n",
    "A=creaPoisson(n)\n",
    "print(\"Condizionameto di A\", np.linalg.cond(A))\n",
    "b=np.sum(A,axis=1).reshape(n,1)\n",
    "toll=1e-8\n",
    "it_max=10000\n",
    "n=A.shape[0]\n",
    "x0=np.zeros_like(b)\n",
    " "
   ]
  },
  {
   "cell_type": "code",
   "execution_count": 12,
   "id": "b5258c43-1048-462b-b061-437dd8b5da92",
   "metadata": {
    "tags": []
   },
   "outputs": [
    {
     "name": "stdout",
     "output_type": "stream",
     "text": [
      "Iterazioni Gradiente  10000\n"
     ]
    }
   ],
   "source": [
    "x_gr,vet_r_gr,vec_sol_gr,itG=steepestdescent(A,b,x0,it_max,toll)\n",
    "print(\"Iterazioni Gradiente \",itG)"
   ]
  },
  {
   "cell_type": "code",
   "execution_count": 13,
   "id": "2056bc5b-649f-47ab-9526-68f1bfd496ce",
   "metadata": {
    "tags": []
   },
   "outputs": [
    {
     "name": "stdout",
     "output_type": "stream",
     "text": [
      "Iterazioni Gradiente Coniugato  241\n"
     ]
    }
   ],
   "source": [
    "x_cg,vet_r_cg,vec_sol_cg,itCG=conjugate_gradient(A,b,x0,it_max,toll)\n",
    "print(\"Iterazioni Gradiente Coniugato \",itCG)"
   ]
  },
  {
   "cell_type": "code",
   "execution_count": 14,
   "id": "3ed5d03e-5807-4d0b-9b0f-fce176ae4bbf",
   "metadata": {
    "tags": []
   },
   "outputs": [
    {
     "name": "stdout",
     "output_type": "stream",
     "text": [
      "81429.27286818028\n"
     ]
    },
    {
     "data": {
      "image/png": "[encoded data removed]",
      "text/plain": [
       "<Figure size 432x288 with 1 Axes>"
      ]
     },
     "metadata": {
      "needs_background": "light"
     },
     "output_type": "display_data"
    }
   ],
   "source": [
    "plt.semilogy(np.arange(itG+1),vet_r_gr,np.arange(itCG+1),vet_r_cg)\n",
    "print(np.linalg.cond(A))"
   ]
  },
  {
   "cell_type": "markdown",
   "id": "39a8e883-20ae-44d7-960b-7e0727f94298",
   "metadata": {},
   "source": [
    "## Esercizio 4\n",
    "Consideriamo il sistema lineare Ax=b  dov A è  la matrice di Hilbert di dimensione 5, costruita usando la funzione hilbert(n) di scipy.linalg (A=scipy.linalg.hilbert(5)) in modo tale che la soluzione esatta sia $x = (1, 1, . . . , 1)^T$ .\n",
    "Risolvere il sistema lineare usando sia il metodi del gradiente che il metodo del gradiente coniugato e confrontarne gli errori ad ogni iterazione."
   ]
  },
  {
   "cell_type": "code",
   "execution_count": 15,
   "id": "4e041a00-94fa-43d7-8724-5d78f3c6eafa",
   "metadata": {},
   "outputs": [],
   "source": [
    "from scipy.linalg import hilbert"
   ]
  },
  {
   "cell_type": "code",
   "execution_count": 16,
   "id": "8f7723f1-08a8-4e56-a97e-e80018e6831c",
   "metadata": {
    "tags": []
   },
   "outputs": [
    {
     "name": "stdout",
     "output_type": "stream",
     "text": [
      "(5, 1)\n"
     ]
    }
   ],
   "source": [
    "A2=hilbert(5)\n",
    "n2=A2.shape[0]\n",
    "b2=np.sum(A2,axis=1).reshape(n2,1)\n",
    "print(b2.shape)\n",
    "toll=1e-10\n",
    "itmax=2000\n",
    "x2_0=np.zeros_like(b2)"
   ]
  },
  {
   "cell_type": "code",
   "execution_count": 17,
   "id": "29202543-af90-4115-9d9b-c1c80970ac1b",
   "metadata": {
    "tags": []
   },
   "outputs": [],
   "source": [
    "x_gr_2,vet_r_gr_2,vec_sol_gr2,itG_2=steepestdescent(A2,b2,x2_0,itmax,toll)\n",
    "x_CG_2,vet_r_CG_2,vec_sol_CG2,itCG_2=conjugate_gradient(A2,b2,x2_0,itmax,toll)"
   ]
  },
  {
   "cell_type": "code",
   "execution_count": 18,
   "id": "3b96ef19-e4f1-4eac-a9ad-b804fe97b7ee",
   "metadata": {
    "tags": []
   },
   "outputs": [
    {
     "data": {
      "text/plain": [
       "[<matplotlib.lines.Line2D at 0x12315525b20>,\n",
       " <matplotlib.lines.Line2D at 0x12315525b80>]"
      ]
     },
     "execution_count": 18,
     "metadata": {},
     "output_type": "execute_result"
    },
    {
     "data": {
      "image/png": "[encoded data removed]",
      "text/plain": [
       "<Figure size 432x288 with 1 Axes>"
      ]
     },
     "metadata": {
      "needs_background": "light"
     },
     "output_type": "display_data"
    }
   ],
   "source": [
    "plt.semilogy(np.arange(itG_2+1),vet_r_gr_2,np.arange(itCG_2+1),vet_r_CG_2)"
   ]
  },
  {
   "cell_type": "markdown",
   "id": "a93dd8c4-27ea-41ea-b359-fe06d4f9d585",
   "metadata": {},
   "source": [
    "## Esercizio 5\n",
    "Importare il file creaG ed utilizzare le funzioni sottospecificate per creare, scelto $n$,  una matrice D di ordine $m=(n-2)^2$\n",
    "\n",
    "*import creaG*\n",
    "\n",
    "*G = creaG.numgrid(n)*\n",
    "\n",
    "*D = creaG.delsq(G).todense().getA()*\n",
    "\n",
    "Risolvere il sistema lineare Dx=b, con matrice G di ordine m=16 ed ordine m=400, (scegliere n in maniera opportuna), usando i metodi del gradiente e del gradiente coniugato. Confrontare gli errori su uno stesso grafico e giustifcare i risultati alla luce del risultato teorico della maggiorazione dell'errore per entrambi i metodi"
   ]
  },
  {
   "cell_type": "code",
   "execution_count": 30,
   "id": "43f5d534-2a75-4e4f-9e91-eda97cfb779b",
   "metadata": {
    "tags": []
   },
   "outputs": [
    {
     "data": {
      "image/png": "[encoded data removed]",
      "text/plain": [
       "<Figure size 432x288 with 1 Axes>"
      ]
     },
     "metadata": {
      "needs_background": "light"
     },
     "output_type": "display_data"
    }
   ],
   "source": [
    "import creaG\n",
    "n=22  #n=6-->m=16;  n=22-->m=400\n",
    "G = creaG.numgrid(n)\n",
    "D = creaG.delsq(G).todense().getA()\n",
    "plt.spy(D)\n",
    "condD=np.linalg.cond(D)\n",
    "nD=D.shape[0]\n",
    "bD=np.sum(D,axis=1).reshape(nD,1)\n",
    "x0_D=np.zeros_like(bD)\n",
    "x_gr_D,vet_r_gr_D,vec_sol_gr_D,itG_D=steepestdescent(D,bD,x0_D,itmax,toll)\n",
    "x_CG_D,vet_r_CG_D,vec_sol_cg_D,itCG_D=conjugate_gradient(D,bD,x0_D,itmax,toll)\n",
    "\n"
   ]
  },
  {
   "cell_type": "code",
   "execution_count": 31,
   "id": "adc89716-efe3-435d-8f94-6e862c01ef3f",
   "metadata": {
    "tags": []
   },
   "outputs": [],
   "source": [
    "x_gr_D,vet_r_gr_D,vec_sol_gr_D,itG_D=steepestdescent(D,bD,x0_D,itmax,toll)\n",
    "x_CG_D,vet_r_CG_D,vec_sol_gr_CG,itCG_D=conjugate_gradient(D,bD,x0_D,itmax,toll)"
   ]
  },
  {
   "cell_type": "code",
   "execution_count": 32,
   "id": "ab26eef6-c20c-45ad-b625-fb14f0a4edd1",
   "metadata": {
    "tags": []
   },
   "outputs": [
    {
     "name": "stdout",
     "output_type": "stream",
     "text": [
      "0.9888308262251286\n"
     ]
    }
   ],
   "source": [
    "print((np.linalg.cond(D)-1)/(np.linalg.cond(D)+1))"
   ]
  },
  {
   "cell_type": "code",
   "execution_count": 33,
   "id": "839ca122-80b4-45b7-b6a5-b0fd19db6ea4",
   "metadata": {
    "tags": []
   },
   "outputs": [
    {
     "name": "stdout",
     "output_type": "stream",
     "text": [
      "0.8605695850647833\n"
     ]
    }
   ],
   "source": [
    "print((np.sqrt(np.linalg.cond(D))-1)/(np.sqrt(np.linalg.cond(D))+1))"
   ]
  },
  {
   "cell_type": "code",
   "execution_count": 34,
   "id": "9cf4b6db-7ac1-4483-8803-2446d58023fb",
   "metadata": {
    "tags": []
   },
   "outputs": [
    {
     "data": {
      "text/plain": [
       "[<matplotlib.lines.Line2D at 0x1b9035cb880>,\n",
       " <matplotlib.lines.Line2D at 0x1b9035cb8e0>]"
      ]
     },
     "execution_count": 34,
     "metadata": {},
     "output_type": "execute_result"
    },
    {
     "data": {
      "image/png": "[encoded data removed]",
      "text/plain": [
       "<Figure size 432x288 with 1 Axes>"
      ]
     },
     "metadata": {
      "needs_background": "light"
     },
     "output_type": "display_data"
    }
   ],
   "source": [
    "plt.semilogy(np.arange(itG_D+1),vet_r_gr_D,np.arange(itCG_D+1),vet_r_CG_D)"
   ]
  },
  {
   "cell_type": "code",
   "execution_count": null,
   "id": "12773dbb-c937-4b92-afd5-ff60f1e826f2",
   "metadata": {},
   "outputs": [],
   "source": []
  },
  {
   "cell_type": "code",
   "execution_count": null,
   "id": "f478877a-5cb9-4765-bc6e-922fa12e91fb",
   "metadata": {},
   "outputs": [],
   "source": []
  },
  {
   "cell_type": "code",
   "execution_count": null,
   "id": "ffb21e16-b3b2-4aad-b332-2afee11e8a58",
   "metadata": {},
   "outputs": [],
   "source": []
  },
  {
   "cell_type": "code",
   "execution_count": null,
   "id": "41b2d491-840f-4909-8865-43d1056b95c3",
   "metadata": {},
   "outputs": [],
   "source": []
  }
 ],
 "metadata": {
  "kernelspec": {
   "display_name": "Python 3 (ipykernel)",
   "language": "python",
   "name": "python3"
  },
  "language_info": {
   "codemirror_mode": {
    "name": "ipython",
    "version": 3
   },
   "file_extension": ".py",
   "mimetype": "text/x-python",
   "name": "python",
   "nbconvert_exporter": "python",
   "pygments_lexer": "ipython3",
   "version": "3.9.12"
  }
 },
 "nbformat": 4,
 "nbformat_minor": 5
}

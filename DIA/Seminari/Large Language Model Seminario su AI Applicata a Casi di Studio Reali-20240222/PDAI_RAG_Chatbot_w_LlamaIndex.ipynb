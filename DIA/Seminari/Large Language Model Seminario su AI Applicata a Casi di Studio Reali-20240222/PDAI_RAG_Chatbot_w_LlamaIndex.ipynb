{
  "cells": [
    {
      "cell_type": "markdown",
      "metadata": {
        "id": "ngGc_Nhuc-uB"
      },
      "source": [
        "# Chatbots and Retrieval Systems"
      ]
    },
    {
      "cell_type": "markdown",
      "metadata": {
        "id": "NnqV55fOc-uD"
      },
      "source": [
        "Course \"**Programmazione di Applicazioni Data Intensive**\" - 22th of February, 2024\n",
        "\n",
        "This notebook was created by:\n",
        "- PhD. student Lorenzo Molfetta\n",
        "- Prof. Gianluca Moro\n",
        "- PhD. student Giacomo Frisoni"
      ]
    },
    {
      "cell_type": "markdown",
      "metadata": {
        "id": "uAaHFk-Uc-uE"
      },
      "source": [
        "__CONTACTS__:\n",
        "\n",
        "If you have any doubt, contact me at: lorenzo.molfetta@unibo.it"
      ]
    },
    {
      "cell_type": "markdown",
      "metadata": {
        "id": "14NkaLbGc-uF"
      },
      "source": [
        "__INDEX__:\n",
        "\n",
        "In this notebook we will delve into the performance of generative LLMs applied to highly technical  . We will cover ...\n",
        "\n",
        "The notebook is divided into the following sections:\n",
        "1. [Download data](#utils)\n",
        "2. [RAG - Talk-to-Text - Retrieval with Llama-index](#talk_2)\n",
        "3. [Implementing a Retrieval-enhanced Chatbot](#chat)"
      ]
    },
    {
      "cell_type": "markdown",
      "metadata": {
        "id": "nTc4cXILc-uG"
      },
      "source": [
        "__HOW TO RUN THIS NOTEBOOK__\n",
        "\n",
        "The following code will explore different topics using several approaches and technologies. To give you the possibility to run all of this on your (__FREE !!!__) Colab account, we have prepared package versions and model configurations that can run without major memory issues on the standard Tesla T4 GPU (16 GB) and default RAM (12 GB).\n",
        "\n",
        "\n",
        "<br><br>\n",
        "Before starting and in the case the runtime crashes, follow these basic instructions:\n",
        "- change runtime type and enable the GPU usage;\n",
        "- every time you start a new session, there's no need to install packages you've already downloaded. Just follow the workflow of each section and import the functions you need;\n",
        "- download data from GitHub if needed."
      ]
    },
    {
      "cell_type": "markdown",
      "metadata": {
        "id": "kByBf7mlc-uO"
      },
      "source": [
        "## 1. Download data\n",
        "<a id='utils'></a>"
      ]
    },
    {
      "cell_type": "markdown",
      "metadata": {
        "id": "9n0CEIu0c-uP"
      },
      "source": [
        "You can find useful data for the following experiments in this repository: https://github.com/LorMolf/Seminar-Chatbot.git"
      ]
    },
    {
      "cell_type": "code",
      "execution_count": 1,
      "metadata": {
        "colab": {
          "base_uri": "https://localhost:8080/"
        },
        "id": "iY5yy0u9c-uP",
        "outputId": "54f763c1-40af-4240-c934-b97a46e8a6ed"
      },
      "outputs": [
        {
          "name": "stderr",
          "output_type": "stream",
          "text": [
            "Cloning into 'Seminar-Chatbot'...\n"
          ]
        }
      ],
      "source": [
        "! git clone https://github.com/LorMolf/Seminar-Chatbot.git"
      ]
    },
    {
      "cell_type": "code",
      "execution_count": 2,
      "metadata": {
        "id": "bBd60VmwVYNt"
      },
      "outputs": [
        {
          "name": "stderr",
          "output_type": "stream",
          "text": [
            "The system cannot find the path specified.\n"
          ]
        }
      ],
      "source": [
        "! unzip Seminar-Chatbot/friends_scripts.zip -d . 1>/dev/null"
      ]
    },
    {
      "cell_type": "markdown",
      "metadata": {
        "id": "6hNkF9Nfc-us"
      },
      "source": [
        "\n",
        "## 2. RAG - Talk-to-Text - Retrieval with Llama-index\n",
        "<a id='talk_2'></a>\n",
        "\n",
        "`LlamaIndex` is a powerful tool that acts as a bridge between your custom data and LLMs. It makes your data more accessible and usable, paving the way for creating powerful custom LLM applications and workflows.\n",
        "\n",
        "The main features of LlamaIndex can be summarised as:\n",
        "- __Data Ingestion__: LlamaIndex helps ingest data, which means getting the data from its source into the system. It offers data connectors for a variety of data sources and formats, such as APIs, PDFs, documents, and SQL databases;\n",
        "- __Data Structuring__: it helps in structuring the data, which means organising information simply for the model to access. This is done by parsing the documents into nodes, which are chunks of text. The ‘data indexes’ are the organised librarians, arranging your data neatly to be easily accessible.\n",
        "- __Data Retrieval__: A retrieval support helps models find and fetch the right pieces of data when needed. An index is constructed so LlamaIndex can quickly retrieve the relevant data when we query the documents. The index can further be stored in different ways.\n",
        "- __Integration__: a simplified integration makes melding the data with various application frameworks easier. The “engines” are the translators (LLMs), enabling interaction with your data using natural language and ultimately creating applications and workflows.\n",
        "\n",
        "In a few words, LlamaIndex is streamlined for the workflow described above. It provides a query interface that accepts any input prompt over your data and returns a knowledge-augmented response."
      ]
    },
    {
      "cell_type": "markdown",
      "metadata": {
        "id": "Vhm4XOA4c-ut"
      },
      "source": [
        "The core engine of the retrieval-based query system is the `ServiceContext` object. It is the main actor in the architecture which is able to coordinate all the differnt agents in the retrieve-then-predict chain.\n",
        "Specifically, a ServiceContext encapsulate:\n",
        "- `model`: the language model for inference;\n",
        "- `embeddig-model`: an encoder supporting the retrieval of external information by generating vector representations of text used for a similarity search;\n",
        "- `text-splitter`: an handler for indexing the external corpus based on a given cardinality for the chunks data is divided into;\n",
        "- `prompt-helper`: a prompting system in charge of parsing the input query with the proper prompting instructions. It provides utility for “repacking” text chunks (retrieved from index) to maximally make use of the available context window (and thereby reducing the number of LLM calls needed), or truncating them so that they fit in a single LLM call."
      ]
    },
    {
      "cell_type": "markdown",
      "metadata": {
        "id": "S2r4u5yBc-ut"
      },
      "source": [
        "### Install libraries\n",
        "To make LlamaIndex work on Colab, we need to modify some environment variables and install specific libraries' version. If you've ran the previous experiments, we suggest you to delete the current runtime and restart a new one."
      ]
    },
    {
      "cell_type": "code",
      "execution_count": 3,
      "metadata": {
        "id": "_TTCSo5Jc-uu"
      },
      "outputs": [
        {
          "name": "stderr",
          "output_type": "stream",
          "text": [
            "'export' is not recognized as an internal or external command,\n",
            "operable program or batch file.\n",
            "'export' is not recognized as an internal or external command,\n",
            "operable program or batch file.\n",
            "'CMAKE_ARGS' is not recognized as an internal or external command,\n",
            "operable program or batch file.\n"
          ]
        }
      ],
      "source": [
        "! export CMAKE_ARGS=\"-DLLAMA_OPENBLAS=on\"\n",
        "! export FORCE_CMAKE=\"1\"\n",
        "\n",
        "! CMAKE_ARGS=\"-DLLAMA_CUBLAS=on\" FORCE_CMAKE=1 pip install --upgrade --force-reinstall llama-cpp-python numpy==1.25"
      ]
    },
    {
      "cell_type": "markdown",
      "metadata": {
        "id": "DFOppwo0c-uu"
      },
      "source": [
        "Before proceeding with the next downloads, we need to make these liberary version changes effective. So we need to __RESTART THE RUNTIME__ (do NOT delete it though)."
      ]
    },
    {
      "cell_type": "code",
      "execution_count": 4,
      "metadata": {
        "id": "zLMDlDQmc-uu"
      },
      "outputs": [
        {
          "name": "stdout",
          "output_type": "stream",
          "text": [
            "^C\n"
          ]
        }
      ],
      "source": [
        "# AFTER RUNTIME RESTART\n",
        "!pip install llama-index==0.9.10\n",
        "!pip install transformers datasets sentence-transformers\n",
        "!pip install langchain\n",
        "!pip install nest_asyncio"
      ]
    },
    {
      "cell_type": "markdown",
      "metadata": {
        "id": "WcufrGJHc-uv"
      },
      "source": [
        "__TL;DR__: Run the following cell every time you restart the runtime to enable asynchronous thread pooling.\n",
        "\n",
        "<br>\n",
        "\n",
        "_Asynchronous threads_ :\n",
        "When the LlamaIndex library is used to launch a batched inference or a retrieval-based generation of the dataset, multiple threads are scheduled asynchronously to enhance performances and optimize latency and throughput. However, Colab does not support this behaviour natively. We thus need to enable asynchronous pooling to make this library work properly. Using the `nest_asyncio` package, we can change the environment setting for this purpose.\n",
        "\n"
      ]
    },
    {
      "cell_type": "code",
      "execution_count": null,
      "metadata": {
        "id": "WKEYXsizc-uv"
      },
      "outputs": [],
      "source": [
        "from contextlib import contextmanager,redirect_stderr,redirect_stdout\n",
        "from os import devnull\n",
        "import nest_asyncio\n",
        "\n",
        "# ENABLE ASYNCH\n",
        "nest_asyncio.apply()\n",
        "\n",
        "# SUPPRESS WARNINGS\n",
        "@contextmanager\n",
        "def suppress_stdout_stderr():\n",
        "    \"\"\"A context manager that redirects stdout and stderr to devnull\"\"\"\n",
        "    with open(devnull, 'w') as fnull:\n",
        "        with redirect_stderr(fnull) as err, redirect_stdout(fnull) as out:\n",
        "            yield (err, out)\n",
        "\n",
        "@contextmanager\n",
        "def suppress_stderr():\n",
        "    \"\"\"A context manager that redirects stderr to devnull\"\"\"\n",
        "    with open(devnull, 'w') as fnull:\n",
        "        with redirect_stderr(fnull) as err:\n",
        "            yield err"
      ]
    },
    {
      "cell_type": "markdown",
      "metadata": {
        "id": "YOF8pq97c-uv"
      },
      "source": [
        "Now we can import everything we need."
      ]
    },
    {
      "cell_type": "code",
      "execution_count": null,
      "metadata": {
        "id": "ke_45Kxdc-uw"
      },
      "outputs": [],
      "source": [
        "# General purpose libraries\n",
        "import logging\n",
        "import sys\n",
        "import pandas as pd\n",
        "import json\n",
        "import torch\n",
        "from tqdm import tqdm\n",
        "import os\n",
        "\n",
        "from IPython.display import Markdown, display\n",
        "\n",
        "# >> Llama-Index\n",
        "from llama_index import (\n",
        "    SimpleDirectoryReader,\n",
        "    VectorStoreIndex,\n",
        "    ServiceContext,\n",
        "    LLMPredictor,\n",
        "    Response,\n",
        "    PromptHelper,\n",
        "    download_loader\n",
        ")\n",
        "\n",
        "from llama_index.llms import LlamaCPP\n",
        "from llama_index.llms.llama_utils import messages_to_prompt, completion_to_prompt\n",
        "from llama_index.node_parser import SentenceSplitter\n",
        "from langchain.embeddings.huggingface import HuggingFaceEmbeddings\n",
        "from llama_index.embeddings.langchain import LangchainEmbedding\n",
        "from llama_index.prompts.base import PromptTemplate\n",
        "from llama_index.response.notebook_utils import display_source_node\n",
        "\n",
        "\n",
        "device = \"cuda\" if torch.cuda.device_count() > 0 else \"cpu\"\n",
        "\n",
        "logging.basicConfig(stream=sys.stdout, level=logging.INFO)\n",
        "logging.getLogger().addHandler(logging.StreamHandler(stream=sys.stdout))"
      ]
    },
    {
      "cell_type": "markdown",
      "metadata": {
        "id": "DWsdRUwFc-uw"
      },
      "source": [
        "For the next experiments we are going to use the `Zephyr-7B-Beta` and `Cerbero-7B` models. If you either haven't donwloaded them before or deleted the runtime, install and save them as follows."
      ]
    },
    {
      "cell_type": "code",
      "execution_count": null,
      "metadata": {
        "id": "CYrUnQ_8c-uw"
      },
      "outputs": [],
      "source": [
        "# -------------------------------------------------------------------------------------------------------------------------------------\n",
        "## >> Zephyr-7b\n",
        "zephyr_model_name = \"TheBloke/zephyr-7B-beta-GGUF\"\n",
        "zephyr_model_file = \"zephyr-7b-beta.Q4_K_M.gguf\"\n",
        "! huggingface-cli download TheBloke/zephyr-7B-beta-GGUF zephyr-7b-beta.Q4_K_M.gguf --local-dir . --local-dir-use-symlinks False\n",
        "\n",
        "\n",
        "# -------------------------------------------------------------------------------------------------------------------------------------\n",
        "## >> Cerbero-7b\n",
        "cerbero_model_name = \"galatolo/cerbero-7b-gguf\"\n",
        "cerbero_model_file = \"ggml-model-Q4_K.gguf\"\n",
        "! huggingface-cli download galatolo/cerbero-7b-gguf ggml-model-Q4_K.gguf --local-dir . --local-dir-use-symlinks False"
      ]
    },
    {
      "cell_type": "markdown",
      "metadata": {
        "id": "Fj5fwe0Ec-ux"
      },
      "source": [
        "### Retrieval over external data sources\n",
        "\n",
        "Before diving into the developing of an inference engine for question answering supported by a first phase of fetching of useful information from an external corpus, we want to test the ability of the retrieval and compare the performances of different encoder models."
      ]
    },
    {
      "cell_type": "markdown",
      "metadata": {
        "id": "Wh3mC_tVc-ux"
      },
      "source": [
        "__INDEXING A PDF - \"Codice degli Appalti 2023\"__:\n",
        "\n",
        "This section will show how to deal with knowledge from the Italian Procurement Code (\"Codice degli Appalti\"). The document legislates on the public tenders by setting a complex ruling system acting on the funding access and the contract requirements during the entire procurement procedure. This kind of text has a highly technical syntax and thus results in a challenging benchmark for the model to prove its abilities. We provide you with the latest version of the Procurement Code modified in June 2023. In so doing, we are sure the pre-trained models have no previous knowledge on this matter and desperately need external information on which to base their predictions.\n",
        "\n",
        "Here's a small dataset of question-answer examples on this particular version of the Procurement Code."
      ]
    },
    {
      "cell_type": "code",
      "execution_count": null,
      "metadata": {
        "id": "aTD9p4qvc-ux"
      },
      "outputs": [],
      "source": [
        "ca_dataset = pd.read_csv('Seminar-Chatbot/CdA-mininterno-quiz_dataset.csv')"
      ]
    },
    {
      "cell_type": "markdown",
      "metadata": {
        "id": "Kj4vuMITc-uy"
      },
      "source": [
        "LlamaIndex provides a set of high-level tools for parsing any data format. You can ingest information from text docuents, directories or more structured formats such as PDF. Without installing any external libraries, we can use the internal features of LlamaIndex to load and split the \"Codice degi Appalti\" PDF file into nodes, which are the atomic object used to index and traverse information."
      ]
    },
    {
      "cell_type": "code",
      "execution_count": null,
      "metadata": {
        "colab": {
          "base_uri": "https://localhost:8080/"
        },
        "id": "koCHHgapc-uy",
        "outputId": "e6b592ba-1f47-4699-839e-6c0ba3d947b2"
      },
      "outputs": [
        {
          "name": "stderr",
          "output_type": "stream",
          "text": [
            "[nltk_data] Downloading package punkt to /tmp/llama_index...\n",
            "[nltk_data]   Unzipping tokenizers/punkt.zip.\n"
          ]
        }
      ],
      "source": [
        "# Use a PDF Reader to parse the document\n",
        "PDFReader = download_loader(\"PDFReader\")\n",
        "loader = PDFReader()\n",
        "documents = loader.load_data(file='Seminar-Chatbot/ca.pdf')\n",
        "\n",
        "# Create nodes\n",
        "node_parser = SentenceSplitter(chunk_size=512)\n",
        "nodes = node_parser.get_nodes_from_documents(documents)"
      ]
    },
    {
      "cell_type": "markdown",
      "metadata": {
        "id": "qpt8Y5QYc-uz"
      },
      "source": [
        "__LLM Engine__\n",
        "\n",
        "Depending on the nature of the pretrained architecture's format, we can instantiate the query model using differnt classes provided by the LlamaIndex library. While you can import models directly from HuggingFace with the `HuggingFaceLLM` class, using `LlamaCPP` we can exploit the efficiency of GGUF format and C-Transformers.\n",
        "\n",
        "<br>\n",
        "For this part, we are going to use the Cerbero model."
      ]
    },
    {
      "cell_type": "code",
      "execution_count": null,
      "metadata": {
        "id": "XzW4ZeXVc-uz"
      },
      "outputs": [],
      "source": [
        "context_window = 8192\n",
        "max_output_tokens = 1024"
      ]
    },
    {
      "cell_type": "code",
      "execution_count": null,
      "metadata": {
        "id": "oG5nxBK2XQel"
      },
      "outputs": [],
      "source": [
        "# ---------------------------------------------------------------------------\n",
        "## >> PROMPT HELPER\n",
        "\n",
        "prompt_helper_config = {\n",
        "    'context_window' : context_window,\n",
        "    'num_output' : max_output_tokens,\n",
        "    'chunk_overlap_ratio' : 0 # The percentage token amount that each chunk should overlap.\n",
        "}\n",
        "prompt_helper = PromptHelper(**prompt_helper_config)\n",
        "\n",
        "# ---------------------------------------------------------------------------\n",
        "## >> INFERENCE MODEL\n",
        "\n",
        "custom_model_config = {\n",
        "    'verbose' : True,\n",
        "    'temperature' : 0.2,\n",
        "    'max_new_tokens' : max_output_tokens,\n",
        "    'model_kwargs' : {\n",
        "        \"n_gpu_layers\": 50, # map layer to GPU\n",
        "        \"device\" : device,\n",
        "        \"stop\" : ['[|Umano|]', '[|AI|]','[end of text]'],\n",
        "    }\n",
        "}\n",
        "\n",
        "llm = LlamaCPP(\n",
        "    model_path=cerbero_model_file,\n",
        "    context_window=context_window,\n",
        "    **custom_model_config\n",
        ")\n",
        "\n",
        "# Incapsulate the model into the LLMPredictor object\n",
        "# before creating the Service Context\n",
        "llm_predictor = LLMPredictor(llm=llm)"
      ]
    },
    {
      "cell_type": "markdown",
      "metadata": {
        "id": "CPB90zwzc-uz"
      },
      "source": [
        "#### __HOW TO RETRIEVE__:"
      ]
    },
    {
      "cell_type": "markdown",
      "metadata": {
        "id": "koHcORiEc-u0"
      },
      "source": [
        "Retrieval using similarity search is an expensive operation for an extensive search space as the number of comparisons needed to estimate the top-$k$ resources grows factorially with the number of source documents. Many approximate-search engines available on the market (e.g. FAISS) rely on the definition of a precomputed structure of documents that is easier to traverse for the similarity engine.\n",
        "\n",
        "In LlamaIndex, the indexing of document nodes is charged to the VectorIndex, which configures the data node structure and yields efficient information retrieval. The retriever model is instantiated directly from this Index and can be further configured to retrieve more than one document based on the similarity with the input query."
      ]
    },
    {
      "cell_type": "code",
      "execution_count": null,
      "metadata": {
        "id": "VmM6Vq2Lc-u0"
      },
      "outputs": [],
      "source": [
        "# Create Service Context Manager\n",
        "service_context = ServiceContext.from_defaults(llm_predictor=llm_predictor,\n",
        "                                               embed_model='local',\n",
        "                                               prompt_helper=prompt_helper)\n",
        "\n",
        "# Initilize structure of information nodes\n",
        "vector_index = VectorStoreIndex(nodes, service_context=service_context)\n",
        "\n",
        "# Define retriever that is able to select 3 different document chunks useful for the answer generation\n",
        "retriever = vector_index.as_retriever(similarity_top_k=3)"
      ]
    },
    {
      "cell_type": "code",
      "execution_count": null,
      "metadata": {
        "colab": {
          "base_uri": "https://localhost:8080/"
        },
        "id": "chMXJDyzc-u1",
        "outputId": "5e15b16d-3902-421c-d03e-b5c18b0fb838"
      },
      "outputs": [
        {
          "name": "stderr",
          "output_type": "stream",
          "text": [
            "100%|██████████| 451/451 [00:39<00:00, 11.39it/s]\n"
          ]
        }
      ],
      "source": [
        "nodes = []\n",
        "for query in tqdm(ca_dataset['Domanda']):\n",
        "  retr_nodes = retriever.retrieve(query)\n",
        "  nodes.append(retr_nodes)"
      ]
    },
    {
      "cell_type": "code",
      "execution_count": null,
      "metadata": {
        "colab": {
          "base_uri": "https://localhost:8080/"
        },
        "id": "TSdILX_5c-u2",
        "outputId": "0c7a9373-2e8c-412d-c3c0-5e3d65a3a67b"
      },
      "outputs": [
        {
          "name": "stderr",
          "output_type": "stream",
          "text": [
            "100%|██████████| 451/451 [00:00<00:00, 71199.60it/s]\n"
          ]
        }
      ],
      "source": [
        "n_nodes_x_q = len(nodes[0])\n",
        "\n",
        "retr_nodes = {\n",
        "    'query' : [],\n",
        "    'page_labels' : []\n",
        "}\n",
        "for i in range(n_nodes_x_q): retr_nodes[f'source_{i+1}'] = []\n",
        "\n",
        "for i, query in enumerate(tqdm(ca_dataset['Domanda'])):\n",
        "  retr_nodes['query'].append(query)\n",
        "  p_labels = []\n",
        "  for node_i in range(n_nodes_x_q):\n",
        "    nn = nodes[i][node_i]\n",
        "    retr_nodes[f'source_{node_i+1}'].append(nn.text)\n",
        "    p_labels.append(nn.metadata['page_label'])\n",
        "  retr_nodes['page_labels'].append(p_labels)"
      ]
    },
    {
      "cell_type": "code",
      "execution_count": null,
      "metadata": {
        "colab": {
          "base_uri": "https://localhost:8080/",
          "height": 207
        },
        "id": "Oa1ktT7Ic-u2",
        "outputId": "c1616a60-1ed6-4b77-f469-09e25e340905"
      },
      "outputs": [
        {
          "data": {
            "application/vnd.google.colaboratory.intrinsic+json": {
              "summary": "{\n  \"name\": \"retrieval_dataset\",\n  \"rows\": 451,\n  \"fields\": [\n    {\n      \"column\": \"query\",\n      \"properties\": {\n        \"dtype\": \"string\",\n        \"num_unique_values\": 423,\n        \"samples\": [\n          \"Il mercato elettronico:\",\n          \"Nel calcolo del valore stimato di un appalto di lavori, servizi e/o forniture deve tenersi conto:\",\n          \"In caso di proroga dei termini di presentazione delle offerte \\u00e8 consentito agli operatori economici che hanno gi\\u00e0 presentato l'offerta di ritirarla ed eventualmente sostituirla ai sensi dell'art. 92, co 3, del D.Lgs.36/2023?\"\n        ],\n        \"semantic_type\": \"\",\n        \"description\": \"\"\n      }\n    },\n    {\n      \"column\": \"page_labels\",\n      \"properties\": {\n        \"dtype\": \"object\",\n        \"semantic_type\": \"\",\n        \"description\": \"\"\n      }\n    },\n    {\n      \"column\": \"source_1\",\n      \"properties\": {\n        \"dtype\": \"string\",\n        \"num_unique_values\": 272,\n        \"samples\": [\n          \"Il RUP, previa verifica della regolarit\\u00e0 contributiva dell\\u2019ese-\\ncutore e dei subappaltatori, invia il certificato di pagamento alla \\nstazione appaltante, la quale procede al pagamento ai sensi del \\ncomma 2. L\\u2019esecu tore emette fattura al momento dell\\u2019adozione \\ndel certificato di pagamento. L\\u2019ingiustificato ritardo nell\\u2019emissione \\ndei certificati di pagamento pu\\u00f2 costituire motivo di valutazione \\ndel RUP ai fini della corresponsione dell\\u2019incentivo ai sensi dell\\u2019ar-\\nticolo 45. L'esecutore pu\\u00f2 emettere fattura al momento dell'ado-\\nzione dello stato di avanzamento dei lavori. L'emissione della fat-\\ntura da parte dell'esecutore non \\u00e8 subordinata al rilascio del certi-\\nficato di pagamento da parte del RUP.  \\n6. Nei contratti di servizi e forniture con caratteristiche di perio-\\ndicit\\u00e0 o continuit\\u00e0, che prevedono la corresponsione di acconti sul \\ncorrispettivo, si applicano le disposizioni di cui ai commi 3, 4 e 5.  \\n7. All\\u2019esito positivo del collaudo negli appalti di lavori e della veri-\\nfica di  conformit\\u00e0 negli appalti di servizi e forniture, e comunque \\nentro un termine non superiore a sette giorni dall\\u2019emissione dei re-\\nlativi certificati, il RUP rilascia il certificato di pagamento relativo \\nalla rata di saldo; il pagamento \\u00e8 effettuato nel termi ne di trenta \\ngiorni decorrenti dall\\u2019esito positivo del collaudo o della verifica di \\nconformit\\u00e0, salvo che sia espressamente concordato nel contratto \\nun diverso termine, comunque non superiore a sessanta giorni e \\npurch\\u00e9 ci\\u00f2 sia oggettivamente giustificato d alla natura particolare \\ndel contratto o da talune sue caratteristiche.\",\n          \"ALLEGATO II.1  \\nElenchi degli operatori  economici e indagini di mercato per gli affidamenti di contratti di importo inferiore alle soglie di rilevanza europea   \\nArticolo 3. - Elenchi di operatori economici.  \\n216  \\nin ragione di ciascuna categoria o fascia di importo. L\\u2019operatore \\neconomico pu\\u00f2 r ichiedere l\\u2019iscrizione limitata a una o pi\\u00f9 fasce di \\nimporto, ovvero a singole categorie. La dichiarazione del possesso \\ndei requisiti pu\\u00f2 essere facilitata tramite la predisposizione di for-\\nmulari standard da parte dell\\u2019amministrazione allegati all\\u2019avviso \\npubblico. L\\u2019eventuale possesso dell\\u2019attestato di qualificazione SOA \\nper la categoria dei lavori oggetto dell\\u2019affidamento \\u00e8 sufficiente per \\nla dimostrazione del possesso dei requisiti di capacit\\u00e0 economico -\\nfinanziaria e tecnico -professionale richiesti.  \\n2. L\\u2019iscrizione agli elenchi degli operatori economici interessati \\nprovvisti dei requisiti richiesti \\u00e8 consentita senza limitazioni tem-\\nporali. L\\u2019operatore economico attesta il possesso dei requisiti me-\\ndiante dichiarazione sostitutiva in conformit\\u00e0 alle previsio ni del te-\\nsto unico delle disposizioni legislative e regolamentari in materia di \\ndocumentazione amministrativa, di cui al decreto del Presidente \\ndella Repubblica 28 dicembre 2000, n. 445. L\\u2019operatore economico \\n\\u00e8 tenuto a informare tempestivamente la stazion e appaltante delle \\neventuali variazioni intervenute nel possesso dei requisiti secondo \\nle modalit\\u00e0 fissate dalla stessa. La stazione appaltante procede alla \\nvalutazione delle istanze di iscrizione nel termine di trenta giorni \\ndalla ricezione dell\\u2019istanza, fatta salva la previsione di un maggiore \\ntermine, non superiore a novanta giorni, in funzione della numero-\\nsit\\u00e0 delle istanze pervenute.\",\n          \"4. Le imprese pubbliche e i soggetti titolari di diritti speciali o \\nesclusivi hanno facolt\\u00e0 di adottare propri atti, con i quali  possono \\nin via preventiva:  \\na) istituire e gestire sistemi di qualificazione degli operatori economici;  \\nb) prevedere una disciplina di adattamento delle funzioni del RUP alla \\npropria organizzazione;  \\nc) specificare la nozione di variante in corso d\\u2019opera in funzione  delle esi-\\ngenze proprie del mercato di appartenenza e delle caratteristiche di \\nciascun settore, nel rispetto dei principi e delle norme di diritto \\ndell\\u2019Unione europea.  \\n5. Le stazioni appaltanti o gli enti concedenti possono determi-\\nnare le dimensioni dell\\u2019o ggetto dell\\u2019appalto e dei lotti in cui even-\\ntualmente suddividerlo, senza obbligo di motivazione aggravata e \\ntenendo conto delle esigenze del settore speciale in cui operano. \\nNel caso di suddivisione in lotti, le stazioni appaltanti o gli enti con-\\ncedenti in dicano nel bando di gara, nell\\u2019invito a confermare inte-\\nresse o, quando il mezzo di indizione di gara \\u00e8 un avviso sull\\u2019esi-\\nstenza di un sistema di qualificazione, nell\\u2019invito a presentare of-\\nferte o a negoziare, se le offerte possono essere presentate per \\nuno , per pi\\u00f9 o per l\\u2019insieme dei lotti.  \\nArticolo 142.  - Joint venture e affidamenti a imprese col-\\nlegate.  \\n1.\"\n        ],\n        \"semantic_type\": \"\",\n        \"description\": \"\"\n      }\n    },\n    {\n      \"column\": \"source_2\",\n      \"properties\": {\n        \"dtype\": \"string\",\n        \"num_unique_values\": 295,\n        \"samples\": [\n          \"4. Ai fini del calcolo del prezzo di cui ai commi 1, lettere b) e c), 2 e \\n3, quando il contratto prevede una clausola di indicizzazione, il v a-\\nlore di riferimento \\u00e8 il prezzo aggiornato.  \\n5. Sono sempre consentite, a prescindere dal loro valore, le modi-\\nfiche non sostanziali.  \\n6. La modifica \\u00e8 considerata sostanziale quando altera considere-\\nvolmente la struttura del contratto o dell\\u2019accordo quadro e l\\u2019ope-\\nrazione economica sottesa. In ogni caso, fatti salvi i commi 1 e 3, \\nuna modifica \\u00e8 considerata sostanziale se si verificano una o pi\\u00f9 \\ndelle seguenti condizioni:  \\na) la modifica introduce condizioni che, se fossero state contenute nel la \\nprocedura d'appalto iniziale, avrebbero consentito di ammettere can-\\ndidati diversi da quelli inizialmente selezionati o di accettare un'offerta \\ndiversa da quella inizialmente accettata, oppure avrebbero attirato ul-\\nteriori partecipanti alla procedura di a ggiudicazione;  \\nb) la modifica cambia l'equilibrio economico del contratto o dell'accordo \\nquadro a favore dell'aggiudicatario in modo non previsto nel contratto \\niniziale;  \\nc) la modifica estende notevolmente l'ambito di applicazione del con-\\ntratto;  \\nd) un nuovo contrae nte sostituisce quello cui la stazione appaltante \\naveva inizialmente aggiudicato l'appalto in casi diversi da quelli previ-\\nsti dal comma 1, lettera d).  \\n7.\",\n          \"8. Se l\\u2019avviso non funge da mezzo di indizione di una gara, \\ndata/date prevista/e per la pubblicazione di un bando di gara o di \\nbandi di gara per l\\u2019appalto/gli appalti  di cui all\\u2019avviso di pre -infor-\\nmazione.  \\n9. Data d\\u2019invio dell\\u2019avviso.  \\n10.  Altr e eventuali informazioni.  \\n11.  Indicare se l\\u2019appalto rientra o meno nell\\u2019ambito di applicazione \\ndell\\u2019AAP.  \\nSEZIONE B.2 \\u2013 Informazioni ulteriori che devono essere fornite \\nse l'avviso funge da mezzo di indizione di gara (articolo 81, comma \\n2) \\n1. Indicazione del fatto che gli operatori economici interessati de-\\nvono far conoscere alla amministrazione appaltante il loro inte-\\nresse per l'appalto o gli appalti.  \\n2. Tipo di procedura di aggiudicazione (procedure ristrette, che im-\\nplichino o meno un sistema dinamico di acquisizione, o procedure \\ncompetitive con negoziazione).  \\n3. Eventualmente, indicare se:  \\na) si tratta di un accordo quadro;  \\nb) si tratta di un sistema dinamico di acquisizione.  \\n4. Se conosciuti, tempi di consegna o di fornitura di prodotti, lavori \\no servizi e durata del contratto.  \\n5. Se note, le condizioni di partecipazione, compreso quanto segue:  \\na) l'indicazione, eventuale, se si tratta di un appalto pubblico riservato a la-\\nboratori protetti o la cui esecuzione \\u00e8 riservata all'ambito di programmi \\ndi lavo ro protetti;  \\nb) l'indicazione eventuale se, in forza di disposizioni legislative, regola-\\nmentari o amministrative, la prestazione del servizio sia riservata a una \\nparticolare professione;  \\nc) una breve descrizione dei criteri di selezione.  \\n6.\",\n          \"6. I criteri di aggiudicazione sono considerati connessi all'oggetto \\ndell'appalto quando riguardino lavori, forniture o servizi da fornire \\nsotto qualsiasi aspetto e in qualsiasi fase del loro ciclo di vita, com-\\npresi i fattori coinvolti nel processo specifico di produzione, forni-\\ntura o scambio di questi lavori, forniture o servizi o in un processo \\nspecifico per una fase successiva del loro ciclo di vita, anche se \\nquesti fattori non sono parte del loro contenuto sostanziale.  \\n7. I documenti di gara oppure, in cas o di dialogo competitivo, il \\nbando o il documento descrittivo indicano i singoli criteri di valu-\\ntazione e la relativa ponderazione, anche prevedendo una forcella \\nin cui lo scarto tra il minimo e il massimo deve essere adeguato. Per \\nciascun criterio di valu tazione prescelto possono essere previsti \\nsub -criteri e sub -pesi o sub -punteggi. Ai fini della tutela della li-\\nbera concorrenza e della promozione del pluralismo degli opera-\\ntori nel mercato, le procedure relative agli affidamenti di cui al Li-\\nbro II, parte I V, possono prevedere, nel bando di gara, nell\\u2019avviso o \\nnell\\u2019invito, criteri premiali atti a favorire la partecipazione delle \\npiccole e medie imprese nella valutazione dell\\u2019offerta e a promuo-\\nvere, per le prestazioni dipendenti dal principio di prossimit\\u00e0 pe r \\nla loro efficiente gestione, l\\u2019affidamento ad operatori economici \\ncon sede operativa nell\\u2019ambito territoriale di riferimento. Le di-\\nsposizioni di cui al terzo periodo si applicano compatibilmente con \\nil diritto dell\\u2019Unione europea e con i princ\\u00ecpi di pari t\\u00e0 di tratta-\\nmento, non discriminazione, trasparenza e proporzionalit\\u00e0.\"\n        ],\n        \"semantic_type\": \"\",\n        \"description\": \"\"\n      }\n    },\n    {\n      \"column\": \"source_3\",\n      \"properties\": {\n        \"dtype\": \"string\",\n        \"num_unique_values\": 303,\n        \"samples\": [\n          \"400, con decreto del Presidente del Consiglio dei \\nministri, su proposta del Ministro delle infrastrutture e dei tra-\\nsporti, che lo sostituisce integralmente anche in qualit\\u00e0 di allegato \\nal codice.  \\nNote all\\u2019articolo 105   \\nPer il testo dell\\u2019articolo 17, comma 3, della legge 23 agosto 1988, n. 400, si veda nelle note \\nall\\u2019articolo 13.  \\nArticolo 106.  - Garanzie per la partecipazione alla proce-\\ndura.  \\n1. L\\u2019offerta \\u00e8 corredata da una garanzia provvisoria pari al 2 per \\ncento del valore complessivo della procedura indicato nel bando o \\nnell\\u2019invito. Per rendere l\\u2019importo della garanzia proporzionato e \\nadeguato alla natura delle prestazioni oggetto dell\\u2019affidamento e \\nal grado di rischio a esso connesso, la stazione appaltante pu\\u00f2 mo-\\ntivatamente ridurre l'importo sino all\\u20191 per cento oppure incre-\\nmentarlo sino al 4 per cento. Nel caso di procedure di gara realiz-\\nzate in forma aggregata da centrali di committenza, l\\u2019importo della \\ngaranzia \\u00e8 fissato nel bando o nell\\u2019invito nella misura m assima del \\n2 per cento del valore complessivo della procedura. In caso di par-\\ntecipazione alla gara di un raggruppamento temporaneo di im-\\nprese, anche se non ancora costituito, la garanzia deve coprire le \\nobbligazioni di ciascuna impresa del raggruppamento m edesimo. \\nLa garanzia provvisoria pu\\u00f2 essere costituita sotto forma di cau-\\nzione oppure di fideiussione.  \\n2.\",\n          \"ALLEGATO II.14  \\nDirezione dei lavori e direzione dell\\u2019esecuzione dei contratti. Modalit\\u00e0 di svolgimento delle attivit\\u00e0 della fase esecutiva. Collaudo e  verifica di \\nconformit\\u00e0   \\nArticolo 22. - Certificato di collaudo.  \\n281  \\nlavorazioni da eseguire, assegnando all'esecutore un congruo ter-\\nmine per la loro realizzazione. Il certificato di collaudo non \\u00e8 rila-\\nsciato sino a che da apposita dichiarazione del direttore dei lavori, \\nconfermata d al RUP, risulti che l'esecutore abbia completamente e \\nregolarmente eseguito le lavorazioni prescrittegli, ferma restando \\nla facolt\\u00e0 dell'organo di  collaudo di procedere direttamente alla re-\\nlativa verifica. Nel caso di inottemperanza da parte dell'esecutore  \\nsi applicano le disposizioni di cui all'articolo 20, comma 3.  \\n7. Fuori dai casi di cui al comma 6, se, infine, i difetti e le mancanze \\nnon pregiudicano la stabilit\\u00e0 dell'opera e la regolarit\\u00e0 del servizio \\ncui l'intervento \\u00e8 strumentale, l'organo di collau do determina, \\nnell'emissione del certificato, la somma che, in conseguenza dei ri-\\nscontrati difetti, deve detrarsi dal credito dell'esecutore.  \\n8. Ove l'organo di collaudo riscontri lavorazioni meritevoli di col-\\nlaudo, ma non preventivamente autorizzate, le a mmette nella con-\\ntabilit\\u00e0 solo se le ritiene indispensabili per l'esecuzione dell'opera e \\nse l'importo totale dell'opera, compresi i lavori non autorizzati, non \\necceda i limiti delle spese approvate.\",\n          \"84, co. 4, del medesimo \\ncodice antimafia;  \\nh) le informazioni inerenti le cessazioni di attivit\\u00e0 risultanti dal registro \\ndelle imprese, ove comunicate;  \\ni) le comunicazioni effettuate dal Procuratore della Rep ubblica \\ncompetente all\\u2019Autorit\\u00e0, ai sensi dell\\u2019art. 98 comma 2 lett. f) del \\nCodice, circa l\\u2019omessa denuncia all'autorit\\u00e0 giudiziaria da parte \\ndell'operatore economico vittima dei reati previsti e puniti dagli \\narticoli 317 e 629 del codice penale;  \\nj) le comuni cazioni effettuate dal Prefetto al Presidente dell\\u2019Autorit\\u00e0 \\nai sensi dell\\u2019art. 32, d.l. 24 giugno 2014 n. 90 circa l\\u2019adozione delle \\nmisure straordinarie di gestione, sostegno e monitoraggio alle \\nimprese, dando evidenza di un\\u2019eventuale e successiva applicaz ione \\nall\\u2019operatore economico della misura del controllo giudiziario ex art. \\n34-bis, codice antimafia;  \\nk) le comunicazioni effettuate dalle Autorit\\u00e0 Giudiziarie competenti \\ncon gli atti indicati all\\u2019art. 98, co. 6 del codice, in merito ai reati \\ncorrelati allo s volgimento dell\\u2019attivit\\u00e0 di impresa, comunque \\nrientranti nell\\u2019elenco di cui all\\u2019art. 94, co. 1 del Codice, nei confronti \\ndell\\u2019operatore economico o di persone fisiche che rivestono, \\nall\\u2019interno degli operatori economici, ruoli rilevanti ai sensi dell\\u2019art. \\n94, co. 3 del Codice;  \\nl) le comunicazioni effettuate dalle Autorit\\u00e0 Giudiziarie competenti \\nrelative a condanne non definitive e provvedimenti cautelari \\nconcernenti i reati di cui all\\u2019art. 98, co. 3, lett. h) del Codice, nei \\nconfronti dell\\u2019operatore economico o dei soggetti di cui all\\u2019art.\"\n        ],\n        \"semantic_type\": \"\",\n        \"description\": \"\"\n      }\n    }\n  ]\n}",
              "type": "dataframe",
              "variable_name": "retrieval_dataset"
            },
            "text/html": [
              "\n",
              "  <div id=\"df-81d04051-a60b-45cf-a613-eec5619f4aa0\" class=\"colab-df-container\">\n",
              "    <div>\n",
              "<style scoped>\n",
              "    .dataframe tbody tr th:only-of-type {\n",
              "        vertical-align: middle;\n",
              "    }\n",
              "\n",
              "    .dataframe tbody tr th {\n",
              "        vertical-align: top;\n",
              "    }\n",
              "\n",
              "    .dataframe thead th {\n",
              "        text-align: right;\n",
              "    }\n",
              "</style>\n",
              "<table border=\"1\" class=\"dataframe\">\n",
              "  <thead>\n",
              "    <tr style=\"text-align: right;\">\n",
              "      <th></th>\n",
              "      <th>query</th>\n",
              "      <th>page_labels</th>\n",
              "      <th>source_1</th>\n",
              "      <th>source_2</th>\n",
              "      <th>source_3</th>\n",
              "    </tr>\n",
              "  </thead>\n",
              "  <tbody>\n",
              "    <tr>\n",
              "      <th>0</th>\n",
              "      <td>A chi è demandata la valutazione dell'offerta ...</td>\n",
              "      <td>[238, 80, 131]</td>\n",
              "      <td>16.  In caso di procedura competitiva con nego...</td>\n",
              "      <td>3. Può essere utilizzato il criterio del minor...</td>\n",
              "      <td>2. L'aggiudicazione avviene secondo il criteri...</td>\n",
              "    </tr>\n",
              "    <tr>\n",
              "      <th>1</th>\n",
              "      <td>A cosa è tenuto l'operatore economico che part...</td>\n",
              "      <td>[75, 75, 257]</td>\n",
              "      <td>Non sono sanabili le omissioni, \\ninesattezze ...</td>\n",
              "      <td>4. Fino al giorno fissato per la loro apertura...</td>\n",
              "      <td>4. Qualora l'operatore economico non risponda ...</td>\n",
              "    </tr>\n",
              "    <tr>\n",
              "      <th>2</th>\n",
              "      <td>A fronte dell'iniziativa di una stazione appal...</td>\n",
              "      <td>[143, 255, 255]</td>\n",
              "      <td>Articolo 219.  - Scioglimento del collegio con...</td>\n",
              "      <td>6. Le SOA trasmettono all'ANAC, entro quindici...</td>\n",
              "      <td>4. L'ANAC provvede periodicamente alla verific...</td>\n",
              "    </tr>\n",
              "    <tr>\n",
              "      <th>3</th>\n",
              "      <td>A norma del Codice dei contratti pubblici e de...</td>\n",
              "      <td>[349, 20, 11]</td>\n",
              "      <td>Tale collegamento garantisce un accesso \\nimme...</td>\n",
              "      <td>2. Le stazioni appaltanti e gli enti concedent...</td>\n",
              "      <td>LIBRO I  | PARTE I - DEI PRINCIP I \\nArticolo ...</td>\n",
              "    </tr>\n",
              "    <tr>\n",
              "      <th>4</th>\n",
              "      <td>A norma delle Legge 136 del 2010 chi attribuis...</td>\n",
              "      <td>[135, 49, 49]</td>\n",
              "      <td>LIBRO V  | PARTE I -DEL CONTENZIOSO  \\nArticol...</td>\n",
              "      <td>267, no nché loro consorzi e associazioni, e g...</td>\n",
              "      <td>In tale caso l’Autorità nazionale anticorru-\\n...</td>\n",
              "    </tr>\n",
              "  </tbody>\n",
              "</table>\n",
              "</div>\n",
              "    <div class=\"colab-df-buttons\">\n",
              "\n",
              "  <div class=\"colab-df-container\">\n",
              "    <button class=\"colab-df-convert\" onclick=\"convertToInteractive('df-81d04051-a60b-45cf-a613-eec5619f4aa0')\"\n",
              "            title=\"Convert this dataframe to an interactive table.\"\n",
              "            style=\"display:none;\">\n",
              "\n",
              "  <svg xmlns=\"http://www.w3.org/2000/svg\" height=\"24px\" viewBox=\"0 -960 960 960\">\n",
              "    <path d=\"M120-120v-720h720v720H120Zm60-500h600v-160H180v160Zm220 220h160v-160H400v160Zm0 220h160v-160H400v160ZM180-400h160v-160H180v160Zm440 0h160v-160H620v160ZM180-180h160v-160H180v160Zm440 0h160v-160H620v160Z\"/>\n",
              "  </svg>\n",
              "    </button>\n",
              "\n",
              "  <style>\n",
              "    .colab-df-container {\n",
              "      display:flex;\n",
              "      gap: 12px;\n",
              "    }\n",
              "\n",
              "    .colab-df-convert {\n",
              "      background-color: #E8F0FE;\n",
              "      border: none;\n",
              "      border-radius: 50%;\n",
              "      cursor: pointer;\n",
              "      display: none;\n",
              "      fill: #1967D2;\n",
              "      height: 32px;\n",
              "      padding: 0 0 0 0;\n",
              "      width: 32px;\n",
              "    }\n",
              "\n",
              "    .colab-df-convert:hover {\n",
              "      background-color: #E2EBFA;\n",
              "      box-shadow: 0px 1px 2px rgba(60, 64, 67, 0.3), 0px 1px 3px 1px rgba(60, 64, 67, 0.15);\n",
              "      fill: #174EA6;\n",
              "    }\n",
              "\n",
              "    .colab-df-buttons div {\n",
              "      margin-bottom: 4px;\n",
              "    }\n",
              "\n",
              "    [theme=dark] .colab-df-convert {\n",
              "      background-color: #3B4455;\n",
              "      fill: #D2E3FC;\n",
              "    }\n",
              "\n",
              "    [theme=dark] .colab-df-convert:hover {\n",
              "      background-color: #434B5C;\n",
              "      box-shadow: 0px 1px 3px 1px rgba(0, 0, 0, 0.15);\n",
              "      filter: drop-shadow(0px 1px 2px rgba(0, 0, 0, 0.3));\n",
              "      fill: #FFFFFF;\n",
              "    }\n",
              "  </style>\n",
              "\n",
              "    <script>\n",
              "      const buttonEl =\n",
              "        document.querySelector('#df-81d04051-a60b-45cf-a613-eec5619f4aa0 button.colab-df-convert');\n",
              "      buttonEl.style.display =\n",
              "        google.colab.kernel.accessAllowed ? 'block' : 'none';\n",
              "\n",
              "      async function convertToInteractive(key) {\n",
              "        const element = document.querySelector('#df-81d04051-a60b-45cf-a613-eec5619f4aa0');\n",
              "        const dataTable =\n",
              "          await google.colab.kernel.invokeFunction('convertToInteractive',\n",
              "                                                    [key], {});\n",
              "        if (!dataTable) return;\n",
              "\n",
              "        const docLinkHtml = 'Like what you see? Visit the ' +\n",
              "          '<a target=\"_blank\" href=https://colab.research.google.com/notebooks/data_table.ipynb>data table notebook</a>'\n",
              "          + ' to learn more about interactive tables.';\n",
              "        element.innerHTML = '';\n",
              "        dataTable['output_type'] = 'display_data';\n",
              "        await google.colab.output.renderOutput(dataTable, element);\n",
              "        const docLink = document.createElement('div');\n",
              "        docLink.innerHTML = docLinkHtml;\n",
              "        element.appendChild(docLink);\n",
              "      }\n",
              "    </script>\n",
              "  </div>\n",
              "\n",
              "\n",
              "<div id=\"df-62fb3948-5302-4076-aa79-af5bd89b499f\">\n",
              "  <button class=\"colab-df-quickchart\" onclick=\"quickchart('df-62fb3948-5302-4076-aa79-af5bd89b499f')\"\n",
              "            title=\"Suggest charts\"\n",
              "            style=\"display:none;\">\n",
              "\n",
              "<svg xmlns=\"http://www.w3.org/2000/svg\" height=\"24px\"viewBox=\"0 0 24 24\"\n",
              "     width=\"24px\">\n",
              "    <g>\n",
              "        <path d=\"M19 3H5c-1.1 0-2 .9-2 2v14c0 1.1.9 2 2 2h14c1.1 0 2-.9 2-2V5c0-1.1-.9-2-2-2zM9 17H7v-7h2v7zm4 0h-2V7h2v10zm4 0h-2v-4h2v4z\"/>\n",
              "    </g>\n",
              "</svg>\n",
              "  </button>\n",
              "\n",
              "<style>\n",
              "  .colab-df-quickchart {\n",
              "      --bg-color: #E8F0FE;\n",
              "      --fill-color: #1967D2;\n",
              "      --hover-bg-color: #E2EBFA;\n",
              "      --hover-fill-color: #174EA6;\n",
              "      --disabled-fill-color: #AAA;\n",
              "      --disabled-bg-color: #DDD;\n",
              "  }\n",
              "\n",
              "  [theme=dark] .colab-df-quickchart {\n",
              "      --bg-color: #3B4455;\n",
              "      --fill-color: #D2E3FC;\n",
              "      --hover-bg-color: #434B5C;\n",
              "      --hover-fill-color: #FFFFFF;\n",
              "      --disabled-bg-color: #3B4455;\n",
              "      --disabled-fill-color: #666;\n",
              "  }\n",
              "\n",
              "  .colab-df-quickchart {\n",
              "    background-color: var(--bg-color);\n",
              "    border: none;\n",
              "    border-radius: 50%;\n",
              "    cursor: pointer;\n",
              "    display: none;\n",
              "    fill: var(--fill-color);\n",
              "    height: 32px;\n",
              "    padding: 0;\n",
              "    width: 32px;\n",
              "  }\n",
              "\n",
              "  .colab-df-quickchart:hover {\n",
              "    background-color: var(--hover-bg-color);\n",
              "    box-shadow: 0 1px 2px rgba(60, 64, 67, 0.3), 0 1px 3px 1px rgba(60, 64, 67, 0.15);\n",
              "    fill: var(--button-hover-fill-color);\n",
              "  }\n",
              "\n",
              "  .colab-df-quickchart-complete:disabled,\n",
              "  .colab-df-quickchart-complete:disabled:hover {\n",
              "    background-color: var(--disabled-bg-color);\n",
              "    fill: var(--disabled-fill-color);\n",
              "    box-shadow: none;\n",
              "  }\n",
              "\n",
              "  .colab-df-spinner {\n",
              "    border: 2px solid var(--fill-color);\n",
              "    border-color: transparent;\n",
              "    border-bottom-color: var(--fill-color);\n",
              "    animation:\n",
              "      spin 1s steps(1) infinite;\n",
              "  }\n",
              "\n",
              "  @keyframes spin {\n",
              "    0% {\n",
              "      border-color: transparent;\n",
              "      border-bottom-color: var(--fill-color);\n",
              "      border-left-color: var(--fill-color);\n",
              "    }\n",
              "    20% {\n",
              "      border-color: transparent;\n",
              "      border-left-color: var(--fill-color);\n",
              "      border-top-color: var(--fill-color);\n",
              "    }\n",
              "    30% {\n",
              "      border-color: transparent;\n",
              "      border-left-color: var(--fill-color);\n",
              "      border-top-color: var(--fill-color);\n",
              "      border-right-color: var(--fill-color);\n",
              "    }\n",
              "    40% {\n",
              "      border-color: transparent;\n",
              "      border-right-color: var(--fill-color);\n",
              "      border-top-color: var(--fill-color);\n",
              "    }\n",
              "    60% {\n",
              "      border-color: transparent;\n",
              "      border-right-color: var(--fill-color);\n",
              "    }\n",
              "    80% {\n",
              "      border-color: transparent;\n",
              "      border-right-color: var(--fill-color);\n",
              "      border-bottom-color: var(--fill-color);\n",
              "    }\n",
              "    90% {\n",
              "      border-color: transparent;\n",
              "      border-bottom-color: var(--fill-color);\n",
              "    }\n",
              "  }\n",
              "</style>\n",
              "\n",
              "  <script>\n",
              "    async function quickchart(key) {\n",
              "      const quickchartButtonEl =\n",
              "        document.querySelector('#' + key + ' button');\n",
              "      quickchartButtonEl.disabled = true;  // To prevent multiple clicks.\n",
              "      quickchartButtonEl.classList.add('colab-df-spinner');\n",
              "      try {\n",
              "        const charts = await google.colab.kernel.invokeFunction(\n",
              "            'suggestCharts', [key], {});\n",
              "      } catch (error) {\n",
              "        console.error('Error during call to suggestCharts:', error);\n",
              "      }\n",
              "      quickchartButtonEl.classList.remove('colab-df-spinner');\n",
              "      quickchartButtonEl.classList.add('colab-df-quickchart-complete');\n",
              "    }\n",
              "    (() => {\n",
              "      let quickchartButtonEl =\n",
              "        document.querySelector('#df-62fb3948-5302-4076-aa79-af5bd89b499f button');\n",
              "      quickchartButtonEl.style.display =\n",
              "        google.colab.kernel.accessAllowed ? 'block' : 'none';\n",
              "    })();\n",
              "  </script>\n",
              "</div>\n",
              "    </div>\n",
              "  </div>\n"
            ],
            "text/plain": [
              "                                               query      page_labels  \\\n",
              "0  A chi è demandata la valutazione dell'offerta ...   [238, 80, 131]   \n",
              "1  A cosa è tenuto l'operatore economico che part...    [75, 75, 257]   \n",
              "2  A fronte dell'iniziativa di una stazione appal...  [143, 255, 255]   \n",
              "3  A norma del Codice dei contratti pubblici e de...    [349, 20, 11]   \n",
              "4  A norma delle Legge 136 del 2010 chi attribuis...    [135, 49, 49]   \n",
              "\n",
              "                                            source_1  \\\n",
              "0  16.  In caso di procedura competitiva con nego...   \n",
              "1  Non sono sanabili le omissioni, \\ninesattezze ...   \n",
              "2  Articolo 219.  - Scioglimento del collegio con...   \n",
              "3  Tale collegamento garantisce un accesso \\nimme...   \n",
              "4  LIBRO V  | PARTE I -DEL CONTENZIOSO  \\nArticol...   \n",
              "\n",
              "                                            source_2  \\\n",
              "0  3. Può essere utilizzato il criterio del minor...   \n",
              "1  4. Fino al giorno fissato per la loro apertura...   \n",
              "2  6. Le SOA trasmettono all'ANAC, entro quindici...   \n",
              "3  2. Le stazioni appaltanti e gli enti concedent...   \n",
              "4  267, no nché loro consorzi e associazioni, e g...   \n",
              "\n",
              "                                            source_3  \n",
              "0  2. L'aggiudicazione avviene secondo il criteri...  \n",
              "1  4. Qualora l'operatore economico non risponda ...  \n",
              "2  4. L'ANAC provvede periodicamente alla verific...  \n",
              "3  LIBRO I  | PARTE I - DEI PRINCIP I \\nArticolo ...  \n",
              "4  In tale caso l’Autorità nazionale anticorru-\\n...  "
            ]
          },
          "execution_count": 17,
          "metadata": {},
          "output_type": "execute_result"
        }
      ],
      "source": [
        "retrieval_dataset = pd.DataFrame.from_dict(retr_nodes)\n",
        "retrieval_dataset.head()"
      ]
    },
    {
      "cell_type": "markdown",
      "metadata": {
        "id": "gilPvE1Bc-u4"
      },
      "source": [
        "#### __TESTING RETRIEVAL's ENCODER EFFICIENCY__:\n",
        "\n",
        "Tuning the configuration of the retrieval model is pivotal for fetching data at the same time consistent with the input query and helpful for the answer generation. This can be done by adjusting the size of chunks for the corpus indexing - depending on the specific needs of the application scenario - and by employing ad-hoc and in-domain expert encoder models. The `BAAI/bge` is one of the top-ranked encoder famility with outstading performances in a vast variety of tasks. We are now going to test two different versions of these encoders and evaluate them based on the content reported in the retrieved paragraphs."
      ]
    },
    {
      "cell_type": "markdown",
      "metadata": {
        "id": "kL2Ul6PRc-u4"
      },
      "source": [
        "The precision of a retrieval system can be gauged using many different metrics (e.g. _Hit-Rate_, _Mean Reciprocal Rank_, ...). When gold data is not available - as in our case - we can evaluate the coherence of the retrieved information based on the overlap of their conent with the input question and expected answer. It is indeed extremely important that selected information are equally in line with the query and useful for the derivation of the answer. To do so, we check the presence of key information for the answer in each retrieved node. Without any particular semantic parsing process, we can simply select the meaningful terms in the answer neglecting stop words.\n",
        "<br>\n",
        "\n",
        "_Discounted Cumulative Gain_ (DCG):\n",
        "\n",
        "DCG measures the usefulness, or gain, of a document based on its position in the result list. The gain is accumulated from the top of the result list to the bottom, with the gain of each result discounted at lower ranks.\n",
        "The basline assumptions are that highly relevant documents are more useful when appearing earlier in a search engine result list (have higher ranks). DCG is a refinement of a simpler measure, Cumulative Gain (CG), which is the sum of the graded relevance values of all results in a search result list, which does not take into account the rank (position) of a result in the result list.\n",
        "\n",
        "\n",
        "The premise of DCG is that highly relevant documents appearing lower in a search result list should be penalized as the graded relevance value is reduced logarithmically proportional to the position of the result:\n",
        "$$\n",
        "\\text{DCG}_p = \\sum_{i=1}^p \\frac{2^{\\rho_i} - 1}{\\log_2 (i+1)}\n",
        "$$\n",
        "with $\\rho_i$ being the relevance score assigned to the $i$-th document $d_i$.\n",
        "\n",
        "In our experiment we set the relevance score $\\rho_i$ to the number of (non-stop) words in common with the gold label, normalized by the sentence length. For instance, given the desired answer $\\hat{a}$ and the list of relevant terms $\\pi_i$ in the retrieved document $d_i$\n",
        "$$\n",
        "\\rho_i = \\frac{ \\sum_{j=0}^{\\lvert \\pi_i \\rvert } \\left ( \\pi_i [ j ] \\in \\pi_{\\hat{a}} \\right )}{ \\lvert \\pi_i \\rvert }\n",
        "$$\n",
        "where $\\pi_{\\hat{a}}$ is the list of relevant terms contained in the golf answer.\n",
        "\n",
        "\n",
        "We compute such measure for both the question and answer, respectively to verify the coherence of the retrieved passages and their level of informativeness to derive the answer."
      ]
    },
    {
      "cell_type": "code",
      "execution_count": null,
      "metadata": {
        "colab": {
          "base_uri": "https://localhost:8080/"
        },
        "id": "NqvD26XIc-u4",
        "outputId": "a36153e4-1fe7-4598-bf81-4c07e580eb68"
      },
      "outputs": [
        {
          "name": "stderr",
          "output_type": "stream",
          "text": [
            "[nltk_data] Downloading package stopwords to /root/nltk_data...\n",
            "[nltk_data]   Unzipping corpora/stopwords.zip.\n",
            "[nltk_data] Downloading package punkt to /root/nltk_data...\n",
            "[nltk_data]   Unzipping tokenizers/punkt.zip.\n"
          ]
        }
      ],
      "source": [
        "import nltk\n",
        "from nltk.corpus import stopwords\n",
        "from nltk.tokenize import word_tokenize\n",
        "import string\n",
        "import re\n",
        "import numpy as np\n",
        "from typing import List\n",
        "\n",
        "nltk.download('stopwords')\n",
        "nltk.download('punkt')\n",
        "\n",
        "def __word_highlights(sentence,\n",
        "                      language : str = 'english'):\n",
        "    \"\"\"\n",
        "    Select the \"non-trivial\" words from the input sentence by removing\n",
        "    stop words.\n",
        "    \"\"\"\n",
        "\n",
        "    # Handle new lines with dash\n",
        "    sentence = re.sub('-\\n','',sentence)\n",
        "\n",
        "    # Remove punctuation\n",
        "    sentence = sentence.translate(str.maketrans('', '', string.punctuation))\n",
        "\n",
        "    # Tokenize the sentence into words\n",
        "    words = word_tokenize(sentence)\n",
        "\n",
        "    # Remove stopwords\n",
        "    stop_words = set(stopwords.words(language))\n",
        "    filtered_words = [word for word in words if word.lower() not in stop_words]\n",
        "\n",
        "    if len(filtered_words) == 0:\n",
        "      filtered_words = words\n",
        "\n",
        "    return filtered_words\n",
        "\n",
        "\n",
        "def __evaluate_resource(query : str,\n",
        "                        answer : str,\n",
        "                        resource : str):\n",
        "  \"\"\"\n",
        "  Evaluate a retrieve resource based on the input question and\n",
        "  the expected answer.\n",
        "  \"\"\"\n",
        "\n",
        "  metrics = {\n",
        "      'query_resource_overlap' : 0.0,\n",
        "      'answer_resource_overlap' : 0.0\n",
        "  }\n",
        "\n",
        "  parsed_q = __word_highlights(query, language='italian')\n",
        "  parsed_a = __word_highlights(answer, language='italian')\n",
        "  parsed_r = __word_highlights(resource, language='italian')\n",
        "\n",
        "  q_precision = np.count_nonzero([q_word in parsed_r for q_word in parsed_q])\n",
        "  a_precision = np.count_nonzero([a_word in parsed_r for a_word in parsed_a])\n",
        "\n",
        "  metrics['query_resource_overlap'] = q_precision / len(parsed_q)\n",
        "  metrics['answer_resource_overlap'] = a_precision / len(parsed_a)\n",
        "\n",
        "  return metrics\n",
        "\n",
        "def __compute_dcg(oredered_scores : List):\n",
        "  \"\"\"\n",
        "  Compute Discounted Cumulative Score\n",
        "  \"\"\"\n",
        "  get_score = lambda i,score : (2**(score) - 1) / (np.log2(i+1))\n",
        "  res = sum([get_score(i+1,s) for  i,s in enumerate(oredered_scores)])\n",
        "\n",
        "  return res\n",
        "\n",
        "def evaluate_retriever(query : str,\n",
        "                       answer : str,\n",
        "                       resource_list : List):\n",
        "  \"\"\"\n",
        "  Evaluate the set of retrieved nodes for the input query.\n",
        "  \"\"\"\n",
        "\n",
        "  overall_metrics = {\n",
        "      'query_resource_overlap' : [],\n",
        "      'answer_resource_overlap' : [],\n",
        "      'dcg_query' : 0.0,\n",
        "      'dcg_answer' : 0.0\n",
        "  }\n",
        "\n",
        "  for node in resource_list:\n",
        "    # Evaluate coherence of each node\n",
        "    res_txt = node.text\n",
        "    stats = __evaluate_resource(query, answer, res_txt)\n",
        "    for k in stats: overall_metrics[k].append(stats[k])\n",
        "\n",
        "\n",
        "  overall_metrics['dcg_query'] = __compute_dcg(overall_metrics['query_resource_overlap'])\n",
        "  overall_metrics['dcg_answer'] = __compute_dcg(overall_metrics['answer_resource_overlap'])\n",
        "\n",
        "  for k in ['query_resource_overlap', 'answer_resource_overlap']:\n",
        "    _sum_val = sum(overall_metrics[k])\n",
        "    overall_metrics[k] = _sum_val / len(resource_list)\n",
        "\n",
        "  return overall_metrics\n",
        "\n",
        "\n",
        "def evaluate_retriever_handler(retriever, ca_dataset):\n",
        "    \"\"\"\n",
        "    Evaluate retrieval statistics for each question in the input dataset.\n",
        "    \"\"\"\n",
        "\n",
        "    retriever_stats = {\n",
        "      'query' : [],\n",
        "      'answer' : [],\n",
        "      'query_resource_overlap' : [],\n",
        "      'answer_resource_overlap' : [],\n",
        "      'dcg_query' : [],\n",
        "      'dcg_answer' : []\n",
        "    }\n",
        "\n",
        "    for query, answer in tqdm(zip(ca_dataset['Domanda'], ca_dataset['Risposta']), total=len(ca_dataset['Domanda'])):\n",
        "      retrieved_nodes = retriever.retrieve(query)\n",
        "      metrics = evaluate_retriever(query, answer, retrieved_nodes)\n",
        "\n",
        "      for k in metrics: retriever_stats[k].append(metrics[k])\n",
        "\n",
        "      retriever_stats['query'].append(query)\n",
        "      retriever_stats['answer'].append(answer)\n",
        "\n",
        "    return retriever_stats\n",
        "\n",
        "def compute_avg_stats(retriever_stats):\n",
        "  \"\"\"\n",
        "  Compute and print average retrieval statistics.\n",
        "  \"\"\"\n",
        "  avg_stats = {}\n",
        "  for k in list(set(retriever_stats.keys()) - set(['query','answer'])):\n",
        "    avg_stats[k] = np.mean(retriever_stats[k])\n",
        "\n",
        "  print(\"AVERAGE STATISTICS\")\n",
        "  for k in avg_stats:\n",
        "    print(f\"\\t - {k.upper()} : {round(avg_stats[k],4)}\")"
      ]
    },
    {
      "cell_type": "markdown",
      "metadata": {
        "id": "P7gJt934c-u5"
      },
      "source": [
        "##### ENCODER MODEL <-- BAAI/bge-base-en-v1.5"
      ]
    },
    {
      "cell_type": "code",
      "execution_count": null,
      "metadata": {
        "id": "5LuRkSzzc-u5"
      },
      "outputs": [],
      "source": [
        "embed_model = LangchainEmbedding(HuggingFaceEmbeddings(model_name='BAAI/bge-base-en-v1.5'))"
      ]
    },
    {
      "cell_type": "code",
      "execution_count": null,
      "metadata": {
        "id": "MuTObZXlZ1nY"
      },
      "outputs": [],
      "source": [
        "service_context = ServiceContext.from_defaults(llm_predictor=llm_predictor,\n",
        "                                               embed_model=embed_model,\n",
        "                                               prompt_helper=prompt_helper)\n",
        "\n",
        "\n",
        "vector_index = VectorStoreIndex(nodes, service_context=service_context)\n",
        "retriever = vector_index.as_retriever(similarity_top_k=3)"
      ]
    },
    {
      "cell_type": "markdown",
      "metadata": {
        "id": "_5v1Oao7c-u6"
      },
      "source": [
        "Let's visualize the result of the retrieval for a question in the dataset."
      ]
    },
    {
      "cell_type": "code",
      "execution_count": null,
      "metadata": {
        "colab": {
          "base_uri": "https://localhost:8080/",
          "height": 932
        },
        "id": "PJRj4m1obDV1",
        "outputId": "10afe81b-3754-4571-9303-9f0505c624fa"
      },
      "outputs": [
        {
          "name": "stdout",
          "output_type": "stream",
          "text": [
            "\n",
            "### QUERY:\n",
            "A norma di quanto dispone il Codice dei contratti pubblici in quale momento le stazioni appaltanti individuano i criteri di selezione delle offerte?\n",
            "\n",
            "### ANSWER:\n",
            "Prima dell'avvio delle procedure di affidamento\n",
            "\n",
            "\n",
            "####################################################################################################\n",
            "--------------------------------------------------\n"
          ]
        },
        {
          "data": {
            "text/markdown": [
              "**Node ID:** a4b5b82a-82ed-4492-9eaa-6d58f1175249<br>**Similarity:** 0.7777024877987047<br>**Text:** Articolo 2.  - Definizioni dei contratti.  \n",
              "1. Nel codice si intende per:  \n",
              "a) «contratti » o « contratti pubblici », i contratti, anche diversi da appalti e \n",
              "concessioni, conclusi da una stazione appaltante o da un ente conce-\n",
              "dente;  \n",
              "b) «contratti di appalto » o « appalti pubblici », i contratti a titolo oneroso \n",
              "stipulati per iscritto tra uno o più operatori economici e una o più sta-\n",
              "zioni appaltanti e aventi per oggetto l’esecuzion e di lavori, la fornitura \n",
              "di beni o la prestazione di servizi;  \n",
              "c) «contratti di concessione » o « concessioni », i contratti a titolo oneroso \n",
              "stipulati per iscritto a pena di nullità in virtù dei quali una o più ammini-\n",
              "strazioni aggiudicatrici o uno o più enti aggiudicatori affidano<br>"
            ],
            "text/plain": [
              "<IPython.core.display.Markdown object>"
            ]
          },
          "metadata": {},
          "output_type": "display_data"
        },
        {
          "name": "stdout",
          "output_type": "stream",
          "text": [
            "--------------------------------------------------\n"
          ]
        },
        {
          "data": {
            "text/markdown": [
              "**Node ID:** 48961897-86d1-47d2-a2f4-d1f1ad474c26<br>**Similarity:** 0.7553046950911909<br>**Text:** I contratti conclusi con l’accettazione di tali ordinativi non sono sot-\n",
              "toposti al parere di congruità economica. Ove previsto nel bando di gara, le convenzioni \n",
              "possono essere st ipulate con una o più imprese alle stesse condizioni contrattuali proposte \n",
              "dal miglior offerente. Ove previsto nel bando di gara, le convenzioni possono essere stipulate \n",
              "per specifiche categorie di amministrazioni ovvero per specifici ambiti territoriali. Il quarto \n",
              "periodo si applica anche agli accordi quadro stipulati dalla Consip S.p.A. ai sensi dell’articolo<br>"
            ],
            "text/plain": [
              "<IPython.core.display.Markdown object>"
            ]
          },
          "metadata": {},
          "output_type": "display_data"
        },
        {
          "name": "stdout",
          "output_type": "stream",
          "text": [
            "--------------------------------------------------\n"
          ]
        },
        {
          "data": {
            "text/markdown": [
              "**Node ID:** 6f16556c-611e-4f19-b2ed-8d8a25e32657<br>**Similarity:** 0.752276933911786<br>**Text:** 2. La stazione appaltante assicura l’opportuna pubblicità dell’atti-\n",
              "vità di esplorazione del mercato, scegliendo gli strumenti più idonei \n",
              "in ragione della rilevanza del contratto per il settore merceologico \n",
              "di riferimento e della sua contendibilità. A tal fin e la stazione appal-\n",
              "tante pubblica un avviso sul suo sito istituzionale e sulla Banca dati \n",
              "nazionale dei contratti pubblici dell’ANAC. La durata della pubbli-\n",
              "cazione è stabilita in ragione della rilevanza del contratto, per un \n",
              "periodo minimo identificabile i n quindici giorni, salva la riduzione \n",
              "del suddetto termine per motivate ragioni di urgenza a non meno di \n",
              "cinque giorni.  \n",
              "3. L’avviso di avvio dell’indagine di mercato indica il valore dell’af-\n",
              "fidamento, gli elementi essenziali del contratto, i requisiti di i do-\n",
              "neità professionale, i requisiti minimi di capacità economica e finan-\n",
              "ziaria e le capacità tecniche e professionali richieste ai fini della par-\n",
              "tecipazione, il numero minimo ed eventualmente massimo di ...<br>"
            ],
            "text/plain": [
              "<IPython.core.display.Markdown object>"
            ]
          },
          "metadata": {},
          "output_type": "display_data"
        },
        {
          "name": "stdout",
          "output_type": "stream",
          "text": [
            "\n",
            "\n",
            "\n",
            "####################################################################################################\n",
            "STATISTICS:\n",
            "\n",
            "\t - QUERY_RESOURCE_OVERLAP : 0.25\n",
            "\t - ANSWER_RESOURCE_OVERLAP : 0.0833\n",
            "\t - DCG_QUERY : 0.4274\n",
            "\t - DCG_ANSWER : 0.0946\n"
          ]
        }
      ],
      "source": [
        "qa_ids = 10\n",
        "query = ca_dataset['Domanda'][qa_ids]\n",
        "answer = ca_dataset['Risposta'][qa_ids]\n",
        "\n",
        "retrieved_nodes = retriever.retrieve(query)\n",
        "\n",
        "qa = \"\"\"\n",
        "### QUERY:\n",
        "{}\n",
        "\n",
        "### ANSWER:\n",
        "{}\n",
        "\n",
        "\"\"\"\n",
        "print(qa.format(query, answer))\n",
        "\n",
        "print('#'*100)\n",
        "\n",
        "for node in retrieved_nodes:\n",
        "  print('-'*50)\n",
        "  display_source_node(node, source_length=1000)\n",
        "\n",
        "print('\\n'*3+'#'*100+'\\nSTATISTICS:\\n')\n",
        "metrics = evaluate_retriever(query, answer, retrieved_nodes)\n",
        "for k in metrics: print(f'\\t - {k.upper()} : {round(metrics[k],4)}')"
      ]
    },
    {
      "cell_type": "code",
      "execution_count": null,
      "metadata": {
        "colab": {
          "base_uri": "https://localhost:8080/"
        },
        "id": "DAwpnaixobYz",
        "outputId": "126d4fc8-db45-4446-96c4-6d534e7cbbb7"
      },
      "outputs": [
        {
          "name": "stderr",
          "output_type": "stream",
          "text": [
            "100%|██████████| 451/451 [01:50<00:00,  4.09it/s]\n"
          ]
        }
      ],
      "source": [
        "retriever_stats = evaluate_retriever_handler(retriever, ca_dataset)"
      ]
    },
    {
      "cell_type": "code",
      "execution_count": null,
      "metadata": {
        "colab": {
          "base_uri": "https://localhost:8080/",
          "height": 294
        },
        "id": "1oc5DzM0hUN5",
        "outputId": "f30ebc4d-de4a-490b-9f5d-f21cc7b7eab0"
      },
      "outputs": [
        {
          "data": {
            "text/html": [
              "\n",
              "  <div id=\"df-50f4f1e4-47fa-4b55-b162-38fb23295501\" class=\"colab-df-container\">\n",
              "    <div>\n",
              "<style scoped>\n",
              "    .dataframe tbody tr th:only-of-type {\n",
              "        vertical-align: middle;\n",
              "    }\n",
              "\n",
              "    .dataframe tbody tr th {\n",
              "        vertical-align: top;\n",
              "    }\n",
              "\n",
              "    .dataframe thead th {\n",
              "        text-align: right;\n",
              "    }\n",
              "</style>\n",
              "<table border=\"1\" class=\"dataframe\">\n",
              "  <thead>\n",
              "    <tr style=\"text-align: right;\">\n",
              "      <th></th>\n",
              "      <th>query</th>\n",
              "      <th>answer</th>\n",
              "      <th>query_resource_overlap</th>\n",
              "      <th>answer_resource_overlap</th>\n",
              "      <th>dcg_query</th>\n",
              "      <th>dcg_answer</th>\n",
              "    </tr>\n",
              "  </thead>\n",
              "  <tbody>\n",
              "    <tr>\n",
              "      <th>0</th>\n",
              "      <td>A chi è demandata la valutazione dell'offerta ...</td>\n",
              "      <td>A una commissione giudicatrice</td>\n",
              "      <td>0.466667</td>\n",
              "      <td>0.000000</td>\n",
              "      <td>0.817908</td>\n",
              "      <td>0.000000</td>\n",
              "    </tr>\n",
              "    <tr>\n",
              "      <th>1</th>\n",
              "      <td>A cosa è tenuto l'operatore economico che part...</td>\n",
              "      <td>Deve usare conti correnti postali o bancari de...</td>\n",
              "      <td>0.272727</td>\n",
              "      <td>0.000000</td>\n",
              "      <td>0.436164</td>\n",
              "      <td>0.000000</td>\n",
              "    </tr>\n",
              "    <tr>\n",
              "      <th>2</th>\n",
              "      <td>A fronte dell'iniziativa di una stazione appal...</td>\n",
              "      <td>vincolante</td>\n",
              "      <td>0.155556</td>\n",
              "      <td>0.000000</td>\n",
              "      <td>0.209896</td>\n",
              "      <td>0.000000</td>\n",
              "    </tr>\n",
              "    <tr>\n",
              "      <th>3</th>\n",
              "      <td>A norma del Codice dei contratti pubblici e de...</td>\n",
              "      <td>No, mai</td>\n",
              "      <td>0.205128</td>\n",
              "      <td>0.000000</td>\n",
              "      <td>0.339168</td>\n",
              "      <td>0.000000</td>\n",
              "    </tr>\n",
              "    <tr>\n",
              "      <th>4</th>\n",
              "      <td>A norma delle Legge 136 del 2010 chi attribuis...</td>\n",
              "      <td>L'Autorità di vigilanza sui contratti pubblici...</td>\n",
              "      <td>0.074074</td>\n",
              "      <td>0.433333</td>\n",
              "      <td>0.130572</td>\n",
              "      <td>0.885913</td>\n",
              "    </tr>\n",
              "  </tbody>\n",
              "</table>\n",
              "</div>\n",
              "    <div class=\"colab-df-buttons\">\n",
              "\n",
              "  <div class=\"colab-df-container\">\n",
              "    <button class=\"colab-df-convert\" onclick=\"convertToInteractive('df-50f4f1e4-47fa-4b55-b162-38fb23295501')\"\n",
              "            title=\"Convert this dataframe to an interactive table.\"\n",
              "            style=\"display:none;\">\n",
              "\n",
              "  <svg xmlns=\"http://www.w3.org/2000/svg\" height=\"24px\" viewBox=\"0 -960 960 960\">\n",
              "    <path d=\"M120-120v-720h720v720H120Zm60-500h600v-160H180v160Zm220 220h160v-160H400v160Zm0 220h160v-160H400v160ZM180-400h160v-160H180v160Zm440 0h160v-160H620v160ZM180-180h160v-160H180v160Zm440 0h160v-160H620v160Z\"/>\n",
              "  </svg>\n",
              "    </button>\n",
              "\n",
              "  <style>\n",
              "    .colab-df-container {\n",
              "      display:flex;\n",
              "      gap: 12px;\n",
              "    }\n",
              "\n",
              "    .colab-df-convert {\n",
              "      background-color: #E8F0FE;\n",
              "      border: none;\n",
              "      border-radius: 50%;\n",
              "      cursor: pointer;\n",
              "      display: none;\n",
              "      fill: #1967D2;\n",
              "      height: 32px;\n",
              "      padding: 0 0 0 0;\n",
              "      width: 32px;\n",
              "    }\n",
              "\n",
              "    .colab-df-convert:hover {\n",
              "      background-color: #E2EBFA;\n",
              "      box-shadow: 0px 1px 2px rgba(60, 64, 67, 0.3), 0px 1px 3px 1px rgba(60, 64, 67, 0.15);\n",
              "      fill: #174EA6;\n",
              "    }\n",
              "\n",
              "    .colab-df-buttons div {\n",
              "      margin-bottom: 4px;\n",
              "    }\n",
              "\n",
              "    [theme=dark] .colab-df-convert {\n",
              "      background-color: #3B4455;\n",
              "      fill: #D2E3FC;\n",
              "    }\n",
              "\n",
              "    [theme=dark] .colab-df-convert:hover {\n",
              "      background-color: #434B5C;\n",
              "      box-shadow: 0px 1px 3px 1px rgba(0, 0, 0, 0.15);\n",
              "      filter: drop-shadow(0px 1px 2px rgba(0, 0, 0, 0.3));\n",
              "      fill: #FFFFFF;\n",
              "    }\n",
              "  </style>\n",
              "\n",
              "    <script>\n",
              "      const buttonEl =\n",
              "        document.querySelector('#df-50f4f1e4-47fa-4b55-b162-38fb23295501 button.colab-df-convert');\n",
              "      buttonEl.style.display =\n",
              "        google.colab.kernel.accessAllowed ? 'block' : 'none';\n",
              "\n",
              "      async function convertToInteractive(key) {\n",
              "        const element = document.querySelector('#df-50f4f1e4-47fa-4b55-b162-38fb23295501');\n",
              "        const dataTable =\n",
              "          await google.colab.kernel.invokeFunction('convertToInteractive',\n",
              "                                                    [key], {});\n",
              "        if (!dataTable) return;\n",
              "\n",
              "        const docLinkHtml = 'Like what you see? Visit the ' +\n",
              "          '<a target=\"_blank\" href=https://colab.research.google.com/notebooks/data_table.ipynb>data table notebook</a>'\n",
              "          + ' to learn more about interactive tables.';\n",
              "        element.innerHTML = '';\n",
              "        dataTable['output_type'] = 'display_data';\n",
              "        await google.colab.output.renderOutput(dataTable, element);\n",
              "        const docLink = document.createElement('div');\n",
              "        docLink.innerHTML = docLinkHtml;\n",
              "        element.appendChild(docLink);\n",
              "      }\n",
              "    </script>\n",
              "  </div>\n",
              "\n",
              "\n",
              "<div id=\"df-94c516ce-8ac3-4816-b436-b73c14dac4b2\">\n",
              "  <button class=\"colab-df-quickchart\" onclick=\"quickchart('df-94c516ce-8ac3-4816-b436-b73c14dac4b2')\"\n",
              "            title=\"Suggest charts\"\n",
              "            style=\"display:none;\">\n",
              "\n",
              "<svg xmlns=\"http://www.w3.org/2000/svg\" height=\"24px\"viewBox=\"0 0 24 24\"\n",
              "     width=\"24px\">\n",
              "    <g>\n",
              "        <path d=\"M19 3H5c-1.1 0-2 .9-2 2v14c0 1.1.9 2 2 2h14c1.1 0 2-.9 2-2V5c0-1.1-.9-2-2-2zM9 17H7v-7h2v7zm4 0h-2V7h2v10zm4 0h-2v-4h2v4z\"/>\n",
              "    </g>\n",
              "</svg>\n",
              "  </button>\n",
              "\n",
              "<style>\n",
              "  .colab-df-quickchart {\n",
              "      --bg-color: #E8F0FE;\n",
              "      --fill-color: #1967D2;\n",
              "      --hover-bg-color: #E2EBFA;\n",
              "      --hover-fill-color: #174EA6;\n",
              "      --disabled-fill-color: #AAA;\n",
              "      --disabled-bg-color: #DDD;\n",
              "  }\n",
              "\n",
              "  [theme=dark] .colab-df-quickchart {\n",
              "      --bg-color: #3B4455;\n",
              "      --fill-color: #D2E3FC;\n",
              "      --hover-bg-color: #434B5C;\n",
              "      --hover-fill-color: #FFFFFF;\n",
              "      --disabled-bg-color: #3B4455;\n",
              "      --disabled-fill-color: #666;\n",
              "  }\n",
              "\n",
              "  .colab-df-quickchart {\n",
              "    background-color: var(--bg-color);\n",
              "    border: none;\n",
              "    border-radius: 50%;\n",
              "    cursor: pointer;\n",
              "    display: none;\n",
              "    fill: var(--fill-color);\n",
              "    height: 32px;\n",
              "    padding: 0;\n",
              "    width: 32px;\n",
              "  }\n",
              "\n",
              "  .colab-df-quickchart:hover {\n",
              "    background-color: var(--hover-bg-color);\n",
              "    box-shadow: 0 1px 2px rgba(60, 64, 67, 0.3), 0 1px 3px 1px rgba(60, 64, 67, 0.15);\n",
              "    fill: var(--button-hover-fill-color);\n",
              "  }\n",
              "\n",
              "  .colab-df-quickchart-complete:disabled,\n",
              "  .colab-df-quickchart-complete:disabled:hover {\n",
              "    background-color: var(--disabled-bg-color);\n",
              "    fill: var(--disabled-fill-color);\n",
              "    box-shadow: none;\n",
              "  }\n",
              "\n",
              "  .colab-df-spinner {\n",
              "    border: 2px solid var(--fill-color);\n",
              "    border-color: transparent;\n",
              "    border-bottom-color: var(--fill-color);\n",
              "    animation:\n",
              "      spin 1s steps(1) infinite;\n",
              "  }\n",
              "\n",
              "  @keyframes spin {\n",
              "    0% {\n",
              "      border-color: transparent;\n",
              "      border-bottom-color: var(--fill-color);\n",
              "      border-left-color: var(--fill-color);\n",
              "    }\n",
              "    20% {\n",
              "      border-color: transparent;\n",
              "      border-left-color: var(--fill-color);\n",
              "      border-top-color: var(--fill-color);\n",
              "    }\n",
              "    30% {\n",
              "      border-color: transparent;\n",
              "      border-left-color: var(--fill-color);\n",
              "      border-top-color: var(--fill-color);\n",
              "      border-right-color: var(--fill-color);\n",
              "    }\n",
              "    40% {\n",
              "      border-color: transparent;\n",
              "      border-right-color: var(--fill-color);\n",
              "      border-top-color: var(--fill-color);\n",
              "    }\n",
              "    60% {\n",
              "      border-color: transparent;\n",
              "      border-right-color: var(--fill-color);\n",
              "    }\n",
              "    80% {\n",
              "      border-color: transparent;\n",
              "      border-right-color: var(--fill-color);\n",
              "      border-bottom-color: var(--fill-color);\n",
              "    }\n",
              "    90% {\n",
              "      border-color: transparent;\n",
              "      border-bottom-color: var(--fill-color);\n",
              "    }\n",
              "  }\n",
              "</style>\n",
              "\n",
              "  <script>\n",
              "    async function quickchart(key) {\n",
              "      const quickchartButtonEl =\n",
              "        document.querySelector('#' + key + ' button');\n",
              "      quickchartButtonEl.disabled = true;  // To prevent multiple clicks.\n",
              "      quickchartButtonEl.classList.add('colab-df-spinner');\n",
              "      try {\n",
              "        const charts = await google.colab.kernel.invokeFunction(\n",
              "            'suggestCharts', [key], {});\n",
              "      } catch (error) {\n",
              "        console.error('Error during call to suggestCharts:', error);\n",
              "      }\n",
              "      quickchartButtonEl.classList.remove('colab-df-spinner');\n",
              "      quickchartButtonEl.classList.add('colab-df-quickchart-complete');\n",
              "    }\n",
              "    (() => {\n",
              "      let quickchartButtonEl =\n",
              "        document.querySelector('#df-94c516ce-8ac3-4816-b436-b73c14dac4b2 button');\n",
              "      quickchartButtonEl.style.display =\n",
              "        google.colab.kernel.accessAllowed ? 'block' : 'none';\n",
              "    })();\n",
              "  </script>\n",
              "</div>\n",
              "    </div>\n",
              "  </div>\n"
            ],
            "text/plain": [
              "                                               query  \\\n",
              "0  A chi è demandata la valutazione dell'offerta ...   \n",
              "1  A cosa è tenuto l'operatore economico che part...   \n",
              "2  A fronte dell'iniziativa di una stazione appal...   \n",
              "3  A norma del Codice dei contratti pubblici e de...   \n",
              "4  A norma delle Legge 136 del 2010 chi attribuis...   \n",
              "\n",
              "                                              answer  query_resource_overlap  \\\n",
              "0                     A una commissione giudicatrice                0.466667   \n",
              "1  Deve usare conti correnti postali o bancari de...                0.272727   \n",
              "2                                         vincolante                0.155556   \n",
              "3                                            No, mai                0.205128   \n",
              "4  L'Autorità di vigilanza sui contratti pubblici...                0.074074   \n",
              "\n",
              "   answer_resource_overlap  dcg_query  dcg_answer  \n",
              "0                 0.000000   0.817908    0.000000  \n",
              "1                 0.000000   0.436164    0.000000  \n",
              "2                 0.000000   0.209896    0.000000  \n",
              "3                 0.000000   0.339168    0.000000  \n",
              "4                 0.433333   0.130572    0.885913  "
            ]
          },
          "execution_count": 79,
          "metadata": {},
          "output_type": "execute_result"
        }
      ],
      "source": [
        "retrieval_dataset = pd.DataFrame.from_dict(retriever_stats)\n",
        "retrieval_dataset.head()"
      ]
    },
    {
      "cell_type": "code",
      "execution_count": null,
      "metadata": {
        "colab": {
          "base_uri": "https://localhost:8080/"
        },
        "id": "R_dMQbZltLxq",
        "outputId": "e6e97b51-c729-4346-a812-ea79b2b85cc1"
      },
      "outputs": [
        {
          "name": "stdout",
          "output_type": "stream",
          "text": [
            "AVERAGE STATISTICS\n",
            "\t - QUERY_RESOURCE_OVERLAP : 0.2568\n",
            "\t - DCG_ANSWER : 0.2375\n",
            "\t - ANSWER_RESOURCE_OVERLAP : 0.1305\n",
            "\t - DCG_QUERY : 0.4523\n"
          ]
        }
      ],
      "source": [
        "# BAAI/bge-base-en-v1.5\n",
        "compute_avg_stats(retriever_stats)"
      ]
    },
    {
      "cell_type": "markdown",
      "metadata": {
        "id": "2VSwqq0Tc-u8"
      },
      "source": [
        "##### ENCODER MODEL <-- BAI/bge-small-en"
      ]
    },
    {
      "cell_type": "code",
      "execution_count": null,
      "metadata": {
        "id": "EYEZnKXrLYhs"
      },
      "outputs": [],
      "source": [
        "service_context = ServiceContext.from_defaults(llm_predictor=llm_predictor,\n",
        "                                               embed_model='local', # BAI/bge-small-en default implementation\n",
        "                                               prompt_helper=prompt_helper)\n",
        "vector_index = VectorStoreIndex(nodes,\n",
        "                                service_context=service_context)\n",
        "\n",
        "retriever = vector_index.as_retriever(similarity_top_k=3)"
      ]
    },
    {
      "cell_type": "code",
      "execution_count": null,
      "metadata": {
        "colab": {
          "base_uri": "https://localhost:8080/",
          "height": 225
        },
        "id": "D33PzKuqLzC-",
        "outputId": "a16ad9cc-2116-495e-e15c-30db8a641476"
      },
      "outputs": [
        {
          "name": "stderr",
          "output_type": "stream",
          "text": [
            "100%|██████████| 451/451 [00:54<00:00,  8.33it/s]\n"
          ]
        },
        {
          "data": {
            "text/html": [
              "\n",
              "  <div id=\"df-942e4bd0-21a6-4d0e-8ba5-160efa79e2f4\" class=\"colab-df-container\">\n",
              "    <div>\n",
              "<style scoped>\n",
              "    .dataframe tbody tr th:only-of-type {\n",
              "        vertical-align: middle;\n",
              "    }\n",
              "\n",
              "    .dataframe tbody tr th {\n",
              "        vertical-align: top;\n",
              "    }\n",
              "\n",
              "    .dataframe thead th {\n",
              "        text-align: right;\n",
              "    }\n",
              "</style>\n",
              "<table border=\"1\" class=\"dataframe\">\n",
              "  <thead>\n",
              "    <tr style=\"text-align: right;\">\n",
              "      <th></th>\n",
              "      <th>query</th>\n",
              "      <th>answer</th>\n",
              "      <th>query_resource_overlap</th>\n",
              "      <th>answer_resource_overlap</th>\n",
              "      <th>dcg_query</th>\n",
              "      <th>dcg_answer</th>\n",
              "    </tr>\n",
              "  </thead>\n",
              "  <tbody>\n",
              "    <tr>\n",
              "      <th>0</th>\n",
              "      <td>A chi è demandata la valutazione dell'offerta ...</td>\n",
              "      <td>A una commissione giudicatrice</td>\n",
              "      <td>0.433333</td>\n",
              "      <td>0.000000</td>\n",
              "      <td>0.699591</td>\n",
              "      <td>0.000000</td>\n",
              "    </tr>\n",
              "    <tr>\n",
              "      <th>1</th>\n",
              "      <td>A cosa è tenuto l'operatore economico che part...</td>\n",
              "      <td>Deve usare conti correnti postali o bancari de...</td>\n",
              "      <td>0.242424</td>\n",
              "      <td>0.000000</td>\n",
              "      <td>0.396876</td>\n",
              "      <td>0.000000</td>\n",
              "    </tr>\n",
              "    <tr>\n",
              "      <th>2</th>\n",
              "      <td>A fronte dell'iniziativa di una stazione appal...</td>\n",
              "      <td>vincolante</td>\n",
              "      <td>0.266667</td>\n",
              "      <td>0.000000</td>\n",
              "      <td>0.564735</td>\n",
              "      <td>0.000000</td>\n",
              "    </tr>\n",
              "    <tr>\n",
              "      <th>3</th>\n",
              "      <td>A norma del Codice dei contratti pubblici e de...</td>\n",
              "      <td>No, mai</td>\n",
              "      <td>0.076923</td>\n",
              "      <td>0.000000</td>\n",
              "      <td>0.098382</td>\n",
              "      <td>0.000000</td>\n",
              "    </tr>\n",
              "    <tr>\n",
              "      <th>4</th>\n",
              "      <td>A norma delle Legge 136 del 2010 chi attribuis...</td>\n",
              "      <td>L'Autorità di vigilanza sui contratti pubblici...</td>\n",
              "      <td>0.370370</td>\n",
              "      <td>0.333333</td>\n",
              "      <td>0.654742</td>\n",
              "      <td>0.623604</td>\n",
              "    </tr>\n",
              "  </tbody>\n",
              "</table>\n",
              "</div>\n",
              "    <div class=\"colab-df-buttons\">\n",
              "\n",
              "  <div class=\"colab-df-container\">\n",
              "    <button class=\"colab-df-convert\" onclick=\"convertToInteractive('df-942e4bd0-21a6-4d0e-8ba5-160efa79e2f4')\"\n",
              "            title=\"Convert this dataframe to an interactive table.\"\n",
              "            style=\"display:none;\">\n",
              "\n",
              "  <svg xmlns=\"http://www.w3.org/2000/svg\" height=\"24px\" viewBox=\"0 -960 960 960\">\n",
              "    <path d=\"M120-120v-720h720v720H120Zm60-500h600v-160H180v160Zm220 220h160v-160H400v160Zm0 220h160v-160H400v160ZM180-400h160v-160H180v160Zm440 0h160v-160H620v160ZM180-180h160v-160H180v160Zm440 0h160v-160H620v160Z\"/>\n",
              "  </svg>\n",
              "    </button>\n",
              "\n",
              "  <style>\n",
              "    .colab-df-container {\n",
              "      display:flex;\n",
              "      gap: 12px;\n",
              "    }\n",
              "\n",
              "    .colab-df-convert {\n",
              "      background-color: #E8F0FE;\n",
              "      border: none;\n",
              "      border-radius: 50%;\n",
              "      cursor: pointer;\n",
              "      display: none;\n",
              "      fill: #1967D2;\n",
              "      height: 32px;\n",
              "      padding: 0 0 0 0;\n",
              "      width: 32px;\n",
              "    }\n",
              "\n",
              "    .colab-df-convert:hover {\n",
              "      background-color: #E2EBFA;\n",
              "      box-shadow: 0px 1px 2px rgba(60, 64, 67, 0.3), 0px 1px 3px 1px rgba(60, 64, 67, 0.15);\n",
              "      fill: #174EA6;\n",
              "    }\n",
              "\n",
              "    .colab-df-buttons div {\n",
              "      margin-bottom: 4px;\n",
              "    }\n",
              "\n",
              "    [theme=dark] .colab-df-convert {\n",
              "      background-color: #3B4455;\n",
              "      fill: #D2E3FC;\n",
              "    }\n",
              "\n",
              "    [theme=dark] .colab-df-convert:hover {\n",
              "      background-color: #434B5C;\n",
              "      box-shadow: 0px 1px 3px 1px rgba(0, 0, 0, 0.15);\n",
              "      filter: drop-shadow(0px 1px 2px rgba(0, 0, 0, 0.3));\n",
              "      fill: #FFFFFF;\n",
              "    }\n",
              "  </style>\n",
              "\n",
              "    <script>\n",
              "      const buttonEl =\n",
              "        document.querySelector('#df-942e4bd0-21a6-4d0e-8ba5-160efa79e2f4 button.colab-df-convert');\n",
              "      buttonEl.style.display =\n",
              "        google.colab.kernel.accessAllowed ? 'block' : 'none';\n",
              "\n",
              "      async function convertToInteractive(key) {\n",
              "        const element = document.querySelector('#df-942e4bd0-21a6-4d0e-8ba5-160efa79e2f4');\n",
              "        const dataTable =\n",
              "          await google.colab.kernel.invokeFunction('convertToInteractive',\n",
              "                                                    [key], {});\n",
              "        if (!dataTable) return;\n",
              "\n",
              "        const docLinkHtml = 'Like what you see? Visit the ' +\n",
              "          '<a target=\"_blank\" href=https://colab.research.google.com/notebooks/data_table.ipynb>data table notebook</a>'\n",
              "          + ' to learn more about interactive tables.';\n",
              "        element.innerHTML = '';\n",
              "        dataTable['output_type'] = 'display_data';\n",
              "        await google.colab.output.renderOutput(dataTable, element);\n",
              "        const docLink = document.createElement('div');\n",
              "        docLink.innerHTML = docLinkHtml;\n",
              "        element.appendChild(docLink);\n",
              "      }\n",
              "    </script>\n",
              "  </div>\n",
              "\n",
              "\n",
              "<div id=\"df-8f1226a0-5fd8-46a0-badd-8ecf5f5dcb72\">\n",
              "  <button class=\"colab-df-quickchart\" onclick=\"quickchart('df-8f1226a0-5fd8-46a0-badd-8ecf5f5dcb72')\"\n",
              "            title=\"Suggest charts\"\n",
              "            style=\"display:none;\">\n",
              "\n",
              "<svg xmlns=\"http://www.w3.org/2000/svg\" height=\"24px\"viewBox=\"0 0 24 24\"\n",
              "     width=\"24px\">\n",
              "    <g>\n",
              "        <path d=\"M19 3H5c-1.1 0-2 .9-2 2v14c0 1.1.9 2 2 2h14c1.1 0 2-.9 2-2V5c0-1.1-.9-2-2-2zM9 17H7v-7h2v7zm4 0h-2V7h2v10zm4 0h-2v-4h2v4z\"/>\n",
              "    </g>\n",
              "</svg>\n",
              "  </button>\n",
              "\n",
              "<style>\n",
              "  .colab-df-quickchart {\n",
              "      --bg-color: #E8F0FE;\n",
              "      --fill-color: #1967D2;\n",
              "      --hover-bg-color: #E2EBFA;\n",
              "      --hover-fill-color: #174EA6;\n",
              "      --disabled-fill-color: #AAA;\n",
              "      --disabled-bg-color: #DDD;\n",
              "  }\n",
              "\n",
              "  [theme=dark] .colab-df-quickchart {\n",
              "      --bg-color: #3B4455;\n",
              "      --fill-color: #D2E3FC;\n",
              "      --hover-bg-color: #434B5C;\n",
              "      --hover-fill-color: #FFFFFF;\n",
              "      --disabled-bg-color: #3B4455;\n",
              "      --disabled-fill-color: #666;\n",
              "  }\n",
              "\n",
              "  .colab-df-quickchart {\n",
              "    background-color: var(--bg-color);\n",
              "    border: none;\n",
              "    border-radius: 50%;\n",
              "    cursor: pointer;\n",
              "    display: none;\n",
              "    fill: var(--fill-color);\n",
              "    height: 32px;\n",
              "    padding: 0;\n",
              "    width: 32px;\n",
              "  }\n",
              "\n",
              "  .colab-df-quickchart:hover {\n",
              "    background-color: var(--hover-bg-color);\n",
              "    box-shadow: 0 1px 2px rgba(60, 64, 67, 0.3), 0 1px 3px 1px rgba(60, 64, 67, 0.15);\n",
              "    fill: var(--button-hover-fill-color);\n",
              "  }\n",
              "\n",
              "  .colab-df-quickchart-complete:disabled,\n",
              "  .colab-df-quickchart-complete:disabled:hover {\n",
              "    background-color: var(--disabled-bg-color);\n",
              "    fill: var(--disabled-fill-color);\n",
              "    box-shadow: none;\n",
              "  }\n",
              "\n",
              "  .colab-df-spinner {\n",
              "    border: 2px solid var(--fill-color);\n",
              "    border-color: transparent;\n",
              "    border-bottom-color: var(--fill-color);\n",
              "    animation:\n",
              "      spin 1s steps(1) infinite;\n",
              "  }\n",
              "\n",
              "  @keyframes spin {\n",
              "    0% {\n",
              "      border-color: transparent;\n",
              "      border-bottom-color: var(--fill-color);\n",
              "      border-left-color: var(--fill-color);\n",
              "    }\n",
              "    20% {\n",
              "      border-color: transparent;\n",
              "      border-left-color: var(--fill-color);\n",
              "      border-top-color: var(--fill-color);\n",
              "    }\n",
              "    30% {\n",
              "      border-color: transparent;\n",
              "      border-left-color: var(--fill-color);\n",
              "      border-top-color: var(--fill-color);\n",
              "      border-right-color: var(--fill-color);\n",
              "    }\n",
              "    40% {\n",
              "      border-color: transparent;\n",
              "      border-right-color: var(--fill-color);\n",
              "      border-top-color: var(--fill-color);\n",
              "    }\n",
              "    60% {\n",
              "      border-color: transparent;\n",
              "      border-right-color: var(--fill-color);\n",
              "    }\n",
              "    80% {\n",
              "      border-color: transparent;\n",
              "      border-right-color: var(--fill-color);\n",
              "      border-bottom-color: var(--fill-color);\n",
              "    }\n",
              "    90% {\n",
              "      border-color: transparent;\n",
              "      border-bottom-color: var(--fill-color);\n",
              "    }\n",
              "  }\n",
              "</style>\n",
              "\n",
              "  <script>\n",
              "    async function quickchart(key) {\n",
              "      const quickchartButtonEl =\n",
              "        document.querySelector('#' + key + ' button');\n",
              "      quickchartButtonEl.disabled = true;  // To prevent multiple clicks.\n",
              "      quickchartButtonEl.classList.add('colab-df-spinner');\n",
              "      try {\n",
              "        const charts = await google.colab.kernel.invokeFunction(\n",
              "            'suggestCharts', [key], {});\n",
              "      } catch (error) {\n",
              "        console.error('Error during call to suggestCharts:', error);\n",
              "      }\n",
              "      quickchartButtonEl.classList.remove('colab-df-spinner');\n",
              "      quickchartButtonEl.classList.add('colab-df-quickchart-complete');\n",
              "    }\n",
              "    (() => {\n",
              "      let quickchartButtonEl =\n",
              "        document.querySelector('#df-8f1226a0-5fd8-46a0-badd-8ecf5f5dcb72 button');\n",
              "      quickchartButtonEl.style.display =\n",
              "        google.colab.kernel.accessAllowed ? 'block' : 'none';\n",
              "    })();\n",
              "  </script>\n",
              "</div>\n",
              "    </div>\n",
              "  </div>\n"
            ],
            "text/plain": [
              "                                               query  \\\n",
              "0  A chi è demandata la valutazione dell'offerta ...   \n",
              "1  A cosa è tenuto l'operatore economico che part...   \n",
              "2  A fronte dell'iniziativa di una stazione appal...   \n",
              "3  A norma del Codice dei contratti pubblici e de...   \n",
              "4  A norma delle Legge 136 del 2010 chi attribuis...   \n",
              "\n",
              "                                              answer  query_resource_overlap  \\\n",
              "0                     A una commissione giudicatrice                0.433333   \n",
              "1  Deve usare conti correnti postali o bancari de...                0.242424   \n",
              "2                                         vincolante                0.266667   \n",
              "3                                            No, mai                0.076923   \n",
              "4  L'Autorità di vigilanza sui contratti pubblici...                0.370370   \n",
              "\n",
              "   answer_resource_overlap  dcg_query  dcg_answer  \n",
              "0                 0.000000   0.699591    0.000000  \n",
              "1                 0.000000   0.396876    0.000000  \n",
              "2                 0.000000   0.564735    0.000000  \n",
              "3                 0.000000   0.098382    0.000000  \n",
              "4                 0.333333   0.654742    0.623604  "
            ]
          },
          "execution_count": 25,
          "metadata": {},
          "output_type": "execute_result"
        }
      ],
      "source": [
        "local_retriever_stats = evaluate_retriever_handler(retriever, ca_dataset)\n",
        "\n",
        "local_retrieval_dataset = pd.DataFrame.from_dict(local_retriever_stats)\n",
        "local_retrieval_dataset.to_csv('ca_local_retrieval_stats.csv')\n",
        "local_retrieval_dataset.head()"
      ]
    },
    {
      "cell_type": "code",
      "execution_count": null,
      "metadata": {
        "colab": {
          "base_uri": "https://localhost:8080/"
        },
        "id": "kOcJVPnTMkVJ",
        "outputId": "b53e50a8-5e0a-48fb-f7d7-af6d54559548"
      },
      "outputs": [
        {
          "name": "stdout",
          "output_type": "stream",
          "text": [
            "AVERAGE STATISTICS\n",
            "\t - ANSWER_RESOURCE_OVERLAP : 0.161\n",
            "\t - DCG_ANSWER : 0.3024\n",
            "\t - QUERY_RESOURCE_OVERLAP : 0.2863\n",
            "\t - DCG_QUERY : 0.5116\n"
          ]
        }
      ],
      "source": [
        "# BAI/bge-small-en\n",
        "compute_avg_stats(local_retriever_stats)"
      ]
    },
    {
      "cell_type": "markdown",
      "metadata": {
        "id": "sk3Y_pmUuuH8"
      },
      "source": [
        "The obtained results show a slight difference between the two retrieval encoders regarding the query-resource similarity. However, the `BAI/bge-small-en` provide a more significant improvement in the relevance of retrieved documents with respect to the expected answer. If we had to choose among the two options, even if the BAAI/bge-base-en-v1.5 encoder were to perform better in query-resource precision, we would still need to use the BAI/bge-small-en as it provides more informative information for the model to derive a faithful and accurate answer.\n",
        "\n",
        "\n",
        "__Encoder Model__ | __Query-Resource Overlap__ | __DCG-Query__ | __Answer-Resource Overlap__  | __DCG-Answer__\n",
        ":---: | :---: | :---: | :---: | :---:\n",
        "__BAAI/bge-base-en-v1.5__ | 0.2568 | 0.4523 | 0.1305 | 0.2375\n",
        "__BAI/bge-small-en__ | 0.2863 | 0.5116 | 0.161 | 0.3024\n"
      ]
    },
    {
      "cell_type": "markdown",
      "metadata": {
        "id": "_21qp7oZOhNB"
      },
      "source": [
        "### Natural Language to SQL\n",
        "Let's create a pipeline for the generation of SQL queries starting from natural language."
      ]
    },
    {
      "cell_type": "code",
      "execution_count": null,
      "metadata": {
        "id": "8gRkQWJfOnw3"
      },
      "outputs": [],
      "source": [
        "!pip install -qU sqlalchemy"
      ]
    },
    {
      "cell_type": "code",
      "execution_count": null,
      "metadata": {
        "id": "BZX5Ey-SOwj5"
      },
      "outputs": [],
      "source": [
        "from sqlalchemy import create_engine\n",
        "from llama_index import SQLDatabase\n",
        "from llama_index import ServiceContext\n",
        "from llama_index.indices.struct_store.sql_query import NLSQLTableQueryEngine\n",
        "from llama_index.tools.query_engine import QueryEngineTool"
      ]
    },
    {
      "cell_type": "code",
      "execution_count": null,
      "metadata": {
        "colab": {
          "base_uri": "https://localhost:8080/",
          "height": 574
        },
        "id": "MjL-Efj7QtnV",
        "outputId": "16af6f2b-1785-4a4f-a47c-657a72d60c61"
      },
      "outputs": [
        {
          "data": {
            "application/vnd.google.colaboratory.intrinsic+json": {
              "repr_error": "'str' object has no attribute 'empty'",
              "type": "dataframe",
              "variable_name": "df"
            },
            "text/html": [
              "\n",
              "  <div id=\"df-938766e5-dac9-4dc6-93ea-dfc019232d88\" class=\"colab-df-container\">\n",
              "    <div>\n",
              "<style scoped>\n",
              "    .dataframe tbody tr th:only-of-type {\n",
              "        vertical-align: middle;\n",
              "    }\n",
              "\n",
              "    .dataframe tbody tr th {\n",
              "        vertical-align: top;\n",
              "    }\n",
              "\n",
              "    .dataframe thead th {\n",
              "        text-align: right;\n",
              "    }\n",
              "</style>\n",
              "<table border=\"1\" class=\"dataframe\">\n",
              "  <thead>\n",
              "    <tr style=\"text-align: right;\">\n",
              "      <th></th>\n",
              "      <th>OverallRating</th>\n",
              "      <th>ReviewHeader</th>\n",
              "      <th>Name</th>\n",
              "      <th>Datetime</th>\n",
              "      <th>VerifiedReview</th>\n",
              "      <th>ReviewBody</th>\n",
              "      <th>TypeOfTraveller</th>\n",
              "      <th>SeatType</th>\n",
              "      <th>Route</th>\n",
              "      <th>DateFlown</th>\n",
              "      <th>SeatComfort</th>\n",
              "      <th>CabinStaffService</th>\n",
              "      <th>GroundService</th>\n",
              "      <th>ValueForMoney</th>\n",
              "      <th>Recommended</th>\n",
              "      <th>Aircraft</th>\n",
              "      <th>Food&amp;Beverages</th>\n",
              "      <th>InflightEntertainment</th>\n",
              "      <th>Wifi&amp;Connectivity</th>\n",
              "    </tr>\n",
              "  </thead>\n",
              "  <tbody>\n",
              "    <tr>\n",
              "      <th>1</th>\n",
              "      <td>3.0</td>\n",
              "      <td>\"do not upgrade members based on status\"</td>\n",
              "      <td>Austin Jones</td>\n",
              "      <td>19th November 2023</td>\n",
              "      <td>True</td>\n",
              "      <td>I recently had a delay on British Airways from...</td>\n",
              "      <td>Business</td>\n",
              "      <td>Economy Class</td>\n",
              "      <td>Brussels to London</td>\n",
              "      <td>November 2023</td>\n",
              "      <td>2.0</td>\n",
              "      <td>3.0</td>\n",
              "      <td>1.0</td>\n",
              "      <td>2.0</td>\n",
              "      <td>no</td>\n",
              "      <td>A320</td>\n",
              "      <td>1.0</td>\n",
              "      <td>2.0</td>\n",
              "      <td>2.0</td>\n",
              "    </tr>\n",
              "    <tr>\n",
              "      <th>8</th>\n",
              "      <td>2.0</td>\n",
              "      <td>\"Angry, disappointed, and unsatisfied\"</td>\n",
              "      <td>Massimo Tricca</td>\n",
              "      <td>5th November 2023</td>\n",
              "      <td>False</td>\n",
              "      <td>Angry, disappointed, and unsatisfied. My route...</td>\n",
              "      <td>Family Leisure</td>\n",
              "      <td>Economy Class</td>\n",
              "      <td>London Heatrow to Atlanta</td>\n",
              "      <td>November 2023</td>\n",
              "      <td>4.0</td>\n",
              "      <td>5.0</td>\n",
              "      <td>3.0</td>\n",
              "      <td>5.0</td>\n",
              "      <td>yes</td>\n",
              "      <td>Boeing 777</td>\n",
              "      <td>4.0</td>\n",
              "      <td>4.0</td>\n",
              "      <td>3.0</td>\n",
              "    </tr>\n",
              "    <tr>\n",
              "      <th>25</th>\n",
              "      <td>5.0</td>\n",
              "      <td>\"Club Europe is simply a joke\"</td>\n",
              "      <td>M Dale</td>\n",
              "      <td>14th October 2023</td>\n",
              "      <td>True</td>\n",
              "      <td>I am a frequent flyer with BA and have been fo...</td>\n",
              "      <td>Business</td>\n",
              "      <td>Business Class</td>\n",
              "      <td>London to Istanbul</td>\n",
              "      <td>October 2023</td>\n",
              "      <td>3.0</td>\n",
              "      <td>4.0</td>\n",
              "      <td>3.0</td>\n",
              "      <td>2.0</td>\n",
              "      <td>no</td>\n",
              "      <td>A320</td>\n",
              "      <td>1.0</td>\n",
              "      <td>1.0</td>\n",
              "      <td>1.0</td>\n",
              "    </tr>\n",
              "    <tr>\n",
              "      <th>33</th>\n",
              "      <td>10.0</td>\n",
              "      <td>\"Excellent service levels\"</td>\n",
              "      <td>Peter Costello</td>\n",
              "      <td>7th October 2023</td>\n",
              "      <td>True</td>\n",
              "      <td>Excellent service levels, proactive crew and s...</td>\n",
              "      <td>Solo Leisure</td>\n",
              "      <td>First Class</td>\n",
              "      <td>London to New York JFK</td>\n",
              "      <td>October 2023</td>\n",
              "      <td>5.0</td>\n",
              "      <td>5.0</td>\n",
              "      <td>5.0</td>\n",
              "      <td>5.0</td>\n",
              "      <td>yes</td>\n",
              "      <td>Boeing 777</td>\n",
              "      <td>5.0</td>\n",
              "      <td>4.0</td>\n",
              "      <td>5.0</td>\n",
              "    </tr>\n",
              "    <tr>\n",
              "      <th>34</th>\n",
              "      <td>1.0</td>\n",
              "      <td>\"British Airways was absolutely shocking\"</td>\n",
              "      <td>Kane Kelly</td>\n",
              "      <td>5th October 2023</td>\n",
              "      <td>False</td>\n",
              "      <td>Booked a very special holiday for me and my pa...</td>\n",
              "      <td>Couple Leisure</td>\n",
              "      <td>Business Class</td>\n",
              "      <td>Heathrow to Marseille</td>\n",
              "      <td>August 2023</td>\n",
              "      <td>1.0</td>\n",
              "      <td>1.0</td>\n",
              "      <td>1.0</td>\n",
              "      <td>1.0</td>\n",
              "      <td>no</td>\n",
              "      <td>BA366</td>\n",
              "      <td>1.0</td>\n",
              "      <td>1.0</td>\n",
              "      <td>1.0</td>\n",
              "    </tr>\n",
              "  </tbody>\n",
              "</table>\n",
              "</div>\n",
              "    <div class=\"colab-df-buttons\">\n",
              "\n",
              "  <div class=\"colab-df-container\">\n",
              "    <button class=\"colab-df-convert\" onclick=\"convertToInteractive('df-938766e5-dac9-4dc6-93ea-dfc019232d88')\"\n",
              "            title=\"Convert this dataframe to an interactive table.\"\n",
              "            style=\"display:none;\">\n",
              "\n",
              "  <svg xmlns=\"http://www.w3.org/2000/svg\" height=\"24px\" viewBox=\"0 -960 960 960\">\n",
              "    <path d=\"M120-120v-720h720v720H120Zm60-500h600v-160H180v160Zm220 220h160v-160H400v160Zm0 220h160v-160H400v160ZM180-400h160v-160H180v160Zm440 0h160v-160H620v160ZM180-180h160v-160H180v160Zm440 0h160v-160H620v160Z\"/>\n",
              "  </svg>\n",
              "    </button>\n",
              "\n",
              "  <style>\n",
              "    .colab-df-container {\n",
              "      display:flex;\n",
              "      gap: 12px;\n",
              "    }\n",
              "\n",
              "    .colab-df-convert {\n",
              "      background-color: #E8F0FE;\n",
              "      border: none;\n",
              "      border-radius: 50%;\n",
              "      cursor: pointer;\n",
              "      display: none;\n",
              "      fill: #1967D2;\n",
              "      height: 32px;\n",
              "      padding: 0 0 0 0;\n",
              "      width: 32px;\n",
              "    }\n",
              "\n",
              "    .colab-df-convert:hover {\n",
              "      background-color: #E2EBFA;\n",
              "      box-shadow: 0px 1px 2px rgba(60, 64, 67, 0.3), 0px 1px 3px 1px rgba(60, 64, 67, 0.15);\n",
              "      fill: #174EA6;\n",
              "    }\n",
              "\n",
              "    .colab-df-buttons div {\n",
              "      margin-bottom: 4px;\n",
              "    }\n",
              "\n",
              "    [theme=dark] .colab-df-convert {\n",
              "      background-color: #3B4455;\n",
              "      fill: #D2E3FC;\n",
              "    }\n",
              "\n",
              "    [theme=dark] .colab-df-convert:hover {\n",
              "      background-color: #434B5C;\n",
              "      box-shadow: 0px 1px 3px 1px rgba(0, 0, 0, 0.15);\n",
              "      filter: drop-shadow(0px 1px 2px rgba(0, 0, 0, 0.3));\n",
              "      fill: #FFFFFF;\n",
              "    }\n",
              "  </style>\n",
              "\n",
              "    <script>\n",
              "      const buttonEl =\n",
              "        document.querySelector('#df-938766e5-dac9-4dc6-93ea-dfc019232d88 button.colab-df-convert');\n",
              "      buttonEl.style.display =\n",
              "        google.colab.kernel.accessAllowed ? 'block' : 'none';\n",
              "\n",
              "      async function convertToInteractive(key) {\n",
              "        const element = document.querySelector('#df-938766e5-dac9-4dc6-93ea-dfc019232d88');\n",
              "        const dataTable =\n",
              "          await google.colab.kernel.invokeFunction('convertToInteractive',\n",
              "                                                    [key], {});\n",
              "        if (!dataTable) return;\n",
              "\n",
              "        const docLinkHtml = 'Like what you see? Visit the ' +\n",
              "          '<a target=\"_blank\" href=https://colab.research.google.com/notebooks/data_table.ipynb>data table notebook</a>'\n",
              "          + ' to learn more about interactive tables.';\n",
              "        element.innerHTML = '';\n",
              "        dataTable['output_type'] = 'display_data';\n",
              "        await google.colab.output.renderOutput(dataTable, element);\n",
              "        const docLink = document.createElement('div');\n",
              "        docLink.innerHTML = docLinkHtml;\n",
              "        element.appendChild(docLink);\n",
              "      }\n",
              "    </script>\n",
              "  </div>\n",
              "\n",
              "\n",
              "<div id=\"df-227c3721-b757-42ba-9553-a3a686cd9302\">\n",
              "  <button class=\"colab-df-quickchart\" onclick=\"quickchart('df-227c3721-b757-42ba-9553-a3a686cd9302')\"\n",
              "            title=\"Suggest charts\"\n",
              "            style=\"display:none;\">\n",
              "\n",
              "<svg xmlns=\"http://www.w3.org/2000/svg\" height=\"24px\"viewBox=\"0 0 24 24\"\n",
              "     width=\"24px\">\n",
              "    <g>\n",
              "        <path d=\"M19 3H5c-1.1 0-2 .9-2 2v14c0 1.1.9 2 2 2h14c1.1 0 2-.9 2-2V5c0-1.1-.9-2-2-2zM9 17H7v-7h2v7zm4 0h-2V7h2v10zm4 0h-2v-4h2v4z\"/>\n",
              "    </g>\n",
              "</svg>\n",
              "  </button>\n",
              "\n",
              "<style>\n",
              "  .colab-df-quickchart {\n",
              "      --bg-color: #E8F0FE;\n",
              "      --fill-color: #1967D2;\n",
              "      --hover-bg-color: #E2EBFA;\n",
              "      --hover-fill-color: #174EA6;\n",
              "      --disabled-fill-color: #AAA;\n",
              "      --disabled-bg-color: #DDD;\n",
              "  }\n",
              "\n",
              "  [theme=dark] .colab-df-quickchart {\n",
              "      --bg-color: #3B4455;\n",
              "      --fill-color: #D2E3FC;\n",
              "      --hover-bg-color: #434B5C;\n",
              "      --hover-fill-color: #FFFFFF;\n",
              "      --disabled-bg-color: #3B4455;\n",
              "      --disabled-fill-color: #666;\n",
              "  }\n",
              "\n",
              "  .colab-df-quickchart {\n",
              "    background-color: var(--bg-color);\n",
              "    border: none;\n",
              "    border-radius: 50%;\n",
              "    cursor: pointer;\n",
              "    display: none;\n",
              "    fill: var(--fill-color);\n",
              "    height: 32px;\n",
              "    padding: 0;\n",
              "    width: 32px;\n",
              "  }\n",
              "\n",
              "  .colab-df-quickchart:hover {\n",
              "    background-color: var(--hover-bg-color);\n",
              "    box-shadow: 0 1px 2px rgba(60, 64, 67, 0.3), 0 1px 3px 1px rgba(60, 64, 67, 0.15);\n",
              "    fill: var(--button-hover-fill-color);\n",
              "  }\n",
              "\n",
              "  .colab-df-quickchart-complete:disabled,\n",
              "  .colab-df-quickchart-complete:disabled:hover {\n",
              "    background-color: var(--disabled-bg-color);\n",
              "    fill: var(--disabled-fill-color);\n",
              "    box-shadow: none;\n",
              "  }\n",
              "\n",
              "  .colab-df-spinner {\n",
              "    border: 2px solid var(--fill-color);\n",
              "    border-color: transparent;\n",
              "    border-bottom-color: var(--fill-color);\n",
              "    animation:\n",
              "      spin 1s steps(1) infinite;\n",
              "  }\n",
              "\n",
              "  @keyframes spin {\n",
              "    0% {\n",
              "      border-color: transparent;\n",
              "      border-bottom-color: var(--fill-color);\n",
              "      border-left-color: var(--fill-color);\n",
              "    }\n",
              "    20% {\n",
              "      border-color: transparent;\n",
              "      border-left-color: var(--fill-color);\n",
              "      border-top-color: var(--fill-color);\n",
              "    }\n",
              "    30% {\n",
              "      border-color: transparent;\n",
              "      border-left-color: var(--fill-color);\n",
              "      border-top-color: var(--fill-color);\n",
              "      border-right-color: var(--fill-color);\n",
              "    }\n",
              "    40% {\n",
              "      border-color: transparent;\n",
              "      border-right-color: var(--fill-color);\n",
              "      border-top-color: var(--fill-color);\n",
              "    }\n",
              "    60% {\n",
              "      border-color: transparent;\n",
              "      border-right-color: var(--fill-color);\n",
              "    }\n",
              "    80% {\n",
              "      border-color: transparent;\n",
              "      border-right-color: var(--fill-color);\n",
              "      border-bottom-color: var(--fill-color);\n",
              "    }\n",
              "    90% {\n",
              "      border-color: transparent;\n",
              "      border-bottom-color: var(--fill-color);\n",
              "    }\n",
              "  }\n",
              "</style>\n",
              "\n",
              "  <script>\n",
              "    async function quickchart(key) {\n",
              "      const quickchartButtonEl =\n",
              "        document.querySelector('#' + key + ' button');\n",
              "      quickchartButtonEl.disabled = true;  // To prevent multiple clicks.\n",
              "      quickchartButtonEl.classList.add('colab-df-spinner');\n",
              "      try {\n",
              "        const charts = await google.colab.kernel.invokeFunction(\n",
              "            'suggestCharts', [key], {});\n",
              "      } catch (error) {\n",
              "        console.error('Error during call to suggestCharts:', error);\n",
              "      }\n",
              "      quickchartButtonEl.classList.remove('colab-df-spinner');\n",
              "      quickchartButtonEl.classList.add('colab-df-quickchart-complete');\n",
              "    }\n",
              "    (() => {\n",
              "      let quickchartButtonEl =\n",
              "        document.querySelector('#df-227c3721-b757-42ba-9553-a3a686cd9302 button');\n",
              "      quickchartButtonEl.style.display =\n",
              "        google.colab.kernel.accessAllowed ? 'block' : 'none';\n",
              "    })();\n",
              "  </script>\n",
              "</div>\n",
              "    </div>\n",
              "  </div>\n"
            ],
            "text/plain": [
              "    OverallRating                               ReviewHeader            Name  \\\n",
              "1             3.0   \"do not upgrade members based on status\"    Austin Jones   \n",
              "8             2.0     \"Angry, disappointed, and unsatisfied\"  Massimo Tricca   \n",
              "25            5.0             \"Club Europe is simply a joke\"          M Dale   \n",
              "33           10.0                 \"Excellent service levels\"  Peter Costello   \n",
              "34            1.0  \"British Airways was absolutely shocking\"      Kane Kelly   \n",
              "\n",
              "              Datetime  VerifiedReview  \\\n",
              "1   19th November 2023            True   \n",
              "8    5th November 2023           False   \n",
              "25   14th October 2023            True   \n",
              "33    7th October 2023            True   \n",
              "34    5th October 2023           False   \n",
              "\n",
              "                                           ReviewBody TypeOfTraveller  \\\n",
              "1   I recently had a delay on British Airways from...        Business   \n",
              "8   Angry, disappointed, and unsatisfied. My route...  Family Leisure   \n",
              "25  I am a frequent flyer with BA and have been fo...        Business   \n",
              "33  Excellent service levels, proactive crew and s...    Solo Leisure   \n",
              "34  Booked a very special holiday for me and my pa...  Couple Leisure   \n",
              "\n",
              "          SeatType                      Route      DateFlown  SeatComfort  \\\n",
              "1    Economy Class         Brussels to London  November 2023          2.0   \n",
              "8    Economy Class  London Heatrow to Atlanta  November 2023          4.0   \n",
              "25  Business Class         London to Istanbul   October 2023          3.0   \n",
              "33     First Class     London to New York JFK   October 2023          5.0   \n",
              "34  Business Class      Heathrow to Marseille    August 2023          1.0   \n",
              "\n",
              "    CabinStaffService  GroundService  ValueForMoney Recommended    Aircraft  \\\n",
              "1                 3.0            1.0            2.0          no        A320   \n",
              "8                 5.0            3.0            5.0         yes  Boeing 777   \n",
              "25                4.0            3.0            2.0          no        A320   \n",
              "33                5.0            5.0            5.0         yes  Boeing 777   \n",
              "34                1.0            1.0            1.0          no       BA366   \n",
              "\n",
              "    Food&Beverages  InflightEntertainment  Wifi&Connectivity  \n",
              "1              1.0                    2.0                2.0  \n",
              "8              4.0                    4.0                3.0  \n",
              "25             1.0                    1.0                1.0  \n",
              "33             5.0                    4.0                5.0  \n",
              "34             1.0                    1.0                1.0  "
            ]
          },
          "execution_count": 12,
          "metadata": {},
          "output_type": "execute_result"
        }
      ],
      "source": [
        "DB_CSV_PATH = '/content/Seminar-Chatbot/BA_AirlineReviews.csv'\n",
        "\n",
        "df = pd.read_csv(DB_CSV_PATH)\n",
        "df = df.drop(columns=['Unnamed: 0']).dropna()\n",
        "df.head()"
      ]
    },
    {
      "cell_type": "markdown",
      "metadata": {
        "id": "_HrMYMN8RhX6"
      },
      "source": [
        "Let's now create a SQL database from the Pandas DataFrame."
      ]
    },
    {
      "cell_type": "code",
      "execution_count": null,
      "metadata": {
        "id": "LwTs2G5oRKzq"
      },
      "outputs": [],
      "source": [
        "engine = create_engine('sqlite://', echo=False)\n",
        "df.to_sql(name='reviews', con=engine)\n",
        "reviews_db = SQLDatabase(engine,include_tables=['reviews'])"
      ]
    },
    {
      "cell_type": "markdown",
      "metadata": {
        "id": "8ydNKq2fR116"
      },
      "source": [
        "We can now instantiate the LLM that will create queries and access this database."
      ]
    },
    {
      "cell_type": "code",
      "execution_count": null,
      "metadata": {
        "id": "9TMj7jBsR9Qg"
      },
      "outputs": [],
      "source": [
        "context_window = 8192\n",
        "max_output_tokens = 256\n",
        "\n",
        "prompt_helper_config = {\n",
        "    'context_window' : context_window,\n",
        "    'num_output' : max_output_tokens,\n",
        "    'chunk_overlap_ratio' : 0 # The percentage token amount that each chunk should overlap.\n",
        "}\n",
        "prompt_helper = PromptHelper(**prompt_helper_config)\n",
        "\n",
        "\n",
        "custom_model_config = {\n",
        "    'verbose' : True,\n",
        "    'temperature' : 0.2,\n",
        "    'max_new_tokens' : max_output_tokens,\n",
        "    'model_kwargs' : {\n",
        "        \"n_gpu_layers\": 50, # map layer to GPU\n",
        "        \"device\" : device,\n",
        "        \"stop\" : ['[|Umano|]', '[|AI|]','[end of text]'],\n",
        "    }\n",
        "}\n",
        "\n",
        "llm = LlamaCPP(\n",
        "    model_path=zephyr_model_file,\n",
        "    context_window=context_window,\n",
        "    **custom_model_config\n",
        ")\n",
        "llm_predictor = LLMPredictor(llm=llm)\n",
        "\n",
        "# Create Service Context Manager\n",
        "service_context = ServiceContext.from_defaults(llm_predictor=llm_predictor,\n",
        "                                               embed_model='local',\n",
        "                                               prompt_helper=prompt_helper)"
      ]
    },
    {
      "cell_type": "markdown",
      "metadata": {
        "id": "hs4lTqq-S8HW"
      },
      "source": [
        "Once we have constructed our SQL database, we can use the `NLSQLTableQueryEngine` to construct natural language queries that are synthesized into SQL queries.\n"
      ]
    },
    {
      "cell_type": "code",
      "execution_count": null,
      "metadata": {
        "id": "f8gZw3lIS641"
      },
      "outputs": [],
      "source": [
        "sql_query_engine = NLSQLTableQueryEngine(sql_database=reviews_db,\n",
        "                                         tables=['reviews'],\n",
        "                                         service_context=service_context)"
      ]
    },
    {
      "cell_type": "markdown",
      "metadata": {
        "id": "DpFY9hM2TFyB"
      },
      "source": [
        "Let's define a prompt that can help the model understand the query for the translation of plain text into queries"
      ]
    },
    {
      "cell_type": "code",
      "execution_count": null,
      "metadata": {
        "colab": {
          "base_uri": "https://localhost:8080/"
        },
        "id": "uSja-QJ5TPeU",
        "outputId": "d9a6018e-65cd-4117-fee9-3a8f92893a1c"
      },
      "outputs": [
        {
          "name": "stderr",
          "output_type": "stream",
          "text": [
            "\n",
            "llama_print_timings:        load time =     505.74 ms\n",
            "llama_print_timings:      sample time =     144.83 ms /   256 runs   (    0.57 ms per token,  1767.63 tokens per second)\n",
            "llama_print_timings: prompt eval time =     504.93 ms /   369 tokens (    1.37 ms per token,   730.80 tokens per second)\n",
            "llama_print_timings:        eval time =    6715.01 ms /   255 runs   (   26.33 ms per token,    37.97 tokens per second)\n",
            "llama_print_timings:       total time =    8230.78 ms /   624 tokens\n",
            "Llama.generate: prefix-match hit\n",
            "\n",
            "llama_print_timings:        load time =     505.74 ms\n",
            "llama_print_timings:      sample time =     140.73 ms /   256 runs   (    0.55 ms per token,  1819.11 tokens per second)\n",
            "llama_print_timings: prompt eval time =    1007.70 ms /   771 tokens (    1.31 ms per token,   765.11 tokens per second)\n",
            "llama_print_timings:        eval time =    7214.47 ms /   255 runs   (   28.29 ms per token,    35.35 tokens per second)\n",
            "llama_print_timings:       total time =    9289.95 ms /  1026 tokens\n"
          ]
        }
      ],
      "source": [
        "description = (\"\"\"\n",
        "    Provides information about airlines reviews from reviews table.\n",
        "    Use a detailed plain text question as input to the tool.\n",
        "\"\"\")\n",
        "\n",
        "QUEST = \"What are the top 10 bad ReviewBody?\"\n",
        "INPUT = f\"{description}\\n{QUEST}\"\n",
        "\n",
        "response = sql_query_engine.query(INPUT)"
      ]
    },
    {
      "cell_type": "code",
      "execution_count": null,
      "metadata": {
        "colab": {
          "base_uri": "https://localhost:8080/",
          "height": 390
        },
        "id": "Afz8eZ-4URE-",
        "outputId": "34073bc4-2f16-4a77-eaf9-d3cf1ead7836"
      },
      "outputs": [
        {
          "data": {
            "text/markdown": [
              "\n",
              "## Question\n",
              "\n",
              "What are the top 10 bad ReviewBody?\n",
              "\n",
              "## Answer\n",
              "```\n",
              "\n",
              "The following are the top 10 worst ReviewBodies based on OverallRating:\n",
              "\n",
              "1. \"Excellent service levels, proactive crew and superb food and beverages. I found all aspects of the service to be superior to BA business class, even though the departure was delayed due to chaos among ground staff at Vancouver. The crew made the flight outstanding.\" (543 characters truncated) ... Ent, solid, comfortable service from start to finish and if the price was right, I would not hesitate to book First Class with British Airways again.\"\n",
              "\n",
              "2. \"This review is specifically about Maddie, crew member who took care of us. She was attentive, warm, friendly and nothing was too much trouble. Smiling from start to finish. She should be the brand ambassador for BA.\"\n",
              "\n",
              "3. \"Outstanding inflight service from the crew. Friendly, professional and helpful. The very best of British. Even though the departure was delayed due to chaos among ground staff at Vancouver, it didn’t matter. The crew made the flight outstanding.\"\n",
              "\n",
              "4. \"Check in at IAD was quick and easy. Lounge in Washington was a BA lounge and\n",
              "```\n",
              "## Generated SQL Query\n",
              "```\n",
              "SELECT ReviewBody FROM reviews ORDER BY OverallRating DESC LIMIT 10;\n",
              "```\n"
            ],
            "text/plain": [
              "<IPython.core.display.Markdown object>"
            ]
          },
          "metadata": {},
          "output_type": "display_data"
        }
      ],
      "source": [
        "response_template = \"\"\"\n",
        "## Question\n",
        "\n",
        "{question}\n",
        "\n",
        "## Answer\n",
        "```\n",
        "{response}\n",
        "```\n",
        "## Generated SQL Query\n",
        "```\n",
        "{sql}\n",
        "```\n",
        "\"\"\"\n",
        "\n",
        "response_md = str(response)\n",
        "sql = response.metadata[\"sql_query\"]\n",
        "\n",
        "\n",
        "display(Markdown(response_template.format(\n",
        "        question=QUEST,\n",
        "        response=response_md,\n",
        "        sql=sql,\n",
        "    )))"
      ]
    },
    {
      "cell_type": "markdown",
      "metadata": {
        "id": "XqxVCwPgQ8SV"
      },
      "source": [
        "### RAG - Question-Answering\n",
        "<a id='chandler_bing'></a>\n",
        "\n",
        "> _Could we have any more files ??_"
      ]
    },
    {
      "cell_type": "markdown",
      "metadata": {
        "id": "2Zl-J4Egc-vB"
      },
      "source": [
        "For this part we are going to use the Zephyr model."
      ]
    },
    {
      "cell_type": "code",
      "execution_count": null,
      "metadata": {
        "id": "Xuctq-apaJzI"
      },
      "outputs": [],
      "source": [
        "!pip install ctransformers>=0.2.24"
      ]
    },
    {
      "cell_type": "code",
      "execution_count": null,
      "metadata": {
        "id": "61TEvNFnZ0-U"
      },
      "outputs": [],
      "source": [
        "from ctransformers import AutoModelForCausalLM\n",
        "\n",
        "zeph = AutoModelForCausalLM.from_pretrained(\"TheBloke/zephyr-7B-beta-GGUF\", model_file=zephyr_model_file, gpu_layers=50)"
      ]
    },
    {
      "cell_type": "code",
      "execution_count": null,
      "metadata": {
        "colab": {
          "base_uri": "https://localhost:8080/"
        },
        "id": "m0OFhOpnbYBB",
        "outputId": "003c34d3-cdf4-43f5-a5bf-6a5afd63e051"
      },
      "outputs": [
        {
          "name": "stdout",
          "output_type": "stream",
          "text": [
            "\n",
            "\n",
            "That's a question that's been debated by \"Friends\" fans for years. Is he just a lucky trust fund kid who never has to work, or does he actually have a real job?\n",
            "\n",
            "The answer is finally here, thanks to an interview with Matthew Perry, the actor who played Chandler on the hit '90s sitcom.\n",
            "\n",
            "At Sunday night's Oscars, Perry was asked by E! News host Ryan Seacrest about what Chandler did for a living. And it turns out, we've been reading too much into it all these years.\n",
            "\n",
            "\"Chandler worked in advertising,\" Perry said. \"He was a copywriter.\"\n",
            "\n",
            "That's it. That's the answer. Chandler wasn't some kind of marketing whiz kid who became the CMO at a Fortune 500 company before turning 30, like Ross could have been. He wasn't an artist or musician struggling to make ends meet, like Joey and Rachel sometimes were.\n",
            "\n",
            "He was just a regular guy trying to pay his rent with his writing skills, and we can all relate to that.\n"
          ]
        }
      ],
      "source": [
        "print(zeph(\"What's Chandler Bing's job?\"))"
      ]
    },
    {
      "cell_type": "code",
      "execution_count": null,
      "metadata": {
        "id": "TlnrwPN-iEkG"
      },
      "outputs": [],
      "source": [
        "MAX_NEW_TOKENS = 256\n",
        "\n",
        "custom_model_config = {\n",
        "    'verbose' : True,\n",
        "    'temperature' : 0.0,\n",
        "    'max_new_tokens' : MAX_NEW_TOKENS,\n",
        "    'model_kwargs' : {\n",
        "        \"n_gpu_layers\": 50,\n",
        "        \"device\" : device,\n",
        "        \"stop\" : ['[|Umano|]', '[|AI|]','[end of text]'],\n",
        "    }\n",
        "}\n",
        "\n",
        "MAX_INPUT_SIZE = 4096\n",
        "MAX_CHUNK_OVERLAP = 0 # Chunk overlap as a ratio of chunk size\n",
        "prompt_helper = PromptHelper(MAX_INPUT_SIZE, MAX_NEW_TOKENS, MAX_CHUNK_OVERLAP)\n",
        "\n",
        "\n",
        "llm = LlamaCPP(\n",
        "    model_path=zephyr_model_file,\n",
        "    context_window=8192,\n",
        "    **custom_model_config\n",
        ")\n",
        "\n",
        "llm_predictor = LLMPredictor(llm=llm)\n",
        "\n",
        "service_context = ServiceContext.from_defaults(llm_predictor=llm_predictor,\n",
        "                                               embed_model='local',\n",
        "                                               prompt_helper=prompt_helper)"
      ]
    },
    {
      "cell_type": "code",
      "execution_count": null,
      "metadata": {
        "colab": {
          "base_uri": "https://localhost:8080/"
        },
        "id": "Xfde-mivacSe",
        "outputId": "9cb328e8-20ac-42c5-8ea7-f46be2e6506a"
      },
      "outputs": [
        {
          "name": "stdout",
          "output_type": "stream",
          "text": [
            "\n",
            "\n",
            "That's a question that's been debated by \"Friends\" fans for years.\n",
            "He holds an assortment of office jobs and seemingly goes on interview after interview. There was also a season when he bought the Central Perk coffee house from Ross (David Schwimmer). But in the end, it's never really clear what Bing does for a living.\n",
            "That might change if the show were to make a comeback, according to Matt LeBlanc. The actor, who played Joey Tribbiani on the hit NBC sitcom, said during an interview with The Daily Beast that he thinks Bing would be \"rich as f--k\" now.\n",
            "LeBlanc's comments came after he was asked about a possible reunion of the cast and crew for the show's 25th anniversary. It would involve filming new scenes rather than pulling old episodes out of the archives. The series finale, which originally aired on May 6, 2004, wrapped up the six main characters' stories.\n",
            "\"It was so huge when we ended the show,\" LeBlanc said. \"We'd have to be careful how we do it. I don'\n"
          ]
        }
      ],
      "source": [
        "print(zeph(\"What's Chandler Bing's job?\"))"
      ]
    },
    {
      "cell_type": "markdown",
      "metadata": {
        "id": "AOC-e-PVbxZe"
      },
      "source": [
        "Let's now implement a Retrieval-enhanced pipeline."
      ]
    },
    {
      "cell_type": "markdown",
      "metadata": {
        "id": "m-2IEHqmc-vB"
      },
      "source": [
        "Using the `SimpleDirectoryReader` class we can index directly a whole directory or a subset of files. For the sake of saving some computational time, we are going to input a small subset of (long) text files."
      ]
    },
    {
      "cell_type": "code",
      "execution_count": null,
      "metadata": {
        "id": "BWoWil1Ba_2B"
      },
      "outputs": [],
      "source": [
        "# Firsts 10 episodes of Season 1\n",
        "reader = SimpleDirectoryReader(input_files=[f'./friends_scripts/01{i:02d}.txt' for i in range(1,10)])\n",
        "documents = reader.load_data()"
      ]
    },
    {
      "cell_type": "markdown",
      "metadata": {
        "id": "QEfrhdwBc-vC"
      },
      "source": [
        "Thanks to the modularity of the LlamaIndex package, the rest of the pipeline remains unchanged."
      ]
    },
    {
      "cell_type": "code",
      "execution_count": null,
      "metadata": {
        "id": "cZ_y9kR0c-vC"
      },
      "outputs": [],
      "source": [
        "# Split data into chunks\n",
        "node_parser = SentenceSplitter(chunk_size=256)\n",
        "nodes = node_parser.get_nodes_from_documents(documents)\n",
        "\n",
        "# Initialize node structure\n",
        "vector_index = VectorStoreIndex(nodes,\n",
        "                                service_context=service_context)"
      ]
    },
    {
      "cell_type": "code",
      "execution_count": null,
      "metadata": {
        "id": "VcpIhW_vZlSz"
      },
      "outputs": [],
      "source": [
        "# Create the retriever\n",
        "retriever = vector_index.as_retriever(similarity_top_k=1)"
      ]
    },
    {
      "cell_type": "markdown",
      "metadata": {
        "id": "GQEBemBkc-vC"
      },
      "source": [
        "With the following example we want to show how the RAG methodologies enforce the model to use the given context, limiting its previous knowledge. This is extremely important to limit hallucination. Indeed, if we trust the external data source, we can (almost) be sure that the model will not make up new and incorrect information."
      ]
    },
    {
      "cell_type": "code",
      "execution_count": null,
      "metadata": {
        "id": "_PCN1C97K7Fn"
      },
      "outputs": [],
      "source": [
        "query_engine = vector_index.as_query_engine()\n",
        "\n",
        "with suppress_stderr():\n",
        "  out_gen = query_engine.query(\"What's Chandler Bing's job?\")"
      ]
    },
    {
      "cell_type": "code",
      "execution_count": null,
      "metadata": {
        "colab": {
          "base_uri": "https://localhost:8080/",
          "height": 54
        },
        "id": "pQuxO9YtL45h",
        "outputId": "2c4d3e11-8c1c-4580-c06e-79037afe7f74"
      },
      "outputs": [
        {
          "data": {
            "application/vnd.google.colaboratory.intrinsic+json": {
              "type": "string"
            },
            "text/plain": [
              "\" Chandler Bing's job is not explicitly mentioned in the provided context information. However, in the first context provided, Chandler mentions that if he doesn't input numbers, it doesn't make much of a difference, which could imply that he works with numbers or data in some capacity. Without further context or information, it's unclear what his specific job title or occupation might be.\""
            ]
          },
          "execution_count": 26,
          "metadata": {},
          "output_type": "execute_result"
        }
      ],
      "source": [
        "out_gen.response"
      ]
    },
    {
      "cell_type": "markdown",
      "metadata": {
        "id": "OACQ-3beTxAi"
      },
      "source": [
        "## 3. Retrieval-augmented Chatbot with LlamaIndex\n",
        "Finally we can implement our retrieval-based chatbot that leverages LlamaIndex to fetch data and a model of your choice as query engine."
      ]
    },
    {
      "cell_type": "markdown",
      "metadata": {
        "id": "J8MgYLzDR1ow"
      },
      "source": [
        "LlamaIndex can be used as a support to retrieval and context management for a chatbot system. We can set a VectorIndex over a specific set of documents and employ different strategies to handle previous messages. Some of them are:\n",
        "- `context`: parse context as a simple message exchange.\n",
        "- `condense_question`: preprocess query and context history before running inference."
      ]
    },
    {
      "cell_type": "code",
      "execution_count": null,
      "metadata": {
        "id": "zPpfNj4nEVJb"
      },
      "outputs": [],
      "source": [
        "from llama_index import (\n",
        "    SimpleDirectoryReader,\n",
        "    VectorStoreIndex,\n",
        "    ServiceContext,\n",
        "    LLMPredictor,\n",
        "    Response,\n",
        "    PromptHelper\n",
        ")\n",
        "from llama_index.llms import LlamaCPP\n",
        "from langchain.embeddings.huggingface import HuggingFaceEmbeddings\n",
        "from llama_index.embeddings.langchain import LangchainEmbedding\n",
        "import torch\n",
        "\n",
        "device = \"cuda\" if torch.cuda.device_count() > 0 else \"cpu\"\n",
        "\n",
        "llm = LlamaCPP(\n",
        "    model_path='zephyr-7b-beta.Q4_K_M.gguf',\n",
        "    verbose=True,\n",
        "    temperature=0.0,\n",
        "    max_new_tokens=256,\n",
        "    context_window=4096,\n",
        "    model_kwargs={\n",
        "        \"n_gpu_layers\": 100,\n",
        "        \"stop\" : ['user:', 'assistant:','[end of text]'],\n",
        "        \"device\" : device\n",
        "    }\n",
        ")"
      ]
    },
    {
      "cell_type": "code",
      "execution_count": null,
      "metadata": {
        "id": "1aBwqKqqFKAX"
      },
      "outputs": [],
      "source": [
        "llm_predictor = LLMPredictor(llm=llm)\n",
        "\n",
        "max_input_size = 1024\n",
        "num_output = 256 # Number of outputs for the LLM.\n",
        "max_chunk_overlap = 0 # Chunk overlap as a ratio of chunk size\n",
        "prompt_helper = PromptHelper(max_input_size, num_output, max_chunk_overlap)\n",
        "\n",
        "service_context = ServiceContext.from_defaults(llm_predictor=llm_predictor,\n",
        "                                               embed_model='local',\n",
        "                                               prompt_helper=prompt_helper)"
      ]
    },
    {
      "cell_type": "code",
      "execution_count": null,
      "metadata": {
        "id": "IhTVBjf9UVwO"
      },
      "outputs": [],
      "source": [
        "from llama_index import set_global_service_context\n",
        "\n",
        "# define the custom model as baseline for all inference operations\n",
        "set_global_service_context(service_context)\n",
        "\n",
        "# Define Retrieval space\n",
        "data = SimpleDirectoryReader(input_files=['Seminar-Chatbot/ai_Leibniz_essey.txt']).load_data()\n",
        "\n",
        "# Create an index of choice\n",
        "index = VectorStoreIndex.from_documents(data,\n",
        "                                        service_context=service_context)"
      ]
    },
    {
      "cell_type": "code",
      "execution_count": null,
      "metadata": {
        "id": "BmBrQg58izre"
      },
      "outputs": [],
      "source": [
        "def start_chat(chat_engine):\n",
        "  max_char_inline = 20\n",
        "  while True:\n",
        "    print(\"\\033[96m[USER]:\\x1b[0m\", end=' ')\n",
        "    user_input = input()\n",
        "    if user_input == 'stop': break\n",
        "\n",
        "    print(\"\\033[92m[AI]:\\x1b[0m\", end=' ')\n",
        "\n",
        "    with suppress_stderr():\n",
        "      response = chat_engine.stream_chat(user_input)\n",
        "      counter = 0\n",
        "      for token in response.response_gen:\n",
        "        counter += 1\n",
        "        if token != '\\n': print(token, end=\"\")\n",
        "        if counter > max_char_inline and not token.isalpha(): print(); counter = 0\n",
        "      print()\n"
      ]
    },
    {
      "cell_type": "code",
      "execution_count": null,
      "metadata": {
        "colab": {
          "base_uri": "https://localhost:8080/"
        },
        "id": "3_rG49AEU3Ep",
        "outputId": "ce933763-8073-4889-ec5a-a879dbede97b"
      },
      "outputs": [
        {
          "name": "stdout",
          "output_type": "stream",
          "text": [
            "\u001b[96m[USER]:\u001b[0m Why is Leibniz considered one of the fathers of AI?\n",
            "\u001b[92m[AI]:\u001b[0m Leibniz is considered one of the fathers of AI because he proposed a plan for\n",
            " a universal language, an artificial language composed of symbols that would stand for concepts or ideas and logical rules for\n",
            " their valid manipulation. He believed that such a language would perfectly mirror the processes of intelligible human reasoning\n",
            ". This plan has led some to believe that Leibniz came close to anticipating artificial intelligence.\n",
            " Additionally, Leibniz had a specific view about the nature of human cognitive processes, particularly about the\n",
            " nature of human reasoning, which is essentially symbolic and follows determinable axioms of logic. Reg\n",
            "ardless of whether or not Leibniz should be seen as the grandfather of artificial intelligence, he did\n",
            " conceive of human cognition in essentially computational terms.\n",
            "\u001b[96m[USER]:\u001b[0m What would Spinoza think about this?\n",
            "\u001b[92m[AI]:\u001b[0m Spinoza, like Leibniz, had a specific view about the nature of human\n",
            " cognitive processes and the relationship between mind and body. However, their views differed significantly. While Leib\n",
            "niz believed in substance dualism and saw the mind as a distinct substance from the body, Spino\n",
            "za rejected this idea and held that the mind is an expression of the body. For Spinoza,\n",
            " the mind arises from the body through a process of materialization, and it is not a separate substance\n",
            ". Additionally, Spinoza believed in determinism, which means that all events are necessary and predet\n",
            "ermined, including mental events. This view is different from Leibniz's belief in the\n",
            " freedom of the will and the possibility of alternative outcomes. Therefore, while both Leibniz and Sp\n",
            "inoza had a specific view about the nature of human cognitive processes and the relationship between mind and body,\n",
            " their views differed significantly.\n",
            "\u001b[96m[USER]:\u001b[0m stop\n"
          ]
        }
      ],
      "source": [
        "chat_engine = index.as_chat_engine(chat_mode=\"context\")\n",
        "\n",
        "start_chat(chat_engine)"
      ]
    },
    {
      "cell_type": "code",
      "execution_count": null,
      "metadata": {
        "colab": {
          "base_uri": "https://localhost:8080/"
        },
        "id": "bocL1Ehu80rK",
        "outputId": "0387f54b-b687-4c04-b637-5a6a3719ded7"
      },
      "outputs": [
        {
          "name": "stdout",
          "output_type": "stream",
          "text": [
            "\u001b[96m[USER]:\u001b[0m When was Paul McCartney born?\n",
            "\u001b[92m[AI]:\u001b[0m Querying with: What is the birthdate of Paul McCartney?\n",
            "18-Jun-1942\n",
            "\u001b[96m[USER]:\u001b[0m In which bands did he play?\n",
            "\u001b[92m[AI]:\u001b[0m Querying with: What bands did Paul McCartney play in?\n",
            "Paul McCartney was a member of The Beatles, which is the band he played in\n",
            ".\n",
            "\u001b[96m[USER]:\u001b[0m In which other bands did he play?\n",
            "\u001b[92m[AI]:\u001b[0m Querying with: What other bands did Paul McCartney play in besides The Beatles?\n",
            "<ul><li><a href=\"https://www.wingscentral.\n",
            "com/\" target=\"other\">Wings</a></li><li><a href=\"https://\n",
            "www.mccartney.com/music/solo-albums\" target=\"other\">\n",
            "Solo albums by Paul McCartney</a></li></ul></ul>\n",
            "\n",
            "\u001b[96m[USER]:\u001b[0m What about The Querryman?\n",
            "\u001b[92m[AI]:\u001b[0m Querying with: Did Paul McCartney play in any other bands besides The Beatles and Wings, or did he release solo albums?\n",
            "Paul McCartney played in several other bands besides The Beatles and Wings. He was a\n",
            " member of The Quarrymen, which later became The Beatles, from 1957 to\n",
            " 1960. After The Beatles disbanded in 1970, he\n",
            " formed Wings with his wife Linda McCartney. However, he also released several solo albums throughout his\n",
            " career.\n",
            "\u001b[96m[USER]:\u001b[0m stop\n"
          ]
        }
      ],
      "source": [
        "chat_engine = index.as_chat_engine(chat_mode=\"condense_question\",\n",
        "                                   verbose=True)\n",
        "\n",
        "start_chat(chat_engine)"
      ]
    }
  ],
  "metadata": {
    "accelerator": "GPU",
    "colab": {
      "collapsed_sections": [
        "Fj5fwe0Ec-ux",
        "CPB90zwzc-uz",
        "gilPvE1Bc-u4",
        "P7gJt934c-u5",
        "2VSwqq0Tc-u8",
        "_21qp7oZOhNB"
      ],
      "provenance": []
    },
    "kernelspec": {
      "display_name": "Python 3",
      "name": "python3"
    },
    "language_info": {
      "codemirror_mode": {
        "name": "ipython",
        "version": 3
      },
      "file_extension": ".py",
      "mimetype": "text/x-python",
      "name": "python",
      "nbconvert_exporter": "python",
      "pygments_lexer": "ipython3",
      "version": "3.11.3"
    }
  },
  "nbformat": 4,
  "nbformat_minor": 0
}

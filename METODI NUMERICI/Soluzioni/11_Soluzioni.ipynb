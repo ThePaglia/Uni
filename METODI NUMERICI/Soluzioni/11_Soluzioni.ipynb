{
 "cells": [
  {
   "cell_type": "markdown",
   "id": "fd29e261-786f-4ad3-926f-ce492ba27844",
   "metadata": {},
   "source": [
    "# Esercitazione 11\n",
    "  ## 9 Maggio 2023"
   ]
  },
  {
   "cell_type": "markdown",
   "id": "b9b0b8e6-b3a1-4ce6-844b-9ba49bf289f7",
   "metadata": {},
   "source": [
    "Codici per l'interpolazione polinomiale nella forma di Lagrange \n",
    "\n",
    "Scrivere la function **interpL** che calcoli\n",
    "il polinomio interpolante in forma di Lagrange  \n",
    "Tale function deve assumere come dati in input:\n",
    " \n",
    " - x vettore dei nodi di interpolazione,\n",
    "- y vettore dei valori della funzione nei nodi di interpolazione,\n",
    "- xx vettore dei punti in cui si vuole valutare il polinomio interpolante.\n",
    " \n",
    "In output deve essere restituito yy vettore contenente i valori assunti dal polinomio interpolante.\n",
    "\n",
    " \n",
    "Funzioni Python  utili:\n",
    " \n",
    "-  numpy.poly() restituisce i coefficienti di un polinomio di zeri assegnati,\n",
    " - numpy.polyval(p, x)  valuta un polinomio in un punto assegnato.\n",
    " \n",
    " "
   ]
  },
  {
   "cell_type": "code",
   "execution_count": null,
   "id": "9d745f1a-7355-4903-afa1-7ca70464145b",
   "metadata": {
    "tags": []
   },
   "outputs": [],
   "source": [
    "import numpy as np\n",
    "def plagr(xnodi,k):\n",
    "    \"\"\"\n",
    "    Restituisce i coefficienti del k-esimo pol di\n",
    "    Lagrange associato ai punti del vettore xnodi\n",
    "    \"\"\"\n",
    "    xzeri=np.zeros_like(xnodi)\n",
    "    n=xnodi.size\n",
    "    if k==0:\n",
    "       xzeri=xnodi[1:n]\n",
    "    else:\n",
    "       xzeri=np.append(xnodi[0:k],xnodi[k+1:n])\n",
    "    \n",
    "    num=np.poly(xzeri) \n",
    "    den=np.polyval(num,xnodi[k])\n",
    "    \n",
    "    p=num/den\n",
    "    \n",
    "    return p\n",
    "\n",
    "\n",
    "\n",
    "def InterpL(x, f, xx):\n",
    "     \"\"\"\"\n",
    "        %funzione che determina in un insieme di punti il valore del polinomio\n",
    "        %interpolante ottenuto dalla formula di Lagrange.\n",
    "        % DATI INPUT\n",
    "        %  x  vettore con i nodi dell'interpolazione\n",
    "        %  f  vettore con i valori dei nodi \n",
    "        %  xx vettore con i punti in cui si vuole calcolare il polinomio\n",
    "        % DATI OUTPUT\n",
    "        %  y vettore contenente i valori assunti dal polinomio interpolante\n",
    "        %\n",
    "     \"\"\"\n",
    "     n=x.size\n",
    "     m=xx.size\n",
    "     L=np.zeros((m,n))\n",
    "     for k in range(n):\n",
    "        p=plagr(x,k)\n",
    "        L[:,k]=np.polyval(p,xx)\n",
    "    \n",
    "    \n",
    "     return np.dot(L,f)"
   ]
  },
  {
   "cell_type": "code",
   "execution_count": null,
   "id": "885f40e9-e574-43a9-8af5-7fb6fc0b740a",
   "metadata": {
    "tags": []
   },
   "outputs": [],
   "source": [
    "x=np.array([1,2])\n",
    "coeff=np.poly(x)\n",
    "print(coeff)"
   ]
  },
  {
   "cell_type": "markdown",
   "id": "afc26a35-6ca7-47fc-b0ac-cbaa331668b6",
   "metadata": {},
   "source": [
    "**Sperimentazione numerica**\n",
    "\n",
    " \n",
    "## Esercizio 1\n",
    "\n",
    "Si disegnino i grafici dei polinomi di Lagrange associati ai nodi $\\{0, 1/4, 1/2, 3/4, 1\\}$ e ai nodi $\\{-1, -0.7, 0.5, 2\\}$.\n",
    "\n"
   ]
  },
  {
   "cell_type": "code",
   "execution_count": null,
   "id": "b16ca162-ab78-46e1-bdfb-9b8c4ef9c522",
   "metadata": {
    "tags": []
   },
   "outputs": [],
   "source": [
    "import matplotlib.pyplot as plt\n",
    "scelta= input('Scegli Il set di nodi: 1 oppure 2')\n",
    "\n",
    "\n",
    "scelta_nodi={\n",
    "    '1': np.arange(0,1.1,1/4),\n",
    "    '2': np.array([-1, -0.7, 0.5, 1]) \n",
    "    } \n",
    "\n",
    "xnodi=scelta_nodi.get(scelta) \n",
    "n=xnodi.size\n",
    "\n",
    "xx=np.linspace(xnodi[0],xnodi[n-1],200);\n",
    "\n",
    "for k in range(n):\n",
    "    p=plagr(xnodi,k)\n",
    "    L=np.polyval(p,xx)\n",
    "    plt.plot(xnodi,np.zeros((n,)),'ro');\n",
    "    plt.plot(xnodi[k],1,'c*');\n",
    "    plt.plot(xx,L,'b-');\n",
    "    plt.title('L'+str(k))\n",
    "    plt.show()\n",
    "    "
   ]
  },
  {
   "cell_type": "markdown",
   "id": "366be686-fe8e-4a5b-89e9-a8114fd483fa",
   "metadata": {},
   "source": [
    "## Esercizio 2\n",
    "\n",
    "Realizzare uno script che calcoli nella forma di Lagrange i polinomi che\n",
    "interpolano le funzioni test $\\sin(x)$ e $\\cos(x)$ nei punti $x_k = k \\pi/2$, con\n",
    "$k = 0, 1, 2, 3, 4$. Visualizzare graficamente i polinomi ottenuti insieme\n",
    "alle funzioni assegnate.\n",
    "\n",
    "\n"
   ]
  },
  {
   "cell_type": "code",
   "execution_count": null,
   "id": "cc53091d-b21b-444d-a955-00626b16ec43",
   "metadata": {},
   "outputs": [],
   "source": [
    "x=np.arange(0,2*np.pi+0.1,np.pi/2);\n",
    "y1=np.sin(x)\n",
    "xx=np.arange(0,2*np.pi+0.1,np.pi/40);\n",
    "yy1=InterpL(x,y1,xx);\n",
    "\n",
    "\n",
    "plt.plot(xx,yy1,'b--',x,y1,'*',xx,np.sin(xx),'g-');\n",
    "plt.legend(['interpolante di Lagrange','punti di interpolazione','y=sin(x)']);\n",
    "plt.show()\n",
    "\n",
    "y2=np.cos(x);\n",
    "yy2=InterpL(x,y2,xx);\n",
    "plt.plot(xx,yy2,'r--',x,y2,'*',xx,np.cos(xx),'c-');\n",
    "plt.legend(['interpolante di Lagrange','punti di interpolazione','y=cos(x)']);"
   ]
  },
  {
   "cell_type": "markdown",
   "id": "a047a90b-b401-4aee-abe2-ad953a8c2007",
   "metadata": {},
   "source": [
    "## Esercizio 3\n",
    "Realizzare uno script python che interpola le coppie $x_i,y_i$, $i=0,\\cdots,3$\n",
    "dove $x_i,i=0,3$ sono punti equidistanti nell' intervallo [-1,1] e $y_i=f(x_i)$ dove $f(x)=3x^3+2x^2+2x-1$ "
   ]
  },
  {
   "cell_type": "code",
   "execution_count": null,
   "id": "efff8e27-459b-4662-8516-1ceee8e4c21e",
   "metadata": {},
   "outputs": [],
   "source": [
    "x=np.linspace(-1,1,4)\n",
    "f= lambda x: 3*x**3+2*x**2+2*x-1\n",
    "y=f(x)\n",
    "xx=np.linspace(-1,1,200)\n",
    "polL=InterpL(x,y ,xx)\n",
    "plt.plot(xx,polL,'r--',x,y,'*',xx,f(xx),'c-');\n",
    "plt.legend(['interpolante di Lagrange','punti di interpolazione','y=3*x**3+2*x**2+2*x-1']);\n",
    "#Poichè i nodi  (xi.yi) sono ottenuti valutando una funzione che è un polinomio di grado 3\n",
    "# (che ha quindi derivata quarta nulle) nei punti xi,i=0,3, è nullo l'errore che si commette quando\n",
    "#alla funzione che ha generato i dati si sostituisce il polinomio interpolatore di grado 3\n",
    "#Vedi formula dell'errore dell'interpolazione polinomiale nelle dispense teoriche\n"
   ]
  },
  {
   "cell_type": "markdown",
   "id": "391c6566-adab-41c1-9872-06da7771e862",
   "metadata": {},
   "source": [
    "## Esercizio 4\n",
    "La temperatura $T$ in  prossimità  del suolo  subisce una variazione dipendente dalla latitudine $L$ \n",
    "L=np.array([-55, -45, -35, -25, -15, -5, 5, 15, 25, 35, 45, 55, 65])\n",
    "T=np.array([3.7, 3.7,3.52,3.27, 3.2, 3.15, 3.15, 3.25, 3.47, 3.52, 3.65, 3.67, 3.52])\n",
    "\n",
    "\n",
    " \n",
    "- Si vuole costruire un modello che descriva la legge $T = T(L)$ anche per latitudini non misurate. A tal fine si scriva uno script che fornisca la variazione di temperatura alle latitudini $L = \\pm 42$ utilizzando il polinomio interpolante. Visualizzare in un grafico i dati assegnati, il polinomio interpolante e le stime di $T$ ottenute per $L = \\pm 42$.\n",
    "\n"
   ]
  },
  {
   "cell_type": "code",
   "execution_count": null,
   "id": "fb3a6c43-aa52-4beb-bde8-58b25689f8a5",
   "metadata": {},
   "outputs": [],
   "source": [
    "L=np.array([-55, -45, -35, -25, -15, -5, 5, 15, 25, 35, 45, 55, 65])\n",
    "T=np.array([3.7, 3.7,3.52,3.27, 3.2, 3.15, 3.15, 3.25, 3.47, 3.52, 3.65, 3.67, 3.52])\n",
    "\n",
    "# punti di valutazione per l'interpolante\n",
    "xx=np.linspace(np.min(L),np.max(L),200);\n",
    "pol=InterpL(L,T,xx);\n",
    "\n",
    "pol42=InterpL(L,T,np.array([42]))\n",
    "pol_42=InterpL(L,T,np.array([-42]))\n",
    "\n",
    "plt.plot(xx,pol,'b--',L,T,'r*',42,pol42,'og',-42,pol_42,'og');\n",
    "plt.legend(['interpolante di Lagrange','punti di interpolazione','stima 1', 'stima2']);\n",
    "plt.show()\n",
    "\n"
   ]
  },
  {
   "cell_type": "markdown",
   "id": "fe42bcdd-924e-42e7-80c8-9a2679724b58",
   "metadata": {},
   "source": [
    "## Esercizio 5\n",
    "\n",
    "Scrivere uno script che calcoli il polinomio interpolante un insieme di punti $P_i =(x_i, y_i)$ $i = 0, ..., n $ nella forma di Lagrange con $x_i$ scelti dall'utente come:\n",
    "    - punti equidistanti in un intervallo $[a, b]$,\n",
    "    - punti definiti dai nodi di Chebyshev nell'intervallo $[a, b]$, ossia\n",
    "$$\n",
    "x_i = \\frac{(a + b)}{2}+\\frac{(b-a)}{2} \\, \\cos \\left(\n",
    "\\frac{(2i+1)\\pi}{2(n + 1)}\n",
    "\\right), \\quad  i =0, ..., n \n",
    "$$\n",
    " \n",
    "  e $y_i = f(x_i)$ ottenuti dalla valutazione nei punti $x_i$ di una funzione test   $f: \\ [a, b] \\rightarrow {\\mathbb R}$. Testare lo script sulle funzioni\n",
    " \n",
    "  - $f(x) = \\sin(x)-2 \\sin(2x)$,   $ \\quad x \\in [-\\pi,\\pi]$,\n",
    "  -  $f(x) = \\sinh(x)$, $ \\quad  x \\in [-2, 2]$,\n",
    "  - $f(x) = |x|$,  $ \\quad x \\in [-1, 1]$,\n",
    "  - $f(x) = 1/(1+25*x^2)$,  $ \\quad x \\in [-1, 1]$ (funzione di Runge).\n",
    "\n",
    "Calcolare l'errore di interpolazione $r(x) = f(x)-p(x)$,\n",
    "tra la funzione test $f(x)$ e il polinomio di interpolazione $p(x)$.\n",
    "Visualizzare il grafico di $f(x)$ e $p(x)$, ed il grafico di\n",
    "$|r(x)|$. Cosa si osserva? Cosa accade all'aumentare del grado $n$ di $p(x)$?\n",
    "(Si costruisca una tabella che riporti i valori di $\\|r(x)\\|_{\\infty}$ al variare di $n$).\n",
    "\n"
   ]
  },
  {
   "cell_type": "code",
   "execution_count": null,
   "id": "dfdc891a-0dea-42b9-957b-219327df7e11",
   "metadata": {},
   "outputs": [],
   "source": [
    "def zeri_Cheb(a,b,n):\n",
    "    t1=(a+b)/2\n",
    "    t2=(b-a)/2\n",
    "    diff=[]\n",
    "    x=np.zeros((n+1,))\n",
    "     \n",
    "    for k in range(n+1):\n",
    "        x[k]=t1+t2*np.cos(((2*k+1)/(2*(n+1))*np.pi))\n",
    "    return x"
   ]
  },
  {
   "cell_type": "markdown",
   "id": "1278c8df-a738-474d-9dbe-9b09c9136d6e",
   "metadata": {},
   "source": [
    "## Esercizio 6\n",
    "\n",
    "Per $n = 5, 10, 15, 20$ fornire un'approssimazione della costante di Lebesgue scegliendo $x_1, x_2, ..., x_{n+1}$ equispaziati in $[-1, 1]$ oppure coincidenti con i nodi di Chebyshev $x_i = \\cos \\left(\\frac{(2i-1)\\pi}{2(n + 1)}  \\right)$, $i =1, ..., n + 1$.\n",
    "\n"
   ]
  },
  {
   "cell_type": "code",
   "execution_count": null,
   "id": "7abd8ebe-42eb-4276-bb70-ba8fcc24cc5b",
   "metadata": {},
   "outputs": [],
   "source": [
    "sceltaf=input(\"Scegli funzione \")\n",
    " \n",
    "scelta_funzione = {\n",
    "        '1': [lambda x: np.sin(x)-2*np.sin(2*x),-np.pi, np.pi],\n",
    "        '2': [lambda x: np.sinh(x),-2,2],\n",
    "        '3': [lambda x: np.abs(x), -1,1],\n",
    "        '4': [lambda x: 1/(1+x**2), -5,5]\n",
    "}\n",
    "\n",
    "f,a,b=scelta_funzione.get(sceltaf)\n",
    "\n",
    "sceltap= input(\"Scegli tipo punti : 1(equidistanti) 2(Chebishev)\\n \")\n",
    "\n",
    "n=int(input('Grado del polinomio'))\n",
    "\n",
    "scelta_punti = {\n",
    "        '1': np.linspace(a,b,n+1),\n",
    "        '2': zeri_Cheb(a,b,n)\n",
    "        }\n",
    "\n",
    "x=scelta_punti.get(sceltap)\n",
    "\n",
    "# punti di valutazione per l'interpolante\n",
    "xx=np.linspace(a,b,200);\n",
    "\n",
    "\n",
    "y= f(x)\n",
    "pol=InterpL(x,y,xx);\n",
    "\n",
    "plt.plot(xx,pol,'b--',x,y,'r*',xx,f(xx),'m-');\n",
    "plt.legend(['interpolante di Lagrange','punti di interpolazione','Funzione']);\n",
    "plt.show()\n",
    "\n",
    "r=np.abs(f(xx)-pol)\n",
    "norm_inf_r=np.linalg.norm(r,np.inf)\n",
    "\n",
    "print(\"Norma infinito di r \",norm_inf_r)\n",
    "plt.plot(xx,r,'m-');\n",
    "plt.legend(['Errore']);\n",
    "plt.show()"
   ]
  },
  {
   "cell_type": "markdown",
   "id": "b6b5485a-f6db-4db6-8ce9-6c859840b42f",
   "metadata": {},
   "source": [
    "## Esercizio 7\n",
    "\n",
    "Per $n = 5, 10, 15, 20$ fornire un'approssimazione della costante di Lebesgue\n",
    "scegliendo $x_1, x_2, ..., x_{n+1}$ equispaziati in $[-1, 1]$ oppure coincidenti con\n",
    "i nodi di Chebyshev $x_i = \\cos \\left(\\frac{(2i-1)\\pi}{2(n + 1)}  \\right)$, $i =1, ..., n + 1$."
   ]
  },
  {
   "cell_type": "code",
   "execution_count": null,
   "id": "0564a487-369c-4b06-b5b9-c02e3ea8c1c2",
   "metadata": {},
   "outputs": [],
   "source": [
    "xx=np.linspace(-1,1,200);\n",
    "LLe=np.zeros((4,1));\n",
    "LLc=np.zeros((4,1));\n",
    "\n",
    "\n",
    "    \n",
    "i=0;\n",
    "for n in range(5,25,5):\n",
    "\n",
    "    #nodi equispaziati\n",
    "    xe=np.linspace(-1,1,n+1)\n",
    "    #nodi di Chebyshev \n",
    "    xc=zeri_Cheb(-1,1,n)\n",
    "    \n",
    "    Le=np.zeros((200,1));\n",
    "    Lc=np.zeros((200,1));\n",
    "    for l in range (n+1):        \n",
    "        pe=plagr(xe,l);\n",
    "        Le=Le+np.abs(np.polyval(pe,xx))\n",
    "        pc=plagr(xc,l)\n",
    "        Lc=Lc+np.abs(np.polyval(pc,xx))\n",
    "    \n",
    "    LLe[i]=np.max(Le)\n",
    "    LLc[i]=np.max(Lc)\n",
    "    i=i+1\n",
    "   \n",
    "\n",
    "print('Costante di Lebesgue con nodi equispaziati al variare di n: \\n ',LLe)\n",
    "plt.semilogy(range(5,25,5), LLe,range(5,25,5),LLc)\n",
    "plt.legend([\"Costante Lebesgue per punti equidistanti\",\"Costante Lebesgue per Chebyshev\"])\n",
    "\n",
    " \n",
    "print('Costante di Lebesgue con nodi di Chebyshev al variare di n: \\n',LLc)\n",
    " "
   ]
  },
  {
   "cell_type": "markdown",
   "id": "83785ea7-7c20-4462-9c63-53262904f9ca",
   "metadata": {},
   "source": [
    "## Esercizio 8\n",
    "\n",
    "Si interpolino mediante il polinomio $p_{21}(x)$ i 22 punti $(x_i, y_i)$ con $x_i$ equispaziati in $[-1, 1]$ e $y_i = \\sin(2 \\pi x_i)$. Si considerino poi le ordinate $\\tilde{y}_i = y_i + \\varepsilon_i$, dove $\\varepsilon_i$ denota l'$i$-esima componente del vettore $0.0002*np.random.random(22,)$, e si calcoli il corrispondente\n",
    "polinomio interpolante $\\tilde{p}_{21}(x)$. Si visualizzino e si commentino\n",
    "i risultati ottenuti, calcolando anche l'errore relativo sul polinomio interpolante\n",
    "e sui dati.\n",
    "\n",
    " "
   ]
  },
  {
   "cell_type": "code",
   "execution_count": null,
   "id": "c916a2c8-5a0e-4a67-8263-e0df341705a1",
   "metadata": {},
   "outputs": [],
   "source": [
    "f= lambda x: np.sin(2*np.pi*x)\n",
    "x=np.linspace(-1,1,22)\n",
    "y1=f(x);\n",
    "\n",
    "y2=y1.copy()\n",
    "y2=y2+0.0002*np.random.random(22,)\n",
    "\n",
    "xx=np.linspace(-1,1,300);\n",
    "pol1=InterpL(x,y1,xx);\n",
    "pol2=InterpL(x,y2,xx);\n",
    "\n",
    "\n",
    "\n",
    "plt.plot(xx,pol1,'b--',x,y1,'r*',xx,f(xx),'m-');\n",
    "plt.legend(['interpolante di Lagrange','punti di interpolazione','Funzione']);\n",
    "plt.show()\n",
    "\n",
    "plt.plot(xx,pol2,'b--',x,y2,'r*',xx,f(xx),'m-');\n",
    "plt.legend(['interpolante di Lagrange','punti di interpolazione perturbati','Funzione']);\n",
    "plt.show()\n",
    "\n",
    "#errore relativo sui dati\n",
    "errrel_dati=np.linalg.norm(y2-y1,np.inf)/np.linalg.norm(y1,np.inf)\n",
    "\n",
    "#errore relativo sui risultati\n",
    "errrel_risultati=np.linalg.norm(pol2-pol1,np.inf)/np.linalg.norm(pol1,np.inf)\n",
    "\n",
    "print(\"Errore relativo sui dati \",errrel_dati)\n",
    "print(\"Errore relativo sui risultati \",errrel_risultati)"
   ]
  },
  {
   "cell_type": "code",
   "execution_count": null,
   "id": "cad2fd66-2a90-4381-9f5d-6494b8ef82ba",
   "metadata": {},
   "outputs": [],
   "source": []
  },
  {
   "cell_type": "code",
   "execution_count": null,
   "id": "a22ce6e5-2792-4094-baa4-d2797be60b6e",
   "metadata": {},
   "outputs": [],
   "source": []
  },
  {
   "cell_type": "code",
   "execution_count": null,
   "id": "d7d4d655-9362-4bf3-a0b8-c6485b621fe4",
   "metadata": {},
   "outputs": [],
   "source": []
  }
 ],
 "metadata": {
  "kernelspec": {
   "display_name": "Python 3 (ipykernel)",
   "language": "python",
   "name": "python3"
  },
  "language_info": {
   "codemirror_mode": {
    "name": "ipython",
    "version": 3
   },
   "file_extension": ".py",
   "mimetype": "text/x-python",
   "name": "python",
   "nbconvert_exporter": "python",
   "pygments_lexer": "ipython3",
   "version": "3.11.2"
  }
 },
 "nbformat": 4,
 "nbformat_minor": 5
}

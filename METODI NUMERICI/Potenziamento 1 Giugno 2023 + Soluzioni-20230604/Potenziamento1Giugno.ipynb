{
 "cells": [
  {
   "cell_type": "markdown",
   "id": "6d86d5aa-2f18-4885-a855-b5d19295fe25",
   "metadata": {},
   "source": [
    "## Laboratorio di Potenziamento 1 Giugno 2023"
   ]
  },
  {
   "cell_type": "markdown",
   "id": "04cd5002-cb08-44e0-bc9f-72c54e3f3ee0",
   "metadata": {
    "tags": []
   },
   "source": [
    "## Esercizio 1\n",
    "Si consideri il sistema lineare Ax=b, con A matrice e b termine noto memorizzati nel file ``testE.mat``.  La soluzione esatta del problema è il vettore x=[1,1,1,...1].Risolvere il sistema utilizzando i diversi metodi adatti visti a lezione adatti per risolverlo ed individuare il metodo più efficiente. Commentare i risultati ottenuti  giustificandoli alla luce della teoria. \n",
    "\n",
    "Per la lettura dei dati procedere nel seguente modo:\n",
    "\n",
    "``from scipy.io import loadmat``\n",
    "\n",
    "``import numpy as np``\n",
    "\n",
    "``dati = loadmat('testE.mat')``\n",
    "\n",
    "``A=dati[\"A\"] ``\n",
    "\n",
    "`` b=dati[\"b\"] ``"
   ]
  },
  {
   "cell_type": "markdown",
   "id": "c7b8f816-f348-44d4-b6f1-239c4ccf84a0",
   "metadata": {},
   "source": [
    "## Esercizio 2 \n",
    "Si consideri il sistema lineare Ax=b, con A matrice e b termine noto memorizzati nel file ``testF.mat``.Risolvere il sistema utilizzando il metodo più adatto. Commentare i risultati ottenuti  giustificandoli alla luce della teoria. \n",
    "\n",
    "Per la lettura dei dati procedere nel seguente modo:\n",
    "\n",
    "``from scipy.io import loadmat``\n",
    "\n",
    "``import numpy as np``\n",
    "\n",
    "``dati = loadmat('testF.mat')``\n",
    "\n",
    "``A=dati[\"A\"] ``\n",
    "\n",
    "`` b=dati[\"b\"] ``"
   ]
  },
  {
   "cell_type": "markdown",
   "id": "5d267660-f6e6-42aa-a6f1-86203047668e",
   "metadata": {},
   "source": [
    "## Esercizio 3"
   ]
  },
  {
   "cell_type": "markdown",
   "id": "3429a399-3b2b-4f5d-9e5c-0d407fd88fbc",
   "metadata": {},
   "source": [
    "Caricare dal  file  Approx_C.mat  le coppie di dati sperimentali (x(i),y(i)),i=1,M) e visto il trend dei dati, scegliere opportunamente  il grado del polinomio con cui approssimare  i dati. Costruirlo con un metodo di approssimazione nel senso dei minimi quadrati a scelta tra quello più opportuno allaluce della teoria, calcolare la norma 2 al quadrato del residuo e visualizzare  il grafico.\n",
    "\n"
   ]
  },
  {
   "cell_type": "markdown",
   "id": "02ba2e95-b170-40b6-961c-a51445f3314a",
   "metadata": {},
   "source": [
    "## Esercizio 4\n",
    "Siano assegnati i punti del piano di coordinate $(x_i, y_i)$, $i=1,\\ldots,4$ con \n",
    "$$\n",
    "\\begin{array}{c}\n",
    "x_1=0, \\quad x_2=4, \\quad x_3=0, \\quad x_4=5\\\\\n",
    "y_1=0, \\quad y_2=0, \\quad y_3=4, \\quad y_4=6.\n",
    "\\end{array}\n",
    "$$ \n"
   ]
  },
  {
   "cell_type": "markdown",
   "id": "2e482dde-6239-4a0b-82e5-4fed687c987f",
   "metadata": {},
   "source": [
    " si costruisca il sistema lineare sovradeterminato ottenuto imponendo il passaggio della circonferenza di equazione $x^2+y^2+a_1x+a_2y+a_3=0$ per i quattro punti assegnati, e si denotino con ${\\bf A}$ e ${\\bf b}$ la matrice dei coefficienti e il termine noto ottenuti;"
   ]
  },
  {
   "cell_type": "markdown",
   "id": "9990b89e-5c4f-40e2-862c-12a7ab46178a",
   "metadata": {},
   "source": [
    "si sfrutti il metodo  più opportuno per ottenere la soluzione ${\\bf a}^*$ del problema ai minimi quadrati $\\min_{{\\bf a} \\in \\mathbb{R}^3} \\|{\\bf A}{\\bf a}-{\\bf b}\\|_2^2$;"
   ]
  },
  {
   "cell_type": "markdown",
   "id": "1965ff3d-7b7b-4513-90c0-4a6bb1531191",
   "metadata": {},
   "source": [
    "si calcoli il valore di $\\|{\\bf A}{\\bf a}^*-{\\bf b}\\|_2^2$ e, dopo averne determinato centro e raggio, si rappresentino in una stessa figura la circonferenza di equazione $x^2+y^2+a^*_1x+a^*_2y+a^*_3=0$ (individuata dalla soluzione ${\\bf a}^*$ del problema ai minimi quadrati) e i quattro punti assegnati dal problema."
   ]
  },
  {
   "cell_type": "markdown",
   "id": "848567a4-847f-4fe8-9e21-340e9e989f56",
   "metadata": {},
   "source": [
    "Si ricorda che data una circonferenza nella forma canonica\n",
    "$$ x^2+y^2+a_1 x+a_2 x+a_3=0$$\n",
    "\n",
    "le coordinate del suo centro sono \n",
    "$$C≡(-a_1/2,-a_2/2)$$\n",
    "\n",
    "e la lunghezza del suo raggio è data da:\n",
    "\n",
    "$$r=\\sqrt{\\frac{a_1^2}{4}+\\frac{a_2^2}{4} -a_3}$$\n",
    "\n",
    "e la circoferenza può essere rappresentata in forma parametrica $C(t),  t \\in [0, 2 \\cdot \\pi]$ e le due componenti parametriche sono $$x(t)= C_0+r\\cdot cos(t);$$ $$ y(t)= C_1+r\\cdot sin(t)$$"
   ]
  },
  {
   "cell_type": "markdown",
   "id": "a3eb3ad1-0158-4ffc-9a28-aee767bf4bae",
   "metadata": {},
   "source": [
    "## Esercizio 5\n",
    "Per i dati $(x_i, y_i)$ riportati nei seguenti array\n",
    "\n",
    "x = np.array([0.0004, 0.2507, 0.5008, 2.0007, 8.0013]) \n",
    "\n",
    "y = np.array([0.0007,0.0162, 0.0288, 0.0309, 0.0310])\n",
    "\n",
    "- costruire la retta di regressione;\n",
    "- costruire la parabola approssimante i dati nel senso dei minimi quadrati;\n",
    "- determinare l'approssimazione ai minimi quadrati espressa in termini di\n",
    "basi esponenziali: $y = a + b e^{-x}+ c e^{-2x}$"
   ]
  },
  {
   "cell_type": "markdown",
   "id": "a6336f90-c694-4222-8286-9702558ff2e7",
   "metadata": {},
   "source": [
    "Quale tra le tre approssimazioni risulta la migliore? (Confrontare i grafici e la norma euclidea al quadrato del vettore dei residui)."
   ]
  },
  {
   "cell_type": "markdown",
   "id": "fd68ccff-c369-419e-886d-7685cacb6008",
   "metadata": {},
   "source": [
    "La temperatura T in prossimita' del suolo varia al variare della concentrazione k dell'acido carbonico e della latitudine L. Per k=1.5 la temperatura al suolo subisce una variazione dipendente dalla temperatura secondo la seguente tabella \n",
    "\n",
    "L\t[-55\t-45\t-35\t-25\t-15\t-5\t5\t15\t25\t35\t45\t55\t65]\n",
    "\n",
    "T\t[3.7\t3.7\t3.52\t3.27\t3.2\t3.15\t3.15\t3.25\t3.47\t3.52\t3.65\t3.67\t3.52]\n",
    "\n",
    "Si vuole costruire un MODELLO che descriva la legge T=T(L) anche per latitudini non misurate. \n",
    "Ad esempio si vuole valutare la variazione di temperatura a Londra ( L=51°).\n",
    "mediante interpolazione con un polinomio di grado 12.\n",
    "Valutare e disegnare, inoltre, il polinomio interpolatore di Lagrange in un set di 100 dati equidistanti nell’intervallo min(L), max(L).\n",
    "Descrivere i risultati alla luce della teoria.\n"
   ]
  },
  {
   "cell_type": "code",
   "execution_count": null,
   "id": "36b61873-df6b-4f52-befd-e6d6ee95e79d",
   "metadata": {},
   "outputs": [],
   "source": []
  }
 ],
 "metadata": {
  "kernelspec": {
   "display_name": "Python 3 (ipykernel)",
   "language": "python",
   "name": "python3"
  },
  "language_info": {
   "codemirror_mode": {
    "name": "ipython",
    "version": 3
   },
   "file_extension": ".py",
   "mimetype": "text/x-python",
   "name": "python",
   "nbconvert_exporter": "python",
   "pygments_lexer": "ipython3",
   "version": "3.9.12"
  }
 },
 "nbformat": 4,
 "nbformat_minor": 5
}

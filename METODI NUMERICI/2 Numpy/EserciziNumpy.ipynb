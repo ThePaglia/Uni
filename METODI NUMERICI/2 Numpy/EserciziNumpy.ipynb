{
 "cells": [
  {
   "cell_type": "markdown",
   "id": "cb8d7ec5-c308-4c91-8bbf-adad4c51b57f",
   "metadata": {},
   "source": [
    "# Esercizio 1"
   ]
  },
  {
   "attachments": {},
   "cell_type": "markdown",
   "id": "b7c7f021-757d-4cd3-bba5-57ca8bfd4077",
   "metadata": {},
   "source": [
    "Definire i  numpy array a=[1.2, 5.4, 6, 1.59] e b=[5.2, 1.2, 1.5, 2] ed eseguire le seguenti operazioni:\n",
    "   1. calcolare la radice quadrata degli elementi di a;\n",
    "   2. calcolare 𝑒xp(𝑎/2) ;\n",
    "   3. calcolare il vettore somma tra a e b ;\n",
    "   4. moltiplicare ogni elemento di a per il corrispondente elemento di b;\n",
    "   5. creare un vettore di valori uniformemente equispaziati tra 0 e 30 con passo  0.5;\n",
    "   6. creare un vettore di 100 valori uniformemente equispaziati tra 1 e 2.\n",
    "   7. usare linspace() per creare un numpy array 2x6 con prima riga di 6 valori uniformi compresi tra 10 e 20 e seconda riga 6 valori     \n",
    "      uniformi compresi tra  20 e 10;\n",
    "   8. calcolare il prodotto scalare tra a e b;\n",
    "   9. creare la matrice A che ha come righe i vettori a e b ;\n",
    "   10. calcolare il prodotto scalare tra i due vettori a e b;\n",
    "   11. eseguire il prodotto della matrice A per il vettore b e assegnarlo ad y;\n",
    "   12. costruire una matrice diagonale D a partire dal vettore a;"
   ]
  },
  {
   "cell_type": "code",
   "execution_count": null,
   "id": "d70a7342",
   "metadata": {},
   "outputs": [],
   "source": [
    "import numpy as np\n",
    "a = np.array([1.2, 5.4, 6, 1.59])\n",
    "b = np.array([5.2, 1.2, 1.5, 2])\n",
    "\n",
    "#1 np.sqrt(a)\n",
    "#2 np.exp(a/2)\n",
    "#3 a+b\n",
    "#4 a*b\n",
    "#5 np.arange(0, 30.5, 0.5)\n",
    "#6 np.linspace(1, 2, 100)\n",
    "#7 np.array([np.linspace(10, 20, 6), np.linspace(20, 10, 6)])\n",
    "#8 np.dot(a, b) = (1.2*5.2) + (5.4*1.2) + (6*1.5) + (1.59*2)\n",
    "#9 A = np.array([a, b])\n",
    "#10 np.dot(a, b) = (1.2*5.2) + (5.4*1.2) + (6*1.5) + (1.59*2) #stesso risultato di 8)\n",
    "#11 y = A*b\n",
    "#12 D = np.diag(a)"
   ]
  },
  {
   "cell_type": "markdown",
   "id": "70b6acab-85c5-4783-84e0-999ca8e68bf3",
   "metadata": {},
   "source": [
    "# Esercizio 2"
   ]
  },
  {
   "cell_type": "markdown",
   "id": "31345015-b8ec-4ea0-aaac-598630474855",
   "metadata": {},
   "source": [
    "Costruire  i seguenti Numpy array 2d utilizzando il minor numero di istruzioni possibili"
   ]
  },
  {
   "cell_type": "markdown",
   "id": "ccf86356-d50a-493c-a870-54c5cc1480eb",
   "metadata": {},
   "source": [
    "<img src=\"ese2.png\" width=\"500\">"
   ]
  },
  {
   "cell_type": "code",
   "execution_count": null,
   "id": "b5874094",
   "metadata": {},
   "outputs": [],
   "source": [
    "A = np.concatenate((np.full((3,3), 2), np.full((3,1), 3)), axis=1)\n",
    "print(A)"
   ]
  },
  {
   "cell_type": "code",
   "execution_count": null,
   "id": "f8cdb366",
   "metadata": {},
   "outputs": [],
   "source": [
    "B = np.concatenate((np.diag([2,2,2]), np.full((3,10), range(1, 11))), axis=1)\n",
    "print(B)"
   ]
  },
  {
   "cell_type": "code",
   "execution_count": null,
   "id": "8cd1ae5c",
   "metadata": {},
   "outputs": [],
   "source": [
    "C = np.diag([2,2,2,2,2]) + np.diag([-1,-1,-1,-1], k=1) + np.diag([-1,-1,-1,-1], k=-1)\n",
    "print(C)"
   ]
  },
  {
   "cell_type": "code",
   "execution_count": null,
   "metadata": {},
   "outputs": [],
   "source": [
    "x = np.concatenate((np.full((2,2), 2), np.full((2,2), 3)), axis=1)\n",
    "y = np.zeros((2,4))\n",
    "z = np.concatenate((np.zeros((2,2)), np.diag([5, 5])), axis=1)\n",
    "D = np.concatenate((x, y, z), axis=0)\n",
    "print(D)"
   ]
  },
  {
   "cell_type": "markdown",
   "id": "10a6c66f-2a62-4697-ab7a-b897fb66bcc9",
   "metadata": {},
   "source": [
    "# Esercizio 3"
   ]
  },
  {
   "cell_type": "markdown",
   "id": "8354e8db-9393-41b5-92bf-7dbd9174a20c",
   "metadata": {},
   "source": [
    "Calcolare la somma dei primi n numeri naturali dispari sia utilizzando un ciclo for che servendosi dell'istruzione sum di numpy."
   ]
  },
  {
   "cell_type": "code",
   "execution_count": null,
   "metadata": {},
   "outputs": [],
   "source": [
    "i = input(\"Please enter some input: \")\n",
    "c = np.arange(1, 2*int(i), 2)\n",
    "np.sum(c)"
   ]
  },
  {
   "cell_type": "code",
   "execution_count": null,
   "id": "506fbfbd",
   "metadata": {},
   "outputs": [],
   "source": [
    "d = []\n",
    "for j in range(1, 2*int(i), 2):\n",
    "    d.append(j)\n",
    "\n",
    "sum = 0\n",
    "for j in d:\n",
    "    sum += j\n",
    "print(sum)"
   ]
  },
  {
   "attachments": {},
   "cell_type": "markdown",
   "id": "76da5e04-e555-4fee-bfd8-2df68d8996c9",
   "metadata": {},
   "source": [
    "# Esercizo 4"
   ]
  },
  {
   "cell_type": "markdown",
   "id": "5ecf31dd-d88c-46f8-b1b4-2e3b5988694e",
   "metadata": {},
   "source": [
    "Scrivere una function Python per generare l'n-esimo termine (n > 2) della successione\n",
    "di Fibonacci. Scrivere poi una function ricorsiva che risolva lo stesso problema\n",
    "e confrontare i tempi di calcolo delle due functions per n = 24."
   ]
  },
  {
   "cell_type": "code",
   "execution_count": null,
   "id": "2f500e88-1d6d-47fa-b91a-af2bdceb4609",
   "metadata": {},
   "outputs": [],
   "source": [
    "def fibonacci_recursive(n):\n",
    "    if n < 1:\n",
    "        return None\n",
    "    elif n == 1 or n == 2:\n",
    "        return 1\n",
    "    else:\n",
    "        return fibonacci_recursive(n-1) + fibonacci_recursive(n-2)\n"
   ]
  },
  {
   "cell_type": "code",
   "execution_count": null,
   "id": "d4803fe4",
   "metadata": {},
   "outputs": [],
   "source": [
    "def fibonacci_iterative(n):\n",
    "    if n < 1:\n",
    "        return None\n",
    "    elif n == 1 or n == 2:\n",
    "        return 1\n",
    "    else:\n",
    "        a, b = 1, 1\n",
    "        for i in range(3, n+1):\n",
    "            c = a + b\n",
    "            a, b = b, c\n",
    "        return c"
   ]
  },
  {
   "cell_type": "code",
   "execution_count": null,
   "id": "e27e8b43",
   "metadata": {},
   "outputs": [],
   "source": [
    "import time\n",
    "\n",
    "n = 24\n",
    "\n",
    "start_time = time.time()\n",
    "fibonacci_iterative(n)\n",
    "end_time = time.time()\n",
    "print(\"Tempo di calcolo (iterativo):\", end_time - start_time, \"secondi\")\n",
    "\n",
    "start_time = time.time()\n",
    "fibonacci_recursive(n)\n",
    "end_time = time.time()\n",
    "print(\"Tempo di calcolo (ricorsivo):\", end_time - start_time, \"secondi\")\n"
   ]
  }
 ],
 "metadata": {
  "kernelspec": {
   "display_name": "Python 3 (ipykernel)",
   "language": "python",
   "name": "python3"
  },
  "language_info": {
   "codemirror_mode": {
    "name": "ipython",
    "version": 3
   },
   "file_extension": ".py",
   "mimetype": "text/x-python",
   "name": "python",
   "nbconvert_exporter": "python",
   "pygments_lexer": "ipython3",
   "version": "3.11.2"
  }
 },
 "nbformat": 4,
 "nbformat_minor": 5
}

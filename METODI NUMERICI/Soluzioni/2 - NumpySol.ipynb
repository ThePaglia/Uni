{
 "cells": [
  {
   "cell_type": "markdown",
   "id": "cb8d7ec5-c308-4c91-8bbf-adad4c51b57f",
   "metadata": {},
   "source": [
    "# Esercizio 1"
   ]
  },
  {
   "cell_type": "markdown",
   "id": "b7c7f021-757d-4cd3-bba5-57ca8bfd4077",
   "metadata": {},
   "source": [
    "Definire i  numpy array a=[1.2, 5.4, 6, 1.59] e b=[5.2, 1.2, 1.5, 2] ed eseguire le seguenti operazioni:\n",
    "  - calcolare la radice quadrata degli elementi di a;\n",
    "   - calcolare 𝑒xp(𝑎/2) ;\n",
    "   - calcolare il vettore somma tra a e b ;\n",
    "   - moltiplicare ogni elemento di a per il corrispondente elemento di b;\n",
    "   - creare un vettore di valori uniformemente equispaziati tra 0 e 30 con passo  0.5;\n",
    "   - creare un vettore di 100 valori uniformemente equispaziati tra 1 e 2.\n",
    "   - usare linspace() per creare un numpy array 2x6 con prima riga di 6 valori uniformi compresi tra 10 e 20 e seconda riga 6 valori     \n",
    "      uniformi compresi tra  20 e 10;\n",
    "   - calcolare il prodotto scalare tra a e b;\n",
    "   - creare la matrice A che ha come righe i vettori a e b ;\n",
    "   - calcolare il prodotto scalare tra i due vettori a e b;\n",
    "   - eseguire il prodotto della matrice A per il vettore b e assegnarlo ad y;\n",
    "   - costruire una matrice diagonale D a partire dal vettore a;"
   ]
  },
  {
   "cell_type": "code",
   "execution_count": 15,
   "id": "a4bb5654-93d5-4be6-9bb9-6aa54c0a607f",
   "metadata": {
    "tags": []
   },
   "outputs": [
    {
     "name": "stdout",
     "output_type": "stream",
     "text": [
      "[1.         1.01010101 1.02020202 1.03030303 1.04040404 1.05050505\n",
      " 1.06060606 1.07070707 1.08080808 1.09090909 1.1010101  1.11111111\n",
      " 1.12121212 1.13131313 1.14141414 1.15151515 1.16161616 1.17171717\n",
      " 1.18181818 1.19191919 1.2020202  1.21212121 1.22222222 1.23232323\n",
      " 1.24242424 1.25252525 1.26262626 1.27272727 1.28282828 1.29292929\n",
      " 1.3030303  1.31313131 1.32323232 1.33333333 1.34343434 1.35353535\n",
      " 1.36363636 1.37373737 1.38383838 1.39393939 1.4040404  1.41414141\n",
      " 1.42424242 1.43434343 1.44444444 1.45454545 1.46464646 1.47474747\n",
      " 1.48484848 1.49494949 1.50505051 1.51515152 1.52525253 1.53535354\n",
      " 1.54545455 1.55555556 1.56565657 1.57575758 1.58585859 1.5959596\n",
      " 1.60606061 1.61616162 1.62626263 1.63636364 1.64646465 1.65656566\n",
      " 1.66666667 1.67676768 1.68686869 1.6969697  1.70707071 1.71717172\n",
      " 1.72727273 1.73737374 1.74747475 1.75757576 1.76767677 1.77777778\n",
      " 1.78787879 1.7979798  1.80808081 1.81818182 1.82828283 1.83838384\n",
      " 1.84848485 1.85858586 1.86868687 1.87878788 1.88888889 1.8989899\n",
      " 1.90909091 1.91919192 1.92929293 1.93939394 1.94949495 1.95959596\n",
      " 1.96969697 1.97979798 1.98989899 2.        ]\n",
      "[[10. 12. 14. 16. 18. 20.]\n",
      " [20. 18. 16. 14. 12. 10.]]\n",
      "ps= 24.9\n",
      "A= [[1.2  5.4  6.   1.59]\n",
      " [5.2  1.2  1.5  2.  ]]\n",
      "D= [[1.2  0.   0.   0.  ]\n",
      " [0.   5.4  0.   0.  ]\n",
      " [0.   0.   6.   0.  ]\n",
      " [0.   0.   0.   1.59]]\n"
     ]
    }
   ],
   "source": [
    "import numpy as np\n",
    "import math\n",
    "\n",
    "a=np.array([1.2, 5.4, 6, 1.59])\n",
    "b=np.array([5.2, 1.2, 1.5, 2 ])\n",
    "\n",
    "\n",
    "\n",
    "a1 = np.sqrt(a)\n",
    "\n",
    "a2= np.exp(a/2)\n",
    "\n",
    "c= a + b\n",
    "\n",
    "ab = a*b\n",
    "\n",
    "z = np.arange(0,30.5,0.5)\n",
    "\n",
    "t = np.linspace(1,2,100)\n",
    "print(t)\n",
    "C= np.array([np.linspace(10,20,6),np.linspace(20,10,6)])\n",
    "print(C)\n",
    "ps= np.dot(a,b)\n",
    "print(\"ps=\",ps)\n",
    "\n",
    "a1=a[np.newaxis,:]\n",
    "b1=b[np.newaxis,:]\n",
    "A=np.concatenate((a1,b1))\n",
    "print(\"A=\",A)\n",
    "\n",
    "\n",
    "y = np.dot(A,b)\n",
    "\n",
    "D=np.diag(a)\n",
    "print(\"D=\",D)"
   ]
  },
  {
   "cell_type": "markdown",
   "id": "70b6acab-85c5-4783-84e0-999ca8e68bf3",
   "metadata": {},
   "source": [
    "# Esercizio 2"
   ]
  },
  {
   "cell_type": "markdown",
   "id": "31345015-b8ec-4ea0-aaac-598630474855",
   "metadata": {},
   "source": [
    "Costruire  i seguenti Numpy array 2d utilizzando il minor numero di istruzioni possibili"
   ]
  },
  {
   "cell_type": "markdown",
   "id": "ccf86356-d50a-493c-a870-54c5cc1480eb",
   "metadata": {},
   "source": [
    "<img src=\"ese2.png\" width=\"500\">"
   ]
  },
  {
   "cell_type": "code",
   "execution_count": 16,
   "id": "55c540d4-f065-49cd-a1eb-36aac6d5541a",
   "metadata": {
    "tags": []
   },
   "outputs": [
    {
     "name": "stdout",
     "output_type": "stream",
     "text": [
      "A \n",
      " [[2 2 2 3]\n",
      " [2 2 2 3]\n",
      " [2 2 2 3]]\n",
      "B \n",
      " [[ 2.  0.  0.  1.  2.  3.  4.  5.  6.  7.  8.  9. 10.]\n",
      " [ 0.  2.  0.  1.  2.  3.  4.  5.  6.  7.  8.  9. 10.]\n",
      " [ 0.  0.  2.  1.  2.  3.  4.  5.  6.  7.  8.  9. 10.]]\n",
      "C \n",
      "  [[ 2 -1  0  0  0]\n",
      " [-1  2 -1  0  0]\n",
      " [ 0 -1  2 -1  0]\n",
      " [ 0  0 -1  2 -1]\n",
      " [ 0  0  0 -1  2]]\n",
      "D \n",
      " [[2. 2. 3. 3.]\n",
      " [2. 2. 3. 3.]\n",
      " [0. 0. 0. 0.]\n",
      " [0. 0. 0. 0.]\n",
      " [0. 0. 5. 0.]\n",
      " [0. 0. 0. 5.]]\n"
     ]
    }
   ],
   "source": [
    "import numpy as np\n",
    "\n",
    "A = np.full((3,3),2)\n",
    "A= np.concatenate((A,np.full((3,1),3)),1)\n",
    "\n",
    "print(\"A \\n\",A)\n",
    "B=2*np.eye(3)\n",
    "B=np.concatenate((B,[np.linspace(1,10,10), np.linspace(1,10,10), np.linspace(1,10,10)]),1)\n",
    "print(\"B \\n\",B)\n",
    "a=np.array([2,2,2,2,2])\n",
    "b= np.array([-1,-1,-1,-1])\n",
    "C= np.diag(a)+np.diag(b,-1)+np.diag(b,1)\n",
    "print(\"C \\n \",C)\n",
    "D=np.zeros((6,4))\n",
    "D[4:6,2:4]=5*np.eye(2)\n",
    "D[0:2,0:2]=np.full((2,2),2)\n",
    "D[0:2,2:4]=np.full((2,2),3)\n",
    "print(\"D \\n\",D)"
   ]
  },
  {
   "cell_type": "markdown",
   "id": "9e25563b-bdcd-4be3-964f-8c4d4f12e9db",
   "metadata": {},
   "source": [
    "# Esercizio 3"
   ]
  },
  {
   "cell_type": "markdown",
   "id": "5aa1020f-5bcc-4d0b-bf14-214fc75f79cd",
   "metadata": {},
   "source": [
    "Calcolare la somma dei primi n numeri naturali dispari sia utilizzando un ciclo for che servendosi dell'istruzione sum di numpy."
   ]
  },
  {
   "cell_type": "code",
   "execution_count": 17,
   "id": "6d9e2ac7-c2b3-43b0-9b7a-16dca3d01f5a",
   "metadata": {},
   "outputs": [
    {
     "name": "stdout",
     "output_type": "stream",
     "text": [
      "Somma  144\n",
      "Somma1=  144\n"
     ]
    }
   ],
   "source": [
    "n=int(input('Numero di dati'))\n",
    "\n",
    "somma=0\n",
    "for i in range(1,n+1,2):\n",
    "    somma=somma+i\n",
    "       \n",
    "print(\"Somma \", somma)\n",
    "\n",
    "a1= np.array(list(range(1,n+1,2)))\n",
    "somma1= np.sum(a1)\n",
    "\n",
    "print(\"Somma1= \", somma1)"
   ]
  },
  {
   "cell_type": "markdown",
   "id": "d0e83c82-228d-4057-b876-9c99e5a4f985",
   "metadata": {},
   "source": [
    "# Esercizo 4"
   ]
  },
  {
   "cell_type": "markdown",
   "id": "546839d3-c6f1-4f5e-b9b5-6362ef76dd35",
   "metadata": {},
   "source": [
    "Scrivere una function Python per generare l'n-esimo termine (n > 2) della successione\n",
    "di Fibonacci. Scrivere poi una function ricorsiva che risolva lo stesso problema\n",
    "e confrontare i tempi di calcolo delle due functions per n = 24."
   ]
  },
  {
   "cell_type": "code",
   "execution_count": 18,
   "id": "fac6885d-c7f4-4704-850a-099bf035ad79",
   "metadata": {
    "tags": []
   },
   "outputs": [
    {
     "name": "stdout",
     "output_type": "stream",
     "text": [
      "Tempo Fibonacci Iterativo 6.900000153109431e-05\n",
      "Tempo Fibonacci Ricorsivo 0.006876599974930286\n"
     ]
    }
   ],
   "source": [
    "import time\n",
    "\n",
    "\n",
    "def fibonacci(n):\n",
    "#FIBONACCI  Fibonacci sequence\n",
    "#   f = FIBONACCI(n) generates the first n Fibonacci numbers.\n",
    "\n",
    "     f = np.zeros((n,))\n",
    "     f[0] = 1\n",
    "     f[1] = 1\n",
    "     for k in range(2,n):\n",
    "         f[k] = f[k-1] + f[k-2]\n",
    "     fn=f[-1]   \n",
    "     return fn\n",
    "\n",
    "\n",
    "def fib_ric(n):\n",
    "   \n",
    "    if n <= 2:   \n",
    "        f = 1\n",
    "        return f\n",
    "    else:\n",
    "       f = fib_ric(n-1) + fib_ric(n-2)\n",
    "       return f\n",
    "\n",
    "\n",
    "n=int(input('inserisci valore di n>=2: '))\n",
    "\n",
    "start_time = time.perf_counter()\n",
    "f1=fibonacci(n)\n",
    "end_time =time.perf_counter()\n",
    "print(\"Tempo Fibonacci Iterativo\", end_time-start_time)\n",
    "\n",
    "start_time = time.perf_counter()\n",
    "f2=fib_ric(n)\n",
    "end_time = time.perf_counter()\n",
    "print(\"Tempo Fibonacci Ricorsivo\", end_time-start_time)"
   ]
  },
  {
   "cell_type": "code",
   "execution_count": 19,
   "id": "2b38ba0c-3f5f-4efb-be62-433518044002",
   "metadata": {},
   "outputs": [
    {
     "name": "stdout",
     "output_type": "stream",
     "text": [
      "46368.0\n"
     ]
    }
   ],
   "source": [
    "print(f1)\n"
   ]
  },
  {
   "cell_type": "code",
   "execution_count": 20,
   "id": "ad62bdaf-05e9-4971-a4e9-a51044db4038",
   "metadata": {},
   "outputs": [
    {
     "name": "stdout",
     "output_type": "stream",
     "text": [
      "46368\n"
     ]
    }
   ],
   "source": [
    "print(f2)"
   ]
  }
 ],
 "metadata": {
  "kernelspec": {
   "display_name": "Python 3 (ipykernel)",
   "language": "python",
   "name": "python3"
  },
  "language_info": {
   "codemirror_mode": {
    "name": "ipython",
    "version": 3
   },
   "file_extension": ".py",
   "mimetype": "text/x-python",
   "name": "python",
   "nbconvert_exporter": "python",
   "pygments_lexer": "ipython3",
   "version": "3.11.2"
  }
 },
 "nbformat": 4,
 "nbformat_minor": 5
}
